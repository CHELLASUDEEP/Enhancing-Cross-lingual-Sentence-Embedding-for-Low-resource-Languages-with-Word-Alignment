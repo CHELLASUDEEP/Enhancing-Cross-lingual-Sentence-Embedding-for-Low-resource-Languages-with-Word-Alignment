{
  "cells": [
    {
      "cell_type": "code",
      "execution_count": 1,
      "metadata": {
        "colab": {
          "base_uri": "https://localhost:8080/"
        },
        "id": "B41AbrAIx8Wf",
        "outputId": "cf83398c-e77e-47b8-eed9-ed23d2f8006f"
      },
      "outputs": [
        {
          "output_type": "stream",
          "name": "stdout",
          "text": [
            "Collecting datasets\n",
            "  Downloading datasets-3.5.1-py3-none-any.whl.metadata (19 kB)\n",
            "Requirement already satisfied: filelock in /usr/local/lib/python3.11/dist-packages (from datasets) (3.18.0)\n",
            "Requirement already satisfied: numpy>=1.17 in /usr/local/lib/python3.11/dist-packages (from datasets) (2.0.2)\n",
            "Requirement already satisfied: pyarrow>=15.0.0 in /usr/local/lib/python3.11/dist-packages (from datasets) (18.1.0)\n",
            "Collecting dill<0.3.9,>=0.3.0 (from datasets)\n",
            "  Downloading dill-0.3.8-py3-none-any.whl.metadata (10 kB)\n",
            "Requirement already satisfied: pandas in /usr/local/lib/python3.11/dist-packages (from datasets) (2.2.2)\n",
            "Requirement already satisfied: requests>=2.32.2 in /usr/local/lib/python3.11/dist-packages (from datasets) (2.32.3)\n",
            "Requirement already satisfied: tqdm>=4.66.3 in /usr/local/lib/python3.11/dist-packages (from datasets) (4.67.1)\n",
            "Collecting xxhash (from datasets)\n",
            "  Downloading xxhash-3.5.0-cp311-cp311-manylinux_2_17_x86_64.manylinux2014_x86_64.whl.metadata (12 kB)\n",
            "Collecting multiprocess<0.70.17 (from datasets)\n",
            "  Downloading multiprocess-0.70.16-py311-none-any.whl.metadata (7.2 kB)\n",
            "Collecting fsspec<=2025.3.0,>=2023.1.0 (from fsspec[http]<=2025.3.0,>=2023.1.0->datasets)\n",
            "  Downloading fsspec-2025.3.0-py3-none-any.whl.metadata (11 kB)\n",
            "Requirement already satisfied: aiohttp in /usr/local/lib/python3.11/dist-packages (from datasets) (3.11.15)\n",
            "Requirement already satisfied: huggingface-hub>=0.24.0 in /usr/local/lib/python3.11/dist-packages (from datasets) (0.30.2)\n",
            "Requirement already satisfied: packaging in /usr/local/lib/python3.11/dist-packages (from datasets) (24.2)\n",
            "Requirement already satisfied: pyyaml>=5.1 in /usr/local/lib/python3.11/dist-packages (from datasets) (6.0.2)\n",
            "Requirement already satisfied: aiohappyeyeballs>=2.3.0 in /usr/local/lib/python3.11/dist-packages (from aiohttp->datasets) (2.6.1)\n",
            "Requirement already satisfied: aiosignal>=1.1.2 in /usr/local/lib/python3.11/dist-packages (from aiohttp->datasets) (1.3.2)\n",
            "Requirement already satisfied: attrs>=17.3.0 in /usr/local/lib/python3.11/dist-packages (from aiohttp->datasets) (25.3.0)\n",
            "Requirement already satisfied: frozenlist>=1.1.1 in /usr/local/lib/python3.11/dist-packages (from aiohttp->datasets) (1.6.0)\n",
            "Requirement already satisfied: multidict<7.0,>=4.5 in /usr/local/lib/python3.11/dist-packages (from aiohttp->datasets) (6.4.3)\n",
            "Requirement already satisfied: propcache>=0.2.0 in /usr/local/lib/python3.11/dist-packages (from aiohttp->datasets) (0.3.1)\n",
            "Requirement already satisfied: yarl<2.0,>=1.17.0 in /usr/local/lib/python3.11/dist-packages (from aiohttp->datasets) (1.20.0)\n",
            "Requirement already satisfied: typing-extensions>=3.7.4.3 in /usr/local/lib/python3.11/dist-packages (from huggingface-hub>=0.24.0->datasets) (4.13.2)\n",
            "Requirement already satisfied: charset-normalizer<4,>=2 in /usr/local/lib/python3.11/dist-packages (from requests>=2.32.2->datasets) (3.4.1)\n",
            "Requirement already satisfied: idna<4,>=2.5 in /usr/local/lib/python3.11/dist-packages (from requests>=2.32.2->datasets) (3.10)\n",
            "Requirement already satisfied: urllib3<3,>=1.21.1 in /usr/local/lib/python3.11/dist-packages (from requests>=2.32.2->datasets) (2.4.0)\n",
            "Requirement already satisfied: certifi>=2017.4.17 in /usr/local/lib/python3.11/dist-packages (from requests>=2.32.2->datasets) (2025.4.26)\n",
            "Requirement already satisfied: python-dateutil>=2.8.2 in /usr/local/lib/python3.11/dist-packages (from pandas->datasets) (2.9.0.post0)\n",
            "Requirement already satisfied: pytz>=2020.1 in /usr/local/lib/python3.11/dist-packages (from pandas->datasets) (2025.2)\n",
            "Requirement already satisfied: tzdata>=2022.7 in /usr/local/lib/python3.11/dist-packages (from pandas->datasets) (2025.2)\n",
            "Requirement already satisfied: six>=1.5 in /usr/local/lib/python3.11/dist-packages (from python-dateutil>=2.8.2->pandas->datasets) (1.17.0)\n",
            "Downloading datasets-3.5.1-py3-none-any.whl (491 kB)\n",
            "\u001b[2K   \u001b[90m━━━━━━━━━━━━━━━━━━━━━━━━━━━━━━━━━━━━━━━━\u001b[0m \u001b[32m491.4/491.4 kB\u001b[0m \u001b[31m15.2 MB/s\u001b[0m eta \u001b[36m0:00:00\u001b[0m\n",
            "\u001b[?25hDownloading dill-0.3.8-py3-none-any.whl (116 kB)\n",
            "\u001b[2K   \u001b[90m━━━━━━━━━━━━━━━━━━━━━━━━━━━━━━━━━━━━━━━━\u001b[0m \u001b[32m116.3/116.3 kB\u001b[0m \u001b[31m9.9 MB/s\u001b[0m eta \u001b[36m0:00:00\u001b[0m\n",
            "\u001b[?25hDownloading fsspec-2025.3.0-py3-none-any.whl (193 kB)\n",
            "\u001b[2K   \u001b[90m━━━━━━━━━━━━━━━━━━━━━━━━━━━━━━━━━━━━━━━━\u001b[0m \u001b[32m193.6/193.6 kB\u001b[0m \u001b[31m13.5 MB/s\u001b[0m eta \u001b[36m0:00:00\u001b[0m\n",
            "\u001b[?25hDownloading multiprocess-0.70.16-py311-none-any.whl (143 kB)\n",
            "\u001b[2K   \u001b[90m━━━━━━━━━━━━━━━━━━━━━━━━━━━━━━━━━━━━━━━━\u001b[0m \u001b[32m143.5/143.5 kB\u001b[0m \u001b[31m12.0 MB/s\u001b[0m eta \u001b[36m0:00:00\u001b[0m\n",
            "\u001b[?25hDownloading xxhash-3.5.0-cp311-cp311-manylinux_2_17_x86_64.manylinux2014_x86_64.whl (194 kB)\n",
            "\u001b[2K   \u001b[90m━━━━━━━━━━━━━━━━━━━━━━━━━━━━━━━━━━━━━━━━\u001b[0m \u001b[32m194.8/194.8 kB\u001b[0m \u001b[31m15.7 MB/s\u001b[0m eta \u001b[36m0:00:00\u001b[0m\n",
            "\u001b[?25hInstalling collected packages: xxhash, fsspec, dill, multiprocess, datasets\n",
            "  Attempting uninstall: fsspec\n",
            "    Found existing installation: fsspec 2025.3.2\n",
            "    Uninstalling fsspec-2025.3.2:\n",
            "      Successfully uninstalled fsspec-2025.3.2\n",
            "\u001b[31mERROR: pip's dependency resolver does not currently take into account all the packages that are installed. This behaviour is the source of the following dependency conflicts.\n",
            "torch 2.6.0+cu124 requires nvidia-cublas-cu12==12.4.5.8; platform_system == \"Linux\" and platform_machine == \"x86_64\", but you have nvidia-cublas-cu12 12.5.3.2 which is incompatible.\n",
            "torch 2.6.0+cu124 requires nvidia-cuda-cupti-cu12==12.4.127; platform_system == \"Linux\" and platform_machine == \"x86_64\", but you have nvidia-cuda-cupti-cu12 12.5.82 which is incompatible.\n",
            "torch 2.6.0+cu124 requires nvidia-cuda-nvrtc-cu12==12.4.127; platform_system == \"Linux\" and platform_machine == \"x86_64\", but you have nvidia-cuda-nvrtc-cu12 12.5.82 which is incompatible.\n",
            "torch 2.6.0+cu124 requires nvidia-cuda-runtime-cu12==12.4.127; platform_system == \"Linux\" and platform_machine == \"x86_64\", but you have nvidia-cuda-runtime-cu12 12.5.82 which is incompatible.\n",
            "torch 2.6.0+cu124 requires nvidia-cudnn-cu12==9.1.0.70; platform_system == \"Linux\" and platform_machine == \"x86_64\", but you have nvidia-cudnn-cu12 9.3.0.75 which is incompatible.\n",
            "torch 2.6.0+cu124 requires nvidia-cufft-cu12==11.2.1.3; platform_system == \"Linux\" and platform_machine == \"x86_64\", but you have nvidia-cufft-cu12 11.2.3.61 which is incompatible.\n",
            "torch 2.6.0+cu124 requires nvidia-curand-cu12==10.3.5.147; platform_system == \"Linux\" and platform_machine == \"x86_64\", but you have nvidia-curand-cu12 10.3.6.82 which is incompatible.\n",
            "torch 2.6.0+cu124 requires nvidia-cusolver-cu12==11.6.1.9; platform_system == \"Linux\" and platform_machine == \"x86_64\", but you have nvidia-cusolver-cu12 11.6.3.83 which is incompatible.\n",
            "torch 2.6.0+cu124 requires nvidia-cusparse-cu12==12.3.1.170; platform_system == \"Linux\" and platform_machine == \"x86_64\", but you have nvidia-cusparse-cu12 12.5.1.3 which is incompatible.\n",
            "torch 2.6.0+cu124 requires nvidia-nvjitlink-cu12==12.4.127; platform_system == \"Linux\" and platform_machine == \"x86_64\", but you have nvidia-nvjitlink-cu12 12.5.82 which is incompatible.\n",
            "gcsfs 2025.3.2 requires fsspec==2025.3.2, but you have fsspec 2025.3.0 which is incompatible.\u001b[0m\u001b[31m\n",
            "\u001b[0mSuccessfully installed datasets-3.5.1 dill-0.3.8 fsspec-2025.3.0 multiprocess-0.70.16 xxhash-3.5.0\n"
          ]
        }
      ],
      "source": [
        "!pip install datasets"
      ]
    },
    {
      "cell_type": "code",
      "execution_count": 2,
      "metadata": {
        "colab": {
          "base_uri": "https://localhost:8080/",
          "height": 371,
          "referenced_widgets": [
            "a2917caaf38d4a369a1a388edfe280c7",
            "3bb1b244072f4a95bbecde9009d95fed",
            "5866dbed38d44baea7ec9e37b081620a",
            "12118d19c6174f7cb4dd214afba614df",
            "167a940f6ccf4f06ad3f8163a56097da",
            "da4913d7cb224bafaabb9671760113fd",
            "acc06243dc074221b91ab47e381ac4ec",
            "66ac2a6bc8bb479ba71c6b981fd2efb3",
            "0cfc6829683e4ceca61a3af5fe3863b9",
            "66eacb012f7d442eac1e9538ab4f88a5",
            "1d9134311c8349c0937f9fd01dc2390b",
            "a946beffebbb497f8aba4e1c291edd23",
            "752d213c743048158853b04392d07b0e",
            "70a4c32fb6124598ad915519006e1cb1",
            "4a0693975fa043c8aea2dcc72a35aa2c",
            "3184e14bc9c843caa215096b08df0dc2",
            "7cab2da2aef04e6bbfd1a1c772800829",
            "e02221aa8afb4a0aae3bee66e9312ff2",
            "1f527c518014470eb61d19cfa3a3dd60",
            "0927ac4a05394c99a8f4229154d05a59",
            "d40d8cbbe4894188a756fd740ac7d71a",
            "1e766cfa5a6b4a9eb5d34c356bb65bd3",
            "7f1c12cd14c34f768966df3925706ed3",
            "3f515b309a274414aed3b72745ab51d3",
            "74f9f40666d44c4f80ca9dfa236e93aa",
            "1bdbfafe835540cc915c4f4e80268a77",
            "f5494df5394c4ac197156e39e09da169",
            "a8b95e63cc3648068fa67528290f37f0",
            "9fa765db39394d36aa85200f79a3261b",
            "641b703d34874ffbb25eb10deca3c873",
            "0753bf2d04b74b488679ae2dc75610e7",
            "aca9ea7d37344be4a50bfba5550624bd",
            "758ca96d84124d1d975cd6eeb31bafc0",
            "7786d4ba845e442cb0539039c5b1d69e",
            "8f76c0f872154f5eb99a183a4d92f0ff",
            "20a8a9a3a09b441fb0a4ab959031f236",
            "2c6078aa88e0406fb6f63c7e41097426",
            "c9a932111c834ccea3a58982369c6226",
            "8153f6f5af794eb5a33dd93d353c80e0",
            "dc9e4355e74b43bd850a8643e459baec",
            "d651590120a649ffb1df21e5872d839d",
            "8320a868fd6549e8b1e45c97d68ceac8",
            "edb72a3f91dd4722a508065df9a115c4",
            "7250b6816c464b43b4a3fb37d9ba4dd4",
            "78f6ce1c589947e49ab8b0e91e3ddf0c",
            "15b9d9575516478f8d380a672e29e25a",
            "684c705fe00e49cc987dd35cb2dd18ff",
            "70fbd3ae80d64c5e80ba89cc96808a9d",
            "564aef46ccd74436bb539fdaf4c8da38",
            "19389069fecd4672ad20bef1159394c5",
            "e5cd7871d52b4f45a90ca323fa78b9a1",
            "42a8a2059dab47498b94c99d63c53f42",
            "81e152cdc1f2441bafc3faacd3863c21",
            "823a4a13f72b4c07b1fade7f68e16159",
            "4cff0a59005541e7b42c99821f5140be"
          ]
        },
        "id": "DfhAH-ljygg1",
        "outputId": "052b1a98-ca4f-4393-a768-497f50279c9c"
      },
      "outputs": [
        {
          "output_type": "stream",
          "name": "stderr",
          "text": [
            "/usr/local/lib/python3.11/dist-packages/huggingface_hub/utils/_auth.py:94: UserWarning: \n",
            "The secret `HF_TOKEN` does not exist in your Colab secrets.\n",
            "To authenticate with the Hugging Face Hub, create a token in your settings tab (https://huggingface.co/settings/tokens), set it as secret in your Google Colab and restart your session.\n",
            "You will be able to reuse this secret in all of your notebooks.\n",
            "Please note that authentication is recommended but still optional to access public models or datasets.\n",
            "  warnings.warn(\n"
          ]
        },
        {
          "output_type": "display_data",
          "data": {
            "text/plain": [
              "README.md:   0%|          | 0.00/8.67k [00:00<?, ?B/s]"
            ],
            "application/vnd.jupyter.widget-view+json": {
              "version_major": 2,
              "version_minor": 0,
              "model_id": "a2917caaf38d4a369a1a388edfe280c7"
            }
          },
          "metadata": {}
        },
        {
          "output_type": "stream",
          "name": "stderr",
          "text": [
            "Xet Storage is enabled for this repo, but the 'hf_xet' package is not installed. Falling back to regular HTTP download. For better performance, install the package with: `pip install huggingface_hub[hf_xet]` or `pip install hf_xet`\n",
            "WARNING:huggingface_hub.file_download:Xet Storage is enabled for this repo, but the 'hf_xet' package is not installed. Falling back to regular HTTP download. For better performance, install the package with: `pip install huggingface_hub[hf_xet]` or `pip install hf_xet`\n"
          ]
        },
        {
          "output_type": "display_data",
          "data": {
            "text/plain": [
              "test.jsonl.gz:   0%|          | 0.00/7.53M [00:00<?, ?B/s]"
            ],
            "application/vnd.jupyter.widget-view+json": {
              "version_major": 2,
              "version_minor": 0,
              "model_id": "a946beffebbb497f8aba4e1c291edd23"
            }
          },
          "metadata": {}
        },
        {
          "output_type": "stream",
          "name": "stderr",
          "text": [
            "Xet Storage is enabled for this repo, but the 'hf_xet' package is not installed. Falling back to regular HTTP download. For better performance, install the package with: `pip install huggingface_hub[hf_xet]` or `pip install hf_xet`\n",
            "WARNING:huggingface_hub.file_download:Xet Storage is enabled for this repo, but the 'hf_xet' package is not installed. Falling back to regular HTTP download. For better performance, install the package with: `pip install huggingface_hub[hf_xet]` or `pip install hf_xet`\n"
          ]
        },
        {
          "output_type": "display_data",
          "data": {
            "text/plain": [
              "train.jsonl.gz:   0%|          | 0.00/9.02M [00:00<?, ?B/s]"
            ],
            "application/vnd.jupyter.widget-view+json": {
              "version_major": 2,
              "version_minor": 0,
              "model_id": "7f1c12cd14c34f768966df3925706ed3"
            }
          },
          "metadata": {}
        },
        {
          "output_type": "display_data",
          "data": {
            "text/plain": [
              "Generating test split:   0%|          | 0/3958 [00:00<?, ? examples/s]"
            ],
            "application/vnd.jupyter.widget-view+json": {
              "version_major": 2,
              "version_minor": 0,
              "model_id": "7786d4ba845e442cb0539039c5b1d69e"
            }
          },
          "metadata": {}
        },
        {
          "output_type": "display_data",
          "data": {
            "text/plain": [
              "Generating train split:   0%|          | 0/4622 [00:00<?, ? examples/s]"
            ],
            "application/vnd.jupyter.widget-view+json": {
              "version_major": 2,
              "version_minor": 0,
              "model_id": "78f6ce1c589947e49ab8b0e91e3ddf0c"
            }
          },
          "metadata": {}
        }
      ],
      "source": [
        "from datasets import load_dataset\n",
        "\n",
        "dataset = load_dataset(\"mteb/sts22-crosslingual-sts\")"
      ]
    },
    {
      "cell_type": "code",
      "execution_count": 3,
      "metadata": {
        "colab": {
          "base_uri": "https://localhost:8080/"
        },
        "id": "HyA9Zt5a0rBm",
        "outputId": "18a82d05-7e4d-40c9-9355-64b598994547"
      },
      "outputs": [
        {
          "output_type": "stream",
          "name": "stdout",
          "text": [
            "DatasetDict({\n",
            "    test: Dataset({\n",
            "        features: ['id', 'score', 'sentence1', 'sentence2', 'lang'],\n",
            "        num_rows: 3958\n",
            "    })\n",
            "    train: Dataset({\n",
            "        features: ['id', 'score', 'sentence1', 'sentence2', 'lang'],\n",
            "        num_rows: 4622\n",
            "    })\n",
            "})\n"
          ]
        }
      ],
      "source": [
        "print(dataset)"
      ]
    },
    {
      "cell_type": "code",
      "execution_count": 4,
      "metadata": {
        "colab": {
          "base_uri": "https://localhost:8080/"
        },
        "id": "xv2S1lP-2ZA6",
        "outputId": "dd144e87-6d08-47e9-afc2-64e23a52965a"
      },
      "outputs": [
        {
          "output_type": "stream",
          "name": "stdout",
          "text": [
            "Available language pairs:\n",
            "ar\n",
            "de\n",
            "de-en\n",
            "de-fr\n",
            "de-pl\n",
            "en\n",
            "es\n",
            "es-en\n",
            "es-it\n",
            "fr\n",
            "fr-pl\n",
            "it\n",
            "pl\n",
            "pl-en\n",
            "ru\n",
            "tr\n",
            "zh\n",
            "zh-en\n"
          ]
        }
      ],
      "source": [
        "train_data = dataset[\"train\"]\n",
        "test_data = dataset[\"test\"]\n",
        "\n",
        "train_langs = set(train_data.unique('lang'))\n",
        "test_langs = set(test_data.unique('lang'))\n",
        "\n",
        "all_langs = sorted(train_langs.union(test_langs))\n",
        "\n",
        "print(\"Available language pairs:\")\n",
        "for lang in all_langs:\n",
        "    print(lang)"
      ]
    },
    {
      "cell_type": "code",
      "execution_count": 5,
      "metadata": {
        "id": "fxeDdFZ03D1E"
      },
      "outputs": [],
      "source": [
        "import pandas as pd\n",
        "\n",
        "train_df = pd.DataFrame(dataset[\"train\"])\n",
        "test_df = pd.DataFrame(dataset[\"test\"])\n",
        "\n",
        "# Save DataFrames as .csv files\n",
        "train_df.to_csv('sts22_train.csv', index=False)\n",
        "test_df.to_csv('sts22_test.csv', index=False)"
      ]
    },
    {
      "cell_type": "code",
      "execution_count": 6,
      "metadata": {
        "id": "jHuCb_Nd3sHZ"
      },
      "outputs": [],
      "source": [
        "train_df = pd.read_csv('sts22_train.csv')\n",
        "test_df = pd.read_csv('sts22_test.csv')"
      ]
    },
    {
      "cell_type": "code",
      "execution_count": 7,
      "metadata": {
        "colab": {
          "base_uri": "https://localhost:8080/",
          "height": 206
        },
        "id": "AjY1BDJm30o6",
        "outputId": "94ac86b5-32bd-4e31-f4f9-8580b4d6d45a"
      },
      "outputs": [
        {
          "output_type": "execute_result",
          "data": {
            "text/plain": [
              "                      id  score  \\\n",
              "0  1559207788_1558731176    1.0   \n",
              "1  1559280063_1558230540    1.0   \n",
              "2  1559218846_1558750714    4.0   \n",
              "3  1559204879_1558731178    1.0   \n",
              "4  1559218867_1558731176    1.0   \n",
              "\n",
              "                                           sentence1  \\\n",
              "0  الرباط: وجه عدد من الأدباء والمثقفين المغاربة ...   \n",
              "1  كتب إيليا بولونسكي، في \"فوينيه أوبزرينيه\"، حول...   \n",
              "2  وجه رئيس الجمهورية، عبد المجيد تبون، أمس، تحية...   \n",
              "3  عادي\\n\\nقال مندوب الإمارات لدى مجلس الأمن الدو...   \n",
              "4  * email* facebook* twitter* linkedinمازال اللق...   \n",
              "\n",
              "                                           sentence2 lang  \n",
              "0  أعلنت المملكة العربية السعودية، مساء اليوم الأ...   ar  \n",
              "1  أعلنت وزارة الدفاع الروسية، اليوم الأربعاء، إن...   ar  \n",
              "2  خاطب الرئيس الجزائري عبد المجيد تبون شعبه، الي...   ar  \n",
              "3  نشرت منظمة الصحة العالمية مقطع فيديو لطبيبة سو...   ar  \n",
              "4  أعلنت المملكة العربية السعودية، مساء اليوم الأ...   ar  "
            ],
            "text/html": [
              "\n",
              "  <div id=\"df-8a7ece21-4bae-4cd2-bffb-82f12f796fdf\" class=\"colab-df-container\">\n",
              "    <div>\n",
              "<style scoped>\n",
              "    .dataframe tbody tr th:only-of-type {\n",
              "        vertical-align: middle;\n",
              "    }\n",
              "\n",
              "    .dataframe tbody tr th {\n",
              "        vertical-align: top;\n",
              "    }\n",
              "\n",
              "    .dataframe thead th {\n",
              "        text-align: right;\n",
              "    }\n",
              "</style>\n",
              "<table border=\"1\" class=\"dataframe\">\n",
              "  <thead>\n",
              "    <tr style=\"text-align: right;\">\n",
              "      <th></th>\n",
              "      <th>id</th>\n",
              "      <th>score</th>\n",
              "      <th>sentence1</th>\n",
              "      <th>sentence2</th>\n",
              "      <th>lang</th>\n",
              "    </tr>\n",
              "  </thead>\n",
              "  <tbody>\n",
              "    <tr>\n",
              "      <th>0</th>\n",
              "      <td>1559207788_1558731176</td>\n",
              "      <td>1.0</td>\n",
              "      <td>الرباط: وجه عدد من الأدباء والمثقفين المغاربة ...</td>\n",
              "      <td>أعلنت المملكة العربية السعودية، مساء اليوم الأ...</td>\n",
              "      <td>ar</td>\n",
              "    </tr>\n",
              "    <tr>\n",
              "      <th>1</th>\n",
              "      <td>1559280063_1558230540</td>\n",
              "      <td>1.0</td>\n",
              "      <td>كتب إيليا بولونسكي، في \"فوينيه أوبزرينيه\"، حول...</td>\n",
              "      <td>أعلنت وزارة الدفاع الروسية، اليوم الأربعاء، إن...</td>\n",
              "      <td>ar</td>\n",
              "    </tr>\n",
              "    <tr>\n",
              "      <th>2</th>\n",
              "      <td>1559218846_1558750714</td>\n",
              "      <td>4.0</td>\n",
              "      <td>وجه رئيس الجمهورية، عبد المجيد تبون، أمس، تحية...</td>\n",
              "      <td>خاطب الرئيس الجزائري عبد المجيد تبون شعبه، الي...</td>\n",
              "      <td>ar</td>\n",
              "    </tr>\n",
              "    <tr>\n",
              "      <th>3</th>\n",
              "      <td>1559204879_1558731178</td>\n",
              "      <td>1.0</td>\n",
              "      <td>عادي\\n\\nقال مندوب الإمارات لدى مجلس الأمن الدو...</td>\n",
              "      <td>نشرت منظمة الصحة العالمية مقطع فيديو لطبيبة سو...</td>\n",
              "      <td>ar</td>\n",
              "    </tr>\n",
              "    <tr>\n",
              "      <th>4</th>\n",
              "      <td>1559218867_1558731176</td>\n",
              "      <td>1.0</td>\n",
              "      <td>* email* facebook* twitter* linkedinمازال اللق...</td>\n",
              "      <td>أعلنت المملكة العربية السعودية، مساء اليوم الأ...</td>\n",
              "      <td>ar</td>\n",
              "    </tr>\n",
              "  </tbody>\n",
              "</table>\n",
              "</div>\n",
              "    <div class=\"colab-df-buttons\">\n",
              "\n",
              "  <div class=\"colab-df-container\">\n",
              "    <button class=\"colab-df-convert\" onclick=\"convertToInteractive('df-8a7ece21-4bae-4cd2-bffb-82f12f796fdf')\"\n",
              "            title=\"Convert this dataframe to an interactive table.\"\n",
              "            style=\"display:none;\">\n",
              "\n",
              "  <svg xmlns=\"http://www.w3.org/2000/svg\" height=\"24px\" viewBox=\"0 -960 960 960\">\n",
              "    <path d=\"M120-120v-720h720v720H120Zm60-500h600v-160H180v160Zm220 220h160v-160H400v160Zm0 220h160v-160H400v160ZM180-400h160v-160H180v160Zm440 0h160v-160H620v160ZM180-180h160v-160H180v160Zm440 0h160v-160H620v160Z\"/>\n",
              "  </svg>\n",
              "    </button>\n",
              "\n",
              "  <style>\n",
              "    .colab-df-container {\n",
              "      display:flex;\n",
              "      gap: 12px;\n",
              "    }\n",
              "\n",
              "    .colab-df-convert {\n",
              "      background-color: #E8F0FE;\n",
              "      border: none;\n",
              "      border-radius: 50%;\n",
              "      cursor: pointer;\n",
              "      display: none;\n",
              "      fill: #1967D2;\n",
              "      height: 32px;\n",
              "      padding: 0 0 0 0;\n",
              "      width: 32px;\n",
              "    }\n",
              "\n",
              "    .colab-df-convert:hover {\n",
              "      background-color: #E2EBFA;\n",
              "      box-shadow: 0px 1px 2px rgba(60, 64, 67, 0.3), 0px 1px 3px 1px rgba(60, 64, 67, 0.15);\n",
              "      fill: #174EA6;\n",
              "    }\n",
              "\n",
              "    .colab-df-buttons div {\n",
              "      margin-bottom: 4px;\n",
              "    }\n",
              "\n",
              "    [theme=dark] .colab-df-convert {\n",
              "      background-color: #3B4455;\n",
              "      fill: #D2E3FC;\n",
              "    }\n",
              "\n",
              "    [theme=dark] .colab-df-convert:hover {\n",
              "      background-color: #434B5C;\n",
              "      box-shadow: 0px 1px 3px 1px rgba(0, 0, 0, 0.15);\n",
              "      filter: drop-shadow(0px 1px 2px rgba(0, 0, 0, 0.3));\n",
              "      fill: #FFFFFF;\n",
              "    }\n",
              "  </style>\n",
              "\n",
              "    <script>\n",
              "      const buttonEl =\n",
              "        document.querySelector('#df-8a7ece21-4bae-4cd2-bffb-82f12f796fdf button.colab-df-convert');\n",
              "      buttonEl.style.display =\n",
              "        google.colab.kernel.accessAllowed ? 'block' : 'none';\n",
              "\n",
              "      async function convertToInteractive(key) {\n",
              "        const element = document.querySelector('#df-8a7ece21-4bae-4cd2-bffb-82f12f796fdf');\n",
              "        const dataTable =\n",
              "          await google.colab.kernel.invokeFunction('convertToInteractive',\n",
              "                                                    [key], {});\n",
              "        if (!dataTable) return;\n",
              "\n",
              "        const docLinkHtml = 'Like what you see? Visit the ' +\n",
              "          '<a target=\"_blank\" href=https://colab.research.google.com/notebooks/data_table.ipynb>data table notebook</a>'\n",
              "          + ' to learn more about interactive tables.';\n",
              "        element.innerHTML = '';\n",
              "        dataTable['output_type'] = 'display_data';\n",
              "        await google.colab.output.renderOutput(dataTable, element);\n",
              "        const docLink = document.createElement('div');\n",
              "        docLink.innerHTML = docLinkHtml;\n",
              "        element.appendChild(docLink);\n",
              "      }\n",
              "    </script>\n",
              "  </div>\n",
              "\n",
              "\n",
              "    <div id=\"df-a9027fa1-8a55-450d-8f08-016325120cb9\">\n",
              "      <button class=\"colab-df-quickchart\" onclick=\"quickchart('df-a9027fa1-8a55-450d-8f08-016325120cb9')\"\n",
              "                title=\"Suggest charts\"\n",
              "                style=\"display:none;\">\n",
              "\n",
              "<svg xmlns=\"http://www.w3.org/2000/svg\" height=\"24px\"viewBox=\"0 0 24 24\"\n",
              "     width=\"24px\">\n",
              "    <g>\n",
              "        <path d=\"M19 3H5c-1.1 0-2 .9-2 2v14c0 1.1.9 2 2 2h14c1.1 0 2-.9 2-2V5c0-1.1-.9-2-2-2zM9 17H7v-7h2v7zm4 0h-2V7h2v10zm4 0h-2v-4h2v4z\"/>\n",
              "    </g>\n",
              "</svg>\n",
              "      </button>\n",
              "\n",
              "<style>\n",
              "  .colab-df-quickchart {\n",
              "      --bg-color: #E8F0FE;\n",
              "      --fill-color: #1967D2;\n",
              "      --hover-bg-color: #E2EBFA;\n",
              "      --hover-fill-color: #174EA6;\n",
              "      --disabled-fill-color: #AAA;\n",
              "      --disabled-bg-color: #DDD;\n",
              "  }\n",
              "\n",
              "  [theme=dark] .colab-df-quickchart {\n",
              "      --bg-color: #3B4455;\n",
              "      --fill-color: #D2E3FC;\n",
              "      --hover-bg-color: #434B5C;\n",
              "      --hover-fill-color: #FFFFFF;\n",
              "      --disabled-bg-color: #3B4455;\n",
              "      --disabled-fill-color: #666;\n",
              "  }\n",
              "\n",
              "  .colab-df-quickchart {\n",
              "    background-color: var(--bg-color);\n",
              "    border: none;\n",
              "    border-radius: 50%;\n",
              "    cursor: pointer;\n",
              "    display: none;\n",
              "    fill: var(--fill-color);\n",
              "    height: 32px;\n",
              "    padding: 0;\n",
              "    width: 32px;\n",
              "  }\n",
              "\n",
              "  .colab-df-quickchart:hover {\n",
              "    background-color: var(--hover-bg-color);\n",
              "    box-shadow: 0 1px 2px rgba(60, 64, 67, 0.3), 0 1px 3px 1px rgba(60, 64, 67, 0.15);\n",
              "    fill: var(--button-hover-fill-color);\n",
              "  }\n",
              "\n",
              "  .colab-df-quickchart-complete:disabled,\n",
              "  .colab-df-quickchart-complete:disabled:hover {\n",
              "    background-color: var(--disabled-bg-color);\n",
              "    fill: var(--disabled-fill-color);\n",
              "    box-shadow: none;\n",
              "  }\n",
              "\n",
              "  .colab-df-spinner {\n",
              "    border: 2px solid var(--fill-color);\n",
              "    border-color: transparent;\n",
              "    border-bottom-color: var(--fill-color);\n",
              "    animation:\n",
              "      spin 1s steps(1) infinite;\n",
              "  }\n",
              "\n",
              "  @keyframes spin {\n",
              "    0% {\n",
              "      border-color: transparent;\n",
              "      border-bottom-color: var(--fill-color);\n",
              "      border-left-color: var(--fill-color);\n",
              "    }\n",
              "    20% {\n",
              "      border-color: transparent;\n",
              "      border-left-color: var(--fill-color);\n",
              "      border-top-color: var(--fill-color);\n",
              "    }\n",
              "    30% {\n",
              "      border-color: transparent;\n",
              "      border-left-color: var(--fill-color);\n",
              "      border-top-color: var(--fill-color);\n",
              "      border-right-color: var(--fill-color);\n",
              "    }\n",
              "    40% {\n",
              "      border-color: transparent;\n",
              "      border-right-color: var(--fill-color);\n",
              "      border-top-color: var(--fill-color);\n",
              "    }\n",
              "    60% {\n",
              "      border-color: transparent;\n",
              "      border-right-color: var(--fill-color);\n",
              "    }\n",
              "    80% {\n",
              "      border-color: transparent;\n",
              "      border-right-color: var(--fill-color);\n",
              "      border-bottom-color: var(--fill-color);\n",
              "    }\n",
              "    90% {\n",
              "      border-color: transparent;\n",
              "      border-bottom-color: var(--fill-color);\n",
              "    }\n",
              "  }\n",
              "</style>\n",
              "\n",
              "      <script>\n",
              "        async function quickchart(key) {\n",
              "          const quickchartButtonEl =\n",
              "            document.querySelector('#' + key + ' button');\n",
              "          quickchartButtonEl.disabled = true;  // To prevent multiple clicks.\n",
              "          quickchartButtonEl.classList.add('colab-df-spinner');\n",
              "          try {\n",
              "            const charts = await google.colab.kernel.invokeFunction(\n",
              "                'suggestCharts', [key], {});\n",
              "          } catch (error) {\n",
              "            console.error('Error during call to suggestCharts:', error);\n",
              "          }\n",
              "          quickchartButtonEl.classList.remove('colab-df-spinner');\n",
              "          quickchartButtonEl.classList.add('colab-df-quickchart-complete');\n",
              "        }\n",
              "        (() => {\n",
              "          let quickchartButtonEl =\n",
              "            document.querySelector('#df-a9027fa1-8a55-450d-8f08-016325120cb9 button');\n",
              "          quickchartButtonEl.style.display =\n",
              "            google.colab.kernel.accessAllowed ? 'block' : 'none';\n",
              "        })();\n",
              "      </script>\n",
              "    </div>\n",
              "\n",
              "    </div>\n",
              "  </div>\n"
            ],
            "application/vnd.google.colaboratory.intrinsic+json": {
              "type": "dataframe",
              "variable_name": "train_df",
              "summary": "{\n  \"name\": \"train_df\",\n  \"rows\": 4622,\n  \"fields\": [\n    {\n      \"column\": \"id\",\n      \"properties\": {\n        \"dtype\": \"string\",\n        \"num_unique_values\": 4581,\n        \"samples\": [\n          \"1533329567_1534080703\",\n          \"1607566133_1484039502\",\n          \"1639153275_1502711932\"\n        ],\n        \"semantic_type\": \"\",\n        \"description\": \"\"\n      }\n    },\n    {\n      \"column\": \"score\",\n      \"properties\": {\n        \"dtype\": \"number\",\n        \"std\": 1.131528399728477,\n        \"min\": 1.0,\n        \"max\": 4.0,\n        \"num_unique_values\": 31,\n        \"samples\": [\n          1.1666666667,\n          3.6,\n          1.2\n        ],\n        \"semantic_type\": \"\",\n        \"description\": \"\"\n      }\n    },\n    {\n      \"column\": \"sentence1\",\n      \"properties\": {\n        \"dtype\": \"string\",\n        \"num_unique_values\": 4472,\n        \"samples\": [\n          \"MOSCOW, June 19./TASS/. About a thousand delegates from Africa will attend the Russia-Africa economic conference in June, the Russian Export Center's (REC) chief Andrei Slepnev told TASS.\\n\\n\\u201cAs a part of Afreximbank\\u2019s agenda, an open Russia-Africa economic conference will be held. Up to 1,000 delegates from the African side are expected to attend, including a large number of high-ranking speakers and participants,\\u201d he said, adding that by now the participation of the African Union, ministers and government officials representing Uganda, Rwanda, Sierra Leone and other countries has been confirmed. Moreover, the annual meeting of Afreximbank shareholders will take place in Moscow on June 18-22, 2019.\\n\\n\\\"The conference will address the issues related to a number of sectors, including railway infrastructure, agriculture, agricultural equipment, digital economy, healthcare and education. We expect this to lay the foundation for substantive agreements that will be reached by October, during a large-scale political summit \\\"Russia - Africa\\\" \\u200b\\u200band the economic forum,\\\" Slepnev pointed out. At the same time, more than 3,000 foreign delegates, as well as 2,000 Russian representatives, will take part in the events.\\n\\nREC predicts the volume of Russian-African trade relations will double within the next 3-4 years. \\\"The Russian Export Center maintains a close partnership with Afreximbank and has already entered the first deals that we are jointly implementing on the African continent. We intend to increase the volumes [export support \\u2014 TASS], and I am sure that this year\\u2019s events will certainly make a big contribution, and we foresee the volume of the Russian-African trade ties in the next three to four years doubling,\\\" said Slepnev.\\n\\nBasic financial instruments of supporting trade between Russia and Africa can be direct loans to foreign buyers (including those secured by the sovereign guarantee of the borrowing country) and loans to banks of foreign buyers under the insurance coverage Exiar, loans to sovereign borrowers, financing receivables against export earnings. In 2018, the volume of export-supported Russian products to African countries amounted to $ 2,47 bln. The main partners are Egypt, South Africa, Zambia, Morocco, Algeria, Nigeria and Kenya.\\n\\nAbout Russia's industrial zone in Egypt\\n\\nREC explained that decisions on the choice of locations for industrial zones are made by the Russian Ministry of Industry and Trade, based on an analysis of the most promising sectors of Russian exports, as well as taking into account the preferences and benefits the Russian companies might gain from those. REC expects that this year about 100 agreements on the intention to participate the Russian industrial zone project in Egypt will be concluded.\\n\\n\\u201cWe are the managing structure in this project, we are cooperating with the Russian enterprises. About 20 agreements have already been signed, we aim for 100 agreements this year. We see that interest is higher than we have expected,\\u201d Slepnev reported. Earlier, the Russian government approved the rules for granting budget subsidies to the Russian Export Center for the establishment and operation of the industrial zone project in Egypt.\\n\\nThe intergovernmental agreement between Russia and Egypt, which regulates all the details, was signed on May 23, 2018. The project envisages creation of a special zone with a simpler tax regime for Russian resident enterprises, the industrial zone will be located in the east of Port Said.\\n\\nAccording to the Ministry of Industry and Trade's forecasts, the implementation of the project will take up to 13 years, however, by 2026, the resident companies will be able to produce $ 3.6 billion worth of products annually. Russian companies will get rental holidays, preferential tariffs for energy resources, a special preferential tax regime, as well as a site prepared in advance. The first companies will come to the zone simultaneously with the start of construction, which is scheduled for 2019.\\n\\nIt was reported earlier that the government's planned investment into the industrial zone's primary infrastructure wiould account for $190 mln, and total private investment volume for the project's period is estimated at $ 7 bln. The industrial zone's establishment is included in the national project \\\"International Cooperation and export\\\".\\n\\nThe projects in Africa\\n\\nThe Russian Expo Center is also working on a number of projects with Afreximbank in various African regions. For example, financing the supply of Russian-made land transport vehicles, as well as projects for the construction and modernization of industrial infrastructure in Zambia, Angola, mining projects in Zimbabwe and Sierra Leone. The REC notes the interest of local companies in drawing Russian partners to projects in the oil industry (pipelines, refining) and the rural agriculture.\\n\\nAfreximbank was founded in 1993 in Abuja, Nigeria with the authorized capital of $ 5 bln. The main objectives of the bank are the development of trade between African countries and abroad. The headquarters is located in Cairo.\\n\\nThe Russian Export Center is a state institution for the support of non-primary goods, providing Russian exporters with a wide range of financial and non-financial support. The Russian Export Center was established within the structure of VEB.RF.\",\n          \"\\u0130ran Cumhurba\\u015fkan\\u0131 Hasan Ruhani, yeni tip koronavir\\u00fcs (Covid-19) vakalar\\u0131nda birinci dalgay\\u0131 a\\u015ft\\u0131klar\\u0131n\\u0131 ancak Newroz Bayram\\u0131 i\\u00e7in tatile \\u00e7\\u0131kan vatanda\\u015flar\\u0131n d\\u00f6nmesiyle ikinci dalgan\\u0131n ba\\u015flayabilece\\u011fini belirtti.\\n\\n\\n\\n\\n\\nCumhurba\\u015fkan\\u0131 Ruhani, ba\\u015fkent Tahran'da kendisi d\\u0131\\u015f\\u0131nda t\\u00fcm kabine \\u00fcyelerinin koruyucu maskeyle kat\\u0131ld\\u0131\\u011f\\u0131 Bakanlar Kurulu toplant\\u0131s\\u0131nda g\\u00fcndeme ili\\u015fkin a\\u00e7\\u0131klamalarda bulundu.\\n\\n\\n\\n\\n\\nNewroz Bayram\\u0131 tatiline \\u00e7\\u0131kan vatanda\\u015flar\\u0131n d\\u00f6n\\u00fc\\u015f yolculuklar\\u0131nda Covid-19 salg\\u0131n\\u0131n\\u0131n daha fazla yay\\u0131lmas\\u0131n\\u0131 \\u00f6nlemek i\\u00e7in sert tedbirler ald\\u0131klar\\u0131n\\u0131 aktaran Ruhani, \\\"Hastal\\u0131\\u011f\\u0131n ilk dalgas\\u0131n\\u0131 a\\u015fmay\\u0131 ba\\u015fard\\u0131k ancak \\u00f6n\\u00fcm\\u00fczde yeni bir dalga olabilir.\\\" uyar\\u0131s\\u0131nda bulundu.\\n\\n\\n\\n\\n\\nRuhani, halk\\u0131n can g\\u00fcvenli\\u011finden h\\u00fck\\u00fcmetin sorumlu oldu\\u011funu vurgulayarak, \\\"Parklar ve bah\\u00e7eler kapat\\u0131labilir. 13 Ferverdin'deki geleneksel t\\u00f6renler (Newoz'un 13. g\\u00fcn\\u00fcnde ailelerin pikni\\u011fe \\u00e7\\u0131karak yapt\\u0131klar\\u0131 kutlamalar) \\u00f6nceki y\\u0131llardaki gibi olmayacakt\\u0131r ancak salg\\u0131n\\u0131n \\u00f6n\\u00fcne ge\\u00e7mek i\\u00e7in ba\\u015fka \\u00e7aremiz yok. Halk\\u0131m\\u0131z bu tedbirlerin onlar\\u0131n menfaati i\\u00e7in al\\u0131nd\\u0131\\u011f\\u0131n\\u0131 bilmelidir.\\\" diye konu\\u015ftu.\\n\\n\\n\\n\\n\\n\\n\\n\\n\\n'YARINDAN \\u0130T\\u0130BAREN KISITLAMALAR ARTTIRILACAK'\\n\\n\\n\\n\\n\\n\\u2018Koronoyla Ulusal M\\u00fccadele Kurulu'nda, k\\u0131s\\u0131tlamalar\\u0131n art\\u0131r\\u0131lmas\\u0131 y\\u00f6n\\u00fcnde karar al\\u0131nd\\u0131\\u011f\\u0131n\\u0131 ve haz\\u0131rlanan plan\\u0131n bug\\u00fcn \\u00f6\\u011fleden sonra y\\u00fcr\\u00fcrl\\u00fc\\u011fe girece\\u011fini belirten Ruhani, \\\"Halk yar\\u0131ndan itibaren daha fazla k\\u0131s\\u0131tlamalara kar\\u015f\\u0131 haz\\u0131rl\\u0131kl\\u0131 olmal\\u0131d\\u0131r\\\" dedi.\\n\\n\\n\\n\\n\\nVatanda\\u015flar\\u0131n temel ihtiya\\u00e7lar\\u0131n\\u0131n temin edilece\\u011fini vurgulayan Ruhani, \\\"Halk\\u0131n elektrik, su ve g\\u0131da gibi ihtiya\\u00e7lar\\u0131n\\u0131 temin etmek zorunday\\u0131z. Bunun i\\u00e7in \\u015fu anda g\\u0131da ve gerekli temizlik malzemelerini \\u00fcreten t\\u00fcm fabrikalar \\u00fcretim faaliyetlerini en y\\u00fcksek seviyede s\\u00fcrd\\u00fcrmelidir\\\" ifadelerini kulland\\u0131.\\n\\n\\n\\n\\n\\nABD\\u2019N\\u0130N YAPTIRIMLARININ KALDIRILMASI BMGK'N\\u0130N G\\u00dcNDEM\\u0130NDE\\n\\n\\n\\n\\n\\n\\u00dclkede yakla\\u015f\\u0131k 2 bin ki\\u015finin \\u00f6l\\u00fcm\\u00fcne yol a\\u00e7an bu salg\\u0131nla ABD'nin yapt\\u0131r\\u0131mlar\\u0131 alt\\u0131nda m\\u00fccadele ettiklerini dile getiren Ruhani, \\u015f\\u00f6yle devam etti:\\n\\n\\n\\n\\n\\n\\\"\\u015eu anda koronavir\\u00fcsle m\\u00fccadele s\\u0131ras\\u0131nda t\\u00fcm yapt\\u0131r\\u0131mlar\\u0131n kald\\u0131r\\u0131lmas\\u0131 konusu Birle\\u015fmi\\u015f Milletler G\\u00fcvenlik Konseyi'nin (BMGK) g\\u00fcndeminde. Ben de G\\u00fcvenlik Konseyi'nin daimi olmayan \\u00fcyelerinden biriyle g\\u00f6r\\u00fc\\u015ft\\u00fcm ve bize tasar\\u0131y\\u0131 konseye sunmaya haz\\u0131rland\\u0131klar\\u0131n\\u0131 s\\u00f6yledi. Bununla birlikte \\u0130ran'\\u0131n \\u00fclke d\\u0131\\u015f\\u0131nda bloke edilmi\\u015f nakdi varl\\u0131klar\\u0131n\\u0131nda da serbest b\\u0131rak\\u0131lmal\\u0131s\\u0131n\\u0131 hedefliyoruz.\\\"\",\n          \"FLORENCE, SC (WBTW) \\u2013 Parents, students and Florence One Schools leaders are preparing for the new school calendar that\\u2019s been adopted for the 2020-2021 school year.\\n\\nThe calendar- billed as a modified year-round model- will have students in the classroom about two weeks earlier in August to make way for more time off throughout the year.\\n\\nThe school board approved the calendar for every school in the district last week.\\n\\n\\u201cContinuous learning and then some refresh time is going to create an environment where we\\u2019re going to see even more growth,\\u201d Director of School Improvement Hayley Cagle said.\\n\\nCagle explained how the district is helping ease the transition to the new schedule.\\n\\nShe said daycare will be offered at elementary schools this year during the new break periods.\\n\\n\\u201cWe wanted to take that into account we wanted to be fair,\\u201d Cagle said. \\u201cSo those students will have a daycare at school during the fall and the spring intercession. And this year that will be offered free.\\u201d\\n\\nThe district will also be lenient with parents and staff who had already booked plans in August.\\n\\n\\u201cThe first two weeks of August when we\\u2019re going to be coming in- we don\\u2019t normally come back then,\\u201d Cagle began. \\u201cWe have agreed to excuse those days if they already have them booked.\\u201d\\n\\nSpencer Scott heads up the non-profit group First Steps for Marion and Florence Counties. He\\u2019s been in touch with daycares, which he says are planning for the new schedule.\\n\\n\\u201cWe have spoken with our child care providers and they\\u2019re excited about it as well because it will give them the opportunity to have the kids during that time frame,\\u201d Scott said. \\u201cThey are saying we\\u2019re gonna be ready during those days.\\u201d\\n\\nSome parents remain on the fence.\\n\\n\\u201cI\\u2019m for it and against it,\\u201d Vonnie McDonald said. She has an eighth grade son in the district. \\u201cHigh schoolers not being able to get a small time job during the summer to have that experience out in the real world.\\u201d\\n\\nThe district says the new system will make better use of classroom time and ease burnout on both teachers and students.\\n\\n\\u201cI really hope once they get in the schedule and they see how it plays out they\\u2019re going to realize they do like the schedule and their students like the schedule,\\u201d Cagle said. \\u201cAnd that we are doing whatever we can to help their students learn and grow.\\u201d\\n\\nYou can view the schedule here:\\n\\nLatest Headlines\"\n        ],\n        \"semantic_type\": \"\",\n        \"description\": \"\"\n      }\n    },\n    {\n      \"column\": \"sentence2\",\n      \"properties\": {\n        \"dtype\": \"string\",\n        \"num_unique_values\": 4238,\n        \"samples\": [\n          \"*La artista comparte un video de su enlace matrimonial con su novio Randy Bick\\n\\nM\\u00e9xico, 1 Ene (Notimex).- La comediante estadounidense Kathy Griffin, quien caus\\u00f3 pol\\u00e9mica al sostener una cabeza de utiler\\u00eda ensangrentada con el aspecto de Donald Trump para una sesi\\u00f3n de fotos, anunci\\u00f3 su compromiso la v\\u00edspera de A\\u00f1o Nuevo y luego se cas\\u00f3 con su novio Randy Bick.\\n\\nGriffin public\\u00f3 un video la noche del martes con Bick para hacer el anuncio sorpresa, despu\\u00e9s la pareja hizo la cuenta regresiva para darle a conocer a sus seguidores que preparaban algo m\\u00e1s que la celebraci\\u00f3n de A\\u00f1o Nuevo.\\n\\n\\u201cFeliz a\\u00f1o nuevo y sorpresa. \\u00a1Nos vamos a casar! \\u00a1Esta noche! \\u00a1Despu\\u00e9s de la medianoche!\\u201d, asegur\\u00f3 la comediante en sus redes sociales. \\u201c\\u00a1Ella dijo que s\\u00ed!\\u201d, agreg\\u00f3 Brick.\\n\\nLa humorista, quien tambi\\u00e9n se retrat\\u00f3 completamente rapada en apoyo a su hermana con c\\u00e1ncer, detall\\u00f3 que el enlace matrimonial se llevar\\u00eda a cabo despu\\u00e9s de la medianoche en la Costa Oeste y despu\\u00e9s comparti\\u00f3 el video en el que fueron casados por Lily Tomlin.\\n\\n\\u201cToda la ceremonia dur\\u00f3 poco menos de 14 minutos, pero tengo que darles los primeros 75 segundos sin cortes, ME ENCANTA! Te prometimos algo at\\u00edpico. Estamos enamorados y no podemos dejar de re\\u00edrnos. Gracias @LilyTomlin y Jane Wagner #HappyNewYear\\u201d, escribi\\u00f3.\\n\\n-Fin de nota-\\n\\nNTX/VGV/ACJ\",\n          \"S\\u00f6der: Politik in Deutschland muss qualitativ besser werden\\n\\nM\\u00fcnchen (dpa) - Politiker m\\u00fcssen bei der Durchsetzung ihrer Ziele aus der Sicht von CSU-Chef Markus S\\u00f6der mehr denn je auf eine niveauvolle Debattenkultur achten. \\u201eIch bin der festen \\u00dcberzeugung, Politik muss heute qualitativ besser werden\\u201c, sagte Bayerns Ministerpr\\u00e4sident der Deutschen Presse-Agentur in M\\u00fcnchen. Deutschland sei ein Land mit einer hohen Qualit\\u00e4t in Wissenschaft und Wirtschaft, in Kunst und Gesellschaft. \\u201eDaher muss die Politik auf qualitativer Augenh\\u00f6he diskutieren. Moderne F\\u00fchrung hei\\u00dft mitnehmen ohne stehen zu bleiben. Es ist viel anspruchsvoller geworden als fr\\u00fcher.\\u201c\\n\\nMit Blick auf die von S\\u00f6der verordnete Stabilisierungsrolle der CSU im Bund betonte er, dass die Partei auch unter seiner F\\u00fchrung nicht ihre seit Jahrzehnten gepflegte Unberechenbarkeit verlieren werde: \\u201eStabilit\\u00e4t ist nicht meinungslos. Stabilit\\u00e4t bedeutet auch nicht, nur dem anderen Recht zu geben.\\u201c Jedoch komme es auf den Stil an. Dazu m\\u00fcsse man mit Respekt und Vernunft arbeiten und sich in die Rolle des anderen hinein versetzen k\\u00f6nnen.\",\n          \"Un crecimiento del 9,1% en la movilizaci\\u00f3n de pasajeros en Colombia durante 2019 arroj\\u00f3 el \\u00faltimo informe de Estudios Sectoriales de la Aeron\\u00e1utica Civil, donde se transportaron 41 millones 267 mil viajeros, lo que representa un incremento de 3 millones 452 mil pasajeros con respecto al 2018.\\n\\nDe esta cifra, 389 mil corresponden a vuelos internacionales y 3 millones 63 mil viajeros a vuelos dom\\u00e9sticos.\\n\\n\\u201cTal y como lo hab\\u00edamos proyectado, el a\\u00f1o 2019 cerr\\u00f3 con una movilizaci\\u00f3n de\\n\\n41,2 millones de pasajeros por los diferentes aeropuertos del Colombia. Este\\n\\ncrecimiento es gracias a los esfuerzos que, de la mano del Gobierno Nacional,\\n\\nrealizamos para que los usuarios del transporte a\\u00e9reo tengan cada vez m\\u00e1s\\n\\nopciones para conectarse dentro y fuera del pa\\u00eds. Un claro ejemplo de ello es la\\n\\nentrada en operaci\\u00f3n de 40 nuevas rutas, entre nacionales e internacionales y la\\n\\nllegada al pa\\u00eds de 4 aerol\\u00edneas a prestar sus servicios\\u201d, expres\\u00f3 el director de la\\n\\nAeron\\u00e1utica Civil, Juan Carlos Salazar.\\n\\nDurante el \\u00faltimo mes del a\\u00f1o se movilizaron 3 millones 785 mil pasajeros, lo que\\n\\nevidencia un crecimiento de 221 mil pasajeros y una tasa de variaci\\u00f3n del 6,2% con\\n\\nrelaci\\u00f3n a diciembre de 2018, donde se movilizaron 3 millones 564 mil viajeros.\\n\\nM\\u00e1s pasajeros nacionales e internacionales\\n\\nSeg\\u00fan el informe, durante el 2019 se transportaron 27 millones 93 mil viajeros en\\n\\nvuelos nacionales, 3 millones 62 mil viajeros m\\u00e1s que en 2018, donde se movilizaron\\n\\n24 millones 31 mil viajeros, evidenciando un crecimiento del 12,7%. Con un incremento del 2,8%, a nivel internacional 14 millones 174 mil viajeros se\\n\\nmovilizaron durante 2019, evidenciando un aumento de 389 mil pasajeros m\\u00e1s que\\n\\nen 2018, donde se transportaron 13 millones 785 mil.\\n\\nCabe resaltar que este positivo crecimiento es gracias al trabajo que el Gobierno\\n\\nNacional, a trav\\u00e9s de la Aeron\\u00e1utica Civil, adelanta cada d\\u00eda para consolidar al\\n\\nsector a\\u00e9reo con la aprobaci\\u00f3n de nuevas rutas, adici\\u00f3n de frecuencias en algunas\\n\\naerol\\u00edneas y la entrada en operaci\\u00f3n de nuevos operadores que llegan al pa\\u00eds a prestar sus servicios para seguir conectando a Colombia con todas las regiones del\\n\\npa\\u00eds y con el mundo.\"\n        ],\n        \"semantic_type\": \"\",\n        \"description\": \"\"\n      }\n    },\n    {\n      \"column\": \"lang\",\n      \"properties\": {\n        \"dtype\": \"category\",\n        \"num_unique_values\": 8,\n        \"samples\": [\n          \"de-en\",\n          \"fr\",\n          \"ar\"\n        ],\n        \"semantic_type\": \"\",\n        \"description\": \"\"\n      }\n    }\n  ]\n}"
            }
          },
          "metadata": {},
          "execution_count": 7
        }
      ],
      "source": [
        "train_df.head()"
      ]
    },
    {
      "cell_type": "code",
      "execution_count": 8,
      "metadata": {
        "colab": {
          "base_uri": "https://localhost:8080/",
          "height": 362
        },
        "id": "mTyRk8PB8Nai",
        "outputId": "96e716ea-9927-4062-9482-e46d28064ee5"
      },
      "outputs": [
        {
          "output_type": "execute_result",
          "data": {
            "text/plain": [
              "                         id  score  \\\n",
              "3953  1506442713_1503323632    2.0   \n",
              "3954  1534704977_1533440008    4.0   \n",
              "3955  1511135586_1512529082    1.0   \n",
              "3956  1498511880_1494353600    3.0   \n",
              "3957  1606285186_1606004650    3.0   \n",
              "\n",
              "                                              sentence1  \\\n",
              "3953  1月27日，科考队员在“雪龙2”号后甲板布放浮标。当日，中国第36次南极考察队队员在南纬55...   \n",
              "3954  疫情防控到了关键阶段，重中之重仍是严防死守。特别是复产复工后，给疫情防控工作带来了新的挑战。...   \n",
              "3955  2020 年 2月 1 日 星期六 12:45\\n\\n托卡耶夫总统致信中国国家主席习近平\\n...   \n",
              "3956  传说中的美中贸易协议，终于签订所谓第一阶段，一如外界所预期，真正条款能解决的问题少，而明显只...   \n",
              "3957  扫描二维码分享到朋友圈\\n\\n启信宝数据显示，5月13日，北京车和家信息技术有限公司发生多项...   \n",
              "\n",
              "                                              sentence2 lang  \n",
              "3953  当地时间1月23日，搭载中国第36次南极考察队队员的“雪龙2”号极地科考破冰船驶离南非开普敦...   zh  \n",
              "3954  李丁乔\\n\\n面对这次新中国成立以来在我国发生的传播速度最快、感染范围最广、防控难度最大的重...   zh  \n",
              "3955  2020 年 2月 3 日 星期一 19:31\\n\\n吉尔吉斯坦总统就从武汉撤回侨民一事向哈...   zh  \n",
              "3956  美国财政部在半年度汇率报告中指出，中国在中美第一阶段贸易协议内作出可执行的承诺，压抑竞争性贬...   zh  \n",
              "3957  北京车和家（理想汽车）注册资本减少近3亿，3名董事及18位股东退出\\n\\nDoNews5月1...   zh  "
            ],
            "text/html": [
              "\n",
              "  <div id=\"df-3b99e993-d3a9-4b14-8f8d-df365e2cbd93\" class=\"colab-df-container\">\n",
              "    <div>\n",
              "<style scoped>\n",
              "    .dataframe tbody tr th:only-of-type {\n",
              "        vertical-align: middle;\n",
              "    }\n",
              "\n",
              "    .dataframe tbody tr th {\n",
              "        vertical-align: top;\n",
              "    }\n",
              "\n",
              "    .dataframe thead th {\n",
              "        text-align: right;\n",
              "    }\n",
              "</style>\n",
              "<table border=\"1\" class=\"dataframe\">\n",
              "  <thead>\n",
              "    <tr style=\"text-align: right;\">\n",
              "      <th></th>\n",
              "      <th>id</th>\n",
              "      <th>score</th>\n",
              "      <th>sentence1</th>\n",
              "      <th>sentence2</th>\n",
              "      <th>lang</th>\n",
              "    </tr>\n",
              "  </thead>\n",
              "  <tbody>\n",
              "    <tr>\n",
              "      <th>3953</th>\n",
              "      <td>1506442713_1503323632</td>\n",
              "      <td>2.0</td>\n",
              "      <td>1月27日，科考队员在“雪龙2”号后甲板布放浮标。当日，中国第36次南极考察队队员在南纬55...</td>\n",
              "      <td>当地时间1月23日，搭载中国第36次南极考察队队员的“雪龙2”号极地科考破冰船驶离南非开普敦...</td>\n",
              "      <td>zh</td>\n",
              "    </tr>\n",
              "    <tr>\n",
              "      <th>3954</th>\n",
              "      <td>1534704977_1533440008</td>\n",
              "      <td>4.0</td>\n",
              "      <td>疫情防控到了关键阶段，重中之重仍是严防死守。特别是复产复工后，给疫情防控工作带来了新的挑战。...</td>\n",
              "      <td>李丁乔\\n\\n面对这次新中国成立以来在我国发生的传播速度最快、感染范围最广、防控难度最大的重...</td>\n",
              "      <td>zh</td>\n",
              "    </tr>\n",
              "    <tr>\n",
              "      <th>3955</th>\n",
              "      <td>1511135586_1512529082</td>\n",
              "      <td>1.0</td>\n",
              "      <td>2020 年 2月 1 日 星期六 12:45\\n\\n托卡耶夫总统致信中国国家主席习近平\\n...</td>\n",
              "      <td>2020 年 2月 3 日 星期一 19:31\\n\\n吉尔吉斯坦总统就从武汉撤回侨民一事向哈...</td>\n",
              "      <td>zh</td>\n",
              "    </tr>\n",
              "    <tr>\n",
              "      <th>3956</th>\n",
              "      <td>1498511880_1494353600</td>\n",
              "      <td>3.0</td>\n",
              "      <td>传说中的美中贸易协议，终于签订所谓第一阶段，一如外界所预期，真正条款能解决的问题少，而明显只...</td>\n",
              "      <td>美国财政部在半年度汇率报告中指出，中国在中美第一阶段贸易协议内作出可执行的承诺，压抑竞争性贬...</td>\n",
              "      <td>zh</td>\n",
              "    </tr>\n",
              "    <tr>\n",
              "      <th>3957</th>\n",
              "      <td>1606285186_1606004650</td>\n",
              "      <td>3.0</td>\n",
              "      <td>扫描二维码分享到朋友圈\\n\\n启信宝数据显示，5月13日，北京车和家信息技术有限公司发生多项...</td>\n",
              "      <td>北京车和家（理想汽车）注册资本减少近3亿，3名董事及18位股东退出\\n\\nDoNews5月1...</td>\n",
              "      <td>zh</td>\n",
              "    </tr>\n",
              "  </tbody>\n",
              "</table>\n",
              "</div>\n",
              "    <div class=\"colab-df-buttons\">\n",
              "\n",
              "  <div class=\"colab-df-container\">\n",
              "    <button class=\"colab-df-convert\" onclick=\"convertToInteractive('df-3b99e993-d3a9-4b14-8f8d-df365e2cbd93')\"\n",
              "            title=\"Convert this dataframe to an interactive table.\"\n",
              "            style=\"display:none;\">\n",
              "\n",
              "  <svg xmlns=\"http://www.w3.org/2000/svg\" height=\"24px\" viewBox=\"0 -960 960 960\">\n",
              "    <path d=\"M120-120v-720h720v720H120Zm60-500h600v-160H180v160Zm220 220h160v-160H400v160Zm0 220h160v-160H400v160ZM180-400h160v-160H180v160Zm440 0h160v-160H620v160ZM180-180h160v-160H180v160Zm440 0h160v-160H620v160Z\"/>\n",
              "  </svg>\n",
              "    </button>\n",
              "\n",
              "  <style>\n",
              "    .colab-df-container {\n",
              "      display:flex;\n",
              "      gap: 12px;\n",
              "    }\n",
              "\n",
              "    .colab-df-convert {\n",
              "      background-color: #E8F0FE;\n",
              "      border: none;\n",
              "      border-radius: 50%;\n",
              "      cursor: pointer;\n",
              "      display: none;\n",
              "      fill: #1967D2;\n",
              "      height: 32px;\n",
              "      padding: 0 0 0 0;\n",
              "      width: 32px;\n",
              "    }\n",
              "\n",
              "    .colab-df-convert:hover {\n",
              "      background-color: #E2EBFA;\n",
              "      box-shadow: 0px 1px 2px rgba(60, 64, 67, 0.3), 0px 1px 3px 1px rgba(60, 64, 67, 0.15);\n",
              "      fill: #174EA6;\n",
              "    }\n",
              "\n",
              "    .colab-df-buttons div {\n",
              "      margin-bottom: 4px;\n",
              "    }\n",
              "\n",
              "    [theme=dark] .colab-df-convert {\n",
              "      background-color: #3B4455;\n",
              "      fill: #D2E3FC;\n",
              "    }\n",
              "\n",
              "    [theme=dark] .colab-df-convert:hover {\n",
              "      background-color: #434B5C;\n",
              "      box-shadow: 0px 1px 3px 1px rgba(0, 0, 0, 0.15);\n",
              "      filter: drop-shadow(0px 1px 2px rgba(0, 0, 0, 0.3));\n",
              "      fill: #FFFFFF;\n",
              "    }\n",
              "  </style>\n",
              "\n",
              "    <script>\n",
              "      const buttonEl =\n",
              "        document.querySelector('#df-3b99e993-d3a9-4b14-8f8d-df365e2cbd93 button.colab-df-convert');\n",
              "      buttonEl.style.display =\n",
              "        google.colab.kernel.accessAllowed ? 'block' : 'none';\n",
              "\n",
              "      async function convertToInteractive(key) {\n",
              "        const element = document.querySelector('#df-3b99e993-d3a9-4b14-8f8d-df365e2cbd93');\n",
              "        const dataTable =\n",
              "          await google.colab.kernel.invokeFunction('convertToInteractive',\n",
              "                                                    [key], {});\n",
              "        if (!dataTable) return;\n",
              "\n",
              "        const docLinkHtml = 'Like what you see? Visit the ' +\n",
              "          '<a target=\"_blank\" href=https://colab.research.google.com/notebooks/data_table.ipynb>data table notebook</a>'\n",
              "          + ' to learn more about interactive tables.';\n",
              "        element.innerHTML = '';\n",
              "        dataTable['output_type'] = 'display_data';\n",
              "        await google.colab.output.renderOutput(dataTable, element);\n",
              "        const docLink = document.createElement('div');\n",
              "        docLink.innerHTML = docLinkHtml;\n",
              "        element.appendChild(docLink);\n",
              "      }\n",
              "    </script>\n",
              "  </div>\n",
              "\n",
              "\n",
              "    <div id=\"df-60c0d067-2df1-4726-93ba-73e24ce03339\">\n",
              "      <button class=\"colab-df-quickchart\" onclick=\"quickchart('df-60c0d067-2df1-4726-93ba-73e24ce03339')\"\n",
              "                title=\"Suggest charts\"\n",
              "                style=\"display:none;\">\n",
              "\n",
              "<svg xmlns=\"http://www.w3.org/2000/svg\" height=\"24px\"viewBox=\"0 0 24 24\"\n",
              "     width=\"24px\">\n",
              "    <g>\n",
              "        <path d=\"M19 3H5c-1.1 0-2 .9-2 2v14c0 1.1.9 2 2 2h14c1.1 0 2-.9 2-2V5c0-1.1-.9-2-2-2zM9 17H7v-7h2v7zm4 0h-2V7h2v10zm4 0h-2v-4h2v4z\"/>\n",
              "    </g>\n",
              "</svg>\n",
              "      </button>\n",
              "\n",
              "<style>\n",
              "  .colab-df-quickchart {\n",
              "      --bg-color: #E8F0FE;\n",
              "      --fill-color: #1967D2;\n",
              "      --hover-bg-color: #E2EBFA;\n",
              "      --hover-fill-color: #174EA6;\n",
              "      --disabled-fill-color: #AAA;\n",
              "      --disabled-bg-color: #DDD;\n",
              "  }\n",
              "\n",
              "  [theme=dark] .colab-df-quickchart {\n",
              "      --bg-color: #3B4455;\n",
              "      --fill-color: #D2E3FC;\n",
              "      --hover-bg-color: #434B5C;\n",
              "      --hover-fill-color: #FFFFFF;\n",
              "      --disabled-bg-color: #3B4455;\n",
              "      --disabled-fill-color: #666;\n",
              "  }\n",
              "\n",
              "  .colab-df-quickchart {\n",
              "    background-color: var(--bg-color);\n",
              "    border: none;\n",
              "    border-radius: 50%;\n",
              "    cursor: pointer;\n",
              "    display: none;\n",
              "    fill: var(--fill-color);\n",
              "    height: 32px;\n",
              "    padding: 0;\n",
              "    width: 32px;\n",
              "  }\n",
              "\n",
              "  .colab-df-quickchart:hover {\n",
              "    background-color: var(--hover-bg-color);\n",
              "    box-shadow: 0 1px 2px rgba(60, 64, 67, 0.3), 0 1px 3px 1px rgba(60, 64, 67, 0.15);\n",
              "    fill: var(--button-hover-fill-color);\n",
              "  }\n",
              "\n",
              "  .colab-df-quickchart-complete:disabled,\n",
              "  .colab-df-quickchart-complete:disabled:hover {\n",
              "    background-color: var(--disabled-bg-color);\n",
              "    fill: var(--disabled-fill-color);\n",
              "    box-shadow: none;\n",
              "  }\n",
              "\n",
              "  .colab-df-spinner {\n",
              "    border: 2px solid var(--fill-color);\n",
              "    border-color: transparent;\n",
              "    border-bottom-color: var(--fill-color);\n",
              "    animation:\n",
              "      spin 1s steps(1) infinite;\n",
              "  }\n",
              "\n",
              "  @keyframes spin {\n",
              "    0% {\n",
              "      border-color: transparent;\n",
              "      border-bottom-color: var(--fill-color);\n",
              "      border-left-color: var(--fill-color);\n",
              "    }\n",
              "    20% {\n",
              "      border-color: transparent;\n",
              "      border-left-color: var(--fill-color);\n",
              "      border-top-color: var(--fill-color);\n",
              "    }\n",
              "    30% {\n",
              "      border-color: transparent;\n",
              "      border-left-color: var(--fill-color);\n",
              "      border-top-color: var(--fill-color);\n",
              "      border-right-color: var(--fill-color);\n",
              "    }\n",
              "    40% {\n",
              "      border-color: transparent;\n",
              "      border-right-color: var(--fill-color);\n",
              "      border-top-color: var(--fill-color);\n",
              "    }\n",
              "    60% {\n",
              "      border-color: transparent;\n",
              "      border-right-color: var(--fill-color);\n",
              "    }\n",
              "    80% {\n",
              "      border-color: transparent;\n",
              "      border-right-color: var(--fill-color);\n",
              "      border-bottom-color: var(--fill-color);\n",
              "    }\n",
              "    90% {\n",
              "      border-color: transparent;\n",
              "      border-bottom-color: var(--fill-color);\n",
              "    }\n",
              "  }\n",
              "</style>\n",
              "\n",
              "      <script>\n",
              "        async function quickchart(key) {\n",
              "          const quickchartButtonEl =\n",
              "            document.querySelector('#' + key + ' button');\n",
              "          quickchartButtonEl.disabled = true;  // To prevent multiple clicks.\n",
              "          quickchartButtonEl.classList.add('colab-df-spinner');\n",
              "          try {\n",
              "            const charts = await google.colab.kernel.invokeFunction(\n",
              "                'suggestCharts', [key], {});\n",
              "          } catch (error) {\n",
              "            console.error('Error during call to suggestCharts:', error);\n",
              "          }\n",
              "          quickchartButtonEl.classList.remove('colab-df-spinner');\n",
              "          quickchartButtonEl.classList.add('colab-df-quickchart-complete');\n",
              "        }\n",
              "        (() => {\n",
              "          let quickchartButtonEl =\n",
              "            document.querySelector('#df-60c0d067-2df1-4726-93ba-73e24ce03339 button');\n",
              "          quickchartButtonEl.style.display =\n",
              "            google.colab.kernel.accessAllowed ? 'block' : 'none';\n",
              "        })();\n",
              "      </script>\n",
              "    </div>\n",
              "\n",
              "    </div>\n",
              "  </div>\n"
            ],
            "application/vnd.google.colaboratory.intrinsic+json": {
              "type": "dataframe",
              "summary": "{\n  \"name\": \"test_df\",\n  \"rows\": 5,\n  \"fields\": [\n    {\n      \"column\": \"id\",\n      \"properties\": {\n        \"dtype\": \"string\",\n        \"num_unique_values\": 5,\n        \"samples\": [\n          \"1534704977_1533440008\",\n          \"1606285186_1606004650\",\n          \"1511135586_1512529082\"\n        ],\n        \"semantic_type\": \"\",\n        \"description\": \"\"\n      }\n    },\n    {\n      \"column\": \"score\",\n      \"properties\": {\n        \"dtype\": \"number\",\n        \"std\": 1.140175425099138,\n        \"min\": 1.0,\n        \"max\": 4.0,\n        \"num_unique_values\": 4,\n        \"samples\": [\n          4.0,\n          3.0,\n          2.0\n        ],\n        \"semantic_type\": \"\",\n        \"description\": \"\"\n      }\n    },\n    {\n      \"column\": \"sentence1\",\n      \"properties\": {\n        \"dtype\": \"string\",\n        \"num_unique_values\": 5,\n        \"samples\": [\n          \"\\u75ab\\u60c5\\u9632\\u63a7\\u5230\\u4e86\\u5173\\u952e\\u9636\\u6bb5\\uff0c\\u91cd\\u4e2d\\u4e4b\\u91cd\\u4ecd\\u662f\\u4e25\\u9632\\u6b7b\\u5b88\\u3002\\u7279\\u522b\\u662f\\u590d\\u4ea7\\u590d\\u5de5\\u540e\\uff0c\\u7ed9\\u75ab\\u60c5\\u9632\\u63a7\\u5de5\\u4f5c\\u5e26\\u6765\\u4e86\\u65b0\\u7684\\u6311\\u6218\\u3002\\n\\n2\\u670826\\u65e5\\uff0c\\u4e60\\u8fd1\\u5e73\\u603b\\u4e66\\u8bb0\\u5728\\u4e2d\\u592e\\u653f\\u6cbb\\u5c40\\u5e38\\u59d4\\u4f1a\\u4e0a\\u53d1\\u8868\\u7684\\u91cd\\u8981\\u8bb2\\u8bdd\\u6307\\u51fa\\uff1a\\u201c\\u5f53\\u524d\\u5168\\u56fd\\u75ab\\u60c5\\u9632\\u63a7\\u5f62\\u52bf\\u79ef\\u6781\\u5411\\u597d\\u7684\\u6001\\u52bf\\u6b63\\u5728\\u62d3\\u5c55\\uff0c\\u7ecf\\u6d4e\\u793e\\u4f1a\\u53d1\\u5c55\\u52a0\\u5feb\\u6062\\u590d\\uff0c\\u540c\\u65f6\\u6e56\\u5317\\u7701\\u548c\\u6b66\\u6c49\\u5e02\\u75ab\\u60c5\\u5f62\\u52bf\\u4f9d\\u7136\\u590d\\u6742\\u4e25\\u5cfb\\uff0c\\u5176\\u4ed6\\u6709\\u5173\\u5730\\u533a\\u75ab\\u60c5\\u53cd\\u5f39\\u98ce\\u9669\\u4e0d\\u53ef\\u5ffd\\u89c6\\u3002\\u8d8a\\u662f\\u5728\\u8fd9\\u4e2a\\u65f6\\u5019\\uff0c\\u8d8a\\u8981\\u52a0\\u5f3a\\u6b63\\u786e\\u5f15\\u5bfc\\uff0c\\u63a8\\u52a8\\u5404\\u65b9\\u9762\\u5207\\u5b9e\\u628a\\u601d\\u60f3\\u548c\\u884c\\u52a8\\u7edf\\u4e00\\u5230\\u515a\\u4e2d\\u592e\\u51b3\\u7b56\\u90e8\\u7f72\\u4e0a\\u6765\\uff0c\\u52a0\\u5f3a\\u75ab\\u60c5\\u9632\\u63a7\\u8fd9\\u6839\\u5f26\\u4e0d\\u80fd\\u677e\\uff0c\\u7ecf\\u6d4e\\u793e\\u4f1a\\u53d1\\u5c55\\u5404\\u9879\\u5de5\\u4f5c\\u8981\\u6293\\u7d27\\u3002\\u201d\\n\\n\\u590d\\u4ea7\\u590d\\u5de5\\uff0c\\u5b89\\u5168\\u7b2c\\u4e00\\u3002\\u773c\\u4e0b\\u75ab\\u60c5\\u9632\\u63a7\\u6574\\u4f53\\u5f62\\u52bf\\u867d\\u7136\\u5448\\u73b0\\u79ef\\u6781\\u5411\\u597d\\u4fe1\\u53f7\\uff0c\\u4f46\\u8fd8\\u6ca1\\u6709\\u5230\\u677e\\u53e3\\u6c14\\u7684\\u65f6\\u5019\\uff0c\\u4efb\\u4f55\\u677e\\u61c8\\u9ebb\\u75f9\\u90fd\\u53ef\\u80fd\\u5bfc\\u81f4\\u529f\\u4e8f\\u4e00\\u7bd1\\u3002\\u4f5c\\u4e3a\\u4f01\\u4e1a\\uff0c\\u9762\\u5bf9\\u8054\\u9632\\u8054\\u63a7\\u8d23\\u4efb\\uff0c\\u5982\\u679c\\u4f53\\u6e29\\u76d1\\u6d4b\\u65f6\\u7d27\\u65f6\\u677e\\u3001\\u5de5\\u4f4d\\u5bc6\\u5ea6\\u4e0d\\u5408\\u8981\\u6c42\\u3001\\u5458\\u5de5\\u60c5\\u51b5\\u6478\\u6392\\u4e0d\\u51c6\\u786e\\u3001\\u5f00\\u4f1a\\u8ba8\\u8bba\\u4e0d\\u6234\\u53e3\\u7f69\\u3001\\u5bbf\\u820d\\u4eba\\u5458\\u5c45\\u4f4f\\u5bc6\\u96c6\\u4e14\\u4e0d\\u900f\\u98ce\\uff0c\\u6216\\u5c31\\u56e0\\u843d\\u5b9e\\u9632\\u63a7\\u63aa\\u65bd\\u7684\\u9a6c\\u864e\\u5927\\u610f\\uff0c\\u7ed9\\u72e1\\u733e\\u80ba\\u708e\\u75c5\\u6bd2\\u53ef\\u4e58\\u4e4b\\u673a\\uff0c\\u9020\\u6210\\u5c40\\u90e8\\u66b4\\u53d1\\u7684\\u6076\\u679c\\u3002\\u56e0\\u6b64\\uff0c\\u65e0\\u8bba\\u4f01\\u4e1a\\u662f\\u4f55\\u79cd\\u5c42\\u7ea7\\u3001\\u4f55\\u79cd\\u6027\\u8d28\\u3001\\u4f55\\u79cd\\u89c4\\u6a21\\uff0c\\u65e0\\u8bba\\u4ec0\\u4e48\\u4eba\\uff0c\\u5728\\u590d\\u5de5\\u590d\\u4ea7\\u65f6\\uff0c\\u90fd\\u5fc5\\u987b\\u62c5\\u8d77\\u4f01\\u4e1a\\u8054\\u9632\\u8054\\u63a7\\u7684\\u793e\\u4f1a\\u8d23\\u4efb\\uff0c\\u540c\\u821f\\u5171\\u6d4e\\u3001\\u5171\\u6218\\u75ab\\u60c5\\u3002\\n\\n\\u4e25\\u9632\\u53cd\\u5f39\\uff0c\\u628a\\u597d\\u590d\\u5de5\\u4eba\\u5458\\u6d41\\u52a8\\u5173\\u3002\\u201c\\u8fd9\\u6b21\\u65b0\\u51a0\\u80ba\\u708e\\u75ab\\u60c5\\uff0c\\u662f\\u65b0\\u4e2d\\u56fd\\u6210\\u7acb\\u4ee5\\u6765\\u5728\\u6211\\u56fd\\u53d1\\u751f\\u7684\\u4f20\\u64ad\\u901f\\u5ea6\\u6700\\u5feb\\u3001\\u611f\\u67d3\\u8303\\u56f4\\u6700\\u5e7f\\u3001\\u9632\\u63a7\\u96be\\u5ea6\\u6700\\u5927\\u7684\\u4e00\\u6b21\\u91cd\\u5927\\u7a81\\u53d1\\u516c\\u5171\\u536b\\u751f\\u4e8b\\u4ef6\\u3002\\u201d\\u5728\\u75ab\\u60c5\\u9632\\u63a7\\u7684\\u73af\\u5883\\u4e0b\\u7ba1\\u7406\\u5458\\u5de5\\uff0c\\u4f01\\u4e1a\\u5e94\\u5f3a\\u5316\\u601d\\u60f3\\u8ba4\\u8bc6\\u7684\\u7edf\\u4e00\\uff0c\\u6559\\u80b2\\u5f15\\u5bfc\\u590d\\u5de5\\u4eba\\u5458\\u7262\\u56fa\\u6811\\u7acb\\u5927\\u5c40\\u610f\\u8bc6\\u548c\\u6574\\u4f53\\u610f\\u8bc6\\uff0c\\u675c\\u7edd\\u4fa5\\u5e78\\u5fc3\\u7406\\u3001\\u4e25\\u9632\\u758f\\u5ffd\\u3001\\u8f7b\\u7387\\u3002\\u901a\\u8fc7\\u5fae\\u4fe1\\u7fa4\\u7b49\\u65b9\\u5f0f\\uff0c\\u7763\\u4fc3\\u5458\\u5de5\\u505a\\u5230\\u4e0d\\u805a\\u96c6\\uff0c\\u6234\\u53e3\\u7f69\\u3002\\u5e94\\u5f3a\\u5316\\u884c\\u4e3a\\u884c\\u52a8\\u7684\\u7edf\\u4e00\\uff0c\\u628a\\u9632\\u63a7\\u8d23\\u4efb\\u7ec6\\u5316\\u843d\\u5b9e\\u5230\\u8f66\\u95f4\\u3001\\u73ed\\u7ec4\\u6216\\u516c\\u53f8\\u90e8\\u95e8\\u8d23\\u4efb\\u4eba\\uff0c\\u660e\\u786e\\u4e13\\u4eba\\u8d1f\\u8d23\\uff0c\\u52a0\\u5f3a\\u6d41\\u7a0b\\u7ba1\\u7406\\uff0c\\u6bcf\\u5929\\u6d4b\\u4f53\\u6e29\\uff0c\\u5b9e\\u884c1.5\\u7c73\\u8ddd\\u79bb\\u5c31\\u9910\\u3001\\u529e\\u516c\\u3001\\u4e0e\\u5ba2\\u6237\\u4ea4\\u6d41\\uff0c\\u7528\\u5b9e\\u9645\\u884c\\u52a8\\uff0c\\u4f53\\u73b0\\u540c\\u821f\\u5171\\u6d4e\\u3001\\u5171\\u514b\\u65f6\\u8270\\u6253\\u597d\\u8fd9\\u573a\\u75ab\\u60c5\\u963b\\u51fb\\u6218\\u7684\\u51b3\\u5fc3\\u3002\\n\\n\\u4e25\\u9632\\u53cd\\u5f39\\uff0c\\u628a\\u597d\\u540e\\u52e4\\u670d\\u52a1\\u4fdd\\u969c\\u5173\\u3002\\u201c\\u6253\\u75ab\\u60c5\\u9632\\u63a7\\u963b\\u51fb\\u6218\\uff0c\\u5b9e\\u9645\\u4e0a\\u4e5f\\u662f\\u6253\\u540e\\u52e4\\u4fdd\\u969c\\u6218\\u3002\\u201d\\u75ab\\u60c5\\u9632\\u63a7\\u671f\\u95f4\\uff0c\\u590d\\u5de5\\u590d\\u4ea7\\u4f01\\u4e1a\\u65e2\\u5e94\\u51c6\\u5907\\u5145\\u8db3\\u7684\\u6d4b\\u6e29\\u4eea\\u3001\\u53e3\\u7f69\\u3001\\u6d88\\u6bd2\\u6c34\\u3001\\u9152\\u7cbe\\u7b49\\u9632\\u62a4\\u7269\\u8d44\\uff0c\\u53c8\\u5e94\\u7edf\\u7b79\\u786e\\u5b9a\\u9632\\u63a7\\u80fd\\u529b\\u8f83\\u5f3a\\u3001\\u914d\\u9001\\u7f51\\u7edc\\u4f53\\u7cfb\\u8f83\\u5b8c\\u5584\\u7684\\u7269\\u8d44\\u914d\\u9001\\u5355\\u4f4d\\uff0c\\u8fdb\\u884c\\u852c\\u83dc\\u3001\\u98df\\u54c1\\u53ca\\u5176\\u4ed6\\u5fc5\\u9700\\u7269\\u8d44\\u7684\\u914d\\u9001\\uff1b\\u65e2\\u5bf9\\u8fd4\\u5c97\\u5de5\\u4eba\\u5efa\\u7acb\\u201c\\u4e00\\u4eba\\u4e00\\u6863\\u201d\\u5065\\u5eb7\\u9632\\u75ab\\u8bb0\\u5f55\\uff0c\\u843d\\u5b9e\\u5458\\u5de5\\u5065\\u5eb7\\u7533\\u62a5\\u5236\\u5ea6\\uff0c\\u53c8\\u5bf9\\u751f\\u4ea7\\u7ecf\\u8425\\u573a\\u5730\\u3001\\u5bbf\\u820d\\u7b49\\u53ca\\u65f6\\u901a\\u98ce\\u6d88\\u6bd2\\uff0c\\u63a8\\u884c\\u5206\\u9910\\u5236\\u3001\\u76d2\\u996d\\u5236\\uff0c\\u4e25\\u683c\\u843d\\u5b9e\\u4f01\\u4e1a\\u5c5e\\u5730\\u9632\\u63a7\\u8d23\\u4efb\\uff0c\\u5207\\u5b9e\\u4ee5\\u5145\\u8db3\\u7684\\u9632\\u75ab\\u7269\\u8d44\\u4fdd\\u969c\\u548c\\u5b8c\\u5584\\u7684\\u751f\\u6d3b\\u540e\\u52e4\\u670d\\u52a1\\u652f\\u6301\\uff0c\\u4f53\\u73b0\\u4eba\\u6587\\u5173\\u6000\\uff0c\\u540c\\u5fc3\\u540c\\u5fb7\\u3001\\u9f50\\u5fc3\\u534f\\u529b\\u786e\\u4fdd\\u4f01\\u4e1a\\u75ab\\u60c5\\u65e0\\u8f93\\u5165\\uff0c\\u590d\\u5de5\\u4eba\\u5458\\u65e0\\u611f\\u67d3\\u3002\\n\\n\\u4e25\\u9632\\u53cd\\u5f39\\uff0c\\u628a\\u597d\\u9632\\u75ab\\u653f\\u7b56\\u5ba3\\u4f20\\u5173\\u3002\\u201c\\u628a\\u4eba\\u6c11\\u7fa4\\u4f17\\u751f\\u547d\\u5b89\\u5168\\u548c\\u8eab\\u4f53\\u5065\\u5eb7\\u653e\\u5728\\u7b2c\\u4e00\\u4f4d\\u3002\\u201d\\u751f\\u547d\\u91cd\\u4e8e\\u6cf0\\u5c71\\uff0c\\u9632\\u75ab\\u7edd\\u4e0d\\u677e\\u61c8\\uff0c\\u4f01\\u4e1a\\u5e94\\u628a\\u75ab\\u60c5\\u9632\\u63a7\\u5de5\\u4f5c\\u4f5c\\u4e3a\\u6700\\u91cd\\u8981\\u7684\\u4e8b\\u60c5\\u6765\\u6293\\uff0c\\u59cb\\u7ec8\\u4fdd\\u6301\\u8b66\\u6212\\u72b6\\u6001\\uff0c\\u52a0\\u5f3a\\u5bf9\\u5458\\u5de5\\u7684\\u9632\\u75ab\\u653f\\u7b56\\u89e3\\u91ca\\u3001\\u5fc3\\u7406\\u758f\\u5bfc\\u548c\\u5173\\u5fc3\\u5173\\u7231\\uff0c\\u521b\\u5efa\\u533a\\u57df\\u5316\\u5458\\u5de5\\u7ba1\\u7406\\u6a21\\u5f0f\\uff0c\\u5e94\\u4ee5\\u4f01\\u4e1a\\u515a\\u5458\\u4e3a\\u793a\\u8303\\u5f15\\u9886\\uff0c\\u843d\\u5b9e\\u533a\\u57df\\u5316\\u81ea\\u6211\\u7ba1\\u7406\\uff0c\\u89e3\\u51b3\\u4f01\\u4e1a\\u4e00\\u65f6\\u5fd9\\u4e8e\\u751f\\u4ea7\\u800c\\u65e0\\u6cd5\\u6709\\u6548\\u7ba1\\u63a7\\u75ab\\u60c5\\u7684\\u95ee\\u9898\\u3002\\u8fd8\\u5e94\\u901a\\u8fc7\\u5458\\u5de5\\u5fae\\u4fe1\\u7fa4\\uff0c\\u52a0\\u5927\\u5ba3\\u4f20\\u529b\\u5ea6\\uff0c\\u6559\\u80b2\\u5f15\\u5bfc\\u5458\\u5de5\\u4e0d\\u4fe1\\u8c23\\u3001\\u4e0d\\u9020\\u8c23\\u3001\\u4e0d\\u4f20\\u8c23\\uff0c\\u786e\\u4fdd\\u9632\\u75ab\\u5de5\\u4f5c\\u6700\\u65b0\\u8981\\u6c42\\u548c\\u6ce8\\u610f\\u4e8b\\u9879\\u53ca\\u65f6\\u4f20\\u8fbe\\u5230\\u6bcf\\u540d\\u5458\\u5de5\\uff0c\\u8425\\u9020\\u4eba\\u4eba\\u53c2\\u4e0e\\u3001\\u4eba\\u4eba\\u9632\\u63a7\\u7684\\u6d53\\u539a\\u6c1b\\u56f4\\u3002\\n\\n\\u62c5\\u8d77\\u4f01\\u4e1a\\u75ab\\u60c5\\u9632\\u63a7\\u4e3b\\u4f53\\u8d23\\u4efb\\uff0c\\u540c\\u821f\\u5171\\u6d4e\\u4fdd\\u6301\\u7ecf\\u6d4e\\u7a33\\u5b9a\\u8fd0\\u884c\\u3002\\u75ab\\u60c5\\u5bf9\\u4f01\\u4e1a\\u751f\\u4ea7\\u7ecf\\u8425\\u9020\\u6210\\u4e86\\u4e0d\\u826f\\u5f71\\u54cd\\uff0c\\u8d8a\\u662f\\u5728\\u8fd9\\u4e2a\\u65f6\\u5019\\uff0c\\u8d8a\\u8981\\u643a\\u8d77\\u624b\\u6765\\u540c\\u821f\\u5171\\u6d4e\\uff0c\\u5171\\u6e21\\u96be\\u5173\\u3002\\u5e94\\u575a\\u6301\\u75ab\\u60c5\\u9632\\u63a7\\u548c\\u751f\\u4ea7\\u7ecf\\u8425\\u201c\\u4e24\\u624b\\u6293\\u3001\\u4e24\\u4e0d\\u8bef\\u201d\\uff0c\\u628a\\u5931\\u53bb\\u7684\\u65f6\\u95f4\\u62a2\\u56de\\u6765\\uff0c\\u628a\\u8ba2\\u5355\\u548c\\u5ba2\\u6237\\u8bf7\\u56de\\u6765\\uff0c\\u6316\\u6f5c\\u589e\\u6548\\u6fc0\\u53d1\\u4f01\\u4e1a\\u6d3b\\u529b\\uff0c\\u4e3a\\u6253\\u8d62\\u75ab\\u60c5\\u9632\\u63a7\\u963b\\u51fb\\u6218\\u8d21\\u732e\\u529b\\u91cf\\u3002\\n\\n\\u9676\\u6b66\\u5b81\",\n          \"\\u626b\\u63cf\\u4e8c\\u7ef4\\u7801\\u5206\\u4eab\\u5230\\u670b\\u53cb\\u5708\\n\\n\\u542f\\u4fe1\\u5b9d\\u6570\\u636e\\u663e\\u793a\\uff0c5\\u670813\\u65e5\\uff0c\\u5317\\u4eac\\u8f66\\u548c\\u5bb6\\u4fe1\\u606f\\u6280\\u672f\\u6709\\u9650\\u516c\\u53f8\\u53d1\\u751f\\u591a\\u9879\\u5de5\\u5546\\u53d8\\u66f4\\uff0c\\u5176\\u4e2d\\u80a1\\u4e1c\\u65b9\\u9762\\uff0c\\u5317\\u4eac\\u738b\\u79d1\\u79d1\\u6280\\u6709\\u9650\\u516c\\u53f8\\u3001\\u8f66\\u7f8e\\uff08\\u4e0a\\u6d77\\uff09\\u4f01\\u4e1a\\u7ba1\\u7406\\u54a8\\u8be2\\u5408\\u4f19\\u4f01\\u4e1a\\uff08\\u6709\\u9650\\u5408\\u4f19\\uff09\\u3001\\u5b81\\u6ce2\\u6885\\u5c71\\u4fdd\\u7a0e\\u6e2f\\u533a\\u6cf0\\u7fca\\u6295\\u8d44\\u7ba1\\u7406\\u5408\\u4f19\\u4f01\\u4e1a\\uff08\\u6709\\u9650\\u5408\\u4f19\\uff09\\u7b4918\\u5bb6\\u4f01\\u4e1a\\u9000\\u51fa\\u80a1\\u4e1c\\u884c\\u5217\\u3002\\u9000\\u51fa\\u540e\\uff0c\\u5317\\u4eac\\u8f66\\u548c\\u5bb6\\u4fe1\\u606f\\u6280\\u672f\\u6709\\u9650\\u516c\\u53f8\\u4ec5\\u526911\\u4f4d\\u80a1\\u4e1c\\u3002\\n\\n\\u4e14\\u6ce8\\u518c\\u8d44\\u672c\\u7531\\u7ea67.25\\u4ebf\\u5143\\u51cf\\u5c11\\u81f3\\u7ea64.34\\u4ebf\\u5143\\uff0c\\u51cf\\u5c11\\u6ce8\\u518c\\u8d44\\u672c\\u7ea62.91\\u4ebf\\u5143\\u3002\\u53e6\\u5916\\uff0c\\u8d75\\u5929\\u65f8\\u3001\\u8d75\\u6c38\\u3001\\u738b\\u534e\\u4e1c\\u9000\\u51fa\\u8463\\u4e8b\\u884c\\u5217\\u3002\",\n          \"2020 \\u5e74 2\\u6708 1 \\u65e5 \\u661f\\u671f\\u516d 12:45\\n\\n\\u6258\\u5361\\u8036\\u592b\\u603b\\u7edf\\u81f4\\u4fe1\\u4e2d\\u56fd\\u56fd\\u5bb6\\u4e3b\\u5e2d\\u4e60\\u8fd1\\u5e73\\n\\n\\u54c8\\u901a\\u793e/\\u52aa\\u5c14\\u82cf\\u4e39/2\\u67081\\u65e5 \\u2013 \\u54c8\\u8428\\u514b\\u65af\\u5766\\u603b\\u7edf\\u54c8\\u65af\\u7a46-\\u5353\\u739b\\u5c14\\u7279\\u00b7\\u6258\\u5361\\u8036\\u592b\\u5c31\\u65b0\\u578b\\u51a0\\u72b6\\u75c5\\u6bd2\\u611f\\u67d3\\u7684\\u80ba\\u708e\\u75ab\\u60c5\\uff0c\\u81f4\\u4fe1\\u4e2d\\u56fd\\u56fd\\u5bb6\\u4e3b\\u5e2d\\u4e60\\u8fd1\\u5e73\\u3002\\n\\n\\u636e\\u603b\\u7edf\\u5e9c\\u65b0\\u95fb\\u5c40\\u6d88\\u606f\\uff0c\\u6258\\u5361\\u8036\\u592b\\u603b\\u7edf\\u5728\\u81f4\\u4e2d\\u56fd\\u56fd\\u5bb6\\u4e3b\\u5e2d\\u7684\\u4fe1\\u4e2d\\uff0c\\u9ad8\\u5ea6\\u8bc4\\u4ef7\\u4e86\\u4e2d\\u56fd\\u9886\\u5bfc\\u4eba\\u548c\\u4e2d\\u56fd\\u653f\\u5e9c\\u4e3a\\u9632\\u6cbb\\u75ab\\u60c5\\u6269\\u6563\\u800c\\u91c7\\u53d6\\u7684\\u4e00\\u7cfb\\u5217\\u5353\\u6709\\u6210\\u6548\\u7684\\u63aa\\u65bd\\u3002\\n\\n\\u6258\\u5361\\u8036\\u592b\\u603b\\u7edf\\u5f3a\\u8c03\\u6307\\u51fa\\uff0c\\u5982\\u679c\\u4e2d\\u65b9\\u6709\\u6240\\u9700\\u8981\\uff0c\\u54c8\\u8428\\u514b\\u65af\\u5766\\u968f\\u65f6\\u613f\\u610f\\u5c3d\\u53ef\\u80fd\\u7684\\u63d0\\u4f9b\\u529b\\u6240\\u80fd\\u53ca\\u7684\\u4eba\\u9053\\u4e3b\\u4e49\\u63f4\\u52a9\\u3002\\n\\n\\u603b\\u7edf\\u5728\\u4fe1\\u4ef6\\u4e2d\\uff0c\\u8fd8\\u5411\\u4e2d\\u65b9\\u4ecb\\u7ecd\\u4e86\\u54c8\\u8428\\u514b\\u65af\\u5766\\u65b9\\u9762\\u4e3a\\u9632\\u6b62\\u51a0\\u72b6\\u75c5\\u6bd2\\u75ab\\u60c5\\u8fdb\\u5165\\u54c8\\u8428\\u514b\\u65af\\u5766\\u800c\\u91c7\\u53d6\\u7684\\u76f8\\u5173\\u63aa\\u65bd\\u3002\\n\\n\\u3010\\u7f16\\u8bd1\\uff1a\\u6728\\u5408\\u5854\\u5c14\\u00b7\\u6728\\u62c9\\u63d0\\u3011\"\n        ],\n        \"semantic_type\": \"\",\n        \"description\": \"\"\n      }\n    },\n    {\n      \"column\": \"sentence2\",\n      \"properties\": {\n        \"dtype\": \"string\",\n        \"num_unique_values\": 5,\n        \"samples\": [\n          \"\\u674e\\u4e01\\u4e54\\n\\n\\u9762\\u5bf9\\u8fd9\\u6b21\\u65b0\\u4e2d\\u56fd\\u6210\\u7acb\\u4ee5\\u6765\\u5728\\u6211\\u56fd\\u53d1\\u751f\\u7684\\u4f20\\u64ad\\u901f\\u5ea6\\u6700\\u5feb\\u3001\\u611f\\u67d3\\u8303\\u56f4\\u6700\\u5e7f\\u3001\\u9632\\u63a7\\u96be\\u5ea6\\u6700\\u5927\\u7684\\u91cd\\u5927\\u7a81\\u53d1\\u516c\\u5171\\u536b\\u751f\\u4e8b\\u4ef6\\uff0c\\u6211\\u4eec\\u6ca1\\u6709\\u5148\\u8fdb\\u7ecf\\u9a8c\\u53ef\\u5faa\\uff0c\\u4e5f\\u6ca1\\u6709\\u540e\\u8def\\u53ef\\u9000\\uff0c\\u552f\\u6709\\u4e0e\\u4e4b\\u6597\\u4e89\\u5230\\u5e95\\uff0c\\u5f7b\\u5e95\\u527f\\u706d\\u75ab\\u60c5\\uff0c\\u624d\\u80fd\\u4fdd\\u969c14\\u4ebf\\u4eba\\u6c11\\u7fa4\\u4f17\\u751f\\u547d\\u5b89\\u5168\\u548c\\u8eab\\u4f53\\u5065\\u5eb7\\uff0c\\u4e5f\\u624d\\u80fd\\u8ba9\\u7ecf\\u6d4e\\u793e\\u4f1a\\u53d1\\u5c55\\u9a76\\u4e0a\\u201c\\u9ad8\\u901f\\u516c\\u8def\\u201d\\u3002\\n\\n2\\u670826\\u65e5\\uff0c\\u4e2d\\u5171\\u4e2d\\u592e\\u653f\\u6cbb\\u5c40\\u5e38\\u52a1\\u59d4\\u5458\\u4f1a\\u53ec\\u5f00\\u4f1a\\u8bae\\uff0c\\u542c\\u53d6\\u4e2d\\u592e\\u5e94\\u5bf9\\u65b0\\u578b\\u51a0\\u72b6\\u75c5\\u6bd2\\u611f\\u67d3\\u80ba\\u708e\\u75ab\\u60c5\\u5de5\\u4f5c\\u9886\\u5bfc\\u5c0f\\u7ec4\\u6c47\\u62a5\\uff0c\\u5206\\u6790\\u5f53\\u524d\\u75ab\\u60c5\\u5f62\\u52bf\\uff0c\\u7814\\u7a76\\u90e8\\u7f72\\u8fd1\\u671f\\u9632\\u63a7\\u91cd\\u70b9\\u5de5\\u4f5c\\u3002\\u4e60\\u8fd1\\u5e73\\u603b\\u4e66\\u8bb0\\u5f3a\\u8c03\\uff0c\\u8d8a\\u662f\\u5728\\u8fd9\\u4e2a\\u65f6\\u5019\\uff0c\\u8d8a\\u8981\\u52a0\\u5f3a\\u6b63\\u786e\\u5f15\\u5bfc\\uff0c\\u63a8\\u52a8\\u5404\\u65b9\\u9762\\u5207\\u5b9e\\u628a\\u601d\\u60f3\\u548c\\u884c\\u52a8\\u7edf\\u4e00\\u5230\\u515a\\u4e2d\\u592e\\u51b3\\u7b56\\u90e8\\u7f72\\u4e0a\\u6765\\uff0c\\u52a0\\u5f3a\\u75ab\\u60c5\\u9632\\u63a7\\u8fd9\\u6839\\u5f26\\u4e0d\\u80fd\\u677e\\uff0c\\u7ecf\\u6d4e\\u793e\\u4f1a\\u53d1\\u5c55\\u5404\\u9879\\u5de5\\u4f5c\\u8981\\u6293\\u7d27\\u3002\\n\\n\\u65b0\\u51a0\\u80ba\\u708e\\u75ab\\u60c5\\u53d1\\u751f\\u4ee5\\u6765\\uff0c\\u5728\\u5168\\u515a\\u5168\\u519b\\u5168\\u56fd\\u5404\\u65cf\\u4eba\\u6c11\\u7684\\u5171\\u540c\\u52aa\\u529b\\u4e0b\\uff0c\\u5f53\\u524d\\u75ab\\u60c5\\u9632\\u63a7\\u5f62\\u52bf\\u79ef\\u6781\\u5411\\u597d\\u7684\\u6001\\u52bf\\u6b63\\u5728\\u62d3\\u5c55\\u3002\\u4ece\\u533b\\u52a1\\u529b\\u91cf\\u4e0d\\u65ad\\u589e\\u5f3a\\u5230\\u533b\\u62a4\\u7528\\u54c1\\u4f9b\\u7ed9\\u91cf\\u4e0d\\u65ad\\u63d0\\u5347\\uff0c\\u4ece\\u201c\\u5e94\\u6536\\u5c3d\\u6536\\u3001\\u5e94\\u6cbb\\u5c3d\\u6cbb\\u201d\\u5230\\u6536\\u6cbb\\u7387\\u548c\\u6cbb\\u6108\\u7387\\u5927\\u5e45\\u63d0\\u5347\\u3001\\u611f\\u67d3\\u7387\\u548c\\u6b7b\\u4ea1\\u7387\\u660e\\u663e\\u4e0b\\u964d\\uff0c\\u4ece\\u5206\\u533a\\u5206\\u7ea7\\u5236\\u5b9a\\u9632\\u63a7\\u7b56\\u7565\\u5230\\u7edf\\u7b79\\u517c\\u987e\\u5404\\u9879\\u5de5\\u4f5c\\uff0c\\u75ab\\u60c5\\u9632\\u63a7\\u53d6\\u5f97\\u4e86\\u663e\\u8457\\u6210\\u6548\\u3001\\u8fce\\u6765\\u4e86\\u53ef\\u559c\\u53d8\\u5316\\u3002\\u590d\\u5de5\\u590d\\u4ea7\\u3001\\u5b66\\u6821\\u7f51\\u7edc\\u590d\\u8bfe\\u6b63\\u5728\\u671d\\u7740\\u597d\\u7684\\u65b9\\u5411\\u4e0d\\u65ad\\u53d1\\u5c55\\uff0c\\u4f46\\u662f\\u7740\\u773c\\u5f53\\u524d\\u75ab\\u60c5\\u9632\\u63a7\\u5f62\\u52bf\\u548c\\u7ecf\\u6d4e\\u793e\\u4f1a\\u53d1\\u5c55\\u8fd9\\u4e24\\u5927\\u8270\\u5de8\\u4efb\\u52a1\\uff0c\\u75ab\\u60c5\\u9632\\u63a7\\u8fd9\\u6839\\u5f26\\u53ea\\u80fd\\u7ef7\\u7d27\\u4e0d\\u80fd\\u653e\\u677e\\u3002\\n\\n2\\u670823\\u65e5\\uff0c\\u4e60\\u8fd1\\u5e73\\u603b\\u4e66\\u8bb0\\u5728\\u7edf\\u7b79\\u63a8\\u8fdb\\u65b0\\u51a0\\u80ba\\u708e\\u75ab\\u60c5\\u9632\\u63a7\\u548c\\u7ecf\\u6d4e\\u793e\\u4f1a\\u53d1\\u5c55\\u5de5\\u4f5c\\u90e8\\u7f72\\u4f1a\\u4e0a\\u5f3a\\u8c03\\uff0c\\u5404\\u7ea7\\u515a\\u59d4\\u548c\\u653f\\u5e9c\\u5fc5\\u987b\\u9ad8\\u5ea6\\u8b66\\u60d5\\u9ebb\\u75f9\\u601d\\u60f3\\u3001\\u538c\\u6218\\u60c5\\u7eea\\u3001\\u4fa5\\u5e78\\u5fc3\\u7406\\u3001\\u677e\\u52b2\\u5fc3\\u6001\\uff0c\\u7ee7\\u7eed\\u6beb\\u4e0d\\u653e\\u677e\\u6293\\u7d27\\u6293\\u5b9e\\u6293\\u7ec6\\u5404\\u9879\\u9632\\u63a7\\u5de5\\u4f5c\\uff0c\\u4e0d\\u83b7\\u5168\\u80dc\\u51b3\\u4e0d\\u8f7b\\u8a00\\u6210\\u529f\\u3002\\u601d\\u60f3\\u677e\\u4e00\\u5c3a\\uff0c\\u884c\\u52a8\\u677e\\u4e00\\u4e08\\u3002\\u59cb\\u7ec8\\u7ef7\\u7d27\\u75ab\\u60c5\\u9632\\u63a7\\u8fd9\\u6839\\u5f26\\uff0c\\u624d\\u80fd\\u63a8\\u52a8\\u75ab\\u60c5\\u9632\\u63a7\\u548c\\u7ecf\\u6d4e\\u53d1\\u5c55\\u4e24\\u624b\\u6293\\u3001\\u4e24\\u4e0d\\u8bef\\u3001\\u4e24\\u4fc3\\u8fdb\\u3002\\u9636\\u6bb5\\u6027\\u6210\\u7ee9\\u4e0d\\u4ee3\\u8868\\u6700\\u7ec8\\u80dc\\u5229\\uff0c\\u5fc5\\u987b\\u6e05\\u9192\\u5730\\u8ba4\\u8bc6\\u5230\\uff0c\\u5f53\\u524d\\u75ab\\u60c5\\u9632\\u63a7\\u5de5\\u4f5c\\u6b63\\u5904\\u4e8e\\u6700\\u5403\\u52b2\\u7684\\u5173\\u952e\\u9636\\u6bb5\\uff0c\\u63a5\\u4e0b\\u6765\\uff0c\\u552f\\u6709\\u4fdd\\u6301\\u201c\\u54ac\\u5b9a\\u9752\\u5c71\\u4e0d\\u653e\\u677e\\u201d\\u7684\\u97e7\\u52b2\\u3001\\u201c\\u4e0d\\u7834\\u697c\\u5170\\u7ec8\\u4e0d\\u8fd8\\u201d\\u7684\\u62fc\\u52b2\\uff0c\\u624d\\u80fd\\u6253\\u8d62\\u8fd9\\u573a\\u75ab\\u60c5\\u9632\\u63a7\\u7684\\u4eba\\u6c11\\u6218\\u4e89\\u3001\\u603b\\u4f53\\u6218\\u3001\\u963b\\u51fb\\u6218\\u3002\\n\\n\\u8fde\\u65e5\\u6765\\uff0c\\u4e0d\\u5c11\\u5730\\u533a\\u6309\\u7167\\u5206\\u533a\\u5206\\u7ea7\\u8981\\u6c42\\u7eb7\\u7eb7\\u964d\\u4f4e\\u4e86\\u5e94\\u6025\\u54cd\\u5e94\\u7b49\\u7ea7\\uff0c\\u54cd\\u5e94\\u7b49\\u7ea7\\u964d\\u4e0b\\u6765\\u4e86\\uff0c\\u5e76\\u4e0d\\u610f\\u5473\\u7740\\u9690\\u60a3\\u5c31\\u51cf\\u5c11\\u4e86\\uff0c\\u4e5f\\u4e0d\\u610f\\u5473\\u7740\\u8d23\\u4efb\\u5c31\\u51cf\\u8f7b\\u4e86\\u3002\\u9664\\u4e86\\u6e56\\u5317\\u7701\\u548c\\u6b66\\u6c49\\u5e02\\u75ab\\u60c5\\u5f62\\u52bf\\u4f9d\\u7136\\u590d\\u6742\\u4e25\\u5cfb\\uff0c\\u5176\\u4ed6\\u6709\\u5173\\u5730\\u533a\\u7684\\u53cd\\u5f39\\u98ce\\u9669\\u4e5f\\u4e0d\\u53ef\\u5ffd\\u89c6\\u3002\\u5168\\u56fd\\u75ab\\u60c5\\u9632\\u63a7\\u662f\\u201c\\u4e00\\u76d8\\u68cb\\u201d\\uff0c\\u4e00\\u6b65\\u4e0d\\u614e\\u3001\\u6ee1\\u76d8\\u7686\\u8f93\\u3002\\u540c\\u65f6\\uff0c\\u75ab\\u60c5\\u8513\\u5ef6\\u6269\\u6563\\u7684\\u7279\\u70b9\\u544a\\u8beb\\u6211\\u4eec\\uff0c\\u5343\\u91cc\\u4e4b\\u5824\\u5f80\\u5f80\\u6bc1\\u4e8e\\u8681\\u7a74\\uff0c\\u4e0d\\u83b7\\u5168\\u80dc\\u51b3\\u4e0d\\u6536\\u5175\\u3002\\u52a0\\u5f3a\\u75ab\\u60c5\\u9632\\u63a7\\u8fd9\\u6839\\u5f26\\uff0c\\u65e2\\u662f\\u57fa\\u4e8e\\u5168\\u56fd\\u9632\\u63a7\\u5f62\\u52bf\\u7684\\u603b\\u4f53\\u8003\\u91cf\\uff0c\\u4e5f\\u662f\\u5bf9\\u6293\\u7d27\\u590d\\u5de5\\u590d\\u4ea7\\u7684\\u7edf\\u7b79\\u517c\\u987e\\u3002\\u8fd9\\u6839\\u5f26\\u4e00\\u65e6\\u653e\\u677e\\u4e0b\\u6765\\uff0c\\u5c31\\u6781\\u6709\\u53ef\\u80fd\\u7ed9\\u75ab\\u60c5\\u8513\\u5ef6\\u6269\\u6563\\u9020\\u6210\\u53ef\\u4e58\\u4e4b\\u673a\\uff0c\\u8fdb\\u800c\\u5bf9\\u7fa4\\u4f17\\u5b89\\u5168\\u548c\\u7ecf\\u6d4e\\u53d1\\u5c55\\u9020\\u6210\\u518d\\u6b21\\u51b2\\u51fb\\u3002\\n\\n\\u5f3a\\u5316\\u75ab\\u60c5\\u9632\\u63a7\\u8fd9\\u6839\\u5f26\\uff0c\\u8981\\u6293\\u4f4f\\u9886\\u5bfc\\u5e72\\u90e8\\u8fd9\\u4e2a\\u201c\\u5173\\u952e\\u5c11\\u6570\\u201d\\uff0c\\u52a0\\u5f3a\\u76d1\\u7763\\u68c0\\u67e5\\uff0c\\u4e25\\u8083\\u95ee\\u8d23\\u8ffd\\u8d23\\uff0c\\u6beb\\u4e0d\\u653e\\u677e\\u5730\\u6293\\u597d\\u75ab\\u60c5\\u9632\\u63a7\\u5de5\\u4f5c\\uff0c\\u4e0d\\u7b49\\u4e0d\\u9760\\u3001\\u6562\\u4e8e\\u62c5\\u5f53\\u3001\\u4e3b\\u52a8\\u4f5c\\u4e3a\\u3002\\u5404\\u5730\\u8981\\u53ca\\u65f6\\u5b8c\\u5584\\u9632\\u63a7\\u7b56\\u7565\\u548c\\u63aa\\u65bd\\uff0c\\u7edf\\u7b79\\u8c03\\u52a8\\u4e00\\u5207\\u53ef\\u5229\\u7528\\u7684\\u8d44\\u6e90\\u529b\\u91cf\\uff0c\\u575a\\u6301\\u95ee\\u9898\\u5bfc\\u5411\\uff0c\\u5728\\u7cbe\\u51c6\\u4e0a\\u4e0b\\u529f\\u592b\\uff0c\\u5728\\u52a1\\u5b9e\\u4e0a\\u4f7f\\u72e0\\u52b2\\uff0c\\u5728\\u6548\\u679c\\u4e0a\\u63d0\\u8d28\\u91cf\\uff0c\\u4e0d\\u65ad\\u5de9\\u56fa\\u6218\\u679c\\u3001\\u6269\\u5927\\u6218\\u7ee9\\u3002\\u5728\\u6293\\u597d\\u75ab\\u60c5\\u9632\\u63a7\\u7684\\u57fa\\u7840\\u4e0a\\uff0c\\u8981\\u4e0d\\u5931\\u65f6\\u673a\\u5730\\u517c\\u987e\\u7ecf\\u6d4e\\u793e\\u4f1a\\u53d1\\u5c55\\uff0c\\u6fc0\\u53d1\\u751f\\u4ea7\\u6d3b\\u529b\\u3001\\u6062\\u590d\\u751f\\u6d3b\\u79e9\\u5e8f\\u3001\\u4fdd\\u969c\\u548c\\u6539\\u5584\\u6c11\\u751f\\uff0c\\u786e\\u4fdd\\u5982\\u671f\\u5b8c\\u6210\\u515a\\u4e2d\\u592e\\u786e\\u5b9a\\u7684\\u5404\\u9879\\u76ee\\u6807\\u4efb\\u52a1\\u3002\",\n          \"\\u5317\\u4eac\\u8f66\\u548c\\u5bb6\\uff08\\u7406\\u60f3\\u6c7d\\u8f66\\uff09\\u6ce8\\u518c\\u8d44\\u672c\\u51cf\\u5c11\\u8fd13\\u4ebf\\uff0c3\\u540d\\u8463\\u4e8b\\u53ca18\\u4f4d\\u80a1\\u4e1c\\u9000\\u51fa\\n\\nDoNews5\\u670814\\u65e5\\u6d88\\u606f\\uff08\\u8bb0\\u8005 \\u5434\\u4e3d\\uff09\\u5929\\u773c\\u67e5\\u6570\\u636e\\u663e\\u793a\\uff0c5\\u670813\\u65e5\\uff0c\\u5317\\u4eac\\u8f66\\u548c\\u5bb6\\u4fe1\\u606f\\u6280\\u672f\\u6709\\u9650\\u516c\\u53f8\\u53d1\\u751f\\u591a\\u9879\\u5de5\\u5546\\u53d8\\u66f4\\uff1a\\u5176\\u6ce8\\u518c\\u8d44\\u672c\\u4ece\\u7ea67.3\\u4ebf\\u5143\\u51cf\\u5c11\\u81f3\\u7ea64.3\\u4ebf\\u5143\\uff0c\\u51cf\\u5c11\\u8fd13\\u4ebf\\u5143\\uff1b\\u8d75\\u5929\\u65f8\\u3001\\u8d75\\u6c38\\u3001\\u738b\\u534e\\u4e1c\\u9000\\u51fa\\u8463\\u4e8b\\u884c\\u5217\\uff1b\\u5171\\u670918\\u4f4d\\u6295\\u8d44\\u4eba\\u9000\\u51fa\\uff0c\\u5305\\u62ec\\u4e2d\\u91d1\\u8d44\\u672c\\u7684\\u53a6\\u95e8\\u5e02\\u6d77\\u4e1d\\u542f\\u76df\\u80a1\\u6743\\u6295\\u8d44\\u57fa\\u91d1\\u5408\\u4f19\\u4f01\\u4e1a\\uff08\\u6709\\u9650\\u5408\\u4f19\\uff09\\u3001\\u5317\\u4eac\\u738b\\u79d1\\u79d1\\u6280\\u6709\\u9650\\u516c\\u53f8\\u3001\\u5317\\u4eac\\u5174\\u9510\\u672a\\u6765\\u79d1\\u6280\\u53d1\\u5c55\\u6709\\u9650\\u516c\\u53f8\\uff0c\\u53ca\\u7f8e\\u56e2\\u53c2\\u80a1\\u7684\\u8f66\\u7f8e\\uff08\\u4e0a\\u6d77\\uff09\\u4f01\\u4e1a\\u7ba1\\u7406\\u54a8\\u8be2\\u5408\\u4f19\\u4f01\\u4e1a\\uff08\\u6709\\u9650\\u5408\\u4f19\\uff09\\u7b49\\u3002\\u6b64\\u5916\\uff0c\\u4f01\\u4e1a\\u7c7b\\u578b\\u7531\\u5176\\u4ed6\\u6709\\u9650\\u8d23\\u4efb\\u516c\\u53f8\\uff0c\\u53d8\\u66f4\\u4e3a\\u6709\\u9650\\u8d23\\u4efb\\u516c\\u53f8\\uff08\\u81ea\\u7136\\u4eba\\u6295\\u8d44\\u6216\\u63a7\\u80a1\\uff09\\u3002\\u636e\\u7406\\u60f3\\u6c7d\\u8f66\\u5b98\\u65b9\\u5fae\\u4fe1\\u516c\\u4f17\\u53f7\\u62ab\\u9732\\uff0c\\u5176\\u8d26\\u53f7\\u4e3b\\u4f53\\u5373\\u4e3a\\u5317\\u4eac\\u8f66\\u548c\\u5bb6\\u4fe1\\u606f\\u6280\\u672f\\u6709\\u9650\\u516c\\u53f8\\u3002\\n\\n\\n\\n\\u8d44\\u6599\\u663e\\u793a\\uff0c\\u5317\\u4eac\\u8f66\\u548c\\u5bb6\\u4fe1\\u606f\\u6280\\u672f\\u6709\\u9650\\u516c\\u53f8\\u6210\\u7acb\\u4e8e2015\\u5e744\\u6708\\uff0c\\u6cd5\\u5b9a\\u4ee3\\u8868\\u4eba\\u4e3a\\u516c\\u53f8\\u521b\\u59cb\\u4eba\\u517c\\u8463\\u4e8b\\u957f\\u674e\\u60f3\\u3002\\u7ecf\\u8425\\u8303\\u56f4\\u5305\\u62ec\\u6280\\u672f\\u5f00\\u53d1\\u3001\\u6280\\u672f\\u8f6c\\u8ba9\\u3001\\u6280\\u672f\\u54a8\\u8be2\\u3001\\u6280\\u672f\\u670d\\u52a1\\uff1b\\u4f1a\\u8bae\\u670d\\u52a1\\uff1b\\u627f\\u529e\\u5c55\\u89c8\\u5c55\\u793a\\u6d3b\\u52a8\\uff1b\\u6c7d\\u8f66\\u79df\\u8d41\\u7b49\\u3002\\u5929\\u773c\\u67e5\\u80a1\\u4e1c\\u4fe1\\u606f\\u663e\\u793a\\uff0c\\u76ee\\u524d\\uff0c\\u5176\\u5de5\\u5546\\u7cfb\\u7edf\\u767b\\u8bb0\\u4e2d\\u7684\\u6700\\u5927\\u80a1\\u4e1c\\u4e3a\\u674e\\u60f3\\u672c\\u4eba\\uff0c\\u6301\\u80a1\\u6bd4\\u4f8b\\u4e3a61.5%\\u3002\\u674e\\u60f3\\u4ea6\\u4e3a\\u516c\\u53f8\\u7591\\u4f3c\\u5b9e\\u9645\\u63a7\\u5236\\u4eba\\u3002\\uff08\\u5b8c\\uff09\",\n          \"2020 \\u5e74 2\\u6708 3 \\u65e5 \\u661f\\u671f\\u4e00 19:31\\n\\n\\u5409\\u5c14\\u5409\\u65af\\u5766\\u603b\\u7edf\\u5c31\\u4ece\\u6b66\\u6c49\\u64a4\\u56de\\u4fa8\\u6c11\\u4e00\\u4e8b\\u5411\\u54c8\\u8428\\u514b\\u65af\\u5766\\u8868\\u793a\\u611f\\u8c22\\n\\n\\u54c8\\u901a\\u793e/\\u52aa\\u5c14\\u82cf\\u4e39/2\\u67083\\u65e5 --\\u54c8\\u8428\\u514b\\u65af\\u5766\\u603b\\u7edf\\u54c8\\u65af\\u7a46-\\u5353\\u739b\\u5c14\\u7279\\u00b7\\u6258\\u5361\\u8036\\u592b3\\u65e5\\u4e0e\\u5409\\u5c14\\u5409\\u65af\\u5766\\u603b\\u7edf\\u7d22\\u4f26\\u62dc\\u2022\\u5409\\u6069\\u522b\\u79d1\\u592b\\u901a\\u7535\\u8bdd\\u3002\\n\\n\\u636e\\u603b\\u7edf\\u5e9c\\u65b0\\u95fb\\u5c40\\u6d88\\u606f\\uff0c\\u901a\\u8bdd\\u4e2d\\uff0c\\u53cc\\u65b9\\u5c31\\u4e24\\u56fd\\u6218\\u7565\\u5408\\u4f5c\\u4f19\\u4f34\\u5173\\u7cfb\\u548c\\u76df\\u56fd\\u5173\\u7cfb\\u7684\\u73b0\\u72b6\\u548c\\u53d1\\u5c55\\u524d\\u666f\\u8fdb\\u884c\\u4e86\\u8ba8\\u8bba\\u3002\\n\\n\\u540c\\u65f6\\uff0c\\u53cc\\u65b9\\u6307\\u51fa\\uff0c\\u9700\\u8981\\u79ef\\u6781\\u843d\\u5b9e\\u54c8\\u8428\\u514b\\u65af\\u5766\\u603b\\u7edf\\u4e8e2019\\u5e7411\\u6708\\u5bf9\\u5409\\u5c14\\u5409\\u65af\\u5766\\u8fdb\\u884c\\u56fd\\u4e8b\\u8bbf\\u95ee\\u671f\\u95f4\\u4e24\\u56fd\\u5143\\u9996\\u8fbe\\u6210\\u7684\\u91cd\\u8981\\u5171\\u8bc6\\u3002\\n\\n\\u6b64\\u5916\\uff0c\\u53cc\\u65b9\\u5c31\\u7b80\\u5316\\u6d77\\u5173\\u624b\\u7eed\\uff0c\\u5b9e\\u73b0\\u66f4\\u4fbf\\u6377\\u7684\\u8d27\\u7269\\u8fd0\\u8f93\\u65b9\\u9762\\u5efa\\u7acb\\u6570\\u5b57\\u6280\\u672f\\u5408\\u4f5c\\u8fdb\\u884c\\u4e86\\u63a2\\u8ba8\\u3002\\n\\n\\u901a\\u8bdd\\u671f\\u95f4\\uff0c\\u5409\\u5c14\\u5409\\u65af\\u5766\\u603b\\u7edf\\u5bf9\\u6258\\u5361\\u8036\\u592b\\u603b\\u7edf\\u5c31\\u4ece\\u4e2d\\u56fd\\u6b66\\u6c49\\u64a4\\u56de\\u4fa8\\u6c11\\u65b9\\u9762\\uff0c\\u5bf9\\u5409\\u5c14\\u5409\\u65af\\u5766\\u7ed9\\u4e88\\u7684\\u5e2e\\u52a9\\u8868\\u793a\\u4e86\\u611f\\u8c22\\u3002\\n\\n\\u3010\\u7f16\\u8bd1\\uff1a\\u963f\\u4f9d\\u6ce2\\u5854\\u3011\"\n        ],\n        \"semantic_type\": \"\",\n        \"description\": \"\"\n      }\n    },\n    {\n      \"column\": \"lang\",\n      \"properties\": {\n        \"dtype\": \"category\",\n        \"num_unique_values\": 1,\n        \"samples\": [\n          \"zh\"\n        ],\n        \"semantic_type\": \"\",\n        \"description\": \"\"\n      }\n    }\n  ]\n}"
            }
          },
          "metadata": {},
          "execution_count": 8
        }
      ],
      "source": [
        "test_df.tail()"
      ]
    },
    {
      "cell_type": "code",
      "execution_count": 9,
      "metadata": {
        "colab": {
          "base_uri": "https://localhost:8080/"
        },
        "id": "RRgWGhSV32qZ",
        "outputId": "8868ba31-42ec-4979-c58e-e140f0f89d54"
      },
      "outputs": [
        {
          "output_type": "stream",
          "name": "stdout",
          "text": [
            "lang\n",
            "en       1737\n",
            "de        756\n",
            "es        561\n",
            "de-en     535\n",
            "tr        390\n",
            "pl        309\n",
            "ar        262\n",
            "fr         72\n",
            "Name: count, dtype: int64\n",
            "lang\n",
            "zh       637\n",
            "de       514\n",
            "it       407\n",
            "es-en    365\n",
            "ru       265\n",
            "es-it    212\n",
            "tr       208\n",
            "es       200\n",
            "en       197\n",
            "ar       193\n",
            "pl       182\n",
            "zh-en    161\n",
            "de-en    158\n",
            "fr       101\n",
            "de-fr     74\n",
            "pl-en     48\n",
            "de-pl     28\n",
            "fr-pl      8\n",
            "Name: count, dtype: int64\n"
          ]
        }
      ],
      "source": [
        "print(train_df[\"lang\"].value_counts())\n",
        "print(test_df[\"lang\"].value_counts())"
      ]
    },
    {
      "cell_type": "code",
      "execution_count": 10,
      "metadata": {
        "colab": {
          "base_uri": "https://localhost:8080/"
        },
        "id": "_GP5i5ev4_ul",
        "outputId": "b39f2972-4feb-4aeb-da2b-a58b803519fe"
      },
      "outputs": [
        {
          "output_type": "stream",
          "name": "stdout",
          "text": [
            "Updated train_df size: (5171, 5)\n",
            "Updated test_df size: (3409, 5)\n"
          ]
        }
      ],
      "source": [
        "import pandas as pd\n",
        "\n",
        "missing_languages = ['zh', 'it', 'es-en', 'ru', 'es-it', 'zh-en', 'de-fr', 'pl-en', 'de-pl', 'fr-pl']\n",
        "\n",
        "test_df_copy = test_df.copy()\n",
        "shifted_rows = pd.DataFrame()\n",
        "\n",
        "for lang in missing_languages:\n",
        "    lang_rows = test_df_copy[test_df_copy['lang'] == lang]\n",
        "\n",
        "    num_to_shift = int(len(lang_rows) * 0.25)\n",
        "    shifted = lang_rows.sample(n=num_to_shift, random_state=42)\n",
        "\n",
        "    test_df_copy = test_df_copy.drop(shifted.index)\n",
        "    shifted_rows = pd.concat([shifted_rows, shifted])\n",
        "\n",
        "train_df_copy = pd.concat([train_df, shifted_rows])\n",
        "\n",
        "print(\"Updated train_df size:\", train_df_copy.shape)\n",
        "print(\"Updated test_df size:\", test_df_copy.shape)"
      ]
    },
    {
      "cell_type": "code",
      "execution_count": 11,
      "metadata": {
        "colab": {
          "base_uri": "https://localhost:8080/"
        },
        "id": "89FrZLFM-lT7",
        "outputId": "e5f7fd1d-195b-41ce-c4ff-893fcdcfc8d6"
      },
      "outputs": [
        {
          "output_type": "stream",
          "name": "stdout",
          "text": [
            "lang\n",
            "en       1737\n",
            "de        756\n",
            "es        561\n",
            "de-en     535\n",
            "tr        390\n",
            "pl        309\n",
            "ar        262\n",
            "zh        159\n",
            "it        101\n",
            "es-en      91\n",
            "fr         72\n",
            "ru         66\n",
            "es-it      53\n",
            "zh-en      40\n",
            "de-fr      18\n",
            "pl-en      12\n",
            "de-pl       7\n",
            "fr-pl       2\n",
            "Name: count, dtype: int64\n",
            "lang\n",
            "de       514\n",
            "zh       478\n",
            "it       306\n",
            "es-en    274\n",
            "tr       208\n",
            "es       200\n",
            "ru       199\n",
            "en       197\n",
            "ar       193\n",
            "pl       182\n",
            "es-it    159\n",
            "de-en    158\n",
            "zh-en    121\n",
            "fr       101\n",
            "de-fr     56\n",
            "pl-en     36\n",
            "de-pl     21\n",
            "fr-pl      6\n",
            "Name: count, dtype: int64\n"
          ]
        }
      ],
      "source": [
        "print(train_df_copy[\"lang\"].value_counts())\n",
        "print(test_df_copy[\"lang\"].value_counts())"
      ]
    },
    {
      "cell_type": "code",
      "execution_count": 12,
      "metadata": {
        "id": "iYyOkm1tSE2Q"
      },
      "outputs": [],
      "source": [
        "# Remove rows where lang == \"en\". As english is already a high resource language and has been trained on so many models.\n",
        "train_df_new = train_df_copy[train_df_copy[\"lang\"] != \"en\"]\n",
        "test_df_new = test_df_copy[test_df_copy[\"lang\"] != \"en\"]\n",
        "\n",
        "train_df_new = train_df_new.reset_index(drop=True)\n",
        "test_df_new = test_df_new.reset_index(drop=True)"
      ]
    },
    {
      "cell_type": "code",
      "execution_count": 13,
      "metadata": {
        "colab": {
          "base_uri": "https://localhost:8080/"
        },
        "id": "l7ALBPDMSegt",
        "outputId": "c3a59393-0994-4d3d-bde4-17911a5b3a73"
      },
      "outputs": [
        {
          "output_type": "stream",
          "name": "stdout",
          "text": [
            "lang\n",
            "de       756\n",
            "es       561\n",
            "de-en    535\n",
            "tr       390\n",
            "pl       309\n",
            "ar       262\n",
            "zh       159\n",
            "it       101\n",
            "es-en     91\n",
            "fr        72\n",
            "ru        66\n",
            "es-it     53\n",
            "zh-en     40\n",
            "de-fr     18\n",
            "pl-en     12\n",
            "de-pl      7\n",
            "fr-pl      2\n",
            "Name: count, dtype: int64\n",
            "lang\n",
            "de       514\n",
            "zh       478\n",
            "it       306\n",
            "es-en    274\n",
            "tr       208\n",
            "es       200\n",
            "ru       199\n",
            "ar       193\n",
            "pl       182\n",
            "es-it    159\n",
            "de-en    158\n",
            "zh-en    121\n",
            "fr       101\n",
            "de-fr     56\n",
            "pl-en     36\n",
            "de-pl     21\n",
            "fr-pl      6\n",
            "Name: count, dtype: int64\n"
          ]
        }
      ],
      "source": [
        "print(train_df_new[\"lang\"].value_counts())\n",
        "print(test_df_new[\"lang\"].value_counts())"
      ]
    },
    {
      "cell_type": "code",
      "execution_count": 14,
      "metadata": {
        "colab": {
          "base_uri": "https://localhost:8080/"
        },
        "id": "Yyr3iREb-pxd",
        "outputId": "ce80c741-dd72-4021-89a3-e20d2c0e6162"
      },
      "outputs": [
        {
          "output_type": "stream",
          "name": "stdout",
          "text": [
            "Requirement already satisfied: transformers in /usr/local/lib/python3.11/dist-packages (4.51.3)\n",
            "Requirement already satisfied: torch in /usr/local/lib/python3.11/dist-packages (2.6.0+cu124)\n",
            "Requirement already satisfied: sentencepiece in /usr/local/lib/python3.11/dist-packages (0.2.0)\n",
            "Requirement already satisfied: filelock in /usr/local/lib/python3.11/dist-packages (from transformers) (3.18.0)\n",
            "Requirement already satisfied: huggingface-hub<1.0,>=0.30.0 in /usr/local/lib/python3.11/dist-packages (from transformers) (0.30.2)\n",
            "Requirement already satisfied: numpy>=1.17 in /usr/local/lib/python3.11/dist-packages (from transformers) (2.0.2)\n",
            "Requirement already satisfied: packaging>=20.0 in /usr/local/lib/python3.11/dist-packages (from transformers) (24.2)\n",
            "Requirement already satisfied: pyyaml>=5.1 in /usr/local/lib/python3.11/dist-packages (from transformers) (6.0.2)\n",
            "Requirement already satisfied: regex!=2019.12.17 in /usr/local/lib/python3.11/dist-packages (from transformers) (2024.11.6)\n",
            "Requirement already satisfied: requests in /usr/local/lib/python3.11/dist-packages (from transformers) (2.32.3)\n",
            "Requirement already satisfied: tokenizers<0.22,>=0.21 in /usr/local/lib/python3.11/dist-packages (from transformers) (0.21.1)\n",
            "Requirement already satisfied: safetensors>=0.4.3 in /usr/local/lib/python3.11/dist-packages (from transformers) (0.5.3)\n",
            "Requirement already satisfied: tqdm>=4.27 in /usr/local/lib/python3.11/dist-packages (from transformers) (4.67.1)\n",
            "Requirement already satisfied: typing-extensions>=4.10.0 in /usr/local/lib/python3.11/dist-packages (from torch) (4.13.2)\n",
            "Requirement already satisfied: networkx in /usr/local/lib/python3.11/dist-packages (from torch) (3.4.2)\n",
            "Requirement already satisfied: jinja2 in /usr/local/lib/python3.11/dist-packages (from torch) (3.1.6)\n",
            "Requirement already satisfied: fsspec in /usr/local/lib/python3.11/dist-packages (from torch) (2025.3.0)\n",
            "Collecting nvidia-cuda-nvrtc-cu12==12.4.127 (from torch)\n",
            "  Downloading nvidia_cuda_nvrtc_cu12-12.4.127-py3-none-manylinux2014_x86_64.whl.metadata (1.5 kB)\n",
            "Collecting nvidia-cuda-runtime-cu12==12.4.127 (from torch)\n",
            "  Downloading nvidia_cuda_runtime_cu12-12.4.127-py3-none-manylinux2014_x86_64.whl.metadata (1.5 kB)\n",
            "Collecting nvidia-cuda-cupti-cu12==12.4.127 (from torch)\n",
            "  Downloading nvidia_cuda_cupti_cu12-12.4.127-py3-none-manylinux2014_x86_64.whl.metadata (1.6 kB)\n",
            "Collecting nvidia-cudnn-cu12==9.1.0.70 (from torch)\n",
            "  Downloading nvidia_cudnn_cu12-9.1.0.70-py3-none-manylinux2014_x86_64.whl.metadata (1.6 kB)\n",
            "Collecting nvidia-cublas-cu12==12.4.5.8 (from torch)\n",
            "  Downloading nvidia_cublas_cu12-12.4.5.8-py3-none-manylinux2014_x86_64.whl.metadata (1.5 kB)\n",
            "Collecting nvidia-cufft-cu12==11.2.1.3 (from torch)\n",
            "  Downloading nvidia_cufft_cu12-11.2.1.3-py3-none-manylinux2014_x86_64.whl.metadata (1.5 kB)\n",
            "Collecting nvidia-curand-cu12==10.3.5.147 (from torch)\n",
            "  Downloading nvidia_curand_cu12-10.3.5.147-py3-none-manylinux2014_x86_64.whl.metadata (1.5 kB)\n",
            "Collecting nvidia-cusolver-cu12==11.6.1.9 (from torch)\n",
            "  Downloading nvidia_cusolver_cu12-11.6.1.9-py3-none-manylinux2014_x86_64.whl.metadata (1.6 kB)\n",
            "Collecting nvidia-cusparse-cu12==12.3.1.170 (from torch)\n",
            "  Downloading nvidia_cusparse_cu12-12.3.1.170-py3-none-manylinux2014_x86_64.whl.metadata (1.6 kB)\n",
            "Requirement already satisfied: nvidia-cusparselt-cu12==0.6.2 in /usr/local/lib/python3.11/dist-packages (from torch) (0.6.2)\n",
            "Requirement already satisfied: nvidia-nccl-cu12==2.21.5 in /usr/local/lib/python3.11/dist-packages (from torch) (2.21.5)\n",
            "Requirement already satisfied: nvidia-nvtx-cu12==12.4.127 in /usr/local/lib/python3.11/dist-packages (from torch) (12.4.127)\n",
            "Collecting nvidia-nvjitlink-cu12==12.4.127 (from torch)\n",
            "  Downloading nvidia_nvjitlink_cu12-12.4.127-py3-none-manylinux2014_x86_64.whl.metadata (1.5 kB)\n",
            "Requirement already satisfied: triton==3.2.0 in /usr/local/lib/python3.11/dist-packages (from torch) (3.2.0)\n",
            "Requirement already satisfied: sympy==1.13.1 in /usr/local/lib/python3.11/dist-packages (from torch) (1.13.1)\n",
            "Requirement already satisfied: mpmath<1.4,>=1.1.0 in /usr/local/lib/python3.11/dist-packages (from sympy==1.13.1->torch) (1.3.0)\n",
            "Requirement already satisfied: MarkupSafe>=2.0 in /usr/local/lib/python3.11/dist-packages (from jinja2->torch) (3.0.2)\n",
            "Requirement already satisfied: charset-normalizer<4,>=2 in /usr/local/lib/python3.11/dist-packages (from requests->transformers) (3.4.1)\n",
            "Requirement already satisfied: idna<4,>=2.5 in /usr/local/lib/python3.11/dist-packages (from requests->transformers) (3.10)\n",
            "Requirement already satisfied: urllib3<3,>=1.21.1 in /usr/local/lib/python3.11/dist-packages (from requests->transformers) (2.4.0)\n",
            "Requirement already satisfied: certifi>=2017.4.17 in /usr/local/lib/python3.11/dist-packages (from requests->transformers) (2025.4.26)\n",
            "Downloading nvidia_cublas_cu12-12.4.5.8-py3-none-manylinux2014_x86_64.whl (363.4 MB)\n",
            "\u001b[2K   \u001b[90m━━━━━━━━━━━━━━━━━━━━━━━━━━━━━━━━━━━━━━━━\u001b[0m \u001b[32m363.4/363.4 MB\u001b[0m \u001b[31m4.1 MB/s\u001b[0m eta \u001b[36m0:00:00\u001b[0m\n",
            "\u001b[?25hDownloading nvidia_cuda_cupti_cu12-12.4.127-py3-none-manylinux2014_x86_64.whl (13.8 MB)\n",
            "\u001b[2K   \u001b[90m━━━━━━━━━━━━━━━━━━━━━━━━━━━━━━━━━━━━━━━━\u001b[0m \u001b[32m13.8/13.8 MB\u001b[0m \u001b[31m112.4 MB/s\u001b[0m eta \u001b[36m0:00:00\u001b[0m\n",
            "\u001b[?25hDownloading nvidia_cuda_nvrtc_cu12-12.4.127-py3-none-manylinux2014_x86_64.whl (24.6 MB)\n",
            "\u001b[2K   \u001b[90m━━━━━━━━━━━━━━━━━━━━━━━━━━━━━━━━━━━━━━━━\u001b[0m \u001b[32m24.6/24.6 MB\u001b[0m \u001b[31m88.3 MB/s\u001b[0m eta \u001b[36m0:00:00\u001b[0m\n",
            "\u001b[?25hDownloading nvidia_cuda_runtime_cu12-12.4.127-py3-none-manylinux2014_x86_64.whl (883 kB)\n",
            "\u001b[2K   \u001b[90m━━━━━━━━━━━━━━━━━━━━━━━━━━━━━━━━━━━━━━━━\u001b[0m \u001b[32m883.7/883.7 kB\u001b[0m \u001b[31m59.9 MB/s\u001b[0m eta \u001b[36m0:00:00\u001b[0m\n",
            "\u001b[?25hDownloading nvidia_cudnn_cu12-9.1.0.70-py3-none-manylinux2014_x86_64.whl (664.8 MB)\n",
            "\u001b[2K   \u001b[90m━━━━━━━━━━━━━━━━━━━━━━━━━━━━━━━━━━━━━━━━\u001b[0m \u001b[32m664.8/664.8 MB\u001b[0m \u001b[31m2.7 MB/s\u001b[0m eta \u001b[36m0:00:00\u001b[0m\n",
            "\u001b[?25hDownloading nvidia_cufft_cu12-11.2.1.3-py3-none-manylinux2014_x86_64.whl (211.5 MB)\n",
            "\u001b[2K   \u001b[90m━━━━━━━━━━━━━━━━━━━━━━━━━━━━━━━━━━━━━━━━\u001b[0m \u001b[32m211.5/211.5 MB\u001b[0m \u001b[31m5.6 MB/s\u001b[0m eta \u001b[36m0:00:00\u001b[0m\n",
            "\u001b[?25hDownloading nvidia_curand_cu12-10.3.5.147-py3-none-manylinux2014_x86_64.whl (56.3 MB)\n",
            "\u001b[2K   \u001b[90m━━━━━━━━━━━━━━━━━━━━━━━━━━━━━━━━━━━━━━━━\u001b[0m \u001b[32m56.3/56.3 MB\u001b[0m \u001b[31m17.9 MB/s\u001b[0m eta \u001b[36m0:00:00\u001b[0m\n",
            "\u001b[?25hDownloading nvidia_cusolver_cu12-11.6.1.9-py3-none-manylinux2014_x86_64.whl (127.9 MB)\n",
            "\u001b[2K   \u001b[90m━━━━━━━━━━━━━━━━━━━━━━━━━━━━━━━━━━━━━━━━\u001b[0m \u001b[32m127.9/127.9 MB\u001b[0m \u001b[31m7.6 MB/s\u001b[0m eta \u001b[36m0:00:00\u001b[0m\n",
            "\u001b[?25hDownloading nvidia_cusparse_cu12-12.3.1.170-py3-none-manylinux2014_x86_64.whl (207.5 MB)\n",
            "\u001b[2K   \u001b[90m━━━━━━━━━━━━━━━━━━━━━━━━━━━━━━━━━━━━━━━━\u001b[0m \u001b[32m207.5/207.5 MB\u001b[0m \u001b[31m7.5 MB/s\u001b[0m eta \u001b[36m0:00:00\u001b[0m\n",
            "\u001b[?25hDownloading nvidia_nvjitlink_cu12-12.4.127-py3-none-manylinux2014_x86_64.whl (21.1 MB)\n",
            "\u001b[2K   \u001b[90m━━━━━━━━━━━━━━━━━━━━━━━━━━━━━━━━━━━━━━━━\u001b[0m \u001b[32m21.1/21.1 MB\u001b[0m \u001b[31m43.3 MB/s\u001b[0m eta \u001b[36m0:00:00\u001b[0m\n",
            "\u001b[?25hInstalling collected packages: nvidia-nvjitlink-cu12, nvidia-curand-cu12, nvidia-cufft-cu12, nvidia-cuda-runtime-cu12, nvidia-cuda-nvrtc-cu12, nvidia-cuda-cupti-cu12, nvidia-cublas-cu12, nvidia-cusparse-cu12, nvidia-cudnn-cu12, nvidia-cusolver-cu12\n",
            "  Attempting uninstall: nvidia-nvjitlink-cu12\n",
            "    Found existing installation: nvidia-nvjitlink-cu12 12.5.82\n",
            "    Uninstalling nvidia-nvjitlink-cu12-12.5.82:\n",
            "      Successfully uninstalled nvidia-nvjitlink-cu12-12.5.82\n",
            "  Attempting uninstall: nvidia-curand-cu12\n",
            "    Found existing installation: nvidia-curand-cu12 10.3.6.82\n",
            "    Uninstalling nvidia-curand-cu12-10.3.6.82:\n",
            "      Successfully uninstalled nvidia-curand-cu12-10.3.6.82\n",
            "  Attempting uninstall: nvidia-cufft-cu12\n",
            "    Found existing installation: nvidia-cufft-cu12 11.2.3.61\n",
            "    Uninstalling nvidia-cufft-cu12-11.2.3.61:\n",
            "      Successfully uninstalled nvidia-cufft-cu12-11.2.3.61\n",
            "  Attempting uninstall: nvidia-cuda-runtime-cu12\n",
            "    Found existing installation: nvidia-cuda-runtime-cu12 12.5.82\n",
            "    Uninstalling nvidia-cuda-runtime-cu12-12.5.82:\n",
            "      Successfully uninstalled nvidia-cuda-runtime-cu12-12.5.82\n",
            "  Attempting uninstall: nvidia-cuda-nvrtc-cu12\n",
            "    Found existing installation: nvidia-cuda-nvrtc-cu12 12.5.82\n",
            "    Uninstalling nvidia-cuda-nvrtc-cu12-12.5.82:\n",
            "      Successfully uninstalled nvidia-cuda-nvrtc-cu12-12.5.82\n",
            "  Attempting uninstall: nvidia-cuda-cupti-cu12\n",
            "    Found existing installation: nvidia-cuda-cupti-cu12 12.5.82\n",
            "    Uninstalling nvidia-cuda-cupti-cu12-12.5.82:\n",
            "      Successfully uninstalled nvidia-cuda-cupti-cu12-12.5.82\n",
            "  Attempting uninstall: nvidia-cublas-cu12\n",
            "    Found existing installation: nvidia-cublas-cu12 12.5.3.2\n",
            "    Uninstalling nvidia-cublas-cu12-12.5.3.2:\n",
            "      Successfully uninstalled nvidia-cublas-cu12-12.5.3.2\n",
            "  Attempting uninstall: nvidia-cusparse-cu12\n",
            "    Found existing installation: nvidia-cusparse-cu12 12.5.1.3\n",
            "    Uninstalling nvidia-cusparse-cu12-12.5.1.3:\n",
            "      Successfully uninstalled nvidia-cusparse-cu12-12.5.1.3\n",
            "  Attempting uninstall: nvidia-cudnn-cu12\n",
            "    Found existing installation: nvidia-cudnn-cu12 9.3.0.75\n",
            "    Uninstalling nvidia-cudnn-cu12-9.3.0.75:\n",
            "      Successfully uninstalled nvidia-cudnn-cu12-9.3.0.75\n",
            "  Attempting uninstall: nvidia-cusolver-cu12\n",
            "    Found existing installation: nvidia-cusolver-cu12 11.6.3.83\n",
            "    Uninstalling nvidia-cusolver-cu12-11.6.3.83:\n",
            "      Successfully uninstalled nvidia-cusolver-cu12-11.6.3.83\n",
            "Successfully installed nvidia-cublas-cu12-12.4.5.8 nvidia-cuda-cupti-cu12-12.4.127 nvidia-cuda-nvrtc-cu12-12.4.127 nvidia-cuda-runtime-cu12-12.4.127 nvidia-cudnn-cu12-9.1.0.70 nvidia-cufft-cu12-11.2.1.3 nvidia-curand-cu12-10.3.5.147 nvidia-cusolver-cu12-11.6.1.9 nvidia-cusparse-cu12-12.3.1.170 nvidia-nvjitlink-cu12-12.4.127\n"
          ]
        }
      ],
      "source": [
        "!pip install transformers torch sentencepiece"
      ]
    },
    {
      "cell_type": "code",
      "execution_count": null,
      "metadata": {
        "colab": {
          "base_uri": "https://localhost:8080/"
        },
        "id": "TqRUD_hXBjrH",
        "outputId": "49e3b2be-29cd-423c-a9c5-39387b5052f6"
      },
      "outputs": [
        {
          "output_type": "stream",
          "name": "stdout",
          "text": [
            "Unique language pairs in train dataset: ['ar' 'de-en' 'de' 'es' 'fr' 'pl' 'tr' 'zh' 'it' 'es-en' 'ru' 'es-it'\n",
            " 'zh-en' 'de-fr' 'pl-en' 'de-pl' 'fr-pl']\n",
            "Created file: simalign_inputs/ar_sentence_pairs.csv with 262 sentence pairs.\n",
            "Created file: simalign_inputs/de-en_sentence_pairs.csv with 535 sentence pairs.\n",
            "Created file: simalign_inputs/de_sentence_pairs.csv with 756 sentence pairs.\n",
            "Created file: simalign_inputs/es_sentence_pairs.csv with 561 sentence pairs.\n",
            "Created file: simalign_inputs/fr_sentence_pairs.csv with 72 sentence pairs.\n",
            "Created file: simalign_inputs/pl_sentence_pairs.csv with 309 sentence pairs.\n",
            "Created file: simalign_inputs/tr_sentence_pairs.csv with 390 sentence pairs.\n",
            "Created file: simalign_inputs/zh_sentence_pairs.csv with 159 sentence pairs.\n",
            "Created file: simalign_inputs/it_sentence_pairs.csv with 101 sentence pairs.\n",
            "Created file: simalign_inputs/es-en_sentence_pairs.csv with 91 sentence pairs.\n",
            "Created file: simalign_inputs/ru_sentence_pairs.csv with 66 sentence pairs.\n",
            "Created file: simalign_inputs/es-it_sentence_pairs.csv with 53 sentence pairs.\n",
            "Created file: simalign_inputs/zh-en_sentence_pairs.csv with 40 sentence pairs.\n",
            "Created file: simalign_inputs/de-fr_sentence_pairs.csv with 18 sentence pairs.\n",
            "Created file: simalign_inputs/pl-en_sentence_pairs.csv with 12 sentence pairs.\n",
            "Created file: simalign_inputs/de-pl_sentence_pairs.csv with 7 sentence pairs.\n",
            "Created file: simalign_inputs/fr-pl_sentence_pairs.csv with 2 sentence pairs.\n"
          ]
        }
      ],
      "source": [
        "import os\n",
        "import pandas as pd\n",
        "\n",
        "output_dir = \"simalign_inputs\"\n",
        "os.makedirs(output_dir, exist_ok=True)\n",
        "\n",
        "# Extract unique language pairs from train_df\n",
        "unique_langs = train_df_new[\"lang\"].unique()\n",
        "print(f\"Unique language pairs in train dataset: {unique_langs}\")\n",
        "\n",
        "# Loop through each language pair\n",
        "for lang in unique_langs:\n",
        "    # Filter out only sentence1 and sentence2 for the current language pair\n",
        "    lang_pairs = train_df_new[train_df_new[\"lang\"] == lang][[\"sentence1\", \"sentence2\"]]\n",
        "\n",
        "    # Construct the file path for saving\n",
        "    file_path = os.path.join(output_dir, f\"{lang}_sentence_pairs.csv\")\n",
        "\n",
        "    # Save the sentence pairs for each language pair in a separate file\n",
        "    lang_pairs.to_csv(file_path, index=False)\n",
        "\n",
        "    print(f\"Created file: {file_path} with {len(lang_pairs)} sentence pairs.\")"
      ]
    },
    {
      "cell_type": "code",
      "execution_count": null,
      "metadata": {
        "colab": {
          "base_uri": "https://localhost:8080/",
          "height": 206
        },
        "id": "h30RhcWiFpJG",
        "outputId": "238e2d13-fd14-40b6-d177-726881be2ac7"
      },
      "outputs": [
        {
          "output_type": "execute_result",
          "data": {
            "text/plain": [
              "                                           sentence1  \\\n",
              "0  La Academia de Hollywood indicó que su priorid...   \n",
              "1  Cuando una empresa pierde el grado de inversió...   \n",
              "2  Xalapa, Ver.-El representante de la mesa de tr...   \n",
              "3  Ante la propagación del coronavirus en Wahun, ...   \n",
              "4  Cristina Lladó y Patricia de Arce\\n\\nMadrid, 1...   \n",
              "\n",
              "                                           sentence2  \n",
              "0  Los Angeles, United States, June 5 (efe-epa).-...  \n",
              "1  Monetary policy remains unusually restrictive ...  \n",
              "2  Dispatches from Resistant Mexico is a series o...  \n",
              "3  Vietnam produces SARS-CoV-2 test kit\\n\\nThe Mi...  \n",
              "4  By Jorge González-Gallarza\\n\\nDelcygate is far...  "
            ],
            "text/html": [
              "\n",
              "  <div id=\"df-87fe4724-7796-4cdc-8c0b-0bc2a49c755d\" class=\"colab-df-container\">\n",
              "    <div>\n",
              "<style scoped>\n",
              "    .dataframe tbody tr th:only-of-type {\n",
              "        vertical-align: middle;\n",
              "    }\n",
              "\n",
              "    .dataframe tbody tr th {\n",
              "        vertical-align: top;\n",
              "    }\n",
              "\n",
              "    .dataframe thead th {\n",
              "        text-align: right;\n",
              "    }\n",
              "</style>\n",
              "<table border=\"1\" class=\"dataframe\">\n",
              "  <thead>\n",
              "    <tr style=\"text-align: right;\">\n",
              "      <th></th>\n",
              "      <th>sentence1</th>\n",
              "      <th>sentence2</th>\n",
              "    </tr>\n",
              "  </thead>\n",
              "  <tbody>\n",
              "    <tr>\n",
              "      <th>0</th>\n",
              "      <td>La Academia de Hollywood indicó que su priorid...</td>\n",
              "      <td>Los Angeles, United States, June 5 (efe-epa).-...</td>\n",
              "    </tr>\n",
              "    <tr>\n",
              "      <th>1</th>\n",
              "      <td>Cuando una empresa pierde el grado de inversió...</td>\n",
              "      <td>Monetary policy remains unusually restrictive ...</td>\n",
              "    </tr>\n",
              "    <tr>\n",
              "      <th>2</th>\n",
              "      <td>Xalapa, Ver.-El representante de la mesa de tr...</td>\n",
              "      <td>Dispatches from Resistant Mexico is a series o...</td>\n",
              "    </tr>\n",
              "    <tr>\n",
              "      <th>3</th>\n",
              "      <td>Ante la propagación del coronavirus en Wahun, ...</td>\n",
              "      <td>Vietnam produces SARS-CoV-2 test kit\\n\\nThe Mi...</td>\n",
              "    </tr>\n",
              "    <tr>\n",
              "      <th>4</th>\n",
              "      <td>Cristina Lladó y Patricia de Arce\\n\\nMadrid, 1...</td>\n",
              "      <td>By Jorge González-Gallarza\\n\\nDelcygate is far...</td>\n",
              "    </tr>\n",
              "  </tbody>\n",
              "</table>\n",
              "</div>\n",
              "    <div class=\"colab-df-buttons\">\n",
              "\n",
              "  <div class=\"colab-df-container\">\n",
              "    <button class=\"colab-df-convert\" onclick=\"convertToInteractive('df-87fe4724-7796-4cdc-8c0b-0bc2a49c755d')\"\n",
              "            title=\"Convert this dataframe to an interactive table.\"\n",
              "            style=\"display:none;\">\n",
              "\n",
              "  <svg xmlns=\"http://www.w3.org/2000/svg\" height=\"24px\" viewBox=\"0 -960 960 960\">\n",
              "    <path d=\"M120-120v-720h720v720H120Zm60-500h600v-160H180v160Zm220 220h160v-160H400v160Zm0 220h160v-160H400v160ZM180-400h160v-160H180v160Zm440 0h160v-160H620v160ZM180-180h160v-160H180v160Zm440 0h160v-160H620v160Z\"/>\n",
              "  </svg>\n",
              "    </button>\n",
              "\n",
              "  <style>\n",
              "    .colab-df-container {\n",
              "      display:flex;\n",
              "      gap: 12px;\n",
              "    }\n",
              "\n",
              "    .colab-df-convert {\n",
              "      background-color: #E8F0FE;\n",
              "      border: none;\n",
              "      border-radius: 50%;\n",
              "      cursor: pointer;\n",
              "      display: none;\n",
              "      fill: #1967D2;\n",
              "      height: 32px;\n",
              "      padding: 0 0 0 0;\n",
              "      width: 32px;\n",
              "    }\n",
              "\n",
              "    .colab-df-convert:hover {\n",
              "      background-color: #E2EBFA;\n",
              "      box-shadow: 0px 1px 2px rgba(60, 64, 67, 0.3), 0px 1px 3px 1px rgba(60, 64, 67, 0.15);\n",
              "      fill: #174EA6;\n",
              "    }\n",
              "\n",
              "    .colab-df-buttons div {\n",
              "      margin-bottom: 4px;\n",
              "    }\n",
              "\n",
              "    [theme=dark] .colab-df-convert {\n",
              "      background-color: #3B4455;\n",
              "      fill: #D2E3FC;\n",
              "    }\n",
              "\n",
              "    [theme=dark] .colab-df-convert:hover {\n",
              "      background-color: #434B5C;\n",
              "      box-shadow: 0px 1px 3px 1px rgba(0, 0, 0, 0.15);\n",
              "      filter: drop-shadow(0px 1px 2px rgba(0, 0, 0, 0.3));\n",
              "      fill: #FFFFFF;\n",
              "    }\n",
              "  </style>\n",
              "\n",
              "    <script>\n",
              "      const buttonEl =\n",
              "        document.querySelector('#df-87fe4724-7796-4cdc-8c0b-0bc2a49c755d button.colab-df-convert');\n",
              "      buttonEl.style.display =\n",
              "        google.colab.kernel.accessAllowed ? 'block' : 'none';\n",
              "\n",
              "      async function convertToInteractive(key) {\n",
              "        const element = document.querySelector('#df-87fe4724-7796-4cdc-8c0b-0bc2a49c755d');\n",
              "        const dataTable =\n",
              "          await google.colab.kernel.invokeFunction('convertToInteractive',\n",
              "                                                    [key], {});\n",
              "        if (!dataTable) return;\n",
              "\n",
              "        const docLinkHtml = 'Like what you see? Visit the ' +\n",
              "          '<a target=\"_blank\" href=https://colab.research.google.com/notebooks/data_table.ipynb>data table notebook</a>'\n",
              "          + ' to learn more about interactive tables.';\n",
              "        element.innerHTML = '';\n",
              "        dataTable['output_type'] = 'display_data';\n",
              "        await google.colab.output.renderOutput(dataTable, element);\n",
              "        const docLink = document.createElement('div');\n",
              "        docLink.innerHTML = docLinkHtml;\n",
              "        element.appendChild(docLink);\n",
              "      }\n",
              "    </script>\n",
              "  </div>\n",
              "\n",
              "\n",
              "    <div id=\"df-8e46b013-4927-4ed1-babf-a1f4c87019dd\">\n",
              "      <button class=\"colab-df-quickchart\" onclick=\"quickchart('df-8e46b013-4927-4ed1-babf-a1f4c87019dd')\"\n",
              "                title=\"Suggest charts\"\n",
              "                style=\"display:none;\">\n",
              "\n",
              "<svg xmlns=\"http://www.w3.org/2000/svg\" height=\"24px\"viewBox=\"0 0 24 24\"\n",
              "     width=\"24px\">\n",
              "    <g>\n",
              "        <path d=\"M19 3H5c-1.1 0-2 .9-2 2v14c0 1.1.9 2 2 2h14c1.1 0 2-.9 2-2V5c0-1.1-.9-2-2-2zM9 17H7v-7h2v7zm4 0h-2V7h2v10zm4 0h-2v-4h2v4z\"/>\n",
              "    </g>\n",
              "</svg>\n",
              "      </button>\n",
              "\n",
              "<style>\n",
              "  .colab-df-quickchart {\n",
              "      --bg-color: #E8F0FE;\n",
              "      --fill-color: #1967D2;\n",
              "      --hover-bg-color: #E2EBFA;\n",
              "      --hover-fill-color: #174EA6;\n",
              "      --disabled-fill-color: #AAA;\n",
              "      --disabled-bg-color: #DDD;\n",
              "  }\n",
              "\n",
              "  [theme=dark] .colab-df-quickchart {\n",
              "      --bg-color: #3B4455;\n",
              "      --fill-color: #D2E3FC;\n",
              "      --hover-bg-color: #434B5C;\n",
              "      --hover-fill-color: #FFFFFF;\n",
              "      --disabled-bg-color: #3B4455;\n",
              "      --disabled-fill-color: #666;\n",
              "  }\n",
              "\n",
              "  .colab-df-quickchart {\n",
              "    background-color: var(--bg-color);\n",
              "    border: none;\n",
              "    border-radius: 50%;\n",
              "    cursor: pointer;\n",
              "    display: none;\n",
              "    fill: var(--fill-color);\n",
              "    height: 32px;\n",
              "    padding: 0;\n",
              "    width: 32px;\n",
              "  }\n",
              "\n",
              "  .colab-df-quickchart:hover {\n",
              "    background-color: var(--hover-bg-color);\n",
              "    box-shadow: 0 1px 2px rgba(60, 64, 67, 0.3), 0 1px 3px 1px rgba(60, 64, 67, 0.15);\n",
              "    fill: var(--button-hover-fill-color);\n",
              "  }\n",
              "\n",
              "  .colab-df-quickchart-complete:disabled,\n",
              "  .colab-df-quickchart-complete:disabled:hover {\n",
              "    background-color: var(--disabled-bg-color);\n",
              "    fill: var(--disabled-fill-color);\n",
              "    box-shadow: none;\n",
              "  }\n",
              "\n",
              "  .colab-df-spinner {\n",
              "    border: 2px solid var(--fill-color);\n",
              "    border-color: transparent;\n",
              "    border-bottom-color: var(--fill-color);\n",
              "    animation:\n",
              "      spin 1s steps(1) infinite;\n",
              "  }\n",
              "\n",
              "  @keyframes spin {\n",
              "    0% {\n",
              "      border-color: transparent;\n",
              "      border-bottom-color: var(--fill-color);\n",
              "      border-left-color: var(--fill-color);\n",
              "    }\n",
              "    20% {\n",
              "      border-color: transparent;\n",
              "      border-left-color: var(--fill-color);\n",
              "      border-top-color: var(--fill-color);\n",
              "    }\n",
              "    30% {\n",
              "      border-color: transparent;\n",
              "      border-left-color: var(--fill-color);\n",
              "      border-top-color: var(--fill-color);\n",
              "      border-right-color: var(--fill-color);\n",
              "    }\n",
              "    40% {\n",
              "      border-color: transparent;\n",
              "      border-right-color: var(--fill-color);\n",
              "      border-top-color: var(--fill-color);\n",
              "    }\n",
              "    60% {\n",
              "      border-color: transparent;\n",
              "      border-right-color: var(--fill-color);\n",
              "    }\n",
              "    80% {\n",
              "      border-color: transparent;\n",
              "      border-right-color: var(--fill-color);\n",
              "      border-bottom-color: var(--fill-color);\n",
              "    }\n",
              "    90% {\n",
              "      border-color: transparent;\n",
              "      border-bottom-color: var(--fill-color);\n",
              "    }\n",
              "  }\n",
              "</style>\n",
              "\n",
              "      <script>\n",
              "        async function quickchart(key) {\n",
              "          const quickchartButtonEl =\n",
              "            document.querySelector('#' + key + ' button');\n",
              "          quickchartButtonEl.disabled = true;  // To prevent multiple clicks.\n",
              "          quickchartButtonEl.classList.add('colab-df-spinner');\n",
              "          try {\n",
              "            const charts = await google.colab.kernel.invokeFunction(\n",
              "                'suggestCharts', [key], {});\n",
              "          } catch (error) {\n",
              "            console.error('Error during call to suggestCharts:', error);\n",
              "          }\n",
              "          quickchartButtonEl.classList.remove('colab-df-spinner');\n",
              "          quickchartButtonEl.classList.add('colab-df-quickchart-complete');\n",
              "        }\n",
              "        (() => {\n",
              "          let quickchartButtonEl =\n",
              "            document.querySelector('#df-8e46b013-4927-4ed1-babf-a1f4c87019dd button');\n",
              "          quickchartButtonEl.style.display =\n",
              "            google.colab.kernel.accessAllowed ? 'block' : 'none';\n",
              "        })();\n",
              "      </script>\n",
              "    </div>\n",
              "\n",
              "    </div>\n",
              "  </div>\n"
            ],
            "application/vnd.google.colaboratory.intrinsic+json": {
              "type": "dataframe",
              "variable_name": "lang_pairs_df",
              "summary": "{\n  \"name\": \"lang_pairs_df\",\n  \"rows\": 91,\n  \"fields\": [\n    {\n      \"column\": \"sentence1\",\n      \"properties\": {\n        \"dtype\": \"string\",\n        \"num_unique_values\": 91,\n        \"samples\": [\n          \"Si se necesita un dato concluyente sobre la par\\u00e1lisis econ\\u00f3mica sin precedentes que experimenta el mundo moderno, el petr\\u00f3leo lo ha exhibido este lunes sin contemplaciones. El crudo cay\\u00f3 por debajo de los 5 d\\u00f3lares por barril y a\\u00fan menos hasta 2 d\\u00f3lares en momentos que la pandemia de coronavirus traba la rueda del sistema de acumulaci\\u00f3n, amenazando con borrar toda una d\\u00e9cada de crecimiento de la demanda, recortando miles de empleos y eliminando cientos de miles de millones de d\\u00f3lares de las valoraciones de las empresas.\\n\\nEs el abismo, en dimensiones que no estaban ni sospechadas. La actividad industrial y econ\\u00f3mica se est\\u00e1 deteniendo a medida que los gobiernos de todo el mundo extienden los cierres debido a la r\\u00e1pida propagaci\\u00f3n del coronavirus.\\n\\nEl petr\\u00f3leo se ha enfrentado a sus propios efectos colaterales con un mercado con un exceso de oferta masivo y ning\\u00fan lugar para colocar barriles f\\u00edsicos de crudo. Un acuerdo de producci\\u00f3n sin precedentes por parte de la OPEP y los miembros aliados hace una semana para frenar el suministro est\\u00e1 demostrando muy poco y demasiado tarde ante un colapso de un tercio de la demanda global.\\n\\nLa epidemia del nuevo coronavirus impacta en los precios del petr\\u00f3leo, evoluci\\u00f3n del precio del barril de Brent de Mar del Norte desde 1990 - AFP / AFP\\n\\nEste lunes, una rareza t\\u00e9cnica exacerb\\u00f3 la ca\\u00edda de los precios a medida que los operadores huyeron del contrato de futuros de mayo antes de su vencimiento el martes, lo que lo redujo hasta un 78% al nivel m\\u00e1s bajo desde que los futuros comenzaron a cotizarse en Nueva York en 1983. El contrato del mes siguiente cay\\u00f3 11% a $ 22.22 por barril. El grupo CME dijo que es posible que el contrato de mayo WTI podr\\u00eda negociarse en negativo. Otro dato sin precedentes.\\n\\n\\\"Hay poco para evitar que el mercado f\\u00edsico tenga una mayor tendencia a la baja en el corto plazo\\\", dijo Michael Tran, director gerente de estrategia energ\\u00e9tica global de RBC Capital Markets. \\\"Las refiner\\u00edas est\\u00e1n rechazando barriles a un ritmo hist\\u00f3rico y con los niveles de almacenamiento de los EE. UU. Llegando a su l\\u00edmite, las fuerzas del mercado infligir\\u00e1n m\\u00e1s dolor hasta que lleguemos al fondo o despeje COVID, lo que ocurra primero, pero parece ser lo primero\\\".\\n\\nDesde el comienzo del a\\u00f1o, los precios del petr\\u00f3leo han ca\\u00eddo en m\\u00e1s del 90% despu\\u00e9s de los efectos compuestos del coronavirus y un colapso en el acuerdo original de la OPEP por el choque entre Arabia Saudita y Rusia sobre las cuotas de producci\\u00f3n. Sin un final a la vista, y mientras los productores de todo el mundo contin\\u00faan bombeando se produce una gran venta entre los comerciantes que no tienen acceso al almacenamiento y eso derrumba el precio del crudo.\\n\\nHay signos de debilidad en todas partes. Los compradores en Texas est\\u00e1n ofreciendo tan solo $2 por barril por algunas variantes de petr\\u00f3leo, lo que aumenta la posibilidad de que los productores pronto tengan que pagar para que les quiten el crudo de sus manos. La diferencia entre los dos contratos m\\u00e1s cercanos para el \\u00edndice de referencia de EE.UU. Ha ca\\u00eddo a su nivel m\\u00e1s d\\u00e9bil registrado.\\n\\nUn operario en una instalaci\\u00f3n petrolera de Texas. El West Texas Intermediate, de referencia para Estados Unidos, ca\\u00eda este lunes a niveles sin precedentes. DPA\\n\\nEn Asia, los banqueros son cada vez m\\u00e1s reacios a otorgarles a los comerciantes de productos b\\u00e1sicos el cr\\u00e9dito para sobrevivir a medida que los prestamistas se vuelven cada vez m\\u00e1s temerosos sobre el riesgo de un incumplimiento catastr\\u00f3fico atengo a que el parate esta secando a las empresas y diluyendo sus chequeras. Esto incluso, aun al marte de los enormes sistemas de rescatate que est\\u00e1n poniendo en marcha los Estados del norte mundial.\\n\\nLas reservas de crudo en fracking, el petroleo no convencional, variedad que lidera Estados Unidos, han aumentado un 48% a casi 55 millones de barriles desde finales de febrero. Esta muy cerca de su l\\u00edmite de 76 millones de barriles.\\n\\nEl colapso de los precios est\\u00e1 repercutiendo en toda la industria petrolera. El 13% de la flota de perforaci\\u00f3n estadounidense fue cerrada la semana pasada. Pero lo que se ha hecho hasta ahora no es suficiente ni tampoco con la velocidad necesaria para evita que el almacenamiento trepe a niveles m\\u00e1ximos, dijo Paul Horsnell, jefe de productos de Standard Chartered.\\n\\n\\\"La psicolog\\u00eda de fondo en este momento es enormemente bajista\\\", dijo Michael Lynch, presidente de Strategic Energy & Economic Research Inc en una entrevista telef\\u00f3nica. \\\"La gente est\\u00e1 preocupada porque vamos a ver tanta acumulaci\\u00f3n de inventario que ser\\u00e1 muy dif\\u00edcil arreglarlo en el corto plazo y habr\\u00e1 muchas cargas en dificultades en el mercado\\\". La gente est\\u00e1 tratando de deshacerse del petr\\u00f3leo y no hay compradores \\\".\\n\\n\\\"La destrucci\\u00f3n intrad\\u00eda del WTI (el West Texas Intermediate) es \\u00e9pica en escala y muestra la gran inestabilidad de los contratos de mayo de 2020 ante su expiraci\\u00f3n de ma\\u00f1ana y los miedos a que el almacenamiento no se pueda materializar\\\", expres\\u00f3 la analista Louise Dickson, de la firma Rystad Energy a tono con la mayor\\u00eda de sus colegas.\\n\\nEl derrumbe del precio de la energ\\u00eda es una noticia letal para los pa\\u00edses productores y no tiene una referencia positivo del tipo de que la baja facilite la reanudaci\\u00f3n del sistema en precios m\\u00e1s accesibles cuando cesen las cuarentenas debido a que los precios se recuperar\\u00e1n de modo empinado. Esa novedad estrangula a los productores pero agrega otro dilema a Estados Unidos cuya producci\\u00f3n de fracking en Dakota es una de las joyas de la \\u00faltima d\\u00e9cada del desarrollo norteamericano. Los costos de la producci\\u00f3n de petr\\u00f3leo no convenci\\u00f3n son m\\u00e1s altos que su otra variedad de modo que un precio a la baja sencillamente desarma a la i industria.\\n\\nBLOOMBERG Y CLARIN\",\n          \"El aplazamiento de los Juegos de Tokio a 2021 podr\\u00e1 ser el impulso que necesita la econom\\u00eda japonesa, afectada duramente como la del resto de pa\\u00edses por la actual pandemia del nuevo coronavirus, estim\\u00f3 este jueves un responsable del Comit\\u00e9 Ol\\u00edmpico Internacional (COI).\\n\\nLa disputa de los Juegos en 2021, un a\\u00f1o despu\\u00e9s de la fecha prevista inicialmente a mediados de 2020, podr\\u00eda ser \\\"una aut\\u00e9ntica oportunidad de est\\u00edmulo econ\\u00f3mico\\\", estima John Coates, alto responsable del COI, que espera que sirva para \\\"relanzar la econom\\u00eda\\\" del archipi\\u00e9lago nip\\u00f3n.\\n\\nDeportes Jap\\u00f3n deja de exponer la llama ol\\u00edmpica\\n\\n\\\"Creo que muchas ciudades y pa\\u00edses desear\\u00edan tener una oportunidad as\\u00ed\\\", a\\u00f1adi\\u00f3, precisando que cre\\u00eda que el primer ministro Shinzo Abe estaba pensando en ello cuando propuso el aplazamiento.\\n\\n\\\"El primer ministro Abe es un hombre inteligente, creo que ten\\u00eda en la cabeza el hecho de que el pa\\u00eds estar\\u00eda en recesi\\u00f3n y que necesitar\\u00eda algo que sirviera de acelerador\\\", coment\\u00f3 Coates.\\n\\nSeg\\u00fan una estimaci\\u00f3n de SMBC Nikko Securities, el aplazamiento de los Juegos representa una p\\u00e9rdida de 5 mil 500 millones de euros para la econom\\u00eda japonesa en 2020, aunque la cantidad podr\\u00eda ser recuperada un a\\u00f1o m\\u00e1s tarde, en 2021.\\n\\nPara los organizadores, el aplazamiento podr\\u00eda conllevar un coste adicional \\\"importante\\\", que se sumar\\u00eda a los 11.600 millones de euros que deb\\u00eda costar la organizaci\\u00f3n de la gran cumbre del deporte mundial.\\n\\nEl formato de los Juegos podr\\u00eda ser revisado a la baja para reducir los costes adicionales, separando \\\"lo que es necesario y lo que est\\u00e1 bien tener\\\", sugiri\\u00f3 Coates.\\n\\nDeportes Los Juegos Ol\\u00edmpicos de Tokio aplazados\\n\\nEl COI y el pa\\u00eds organizador anunciaron a finales de marzo el aplazamiento de un a\\u00f1o de los Juegos Ol\\u00edmpicos de Tokio, tras resistirse inicialmente a cambiar las fechas previstas a mediados de este 2020. La situaci\\u00f3n de aceleraci\\u00f3n de la pandemia del nuevo coronavirus, especialmente en Europa y Am\\u00e9rica, forz\\u00f3 a ese cambio de fechas.\\n\\nM\\u00e1s all\\u00e1 de las p\\u00e9rdidas humanas, la pandemia podr\\u00eda tener un impacto econ\\u00f3mico descomunal.\\n\\nSeg\\u00fan se\\u00f1al\\u00f3 el martes Gita Gopinath, economista jefe del Fondo Monetario Internacional, es \\\"muy probable que este a\\u00f1o la econom\\u00eda mundial conozca su peor recesi\\u00f3n desde la Gran Depresi\\u00f3n (que sigui\\u00f3 al 'crack' de 1929).\",\n          \"J.K. Rowling publicar\\u00e1 gratis de forma online un cuento de hadas sobre la verdad y el abuso de poder para que los ni\\u00f1os que est\\u00e1n en encerrados puedan leerlo.\\n\\nLos primeros cap\\u00edtulos ser\\u00e1n publicados el martes y luego todos los d\\u00edas de semana hasta el 10 de julio, dijo Rowling en Twitter, donde aclar\\u00f3 que \\\"esto no est\\u00e1 relacionado con Harry Potter\\\".\\n\\nRowling tuvo la idea de \\\"The Ickabog\\\" mientras escrib\\u00eda Harry Potter y ten\\u00eda la intenci\\u00f3n de publicarlo despu\\u00e9s de \\\"Harry Potter y las reliquias de la muerte\\\", el \\u00faltimo de su serie de siete libros del joven mago.\\n\\nI have a small announcement, but before I get started, I\\n\\nwant to head off one possible source of confusion.\\n\\n********************************************\\n\\nTHIS IS NOT A HARRY POTTER SPIN-OFF\\n\\n********************************************\\n\\n1/13 \\u2014 J.K. Rowling (@jk_rowling) May 26, 2020\\n\\nPero el manuscrito mayormente escrito a mano termin\\u00f3 en el \\u00e1tico de su casa y permaneci\\u00f3 all\\u00ed durante una d\\u00e9cada hasta hace unas semanas, guardado en una caja de la tienda de moda Net-A-Porter. En los \\u00faltimos d\\u00edas, decidi\\u00f3 reescribir algunas partes.\\n\\n\\\"'The Ickabog' es una historia sobre la verdad y el abuso de poder\\\", dijo Rowling, de 54 a\\u00f1os. \\\"Los temas son atemporales y podr\\u00edan aplicarse a cualquier \\u00e9poca o a cualquier pa\\u00eds\\\", agreg\\u00f3.\\n\\n\\\"Para evitar una pregunta obvia: la idea se me ocurri\\u00f3 hace m\\u00e1s de una d\\u00e9cada, as\\u00ed que no tiene la intenci\\u00f3n de ser le\\u00eddo como respuesta a nada que est\\u00e9 pasando hoy en el mundo\\\", agreg\\u00f3.\\n\\nFoto: Twitter @jk_rowling\\n\\nRowling dijo que donar\\u00e1 sus derechos de autor a proyectos y organizaciones que ayudan a los grupos m\\u00e1s afectados por el Covid-19.\\n\\n\\\"Decid\\u00ed publicar 'The Ickabog' gratis online para que los ni\\u00f1os encerrados, o incluso aquellos que regresaron a la escuela durante estos tiempos extra\\u00f1os e inquietantes puedan leerlo o que se los lean\\\", dijo.\\n\\n\\\"\\u00a1Me gustar\\u00eda que los ni\\u00f1os ilustren el libro para m\\u00ed!\\\", dijo. \\\"Dejen volar libremente su imaginaci\\u00f3n\\\", agreg\\u00f3.\"\n        ],\n        \"semantic_type\": \"\",\n        \"description\": \"\"\n      }\n    },\n    {\n      \"column\": \"sentence2\",\n      \"properties\": {\n        \"dtype\": \"string\",\n        \"num_unique_values\": 90,\n        \"samples\": [\n          \"New York (AFP) - Oil prices ended New York trading in the negative on Monday for the first time ever, as a supply glut forced traders to pay others to take the commodity.\\n\\nWith space to store oil scarce, US benchmark West Texas Intermediate for May delivery ended trading at -$37.63 a barrel ahead of Tuesday's close for futures contracts -- when traders who buy and sell the commodity for profit would have had to take physical possession of it.\\n\\n\\\"It's a contract for something that nobody wants to buy,\\\" said Matt Smith of ClipperData.\\n\\nThe unprecedented price drop is a consequence of the coronavirus pandemic, which has devastated the global economy by forcing billions of people to stay home to stop its spread, and an ongoing price war between top producers Saudi Arabia and Russia.\\n\\nThat price war contributed to an oversupply that drove crude lower, to the disadvantage of US shale producers.\\n\\nA deal announced last week between OPEC and its peers would have lowered production by about 10 million barrels a day from May, but that's plainly not enough.\\n\\n\\\"There is no demand for gasoline and diesel fuel,\\\" said John Kilduff of Again Capital. \\\"The demand has just plummeted.\\\"\\n\\nSmith however noted that Monday's negative prices were a reaction to the storage shortage ahead of the Tuesday deadline, and once that passes, they should turn positive again.\\n\\n\\\"In two days, it will be gone,\\\" he said.\",\n          \"Tokyo, April 16 (IANS) The postponed Tokyo Olympics can be an important economic stimulus for the Japanese economy in the post-coronavirus era, according to International Olympic Committee\\u2019s John Coates. The lockdowns and restrictions on movements due to the virus around the world have delivered a significant blow to the global economy.\\n\\nCoates, who is the chairman of the Tokyo 2020 Coordination Commission, said that Japan like most countries could face a recession due to the pandemic and the Olympics is a good opportunity for them to make some recoveries.\\n\\n\\u201cIf Japan is anywhere like the rest of the world where there is an economic downturn, a recession maybe, these Games are a very positive opportunity to be an economic stimulus,\\u201d Coates told reporters via a press conference on Youtube after an IOC and Tokyo 2020 executive project review meeting.\\n\\n\\u201cThese Games can be how you can kick-start the economy again. These Games can be the rebirth of the tourism industry and provide opportunities for your hotel operators and airlines.\\n\\n\\u201cThey will obviously provide jobs, with new events in the spring. Yes, there will be some negative impacts,\\u201d he said.\\n\\nCoates also said that Japan Prime Minister Shinzo Abe must have had all this in mind when a postponement to next year was proposed initially.\\n\\n\\u201cPrime Minister Abe is a very smart man and I have no doubt that when he proposed we postpone the Games for one year, he had in mind the positive economic stimulus this would provide for Tokyo and Japan in what would otherwise be a downturn.\\n\\n\\u201cI think there would be a lot of other cities and countries around the world wishing for a similar opportunity. These are the sorts of things world leaders are considering at the moment, projects which can kick-start economies.\\n\\n\\u201cPrime Minister Abe is a leader in the world and I am suspecting this might have been in his mind.\\u201d\\n\\nThe Tokyo Olympics is set to be held from July 23 to August 8, 2021.\\n\\n\\u2013IANS\\n\\nrkm/bbh\",\n          \"Hang on for a minute...we're trying to find some more stories you might like. Close\\n\\nImagine, for a moment, that you\\u2019re on the Red Line heading home after a long day at work. It\\u2019s just after 10 p.m. Your car is sparsely populated; no more than eight others, all with their faces buried in their phones or half asleep hugging their bags. All is peaceful and quiet.\\n\\nMoments later, a man sitting across the aisles and a few seats down from you receives a phone call \\u2014 he answers. Then you watch, terrified, as he holds his phone four inches from his chin and, without an ounce of shame, begins shouting into his palm, broadcasting the conversation to everyone on the train car.\\n\\nWhat are we people of relative decency to do in this situation? Ignore it? That is, stand idly by as this stranger wages a full scale assault on public space? Bystanders are guilty too, you know.\\n\\nThis world is increasingly in need of a social martyr of sorts. A person so distraught by brazen contempt for social customs that they dive head-long into the business of others just to make a point. A person willing to commit social suicide in service of the common man by standing up and saying: \\u201cNo! You, sir, are the problem, and everybody hates you.\\u201d\\n\\nIn \\u201cCurb Your Enthusiasm,\\u201d HBO and Larry David give us that man.\\n\\n\\u201cCurb Your Enthusiasm,\\u201d more commonly referenced simply as \\u201cCurb,\\u201d is the now 20-year-old comedy show featuring the \\u201cSeinfeld\\u201d co-creator starring as what he describes as \\u201can idealized version\\u201d of himself. Loping about Los Angeles with a long list of pet peeves, a short temper and a self-issued license to enforce society\\u2019s unwritten laws on anyone who crosses his path, David is the man we always wanted him to be.\\n\\nWith \\u201cCurb,\\u201d David takes the formula that revolutionized the TV industry with on\\u201cSeinfeld,\\u201d brought it to the open fields of HBO and installed himself \\u2014 the show-business twin of Bernie Sanders \\u2014 as its star. The show is simple in its concept: bring the funny out of the mundane in our everyday lives. But without the shackles of network executives and community guidelines or scripted dialogue, David and his cast of talented co-stars tapped into a comedy goldmine.\\n\\nThe key ingredient in making \\u201cCurb\\u201d such a gem in this junkyard comedy TV show market is its employment of improv. By merely removing the written dialogue and allowing the actors \\u2014 headlined by comedy heavyweights like Susie Essman, Jeff Garlin and JB Smoove \\u2014 to riff between plot points, the show offers a platform for comedic acting to take its purest form. It\\u2019s all about funny.\\n\\nGarlin plays Jeff Green, David\\u2019s manager and best friend in the show, whose wife Susie, played brilliantly by Essman, serves as David\\u2019s main sparring partner. The two usually square off in the wake of one of David\\u2019s quintessential faux pas or as she sniffs out collusion between David and Garlin. And in those moments, you can feel the director step back from the camera, fold their arms, and watch the masters work.\\n\\nDavid himself isn\\u2019t a particularly impressive actor, but he is a generous one on top of being a generational comedic mind. He offers to the show and his fellow actors a unique character to dance with, always providing the perfect set up line for a hysterical one-liner from one of the many world-class comics he shares the set with.\\n\\nGarlin, Essman and David round out the core of this cast, but JB Smoove has emerged as a never-ending well of one-liner gold. Smoove\\u2019s character, Leon, arrived in the sixth season when Larry and his ex-wife Cheryl (played by Cheryl Hines) take in a family affected by Hurricane Katrina. Over the next couple seasons, the family leaves, David gets divorced, but Leon sticks around as Larry\\u2019s co-pilot in life \\u2014 advising and encouraging the behavior that makes David the mother of all social wrecking balls.\\n\\nWith 10 season over 20 years, the show has experienced the fortune of playing with a variety of cultural moments, both mundane and political. And in each of these moments, the show consistently proves the resiliency of its model \\u2014 point out the obvious, and let legends of the craft tear it apart. Pure, simple, genius.\\n\\nIn the series\\u2019 tenth season, David and his fellow cast members cannonball into the center of America\\u2019s most contentious conversations. David, a vocal liberal both in character in real life, finds utility in Make America Great Again hats that reliably repels unwanted company in L.A.; and, of course, finds himself embroiled in a mother of all #MeToo misunderstandings. No show is better equipped to turn our modern traumas into laughter.\\n\\n\\u201cCurb Your Enthusiasm\\u201d airs Sundays at 9:30 p.m. CST on HBO.\"\n        ],\n        \"semantic_type\": \"\",\n        \"description\": \"\"\n      }\n    }\n  ]\n}"
            }
          },
          "metadata": {},
          "execution_count": 16
        }
      ],
      "source": [
        "file_path = \"simalign_inputs/es-en_sentence_pairs.csv\"  # Example for the 'en-es' language pair\n",
        "\n",
        "# Load the content of the file into a DataFrame\n",
        "lang_pairs_df = pd.read_csv(file_path)\n",
        "lang_pairs_df.head()"
      ]
    },
    {
      "cell_type": "code",
      "execution_count": 15,
      "metadata": {
        "colab": {
          "base_uri": "https://localhost:8080/"
        },
        "id": "5EkrXx0RF9dr",
        "outputId": "7d973371-75ab-4c42-9f48-5fad12286f5c"
      },
      "outputs": [
        {
          "output_type": "stream",
          "name": "stdout",
          "text": [
            "Collecting SimAlign\n",
            "  Downloading simalign-0.4-py3-none-any.whl.metadata (6.2 kB)\n",
            "Requirement already satisfied: numpy in /usr/local/lib/python3.11/dist-packages (from SimAlign) (2.0.2)\n",
            "Requirement already satisfied: torch in /usr/local/lib/python3.11/dist-packages (from SimAlign) (2.6.0+cu124)\n",
            "Requirement already satisfied: scipy in /usr/local/lib/python3.11/dist-packages (from SimAlign) (1.15.2)\n",
            "Requirement already satisfied: transformers in /usr/local/lib/python3.11/dist-packages (from SimAlign) (4.51.3)\n",
            "Requirement already satisfied: regex in /usr/local/lib/python3.11/dist-packages (from SimAlign) (2024.11.6)\n",
            "Requirement already satisfied: networkx in /usr/local/lib/python3.11/dist-packages (from SimAlign) (3.4.2)\n",
            "Requirement already satisfied: scikit-learn in /usr/local/lib/python3.11/dist-packages (from SimAlign) (1.6.1)\n",
            "Requirement already satisfied: joblib>=1.2.0 in /usr/local/lib/python3.11/dist-packages (from scikit-learn->SimAlign) (1.4.2)\n",
            "Requirement already satisfied: threadpoolctl>=3.1.0 in /usr/local/lib/python3.11/dist-packages (from scikit-learn->SimAlign) (3.6.0)\n",
            "Requirement already satisfied: filelock in /usr/local/lib/python3.11/dist-packages (from torch->SimAlign) (3.18.0)\n",
            "Requirement already satisfied: typing-extensions>=4.10.0 in /usr/local/lib/python3.11/dist-packages (from torch->SimAlign) (4.13.2)\n",
            "Requirement already satisfied: jinja2 in /usr/local/lib/python3.11/dist-packages (from torch->SimAlign) (3.1.6)\n",
            "Requirement already satisfied: fsspec in /usr/local/lib/python3.11/dist-packages (from torch->SimAlign) (2025.3.0)\n",
            "Requirement already satisfied: nvidia-cuda-nvrtc-cu12==12.4.127 in /usr/local/lib/python3.11/dist-packages (from torch->SimAlign) (12.4.127)\n",
            "Requirement already satisfied: nvidia-cuda-runtime-cu12==12.4.127 in /usr/local/lib/python3.11/dist-packages (from torch->SimAlign) (12.4.127)\n",
            "Requirement already satisfied: nvidia-cuda-cupti-cu12==12.4.127 in /usr/local/lib/python3.11/dist-packages (from torch->SimAlign) (12.4.127)\n",
            "Requirement already satisfied: nvidia-cudnn-cu12==9.1.0.70 in /usr/local/lib/python3.11/dist-packages (from torch->SimAlign) (9.1.0.70)\n",
            "Requirement already satisfied: nvidia-cublas-cu12==12.4.5.8 in /usr/local/lib/python3.11/dist-packages (from torch->SimAlign) (12.4.5.8)\n",
            "Requirement already satisfied: nvidia-cufft-cu12==11.2.1.3 in /usr/local/lib/python3.11/dist-packages (from torch->SimAlign) (11.2.1.3)\n",
            "Requirement already satisfied: nvidia-curand-cu12==10.3.5.147 in /usr/local/lib/python3.11/dist-packages (from torch->SimAlign) (10.3.5.147)\n",
            "Requirement already satisfied: nvidia-cusolver-cu12==11.6.1.9 in /usr/local/lib/python3.11/dist-packages (from torch->SimAlign) (11.6.1.9)\n",
            "Requirement already satisfied: nvidia-cusparse-cu12==12.3.1.170 in /usr/local/lib/python3.11/dist-packages (from torch->SimAlign) (12.3.1.170)\n",
            "Requirement already satisfied: nvidia-cusparselt-cu12==0.6.2 in /usr/local/lib/python3.11/dist-packages (from torch->SimAlign) (0.6.2)\n",
            "Requirement already satisfied: nvidia-nccl-cu12==2.21.5 in /usr/local/lib/python3.11/dist-packages (from torch->SimAlign) (2.21.5)\n",
            "Requirement already satisfied: nvidia-nvtx-cu12==12.4.127 in /usr/local/lib/python3.11/dist-packages (from torch->SimAlign) (12.4.127)\n",
            "Requirement already satisfied: nvidia-nvjitlink-cu12==12.4.127 in /usr/local/lib/python3.11/dist-packages (from torch->SimAlign) (12.4.127)\n",
            "Requirement already satisfied: triton==3.2.0 in /usr/local/lib/python3.11/dist-packages (from torch->SimAlign) (3.2.0)\n",
            "Requirement already satisfied: sympy==1.13.1 in /usr/local/lib/python3.11/dist-packages (from torch->SimAlign) (1.13.1)\n",
            "Requirement already satisfied: mpmath<1.4,>=1.1.0 in /usr/local/lib/python3.11/dist-packages (from sympy==1.13.1->torch->SimAlign) (1.3.0)\n",
            "Requirement already satisfied: huggingface-hub<1.0,>=0.30.0 in /usr/local/lib/python3.11/dist-packages (from transformers->SimAlign) (0.30.2)\n",
            "Requirement already satisfied: packaging>=20.0 in /usr/local/lib/python3.11/dist-packages (from transformers->SimAlign) (24.2)\n",
            "Requirement already satisfied: pyyaml>=5.1 in /usr/local/lib/python3.11/dist-packages (from transformers->SimAlign) (6.0.2)\n",
            "Requirement already satisfied: requests in /usr/local/lib/python3.11/dist-packages (from transformers->SimAlign) (2.32.3)\n",
            "Requirement already satisfied: tokenizers<0.22,>=0.21 in /usr/local/lib/python3.11/dist-packages (from transformers->SimAlign) (0.21.1)\n",
            "Requirement already satisfied: safetensors>=0.4.3 in /usr/local/lib/python3.11/dist-packages (from transformers->SimAlign) (0.5.3)\n",
            "Requirement already satisfied: tqdm>=4.27 in /usr/local/lib/python3.11/dist-packages (from transformers->SimAlign) (4.67.1)\n",
            "Requirement already satisfied: MarkupSafe>=2.0 in /usr/local/lib/python3.11/dist-packages (from jinja2->torch->SimAlign) (3.0.2)\n",
            "Requirement already satisfied: charset-normalizer<4,>=2 in /usr/local/lib/python3.11/dist-packages (from requests->transformers->SimAlign) (3.4.1)\n",
            "Requirement already satisfied: idna<4,>=2.5 in /usr/local/lib/python3.11/dist-packages (from requests->transformers->SimAlign) (3.10)\n",
            "Requirement already satisfied: urllib3<3,>=1.21.1 in /usr/local/lib/python3.11/dist-packages (from requests->transformers->SimAlign) (2.4.0)\n",
            "Requirement already satisfied: certifi>=2017.4.17 in /usr/local/lib/python3.11/dist-packages (from requests->transformers->SimAlign) (2025.4.26)\n",
            "Downloading simalign-0.4-py3-none-any.whl (8.1 kB)\n",
            "Installing collected packages: SimAlign\n",
            "Successfully installed SimAlign-0.4\n"
          ]
        }
      ],
      "source": [
        "!pip install SimAlign"
      ]
    },
    {
      "cell_type": "code",
      "execution_count": 16,
      "metadata": {
        "colab": {
          "base_uri": "https://localhost:8080/",
          "height": 249,
          "referenced_widgets": [
            "7f102622ef004c24b5c1663d2e5dc831",
            "7e5822c3df264bcc8585e502e84f7baa",
            "f37271ff6e1a478ba32735d3c6011910",
            "ec54a1978bbb4d698cb476b441cd4007",
            "8391689a34f24e87b3a70793b017e2c5",
            "de2eb40debf54f758ef72514810405b1",
            "7a952f614b9440eb857dc9060187083f",
            "e350700b66724bd881138c64658535d8",
            "bd888f1bbc124617ba1c99b71bd71a0a",
            "ba7fb535636847cc98a8dc60c151fce2",
            "cee79383d07a4301b524d7346e026087",
            "531caebf0800405087f8c7e52d53ee73",
            "2e6a0f26635b4341af7f42b500f08a5a",
            "dbc4bc25cbaa478d88831b02db2b9522",
            "757bec7e45424b0795c6868415a6a62b",
            "e6d38378e0364c28a879d0da404453c1",
            "513a4db12be64b4dbc54df5120dd1de4",
            "2d5fd0af94564d42b02b05a385da5ade",
            "0438e88a403d4ca397cd976a851a938f",
            "509b0454434c44c1bce080f16c607845",
            "6191b7bdb3e7444f9e8915673d761aa5",
            "fdd41ab2826747f3a4cb7b7bc0547fb2",
            "febefdd90b90405fb92bc5378d2c611d",
            "9409f4ad39064ee48a12702fc8ca08ca",
            "3684b6571519456190f408dcd586e5d0",
            "f0085bda00d146c098ef14edf3f8f6b6",
            "58863f2dbd2a48f68812b2af7841948e",
            "601942411a2648e3aa59a6caad151353",
            "8c8a6b967a674614b18812e105430676",
            "a215a82bd1044fd6a8e770c5d4618f38",
            "2a8d7496db0c468b834fe26c27151667",
            "a4dcf5c3e4d04595b76902f0b5589c7d",
            "25f76445741f4de6ab2c680c8c80bd5a",
            "ea913017025e4998b409a3eac4a3a897",
            "6a96cac9e94a4b32935a12fdd65136cd",
            "5d442db77e234fd1b8a471b9445fb17b",
            "1bbcb9f66dff46e996b9806dc99e461e",
            "b0878f4680434cb4ab7bf1c08a9d1914",
            "06ca85f022c746a3bf3ff432d5db9296",
            "c4dbaf8f224f4adc97c935eb4a06b980",
            "bd3e05c35b1a46be99daf80233ed7c1c",
            "aa297279d15f4577ae0523015cbff827",
            "489e1ddfbf514625af3ec366db07dcf5",
            "9fd48fbffcf7425eb4c047d9da883149",
            "5879ff4eccf04933a1f4a62f4ed2d436",
            "c40f4829e53c4f90ad09781bf40eb70b",
            "8d2cd8918ef544efbe9229871225653d",
            "5c2fcec8da7a4bd8aff67ba4273133d8",
            "457987d3a44b4446a97aff411c624106",
            "37682653efe44aeb8d8908ff20af0163",
            "c182f9a658e143cb9602aea848229ce3",
            "42e692ce0c6849a79d69878d8f0f9003",
            "7728f1d27fc045399d790c45f11b2216",
            "6c5da4d950d54a27bc9c3aa6ff5958c8",
            "f9085d0fe2bd42d89cc16ca254b570e9"
          ]
        },
        "id": "A5NfQGGmGLvi",
        "outputId": "395ae154-1c4e-4f27-bb10-e0cca3f9a1b3"
      },
      "outputs": [
        {
          "output_type": "display_data",
          "data": {
            "text/plain": [
              "tokenizer_config.json:   0%|          | 0.00/25.0 [00:00<?, ?B/s]"
            ],
            "application/vnd.jupyter.widget-view+json": {
              "version_major": 2,
              "version_minor": 0,
              "model_id": "7f102622ef004c24b5c1663d2e5dc831"
            }
          },
          "metadata": {}
        },
        {
          "output_type": "display_data",
          "data": {
            "text/plain": [
              "config.json:   0%|          | 0.00/615 [00:00<?, ?B/s]"
            ],
            "application/vnd.jupyter.widget-view+json": {
              "version_major": 2,
              "version_minor": 0,
              "model_id": "531caebf0800405087f8c7e52d53ee73"
            }
          },
          "metadata": {}
        },
        {
          "output_type": "display_data",
          "data": {
            "text/plain": [
              "sentencepiece.bpe.model:   0%|          | 0.00/5.07M [00:00<?, ?B/s]"
            ],
            "application/vnd.jupyter.widget-view+json": {
              "version_major": 2,
              "version_minor": 0,
              "model_id": "febefdd90b90405fb92bc5378d2c611d"
            }
          },
          "metadata": {}
        },
        {
          "output_type": "display_data",
          "data": {
            "text/plain": [
              "tokenizer.json:   0%|          | 0.00/9.10M [00:00<?, ?B/s]"
            ],
            "application/vnd.jupyter.widget-view+json": {
              "version_major": 2,
              "version_minor": 0,
              "model_id": "ea913017025e4998b409a3eac4a3a897"
            }
          },
          "metadata": {}
        },
        {
          "output_type": "stream",
          "name": "stderr",
          "text": [
            "Xet Storage is enabled for this repo, but the 'hf_xet' package is not installed. Falling back to regular HTTP download. For better performance, install the package with: `pip install huggingface_hub[hf_xet]` or `pip install hf_xet`\n",
            "WARNING:huggingface_hub.file_download:Xet Storage is enabled for this repo, but the 'hf_xet' package is not installed. Falling back to regular HTTP download. For better performance, install the package with: `pip install huggingface_hub[hf_xet]` or `pip install hf_xet`\n"
          ]
        },
        {
          "output_type": "display_data",
          "data": {
            "text/plain": [
              "model.safetensors:   0%|          | 0.00/1.12G [00:00<?, ?B/s]"
            ],
            "application/vnd.jupyter.widget-view+json": {
              "version_major": 2,
              "version_minor": 0,
              "model_id": "5879ff4eccf04933a1f4a62f4ed2d436"
            }
          },
          "metadata": {}
        },
        {
          "output_type": "stream",
          "name": "stdout",
          "text": [
            "XLM-R model loaded successfully!\n"
          ]
        }
      ],
      "source": [
        "from transformers import AutoModel, AutoTokenizer\n",
        "\n",
        "model_name = \"xlm-roberta-base\"\n",
        "\n",
        "tokenizer = AutoTokenizer.from_pretrained(model_name)\n",
        "model = AutoModel.from_pretrained(model_name)\n",
        "\n",
        "print(\"XLM-R model loaded successfully!\")"
      ]
    },
    {
      "cell_type": "code",
      "execution_count": null,
      "metadata": {
        "colab": {
          "base_uri": "https://localhost:8080/"
        },
        "id": "vKE9k8--j3yX",
        "outputId": "60b02dfd-01d3-4e3c-d689-ece385f50565"
      },
      "outputs": [
        {
          "output_type": "stream",
          "name": "stderr",
          "text": [
            "2025-04-26 19:54:26,367 - simalign.simalign - INFO - Initialized the EmbeddingLoader with model: xlm-roberta-base\n",
            "INFO:simalign.simalign:Initialized the EmbeddingLoader with model: xlm-roberta-base\n"
          ]
        },
        {
          "output_type": "stream",
          "name": "stdout",
          "text": [
            "\n",
            "Processing de → pl...\n",
            "Alignment saved: simalign_outputs/de-pl-alignments.txt\n",
            "\n",
            "Processing zh → en...\n",
            "Alignment saved: simalign_outputs/zh-en-alignments.txt\n",
            "\n",
            "Processing fr → pl...\n",
            "Alignment saved: simalign_outputs/fr-pl-alignments.txt\n",
            "\n",
            "Processing es → en...\n",
            "Alignment saved: simalign_outputs/es-en-alignments.txt\n",
            "\n",
            "Processing es → es...\n",
            "Alignment saved: simalign_outputs/es-es-alignments.txt\n",
            "\n",
            "Processing de → fr...\n",
            "Alignment saved: simalign_outputs/de-fr-alignments.txt\n",
            "\n",
            "Processing tr → tr...\n",
            "Alignment saved: simalign_outputs/tr-tr-alignments.txt\n",
            "\n",
            "Processing pl → en...\n",
            "Alignment saved: simalign_outputs/pl-en-alignments.txt\n",
            "\n",
            "Processing zh → zh...\n",
            "Alignment saved: simalign_outputs/zh-zh-alignments.txt\n",
            "\n",
            "Processing it → it...\n",
            "Alignment saved: simalign_outputs/it-it-alignments.txt\n",
            "\n",
            "Processing de → de...\n",
            "Alignment saved: simalign_outputs/de-de-alignments.txt\n",
            "\n",
            "Processing fr → fr...\n",
            "Alignment saved: simalign_outputs/fr-fr-alignments.txt\n",
            "\n",
            "Processing ru → ru...\n",
            "Alignment saved: simalign_outputs/ru-ru-alignments.txt\n",
            "\n",
            "Processing de → en...\n",
            "Alignment saved: simalign_outputs/de-en-alignments.txt\n",
            "\n",
            "Processing es → it...\n",
            "Alignment saved: simalign_outputs/es-it-alignments.txt\n",
            "\n",
            "Processing pl → pl...\n",
            "Alignment saved: simalign_outputs/pl-pl-alignments.txt\n",
            "\n",
            "Processing ar → ar...\n",
            "Alignment saved: simalign_outputs/ar-ar-alignments.txt\n"
          ]
        }
      ],
      "source": [
        "from simalign import SentenceAligner\n",
        "import os\n",
        "import pandas as pd\n",
        "import re\n",
        "\n",
        "aligner = SentenceAligner(model=\"xlm-roberta-base\", matching_methods=\"mai\")\n",
        "\n",
        "input_dir = \"simalign_inputs\"\n",
        "output_dir = \"simalign_outputs\"\n",
        "os.makedirs(output_dir, exist_ok=True)\n",
        "\n",
        "def split_sentence(sentence):\n",
        "    # Split by punctuation marks (periods, commas, semicolons, etc.)\n",
        "    return re.split(r'[.?!,;]', sentence)\n",
        "\n",
        "# Iterate through each file in the input directory\n",
        "for file_name in os.listdir(input_dir):\n",
        "    if file_name.endswith(\".csv\"):\n",
        "        lang_pair = file_name.replace(\"_sentence_pairs.csv\", \"\")\n",
        "\n",
        "        if \"-\" in lang_pair:\n",
        "            src_lang, tgt_lang = lang_pair.split(\"-\")\n",
        "        else:\n",
        "            src_lang = tgt_lang = lang_pair\n",
        "\n",
        "        input_path = os.path.join(input_dir, file_name)\n",
        "        output_path = os.path.join(output_dir, f\"{src_lang}-{tgt_lang}-alignments.txt\")\n",
        "\n",
        "        print(f\"\\nProcessing {src_lang} → {tgt_lang}...\")\n",
        "\n",
        "        df = pd.read_csv(input_path)\n",
        "\n",
        "        with open(output_path, \"w\", encoding=\"utf-8\") as f_out:\n",
        "            for _, row in df.iterrows():\n",
        "                src_text = str(row[\"sentence1\"])\n",
        "                tgt_text = str(row[\"sentence2\"])\n",
        "\n",
        "                if not src_text.strip() or not tgt_text.strip():\n",
        "                    continue\n",
        "\n",
        "                src_subsentences = split_sentence(src_text)\n",
        "                tgt_subsentences = split_sentence(tgt_text)\n",
        "\n",
        "                for src_chunk, tgt_chunk in zip(src_subsentences, tgt_subsentences):\n",
        "                    src_tokens = src_chunk.strip().split()\n",
        "                    tgt_tokens = tgt_chunk.strip().split()\n",
        "\n",
        "                    if not src_tokens or not tgt_tokens:\n",
        "                        continue\n",
        "\n",
        "                    alignments = aligner.get_word_aligns(src_tokens, tgt_tokens)\n",
        "\n",
        "                    for src_idx, tgt_idx in alignments[\"inter\"]:\n",
        "                        f_out.write(f\"{src_tokens[src_idx]}\\t{tgt_tokens[tgt_idx]}\\n\")\n",
        "\n",
        "                f_out.write(\"\\n\")\n",
        "\n",
        "        print(f\"Alignment saved: {output_path}\")"
      ]
    },
    {
      "cell_type": "code",
      "source": [
        "alignment_file = \"simalign_outputs/es-it-alignments.txt\"\n",
        "\n",
        "with open(alignment_file, \"r\", encoding=\"utf-8\") as f:\n",
        "    for i, line in enumerate(f):\n",
        "        print(line.strip())\n",
        "        if i == 9:\n",
        "            break"
      ],
      "metadata": {
        "colab": {
          "base_uri": "https://localhost:8080/"
        },
        "id": "JhoEqht3-xAM",
        "outputId": "2e5ac90a-5908-4f74-94df-f8bc3095c13b"
      },
      "execution_count": null,
      "outputs": [
        {
          "output_type": "stream",
          "name": "stdout",
          "text": [
            "Liverpool\tLiverpool\n",
            "Atlético\tAtletico\n",
            "Madrid\tMadrid\n",
            "que\tpartita\n",
            "jugó\tfossimo\n",
            "en\ta\n",
            "marzo\tmarzo\n",
            "a\te\n",
            "la\tla\n",
            "amenaza\toccasione\n"
          ]
        }
      ]
    },
    {
      "cell_type": "code",
      "source": [
        "import os\n",
        "\n",
        "alignment_dir = \"simalign_outputs\"   # your folder with simalign outputs\n",
        "output_train_file = \"alignment_train.tsv\"  # output file\n",
        "\n",
        "# Language map (based on your context, no conversion needed — keep as is)\n",
        "language_map = {\n",
        "    \"de\": \"de\",\n",
        "    \"pl\": \"pl\",\n",
        "    \"zh\": \"zh\",\n",
        "    \"en\": \"en\",\n",
        "    \"fr\": \"fr\",\n",
        "    \"es\": \"es\",\n",
        "    \"tr\": \"tr\",\n",
        "    \"it\": \"it\",\n",
        "    \"ru\": \"ru\",\n",
        "    \"ar\": \"ar\",\n",
        "}\n",
        "\n",
        "with open(output_train_file, \"w\", encoding=\"utf-8\") as train_f:\n",
        "    for file_name in os.listdir(alignment_dir):\n",
        "        if file_name.endswith(\"-alignments.txt\"):\n",
        "            # Example filename: de-pl-alignments.txt\n",
        "            src_lang, tgt_lang = file_name.replace(\"-alignments.txt\", \"\").split(\"-\")\n",
        "\n",
        "            src_lang = language_map.get(src_lang, src_lang)\n",
        "            tgt_lang = language_map.get(tgt_lang, tgt_lang)\n",
        "\n",
        "            file_path = os.path.join(alignment_dir, file_name)\n",
        "\n",
        "            with open(file_path, \"r\", encoding=\"utf-8\") as f:\n",
        "                for line in f:\n",
        "                    line = line.strip()\n",
        "                    if not line:\n",
        "                        continue  # skip empty lines\n",
        "                    if \"\\t\" not in line:\n",
        "                        continue  # skip bad formatted lines\n",
        "\n",
        "                    src_word, tgt_word = line.split(\"\\t\")\n",
        "                    train_f.write(f\"[{src_lang}] {src_word}\\t[{tgt_lang}] {tgt_word}\\n\")\n",
        "\n",
        "print(f\"Training data saved: {output_train_file}\")"
      ],
      "metadata": {
        "colab": {
          "base_uri": "https://localhost:8080/"
        },
        "id": "Iw58NEgbFUnP",
        "outputId": "56ded0b4-f2a1-4529-f072-bceaa5061de1"
      },
      "execution_count": null,
      "outputs": [
        {
          "output_type": "stream",
          "name": "stdout",
          "text": [
            "Training data saved: alignment_train.tsv\n"
          ]
        }
      ]
    },
    {
      "cell_type": "code",
      "source": [
        "alignment_file = \"alignment_train.tsv\"\n",
        "\n",
        "language_pairs = set()\n",
        "\n",
        "with open(alignment_file, \"r\", encoding=\"utf-8\") as f:\n",
        "    for line in f:\n",
        "        line = line.strip()\n",
        "        if not line:\n",
        "            continue\n",
        "\n",
        "        src_part, tgt_part = line.split(\"\\t\")\n",
        "        src_lang = src_part.split(\"]\")[0][1:]  # Get language inside [ ]\n",
        "        tgt_lang = tgt_part.split(\"]\")[0][1:]  # Get language inside [ ]\n",
        "\n",
        "        language_pairs.add((src_lang, tgt_lang))\n",
        "\n",
        "print(\"Language pairs found:\")\n",
        "for pair in sorted(language_pairs):\n",
        "    print(pair)"
      ],
      "metadata": {
        "colab": {
          "base_uri": "https://localhost:8080/"
        },
        "id": "GBHMMFQLGpi_",
        "outputId": "37d3cbd5-edf9-4b23-d458-8aae168d4ddd"
      },
      "execution_count": null,
      "outputs": [
        {
          "output_type": "stream",
          "name": "stdout",
          "text": [
            "Language pairs found:\n",
            "('ar', 'ar')\n",
            "('de', 'de')\n",
            "('de', 'en')\n",
            "('de', 'fr')\n",
            "('de', 'pl')\n",
            "('es', 'en')\n",
            "('es', 'es')\n",
            "('es', 'it')\n",
            "('fr', 'fr')\n",
            "('fr', 'pl')\n",
            "('it', 'it')\n",
            "('pl', 'en')\n",
            "('pl', 'pl')\n",
            "('ru', 'ru')\n",
            "('tr', 'tr')\n",
            "('zh', 'en')\n",
            "('zh', 'zh')\n"
          ]
        }
      ]
    },
    {
      "cell_type": "code",
      "execution_count": 17,
      "metadata": {
        "colab": {
          "base_uri": "https://localhost:8080/"
        },
        "id": "QCl6w3gV0M4O",
        "outputId": "e6d5b993-41d1-49a0-ac17-3bd0b39a2cd8"
      },
      "outputs": [
        {
          "output_type": "stream",
          "name": "stdout",
          "text": [
            "[de] am\t[en] in\n",
            "[de] Ikea-Filiale\t[en] showroom\n",
            "[de] Ikea-Filiale\t[en] Yas\n",
            "[de] sollte\t[en] is\n",
            "[de] die\t[en] The\n",
            "[de] mitteilte\t[en] level\n",
            "[de] mitteilte\t[en] span\n",
            "[de] Doch\t[en] square\n",
            "[de] Kunden\t[en] showroom\n",
            "[de] und\t[en] a\n"
          ]
        }
      ],
      "source": [
        "start_line = 30000\n",
        "num_lines_to_print = 10\n",
        "\n",
        "with open(\"alignment_train.tsv\", \"r\", encoding=\"utf-8\") as f:\n",
        "    for i, line in enumerate(f):\n",
        "        if i < start_line:\n",
        "            continue\n",
        "\n",
        "        print(line.strip())\n",
        "\n",
        "        if i >= start_line + num_lines_to_print - 1:\n",
        "            break"
      ]
    },
    {
      "cell_type": "code",
      "source": [
        "import os\n",
        "import pandas as pd\n",
        "from transformers import XLMRobertaTokenizerFast\n",
        "\n",
        "# Load the XLM-R tokenizer\n",
        "tokenizer = XLMRobertaTokenizerFast.from_pretrained(\"xlm-roberta-base\")\n",
        "\n",
        "input_dir = \"simalign_inputs\"  # <-- your original simalign_inputs directory\n",
        "output_file = \"tokenized_sentences.tsv\"  # <-- output file\n",
        "\n",
        "with open(output_file, \"w\", encoding=\"utf-8\") as f_out:\n",
        "    for file_name in os.listdir(input_dir):\n",
        "        if file_name.endswith(\".csv\"):\n",
        "            lang_pair = file_name.replace(\"_sentence_pairs.csv\", \"\")\n",
        "\n",
        "            if \"-\" in lang_pair:\n",
        "                src_lang, tgt_lang = lang_pair.split(\"-\")\n",
        "            else:\n",
        "                src_lang = tgt_lang = lang_pair\n",
        "\n",
        "            input_path = os.path.join(input_dir, file_name)\n",
        "\n",
        "            print(f\"Processing {src_lang} → {tgt_lang}...\")\n",
        "\n",
        "            df = pd.read_csv(input_path)\n",
        "\n",
        "            for _, row in df.iterrows():\n",
        "                src_sentence = str(row[\"sentence1\"]).strip()\n",
        "\n",
        "                if not src_sentence:\n",
        "                    continue\n",
        "\n",
        "                # Tokenize the **source sentence only**\n",
        "                tokenized = tokenizer(src_sentence, padding=False, truncation=True, return_tensors=\"pt\")\n",
        "                tokenized_str = \" \".join(map(str, tokenized[\"input_ids\"].squeeze().tolist()))\n",
        "\n",
        "                f_out.write(tokenized_str + \"\\n\")\n",
        "\n",
        "print(f\"Tokenization complete! Saved to {output_file}\")"
      ],
      "metadata": {
        "colab": {
          "base_uri": "https://localhost:8080/"
        },
        "id": "RZ4WaQDrGaB5",
        "outputId": "1bbc1284-64f8-442c-b5a6-773ee1d8f793"
      },
      "execution_count": null,
      "outputs": [
        {
          "output_type": "stream",
          "name": "stdout",
          "text": [
            "Processing de → pl...\n",
            "Processing zh → en...\n",
            "Processing fr → pl...\n",
            "Processing es → en...\n",
            "Processing es → es...\n",
            "Processing de → fr...\n",
            "Processing tr → tr...\n",
            "Processing pl → en...\n",
            "Processing zh → zh...\n",
            "Processing it → it...\n",
            "Processing de → de...\n",
            "Processing fr → fr...\n",
            "Processing ru → ru...\n",
            "Processing de → en...\n",
            "Processing es → it...\n",
            "Processing pl → pl...\n",
            "Processing ar → ar...\n",
            "Tokenization complete! Saved to tokenized_sentences.tsv\n"
          ]
        }
      ]
    },
    {
      "cell_type": "code",
      "source": [
        "with open(\"tokenized_sentences.tsv\", \"r\", encoding=\"utf-8\") as f:\n",
        "    for i in range(3):\n",
        "        print(f\"Line {i+1}: {f.readline().strip()}\")"
      ],
      "metadata": {
        "colab": {
          "base_uri": "https://localhost:8080/"
        },
        "id": "wtsfID2yJTbx",
        "outputId": "31fd25d2-4fa9-4857-f58f-54b645d3d43e"
      },
      "execution_count": 18,
      "outputs": [
        {
          "output_type": "stream",
          "name": "stdout",
          "text": [
            "Line 1: 0 7082 9 241834 5879 46 94 48032 34197 542 122 82418 49861 56 152766 737 138319 167 7082 9 241834 16692 5879 37666 13 833 23 2235 102508 184 26535 168 183040 42 115995 5 1004 21859 644 68 58879 4 1918 14637 33 196458 9 568 36655 41818 165 2988 199221 28966 599 5 94 48032 3260 198 491 2235 152333 71 184 22019 82418 404 8230 4 1225 1329 1838 16766 127486 55 67271 1256 16403 7082 9 241834 16692 5879 5 6896 5 3596 11075 16 26824 34165 64 670 134148 111809 18314 39087 127486 33 15105 11111 138319 9 6696 432 51626 23 17955 4858 24044 56 5346 425 1833 183040 42 115995 70128 5 26824 34165 64 647 2187 310 45740 7082 9 241834 16692 5879 456 206 1179 1838 23 8186 7418 491 2315 87 36655 41818 13228 381 196458 76912 5 26824 34165 64 647 2187 310 45740 106 248 305 7082 9 241834 16692 5879 1256 2988 124030 90 136459 63797 54201 4834 58879 38715 14 49180 5 94 48032 3260 198 491 2235 152333 71 184 22019 82418 404 8230 4 1225 1329 1838 16766 127486 55 67271 1256 1339 37519 5879 444 64774 64364 1079 2235 76369 224 24044 1314 49049 1833 23 17955 4 4323 72 833 117 2692 37194 31769 510 183040 42 115995 37666 13 5 94 99266 14450 491 168 16387 5204 1299 2581 4 5094 115656 5486 2581 4 73206 73 61531 2581 22457 644 1918 404 5 167 1004 6 119955 67 138301 12 94 14889 1367 9199 27485 122 82418 1276 152333 6468 20106 5 167 5879 400 90 7 29114 4 509 68 76336 643 4882 150330 443 5 2022 64774 1631 122 29208 4837 122 82418 199271 5 1310 127486 1631 542 2235 21912 217768 2677 117 2692 152632 2610 4 64270 72 152231 19 113303 13 4 68 142 2501 5125 214 185505 33 4 165 219690 72 22457 542 127169 33 749 7307 186 1236 88073 13 4 12930 3807 4077 1563 127081 33632 5 5879 32834 18687 7 824 68 21797 5 1004 37519 491 32132 644 127169 33 12 94 61022 5489 1510 7 542 601 1003 165 20625 7 46 654 6 32854 13 1329 142 165 57 429 4 509 443 5177 56 15649 28668 1004 6 119955 67 138301 12 94 48032 97097 4 1439 2028 23 168 13911 14203 4 14203 12651 107108 8974 4 2772 2046 66 737 24091 4052 127486 23 122 27777 96347 49653 5 1858 97097 654 15694 5 167 1310 224580 224 127486 33 444 64774 64364 39148 444 138319 9 6696 432 51626 566 100102 122 7082 9 6495 2037 18 47704 26933 5 58480 138319 1631 542 153774 2464 163140 122 6849 127486 122 4602 5 58320 49049 9 22418 9 91616 13164 38688 37666 33 5879 22457 4 68 183040 42 112109 117 2692 1079 745 24044 56 37194 31769 18 33565 5 5879 186 82652 13 4 198 34197 65017 4 1421 16766 127486 2\n",
            "Line 2: 0 20080 46610 5 622 6121 397 443 921 566 81 42001 48772 289 224 75864 46045 47582 2146 2875 542 142534 42 146764 34741 5 4887 1312 2235 94670 122 208260 644 909 90052 122 6121 397 9 226486 138950 103663 4 68 122 150885 11679 162821 38624 152385 1248 81716 4 21478 42001 68 873 34447 555 6 229751 47047 14568 18146 165 51681 224 75864 46045 25837 188515 33 644 82781 7 1367 104020 33 122 566 158024 151487 33 87453 33 5 3574 10031 109397 22 18 1029 25704 2772 737 68 140321 644 68 6121 397 5 9318 26793 1276 24996 745 157813 22232 731 14 12512 80460 13 33820 22317 31494 6280 5 78715 10433 107656 491 26764 39 3157 5165 68 152102 4 644 73974 104020 33 198 23 168 22003 14203 81064 3640 217909 188515 33 16435 5 622 98654 33 8449 108 309 2749 4 68 57890 30738 14 69554 960 4 68 563 28399 53516 2749 165 68 313 16395 9832 2749 129422 5 145164 566 48772 289 48 3104 10264 198 599 167319 7 17189 78229 5 12717 1079 188515 33 644 853 110019 12832 65646 1367 55065 122 87453 33 20267 68 6121 397 142 120318 53683 5 59315 122 94670 122 208260 22 18 1029 25704 18825 122 111845 188542 13 644 68 6121 397 4 15111 262 597 67 15105 542 122 71848 737 18493 3232 22317 31494 6280 700 85282 18 4 68 10588 12512 108 309 8449 749 404 1667 6651 2415 5 7473 168 98654 33 16435 198 566 8731 776 141195 4828 188515 33 644 87453 11549 107 720 1367 20 139477 56 4 1079 152102 165 103246 55 24645 1079 122 57890 30738 14 423 165 1079 563 28399 10891 313 16395 55 9832 5 137 64287 13 101529 982 510 186 5433 59348 68 142534 104465 8587 4 68 1329 67792 29216 35738 155 35583 737 566 48772 289 48 3104 128420 67 68 57890 30738 14 23 168 22003 14203 81064 224 204451 90 68 33708 238255 33 34288 103915 2182 5122 42780 5 14154 122 133008 21478 42001 191264 1600 11431 193929 13 122 12779 33 4 83154 26793 8449 57235 11314 6280 5 78715 10433 107656 13 68 6121 397 491 1496 109397 4 4323 8540 7218 18493 3232 22317 11314 6280 8449 5 7473 122 152102 493 128008 13 68 71848 4572 4 1079 122 103246 4828 4 1079 168 98654 33 714 4 1079 122 563 28399 108 309 165 1079 122 313 16395 6731 191264 542 238255 33 34288 179911 5 10333 68 208260 1276 381 21677 6731 873 32784 21122 4 44124 198 833 1079 168 188515 33 286 137 13 1212 5426 11 31570 15236 122 2991 3232 3449 33605 1619 25010 5 873 5814 52110 155 122 6121 397 34831 4 61202 198 23 122 94670 5 1310 6121 397 9 231465 75985 2055 180425 13 6470 1529 7 7 4 122 68 90052 23 1890 6280 10264 4 54201 6280 4882 2\n",
            "Line 3: 0 81004 13 1659 47820 9 20880 46 4887 6 75752 443 8268 44592 9 309 15694 32 1310 10761 81162 19 4986 77730 18 4597 186 5983 112 833 1561 2315 2991 71624 444 100102 23 94 9022 271 44645 56 119604 1339 111697 45506 58879 5 5282 443 8167 19 142 168 81004 33 32 78133 9903 14 173560 72 168 97595 31795 32 16089 168 128124 1667 5165 542 7370 81162 7 116991 91688 1880 3762 9614 700 14311 1510 271 5 5198 12 20779 939 133885 5282 443 39263 13 3220 32 1310 10761 81162 19 4986 116991 91688 8268 44592 9 309 9519 833 1561 2235 102203 23 94 9022 271 44645 56 119604 167 104831 4 114640 13 122 7082 9 839 934 51717 152452 75533 444 120913 140796 491 1446 33824 644 59528 19 491 111950 33820 10717 39 78106 5 5282 381 19453 66558 4 8644 1312 745 81004 21677 749 138950 5 622 32007 7583 24682 5829 112350 4 68 189536 13 224 6 189264 12512 120554 7 21677 34982 599 68229 9136 1299 4 37519 599 7082 9 54601 13976 7 372 302 720 63797 75533 5 622 23 56077 81162 10 35952 12551 429 4 2243 644 10761 81162 19 4986 148479 215775 13 108365 94 212128 6 25035 167 10264 13154 39308 112109 114640 46 491 1446 33824 644 909 77186 59528 23 7370 81162 46 4 1421 8268 833 444 5035 7071 2235 47820 21473 1363 3993 105396 3260 165 833 10743 3334 23 2235 13281 566 101057 39760 4451 31395 23 572 7502 1462 142 122 29755 14269 824 122 134942 73 1428 72 70919 5 21209 28441 15904 17938 11111 2991 71624 1631 6731 49487 5 3370 219396 12 2991 16046 122 643 68 102203 599 161348 33 33 171372 1312 436 22047 7502 7583 133294 4077 1561 51786 15987 429 104612 18 4 48 8268 7 6 189264 59134 152074 737 9260 234346 2610 7583 5 4887 24682 5829 112350 1276 68 81004 13 32 360 122 138309 13653 2028 833 9791 12994 2118 45506 42 120113 404 55961 700 28295 126 5 1858 105012 74922 14035 18 566 86172 81162 19 7372 178397 764 5386 204888 142 168 7082 9 6766 51717 5 1184 56630 86 749 160853 1331 4 1421 198 893 123723 643 123668 13 39344 491 122 103421 8268 44592 9 309 7 82536 4 48211 67 14197 444 120913 491 5 94 284 12665 4257 198 6731 13732 434 115765 12512 141713 23 7370 81162 167 46 909 700 10065 7 7 94 46568 5753 19114 167 133294 2957 20744 52347 7 2590 493 20956 13 94670 122 77721 644 8022 3449 18529 1312 745 141263 1760 5 239366 28190 130781 510 833 21677 921 86172 81162 19 4986 77721 7 372 302 67 63797 122 148479 134865 6949 19 29860 5 94 16474 15105 6731 13732 434 115765 12512 893 123723 53205 4 68 381 235086 13 128124 38953 3993 192 34 9022 97391 1339 37519 599 35943 5445 2\n"
          ]
        }
      ]
    },
    {
      "cell_type": "code",
      "source": [
        "with open(\"tokenized_sentences.tsv\", \"r\", encoding=\"utf-8\") as f:\n",
        "    for i in range(3):\n",
        "        token_ids = list(map(int, f.readline().strip().split()))\n",
        "        decoded_text = tokenizer.decode(token_ids)\n",
        "        print(f\"Decoded Sentence {i+1}: {decoded_text}\")"
      ],
      "metadata": {
        "colab": {
          "base_uri": "https://localhost:8080/"
        },
        "id": "rFbrbgxXJhpQ",
        "outputId": "911298c8-8d13-46b9-bb9d-379c67357d46"
      },
      "execution_count": 19,
      "outputs": [
        {
          "output_type": "stream",
          "name": "stdout",
          "text": [
            "Decoded Sentence 1: <s> US-Präsident Trump – «Ich werde von der Presse schlechter behandelt als Lincoln» US-Präsident Donald Trump stellte sich in einer Fernsehsendung den Wählerfragen. Er ging auf die Medien, einen möglichen Corona-Impfstoff und sein Hilfsprogramm ein. «Ich habe es mit einer feindseligen Presse zu tun, wie sie noch kein Präsident je gesehen hat»: US-Präsident Donald Trump. (3. Mai 2020) Keystone/Oliver Contreras Dem Präsidenten wurden beim Lincoln-Memorial in Washington vom Sender Vox News Wählerfragen gestellt. Keystone/Evan Vucci US-Präsident Donald Trump rechnet noch in diesem Jahr mit einem Impfstoff gegen das Coronavirus. Keystone/Evan Vucci 1 / 6 US-Präsident Donald Trump hat sein aggressives Verhalten gegenüber kritischen Medien verteidigt. «Ich habe es mit einer feindseligen Presse zu tun, wie sie noch kein Präsident je gesehen hat», sagte Trump am Sonntagabend bei einer Veranstaltung des Senders Fox News in Washington, wo er sich per Video eingereichten Wählerfragen stellte. «Sie kommen mit den furchtbarsten, schrecklichsten, voreingenommensten Fragen auf einen zu.» Er fügte hinzu: «94 oder 95 Prozent der Presse sind feindselig.» Trump liess offen, was die Basis für diese Zahlen ist. Am Sonntag war der internationale Tag der Pressefreiheit. Der Präsident war von einer Unterstützerin per Video gefragt worden, warum er Aussagen tätige, die an Mobbing erinnerten, und weshalb er Fragen von Journalisten nicht direkt beantworte, sondern immer wieder abschweife. Trump begrüsste die Frage. Er sagte mit Blick auf Journalisten: «Das Ausmass von Wut und Hass – ich schaue sie an und sage, was ist Euer Problem?» Er fügte hinzu: «Ich glaube, wir haben in den ersten drei, dreieinhalb Jahren, mehr getan als jeder andere Präsident in der Geschichte unseres Landes. Das glaube ich wirklich.» Der Auftritt des Präsidenten am Sonntagabend fand am Lincoln-Memorial im Herzen der US-Hauptstadt statt. Abraham Lincoln war von 1861 bis 1865 der 16. Präsident der USA. Zwei Fox-News-Moderatoren stellten Trump Fragen, die Wähler zuvor per Video bei dem Sender eingereicht hatten. Trump bemerkte, es werde gesagt, dass kein Präsident</s>\n",
            "Decoded Sentence 2: <s> BERLIN. Die AfD ist auch im vierten Quartal des vergangenen Jahres Hauptopfer von politischer Gewalt geworden. Wie aus einer Antwort der Bundesregierung auf eine Anfrage der AfD-Fraktion hervorgeht, die der JUNGE FREIHEIT vorliegt, registrierten die Behörden deutschlandweit zwischen Oktober und Dezember des vergangenen Jahres 112 Attacken auf Büros oder Einrichtungen der im Bundestag vertretenen Parteien. Mit 62 Fällen entfielen mehr als die Hälfte auf die AfD. 58 davon sind laut dem Kriminalpolizeilichen Meldedienst linksmotiviert. Dahinter folgt mit großem Abstand die CDU, auf deren Einrichtungen es in den letzten drei Monaten 2019 zwölf Attacken gab. Die Grünen waren neunmal, die Linkspartei acht mal, die FDP fünfmal und die CSU zweimal betroffen. Bereits im Quartal davor hatte es ein ähnliches Bild gegeben. Auch bei Attacken auf Repräsentanten oder Mitglieder der Parteien liegt die AfD an erster Stelle. Laut der Antwort der Bundesregierung entfielen 87 der 202 Angriffe auf die AfD, 78 Delikte wurden von der Polizei als politisch linksmotiviert gewertet, die restlichen neun waren nicht zuzuordnen. Bei den Grünen gab es im selben Zeitraum 42 Attacken auf Parteivertreter oder -mitglieder, bei CDU und SPD je 23, bei der Linkspartei 15 und bei FDP sowie CSU je zwei. „Linke Konkurrenten befördern die politische Spaltung, die sie sonst beklagen“ Anders als im Quartal davor mußte die Linkspartei in den letzten drei Monaten des Vorjahres die meisten zerstörten Wahlplakate hinnehmen. 77 der 228 registrierten Fälle betraf Plakate der Linken, zehn davon waren rechts motiviert. Dahinter folgte die AfD mit 60 Fällen, wovon 49 politisch links motiviert waren. Bei der CDU verzeichnete die Polizei 48, bei der SPD 42, bei den Grünen 25, bei der FDP neun und bei der CSU keine Fälle von zerstörten Wahlplakaten. Für die Bundesregierung sind das jedoch keine Belege dafür, daß es sich bei den Attacken um „eine systematische Form der Einschüchterung bzw. Bedrohung“ der AfD handle, heißt es in der Antwort. Der AfD-Bundestagsabgeordnete Martin Hess, der die Anfrage initiiert hatte, kritisiert diese</s>\n",
            "Decoded Sentence 3: <s> Berichte über Herz-OP – Wie krank ist Kim Jong-un wirklich? Der nordkoreanische Diktator befinde sich nach einem Eingriff am Herzen in «ernsthafter Gefahr», melden verschiedene Medien. Was ist dran an den Berichten? Sven Hoti Muss er den Hut nehmen? Über den Gesundheitszustand von Nordkoreas Machthaber wird schon lange gemutmasst. Foto: Getty Images Was ist geschehen? Der nordkoreanische Machthaber Kim Jong-un soll sich nach einer Operation in «ernsthafter Gefahr» befinden, berichtete der US-Nachrichtensender CNN am Dienstagmorgen mit Verweis auf Quellen mit geheimdienstlichem Wissen. Was das konkret bedeutet, geht aus dem Bericht jedoch nicht hervor. Die Information sei glaubwürdig, die Schwere des gesundheitlichen Schadens jedoch schwer einschätzbar, sagte ein US-Regierungsbeamter gegenüber CNN. Die in Südkorea ansässige, aber auf nordkoreanische Nachrichten spezialisierte Zeitung «Daily NK» hatte bereits Stunden zuvor berichtet – mit Verweis auf eine einzige Quelle in Nordkorea –, dass Kim sich am 12. April einer Herzoperation unterzogen habe und sich seither in einer Villa im Mount Kumgang Resort in Hyangsan an der Ostküste der Halbinsel erhole. Von Komplikationen beim Eingriff war keine Rede. Im Gegenteil: Ein Teil der für die Operation einberufenen Ärzte aus Pyongyang sei inzwischen wieder nach Hause zurückgekehrt, da Kims gesundheitlicher Zustand als stabil angesehen worden sei. Wie glaubwürdig sind die Berichte? In der Zwischenzeit haben sich Offizielle verschiedener Länder zu Wort gemeldet. Das Präsidialamt im südkoreanischen Seoul hegt Zweifel an den US-Berichten. Es könne nicht bestätigt werden, dass es Anzeichen für ernste Probleme mit der Gesundheit Kim Jong-uns gebe, teilte dieses am Dienstag mit. «Auch gibt es keine ungewöhnlichen Aktivitäten in Nordkorea» – eine gemäss «New York Times» inzwischen zur Standardfloskel verkommene Antwort der Regierung auf Gerüchte aus dem Nachbarland. Ähnlich äusserten sich jedoch auch südkoreanische Regierungsbeamte gegenüber der Nachrichtenagentur Yonhap. «Es wurden keine ungewöhnlichen Anzeichen gefunden, die das angebliche Gesundheitsproblem untermauern könnten», sagte ein hochrang</s>\n"
          ]
        }
      ]
    },
    {
      "cell_type": "code",
      "source": [
        "alignment_map = {}\n",
        "\n",
        "with open(\"alignment_train.tsv\", \"r\", encoding=\"utf-8\") as f:\n",
        "    for line in f:\n",
        "        src, tgt = line.strip().split(\"\\t\")\n",
        "        src_word = src.split(\"] \")[1].strip().lower()\n",
        "        tgt_word = tgt.split(\"] \")[1].strip()\n",
        "\n",
        "        if src_word:\n",
        "            if src_word not in alignment_map:\n",
        "                alignment_map[src_word] = []\n",
        "            alignment_map[src_word].append(tgt_word)"
      ],
      "metadata": {
        "id": "dwpPkl-KJpNC"
      },
      "execution_count": 20,
      "outputs": []
    },
    {
      "cell_type": "code",
      "source": [
        "alignment_words = []\n",
        "\n",
        "with open(\"alignment_train.tsv\", \"r\", encoding=\"utf-8\") as f:\n",
        "    for line in f:\n",
        "        src, tgt = line.strip().split(\"\\t\")\n",
        "        src_word = src.split(\"] \")[1].strip().lower()\n",
        "        alignment_words.append(src_word)\n",
        "\n",
        "missing_words = [word for word in alignment_words if word not in alignment_map]\n",
        "\n",
        "print(f\"Total words in alignment_train_bucc.tsv (including duplicates): {len(alignment_words)}\")\n",
        "print(f\"Total words in alignment_map (including duplicates): {len(alignment_map)}\")\n",
        "print(f\"Total missing words (including duplicates): {len(missing_words)}\")\n",
        "\n",
        "if missing_words:\n",
        "    print(\"Example missing words:\", missing_words[:10])"
      ],
      "metadata": {
        "colab": {
          "base_uri": "https://localhost:8080/"
        },
        "id": "4tsaQvR3KbEq",
        "outputId": "2086aa5a-2fa7-4254-9bf2-a997be0be0f9"
      },
      "execution_count": 21,
      "outputs": [
        {
          "output_type": "stream",
          "name": "stdout",
          "text": [
            "Total words in alignment_train_bucc.tsv (including duplicates): 291942\n",
            "Total words in alignment_map (including duplicates): 82456\n",
            "Total missing words (including duplicates): 0\n"
          ]
        }
      ]
    },
    {
      "cell_type": "code",
      "source": [
        "import torch\n",
        "import random\n",
        "from transformers import XLMRobertaTokenizerFast\n",
        "\n",
        "# Load the tokenizer\n",
        "tokenizer = XLMRobertaTokenizerFast.from_pretrained(\"xlm-roberta-base\")\n",
        "\n",
        "# Ensure that CUDA is available, otherwise fallback to CPU\n",
        "device = torch.device(\"cuda\" if torch.cuda.is_available() else \"cpu\")\n",
        "print(f\"Using device: {device}\")\n",
        "\n",
        "# Masking probability\n",
        "MASK_PROB = 0.2\n",
        "\n",
        "# AWP Masking function\n",
        "def apply_awp_masking(tokenized_input, tokenizer, alignment_map, device):\n",
        "    input_ids = tokenized_input[\"input_ids\"].clone().to(device)  # Move input tensor to GPU (if available)\n",
        "    labels = torch.full_like(input_ids, -100).to(device)  # -100 is ignored in loss calculation\n",
        "\n",
        "    tokens = tokenizer.convert_ids_to_tokens(input_ids.squeeze().tolist())\n",
        "    words = tokenizer.convert_tokens_to_string(tokens).split()  # Convert tokens to words\n",
        "    mask = torch.zeros_like(input_ids, dtype=torch.bool).to(device)  # Move mask tensor to GPU\n",
        "\n",
        "    # Apply mask based on the alignment map and mask probability\n",
        "    for i, word in enumerate(words):\n",
        "        word_lower = word.lower()\n",
        "        if word_lower in alignment_map and random.random() < MASK_PROB:\n",
        "            mask[0, i] = True  # Mark for masking\n",
        "\n",
        "    # Masking strategy (80% [MASK], 10% random, 10% unchanged)\n",
        "    rand = torch.rand(input_ids.shape, device=device)\n",
        "    mask_80 = mask & (rand < 0.8)\n",
        "    mask_10_rand = mask & (rand >= 0.8) & (rand < 0.9)\n",
        "\n",
        "    input_ids[mask_80] = tokenizer.mask_token_id  # Replace with [MASK]\n",
        "\n",
        "    # Replace 10% of masked tokens with random tokens\n",
        "    random_tokens = torch.randint(len(tokenizer), input_ids.shape, dtype=torch.long, device=device)\n",
        "    input_ids[mask_10_rand] = random_tokens[mask_10_rand]\n",
        "\n",
        "    # Replace masked words with aligned words (if available)\n",
        "    for i, word in enumerate(words):\n",
        "        word_lower = word.lower()\n",
        "        if mask[0, i] and word_lower in alignment_map:\n",
        "            aligned_word = random.choice(alignment_map[word_lower])  # Pick a random aligned word\n",
        "            aligned_tokens = tokenizer.tokenize(aligned_word)\n",
        "\n",
        "            if aligned_tokens:\n",
        "                aligned_token_ids = tokenizer.convert_tokens_to_ids(aligned_tokens)\n",
        "\n",
        "                # Ensure no unknown tokens\n",
        "                if all(token_id != tokenizer.unk_token_id for token_id in aligned_token_ids):\n",
        "                    aligned_token_ids = torch.tensor(aligned_token_ids, dtype=torch.long, device=device)\n",
        "\n",
        "                    # Replace labels with aligned word tokens\n",
        "                    num_tokens_to_replace = min(len(aligned_token_ids), len(labels[0]) - i)\n",
        "                    labels[0, i:i+num_tokens_to_replace] = aligned_token_ids[:num_tokens_to_replace]\n",
        "                else:\n",
        "                    labels[0, i] = tokenizer.mask_token_id  # If unknown, keep [MASK]\n",
        "            else:\n",
        "                labels[0, i] = -100  # If no aligned word is found, set to -100 (ignore token)\n",
        "\n",
        "    return input_ids, labels\n",
        "\n",
        "# File for masked output\n",
        "masked_output_file = \"masked_aligned_output.tsv\"\n",
        "\n",
        "# Read tokenized sentences and apply AWP masking\n",
        "with open(\"tokenized_sentences.tsv\", \"r\", encoding=\"utf-8\") as f_in, open(masked_output_file, \"w\", encoding=\"utf-8\") as f_out:\n",
        "    for line in f_in:\n",
        "        tokenized_ids = list(map(int, line.strip().split()))\n",
        "        tokenized_tensor = torch.tensor(tokenized_ids).unsqueeze(0).to(device)  # Convert to tensor and move to GPU\n",
        "\n",
        "        # Apply AWP masking\n",
        "        masked_input_ids, masked_labels = apply_awp_masking({\"input_ids\": tokenized_tensor}, tokenizer, alignment_map, device)\n",
        "\n",
        "        # Convert tensors back to strings\n",
        "        masked_input_str = \" \".join(map(str, masked_input_ids.squeeze().tolist()))\n",
        "        masked_label_str = \" \".join(map(str, masked_labels.squeeze().tolist()))\n",
        "\n",
        "        # Write the masked sentence and its labels to the output file\n",
        "        f_out.write(masked_input_str + \"\\t\" + masked_label_str + \"\\n\")\n",
        "\n",
        "print(f\"AWP Masking complete! Saved to {masked_output_file}\")"
      ],
      "metadata": {
        "colab": {
          "base_uri": "https://localhost:8080/"
        },
        "id": "ZDfS-ZBKMulE",
        "outputId": "97f73f76-0aea-4d67-d8d6-fc331610e1fa"
      },
      "execution_count": null,
      "outputs": [
        {
          "output_type": "stream",
          "name": "stdout",
          "text": [
            "Using device: cuda\n",
            "AWP Masking complete! Saved to masked_aligned_output.tsv\n"
          ]
        }
      ]
    },
    {
      "cell_type": "code",
      "source": [
        "file_path = \"masked_aligned_output.tsv\"\n",
        "\n",
        "with open(file_path, \"r\", encoding=\"utf-8\") as f:\n",
        "    for i, line in enumerate(f):\n",
        "        print(line.strip())\n",
        "        if i == 4:\n",
        "            break"
      ],
      "metadata": {
        "colab": {
          "base_uri": "https://localhost:8080/"
        },
        "id": "ew_6e1wsSeq6",
        "outputId": "92e6ba02-c8fe-4799-a75f-ea332446f864"
      },
      "execution_count": 22,
      "outputs": [
        {
          "output_type": "stream",
          "name": "stdout",
          "text": [
            "0 7082 9 241834 5879 46 250001 48032 34197 250001 250001 82418 49861 250001 152766 250001 138319 167 7082 250001 241834 16692 5879 37666 13 250001 23 2235 102508 184 250001 168 183040 42 115995 5 1004 21859 644 68 58879 4 250001 14637 250001 250001 9 568 36655 41818 165 2988 199221 28966 599 5 94 250001 3260 198 491 2235 152333 250001 184 22019 82418 404 8230 4 1225 1329 1838 16766 127486 55 67271 1256 16403 7082 9 241834 143779 5879 5 6896 250001 3596 11075 16 26824 34165 58577 670 134148 111809 18314 126796 250001 33 15105 11111 138319 9 6696 250001 51626 23 17955 4858 24044 56 5346 425 1833 250001 42 250001 70128 5 250001 34165 64 250001 2187 310 250001 7082 9 241834 16692 5879 456 206 1179 1838 23 8186 7418 250001 2315 87 36655 41818 13228 381 196458 76912 5 26824 34165 250001 647 2187 250001 45740 143826 248 305 7082 9 241834 16692 5879 1256 2988 124030 90 250001 63797 250001 4834 58879 250001 14 49180 209109 94 48032 250001 198 491 2235 152333 71 184 22019 82418 250001 8230 4 250001 1329 1838 16766 127486 55 67271 1256 1339 37519 5879 444 64774 64364 250001 2235 76369 224 24044 1314 49049 250001 23 17955 250001 4323 72 833 117 2692 37194 250001 510 183040 42 115995 37666 13 5 94 99266 14450 491 168 16387 5204 1299 250001 4 5094 115656 5486 2581 250001 73206 73 250001 250001 22457 644 1918 250001 5 167 1004 250001 119955 67 250001 250001 94 14889 1367 9199 27485 122 82418 1276 152333 250001 20106 5 167 5879 400 90 7 250001 4 509 68 76336 643 4882 150330 250001 5 2022 64774 1631 122 29208 4837 122 82418 199271 5 1310 127486 1631 250001 2235 21912 217768 2677 117 2692 152632 2610 4 64270 72 152231 19 113303 13 4 68 142 2501 5125 214 185505 33 4 165 219690 72 22457 542 127169 33 749 7307 186 1236 88073 13 4 12930 3807 4077 1563 127081 33632 5 5879 32834 18687 7 824 68 21797 5 1004 37519 491 32132 644 127169 33 12 94 61022 5489 1510 7 542 601 1003 165 20625 7 46 654 6 32854 13 1329 142 165 57 429 4 509 443 5177 56 15649 28668 1004 6 119955 67 138301 12 94 48032 97097 4 1439 2028 23 168 13911 14203 4 14203 12651 107108 8974 4 2772 2046 66 737 24091 4052 127486 23 122 27777 96347 49653 5 1858 97097 654 15694 5 167 1310 224580 224 127486 33 444 64774 64364 39148 444 138319 9 6696 432 51626 566 100102 122 7082 9 6495 2037 18 47704 26933 5 58480 138319 1631 542 153774 2464 163140 122 6849 127486 122 4602 5 58320 49049 9 22418 9 91616 13164 38688 37666 33 5879 22457 4 68 183040 42 112109 117 2692 1079 745 24044 56 37194 31769 18 33565 5 5879 186 82652 13 4 198 34197 65017 4 1421 16766 127486 2\t-100 -100 -100 -100 -100 -100 111 -100 -100 122 6 70 214 65641 45956 6557 48802 12 -100 1918 -100 -100 -100 -100 -100 644 -100 -100 -100 -100 5492 24842 1717 -100 -100 -100 -100 -100 -100 -100 -100 -100 531 -100 17106 19927 7 -100 -100 -100 -100 -100 -100 -100 -100 -100 -100 707 -100 -100 -100 -100 -100 99 -100 -100 -100 -100 -100 -100 -100 -100 -100 -100 -100 -100 -100 -100 -100 -100 -100 -100 47171 -100 -100 -100 168 -100 -100 -100 -100 -100 20 -100 -100 -100 -100 1221 2988 -100 -100 -100 129330 -100 -100 56888 -100 -100 -100 -100 -100 -100 -100 -100 -100 68 -100 33720 -100 -100 3657 40255 67 31252 603 -100 1079 -100 -100 -100 -100 -100 -100 -100 -100 -100 -100 -100 -100 14361 -100 -100 -100 -100 -100 -100 -100 -100 -100 -100 -100 23 -100 -100 77185 167191 46 -100 -100 -100 -100 -100 -100 -100 -100 -100 -100 -100 1421 -100 13485 -100 -100 120479 -100 -100 64774 12177 77265 126499 -100 -100 -100 -100 -100 -100 -100 -100 19957 -100 -100 34118 -100 -100 -100 -100 -100 -100 -100 -100 -100 -100 -100 -100 -100 122 -100 -100 -100 -100 -100 -100 1838 -100 -100 1631 -100 -100 -100 -100 -100 -100 644 -100 -100 61727 33 -100 -100 -100 -100 -100 -100 -100 -100 -100 -100 -100 1880 -100 -100 -100 -100 -100 52 568 -100 1276 491 -100 -100 -100 190 -100 -100 -100 70980 67553 -100 7906 79063 56 -100 -100 -100 -100 -100 -100 -100 -100 140654 -100 -100 -100 -100 -100 -100 -100 23 110613 -100 -100 -100 5585 39608 39608 111 -100 -100 -100 -100 -100 -100 -100 -100 -100 -100 -100 -100 -100 -100 61024 51086 -100 -100 -100 -100 -100 -100 -100 -100 -100 -100 -100 -100 -100 -100 -100 -100 -100 -100 -100 -100 -100 -100 -100 -100 -100 -100 -100 -100 -100 -100 -100 -100 -100 -100 -100 -100 -100 -100 -100 -100 -100 -100 -100 -100 -100 -100 -100 -100 -100 -100 -100 -100 -100 -100 -100 -100 -100 -100 -100 -100 -100 -100 -100 -100 -100 -100 -100 -100 -100 -100 -100 -100 -100 -100 -100 -100 -100 -100 -100 -100 -100 -100 -100 -100 -100 -100 -100 -100 -100 -100 -100 -100 -100 -100 -100 -100 -100 -100 -100 -100 -100 -100 -100 -100 -100 -100 -100 -100 -100 -100 -100 -100 -100 -100 -100 -100 -100 -100 -100 -100 -100 -100 -100 -100 -100 -100 -100 -100 -100 -100 -100 -100 -100 -100 -100 -100 -100 -100 -100 -100 -100 -100 -100 -100 -100 -100 -100 -100 -100 -100 -100 -100 -100 -100 -100 -100 -100 -100 -100 -100 -100 -100 -100 -100 -100 -100 -100 -100 -100 -100 -100 -100 -100 -100 -100 -100 -100 -100 -100 -100 -100 -100 -100 -100 -100 -100 -100 -100 -100 -100 -100 -100 -100 -100 -100 -100 -100 -100 -100 -100 -100 -100 -100 -100 -100 -100 -100 -100 -100\n",
            "0 20080 46610 5 622 6121 397 443 921 566 250001 250001 48772 289 224 75864 46045 47582 2146 2875 542 142534 42 250001 34741 250001 4887 1312 2235 94670 122 208260 644 909 90052 122 6121 397 9 226486 138950 250001 4 68 122 150885 11679 162821 38624 152385 250001 81716 4 21478 250001 68 873 250001 555 6 250001 47047 14568 18146 250001 250001 224 75864 250001 25837 250001 33 250001 82781 7 1367 104020 33 122 566 158024 151487 33 87453 33 5 3574 10031 109397 22 18 1029 25704 2772 737 68 140321 644 68 250001 397 5 9318 26793 1276 24996 745 250001 22232 731 14 12512 250001 13 250001 22317 31494 6280 250001 78715 10433 107656 250001 26764 39 3157 5165 68 152102 4 644 73974 128691 33 198 23 168 22003 14203 81064 3640 217909 188515 33 250001 5 622 98654 33 8449 108 250001 2749 4 68 57890 30738 14 69554 250001 250001 250001 563 250001 53516 2749 250001 68 313 16395 9832 2749 250001 5 145164 566 250001 289 48 3104 10264 198 599 167319 7 17189 78229 5 12717 1079 188515 33 644 853 110019 12832 65646 1367 55065 250001 87453 33 20267 250001 6121 397 142 120318 93789 5 59315 122 94670 122 208260 22 18 1029 250001 18825 122 250001 188542 13 644 68 6121 250001 4 15111 262 597 67 250001 542 122 71848 250001 18493 3232 22317 31494 6280 700 85282 18 4 68 250001 250001 108 309 8449 749 404 1667 6651 2415 250001 7473 168 98654 33 16435 198 566 8731 776 141195 4828 188515 33 644 87453 11549 250001 720 1367 20 139477 56 250001 250001 152102 28283 103246 55 24645 1079 122 57890 30738 14 250001 165 1079 250001 28399 10891 313 16395 55 9832 5 137 64287 13 101529 982 510 186 5433 59348 68 142534 104465 8587 4 68 1329 67792 29216 35738 155 35583 737 566 48772 289 48 3104 128420 67 68 57890 30738 14 23 168 22003 14203 81064 224 204451 90 68 33708 238255 33 34288 103915 2182 5122 42780 5 14154 122 133008 21478 42001 191264 1600 11431 193929 13 122 12779 33 4 83154 26793 8449 57235 11314 6280 5 78715 10433 107656 13 68 6121 397 491 1496 109397 4 4323 8540 7218 18493 3232 22317 11314 6280 8449 5 7473 122 152102 493 128008 13 68 71848 4572 4 1079 122 103246 4828 4 1079 168 98654 33 714 4 1079 122 563 28399 108 309 165 1079 122 313 16395 6731 191264 542 238255 33 34288 179911 5 10333 68 208260 1276 381 21677 6731 873 32784 21122 4 44124 198 833 1079 168 188515 33 286 137 13 1212 5426 11 31570 15236 122 2991 3232 3449 33605 1619 25010 5 873 5814 52110 155 122 6121 397 34831 4 61202 198 23 122 94670 5 1310 6121 397 9 231465 75985 2055 180425 13 6470 1529 7 7 4 122 68 90052 23 1890 6280 10264 4 54201 6280 4882 2\t-100 -100 -100 -100 -100 -100 -100 -100 -100 -100 903 3640 -100 -100 -100 -100 -100 -100 -100 -100 -100 -100 -100 23 -100 197109 -100 -100 -100 -100 764 -100 -100 -100 -100 -100 -100 -100 -100 -100 -100 45064 -100 -100 -100 -100 -100 -100 -100 -100 114419 -100 -100 -100 72948 595 -100 1105 189982 -100 188316 -100 -100 -100 51521 622 -100 -100 111 -100 27072 13 1608 112 7220 -100 -100 -100 -100 -100 -100 -100 -100 -100 -100 -100 -100 -100 -100 -100 -100 -100 -100 -100 -100 -100 -100 -100 -100 70 -100 -100 -100 -100 -100 -100 -100 70 -100 -100 -100 -100 444 -100 8 7077 53 -100 115802 86 -100 -100 1561 -100 -100 -100 -100 -100 -100 -100 -100 -100 18343 127 19 -100 -100 -100 -100 -100 -100 -100 -100 -100 73930 -100 23 -100 -100 -100 -100 2556 -100 -100 -100 -100 -100 -100 -100 68 6 10 5183 749 -100 -100 1310 -100 -100 -100 -100 -100 1733 -100 -100 -100 353 39737 108728 -100 -100 -100 -100 -100 -100 -100 -100 -100 -100 -100 -100 -100 -100 -100 -100 -100 -100 -100 -100 224 -100 -100 -100 727 -100 -100 -100 -100 444 -100 -100 -100 -100 -100 -100 68 -100 -100 90926 -100 -100 61187 56 -100 -100 -100 -100 70 -100 -100 -100 -100 -100 111 -100 -100 -100 183424 -100 -100 -100 -100 -100 -100 -100 -100 -100 -100 611 28731 19 -100 -100 -100 -100 -100 -100 -100 71848 -100 -100 -100 -100 -100 -100 -100 -100 -100 -100 -100 -100 -100 -100 -100 -100 15 69909 397 16 -100 -100 165 122 -100 621 -100 -100 -100 -100 -100 -100 -100 -100 23 -100 -100 145931 13 -100 -100 -100 -100 -100 -100 -100 -100 -100 -100 -100 -100 -100 -100 -100 -100 95231 18876 13644 5868 -100 -100 -100 -100 -100 -100 -100 -100 -100 -100 -100 -100 -100 -100 -100 -100 -100 -100 -100 -100 -100 -100 -100 -100 -100 -100 -100 -100 -100 -100 -100 -100 -100 -100 -100 -100 -100 -100 -100 -100 -100 -100 -100 -100 -100 -100 -100 -100 -100 -100 -100 -100 -100 -100 -100 -100 -100 -100 -100 -100 -100 -100 -100 -100 -100 -100 -100 -100 -100 -100 -100 -100 -100 -100 -100 -100 -100 -100 -100 -100 -100 -100 -100 -100 -100 -100 -100 -100 -100 -100 -100 -100 -100 -100 -100 -100 -100 -100 -100 -100 -100 -100 -100 -100 -100 -100 -100 -100 -100 -100 -100 -100 -100 -100 -100 -100 -100 -100 -100 -100 -100 -100 -100 -100 -100 -100 -100 -100 -100 -100 -100 -100 -100 -100 -100 -100 -100 -100 -100 -100 -100 -100 -100 -100 -100 -100 -100 -100 -100 -100 -100 -100 -100 -100 -100 -100 -100 -100 -100 -100 -100 -100 -100 -100 -100 -100 -100 -100 -100 -100 -100 -100 -100 -100 -100 -100 -100 -100 -100 -100 -100 -100 -100 -100 -100 -100 -100 -100 -100 -100 -100 -100 -100 -100\n",
            "0 81004 13 1659 47820 9 250001 46 4887 6 75752 443 8268 44592 250001 309 15694 32 1310 10761 81162 250001 4986 77730 18 4597 186 5983 112 833 250001 2315 2991 71624 444 100102 23 94 9022 271 44645 56 119604 1339 111697 45506 58879 5 5282 443 8167 19 142 168 81004 33 32 78133 9903 14 173560 72 168 97595 31795 250001 16089 168 128124 1667 5165 542 7370 81162 250001 116991 91688 1880 3762 250001 700 250001 1510 271 250001 5198 12 20779 939 133885 5282 250001 39263 13 3220 32 1310 10761 81162 19 4986 116991 91688 8268 44592 9 309 250001 833 1561 2235 102203 23 250001 9022 271 44645 51741 119604 167 104831 4 250001 13 122 7082 9 839 934 51717 152452 75533 444 120913 140796 491 1446 33824 644 59528 19 250001 111950 250001 250001 39 78106 116505 5282 250001 19453 66558 4 8644 1312 745 81004 21677 749 138950 250001 622 32007 7583 24682 5829 250001 250001 68 189536 13 224 6 189264 250001 43469 7 21677 250001 599 68229 250001 1299 4 37519 599 7082 9 54601 250001 7 250001 302 720 63797 75533 250001 622 250001 56077 81162 10 35952 12551 429 250001 2243 644 10761 81162 19 4986 250001 215775 13 108365 94 212128 250001 250001 167 10264 13154 250001 112109 114640 46 491 1446 33824 644 250001 77186 59528 23 7370 250001 46 4 250001 8268 833 444 103491 250001 2235 47820 21473 1363 3993 105396 3260 165 833 10743 3334 23 2235 13281 566 250001 39760 4451 31395 23 572 7502 1462 142 122 29755 14269 250001 122 1555 250001 250001 250001 70919 250001 21209 28441 15904 17938 11111 250001 71624 215247 6731 49487 5 3370 219396 12 2991 16046 122 643 68 102203 599 161348 33 33 171372 1312 436 22047 7502 7583 133294 4077 1561 51786 15987 429 104612 18 4 48 8268 7 6 189264 59134 152074 737 9260 234346 2610 7583 5 4887 24682 5829 112350 1276 68 81004 13 32 360 122 138309 13653 2028 833 9791 12994 2118 45506 42 120113 404 55961 700 28295 126 5 1858 105012 74922 14035 18 566 86172 81162 19 7372 178397 764 5386 204888 142 168 7082 9 6766 51717 5 1184 56630 86 749 160853 1331 4 1421 198 893 123723 643 123668 13 39344 491 122 103421 8268 44592 9 309 7 82536 4 48211 67 14197 444 120913 491 5 94 284 12665 4257 198 6731 13732 434 115765 12512 141713 23 7370 81162 167 46 909 700 10065 7 7 94 46568 5753 19114 167 133294 2957 20744 52347 7 2590 493 20956 13 94670 122 77721 644 8022 3449 18529 1312 745 141263 1760 5 239366 28190 130781 510 833 21677 921 86172 81162 19 4986 77721 7 372 302 67 63797 122 148479 134865 6949 19 29860 5 94 16474 15105 6731 13732 434 115765 12512 893 123723 53205 4 68 381 235086 13 128124 38953 3993 192 34 9022 97391 1339 37519 599 35943 5445 2\t-100 -100 -100 -100 -100 -100 6 52308 -100 -100 -100 -100 -100 -100 160 238433 238 -100 -100 -100 -100 1791 -100 -100 -100 -100 -100 -100 -100 -100 142 -100 -100 -100 -100 -100 -100 -100 -100 -100 -100 -100 -100 542 -100 -100 -100 -100 -100 -100 -100 -100 -100 -100 -100 -100 -100 7370 81162 -100 -100 -100 -100 -100 -100 195311 -100 -100 -100 -100 -100 -100 -100 -100 168 -100 -100 -100 -100 71644 56 410 -100 -100 165 -100 -100 -100 -100 -100 -100 2843 -100 -100 -100 -100 25615 -100 -100 -100 -100 -100 -100 -100 -100 -100 -100 2388 -100 -100 -100 -100 -100 6 58944 -100 -100 60289 2600 -100 -100 -100 20 -100 -100 -100 -100 -100 -100 -100 -100 -100 -100 -100 -100 -100 -100 -100 -100 -100 -100 2022 -100 543 122 -100 -100 15105 -100 15426 7 -100 -100 -100 -100 2356 -100 -100 -100 -100 360 -100 -100 -100 -100 -100 542 168 7 5097 -100 -100 -100 -100 34776 66724 19 -100 643 -100 -100 196 53 -100 -100 -100 -100 -100 -100 51786 -100 13485 -100 -100 -100 -100 123682 -100 165 -100 -100 -100 -100 -100 -100 566 -100 -100 -100 -100 -100 -100 196458 76912 -100 -100 -100 -100 5443 229 151679 27335 184 142 113503 12524 19 -100 -100 -100 -100 360 -100 -100 -100 -100 2772 16587 198 71848 -100 -100 -100 9881 2988 -100 -100 -100 -100 -100 -100 -100 -100 -100 -100 -100 -100 -100 -100 -100 5879 -100 -100 -100 -100 -100 -100 -100 -100 -100 -100 -100 381 -100 52 97886 833 91377 -100 75 1474 45904 56 865 -100 44 -100 756 -100 -100 -100 -100 -100 -100 -100 -100 -100 -100 -100 -100 -100 -100 -100 -100 -100 -100 -100 -100 -100 -100 -100 -100 -100 -100 -100 -100 -100 -100 -100 -100 -100 -100 -100 -100 -100 -100 -100 -100 -100 -100 -100 -100 -100 -100 -100 -100 -100 -100 -100 -100 -100 -100 -100 -100 -100 -100 -100 -100 -100 -100 -100 -100 -100 -100 -100 -100 -100 -100 -100 -100 -100 -100 -100 -100 -100 -100 -100 -100 -100 -100 -100 -100 -100 -100 -100 -100 -100 -100 -100 -100 -100 -100 -100 -100 -100 -100 -100 -100 -100 -100 -100 -100 -100 -100 -100 -100 -100 -100 -100 -100 -100 -100 -100 -100 -100 -100 -100 -100 -100 -100 -100 -100 -100 -100 -100 -100 -100 -100 -100 -100 -100 -100 -100 -100 -100 -100 -100 -100 -100 -100 -100 -100 -100 -100 -100 -100 -100 -100 -100 -100 -100 -100 -100 -100 -100 -100 -100 -100 -100 -100 -100 -100 -100 -100 -100 -100 -100 -100 -100 -100 -100 -100 -100 -100 -100 -100 -100 -100 -100 -100 -100 -100 -100 -100 -100 -100 -100 -100 -100 -100 -100 -100 -100 -100 -100 -100 -100 -100 -100 -100 -100 -100 -100 -100 -100 -100 -100 -100 -100 -100 -100 -100 -100 -100 -100 -100 -100 -100 -100 -100 -100 -100\n",
            "0 79265 5443 9 32338 294 9 198608 2027 52260 527 18687 4063 2388 66410 250001 22854 169 12 94 24988 54987 19 165 1079 34618 3232 434 973 250001 250001 100110 33 167 250001 134763 53976 122 345 20429 165 25841 11733 4 1421 68 2471 250001 921 4077 250001 92205 1331 4 29095 250001 149225 68 873 3232 14436 7570 7462 6534 206 644 169846 165 68 7906 4077 142 9047 23849 97485 15987 104612 250001 5 1310 13653 82536 250001 9510 3993 372 85282 67 2471 250001 542 250001 4 68 643 381 66562 90 250001 31097 250001 4 921 250001 122 128124 9 165 353 86945 7 31225 74896 4 11733 66410 1015 372 16159 33605 2027 52260 527 18687 4063 250001 180432 112074 250001 622 66410 250001 1276 250001 122 196458 108396 94651 286 1659 496 27485 599 233573 250001 5550 4882 183080 1312 24993 89173 1659 77214 33 32 1858 1876 332 749 22378 5 622 893 250001 56 33565 250001 737 68 66410 1015 66562 27072 112992 33 4 404 28326 15474 1659 250001 174577 250001 196458 250001 5 12080 43477 250001 992 138690 85365 250001 5980 26652 168 3157 250001 90522 5 19895 1667 15539 4 1421 68 2471 29764 164035 250001 112109 1659 100110 18 8449 250001 1858 250001 404 8186 27174 987 169 6 48157 4 250001 9510 250001 1256 250001 35919 250001 2235 34075 72 71427 833 68 250001 250001 164035 13 4077 4 921 2964 250001 142 250001 54542 404 32818 250001 19 15539 5 23713 381 2772 737 1649 599 46992 250001 2242 16763 32 1184 44240 833 13404 286 223891 53603 237213 5 360 168 6 152030 32103 1880 122 189110 27072 24064 216396 4 250001 833 250001 97064 4124 53262 814 4134 6569 5 360 155883 33 44466 33 250001 833 68 66410 250001 3807 4077 224837 72 40751 4 443 3700 250001 250001 105998 5 46193 9703 4124 599 167319 7 6438 33 6723 32 1858 30662 1439 749 5 7896 198 833 1563 128008 4 1421 68 149225 68 873 3232 14436 7570 7462 6534 206 644 169846 165 68 7906 4077 142 9047 23849 97485 15987 104612 33 4 3700 1880 122 34618 27072 6 92205 5 845 60915 84052 13 153245 1276 4 112310 51 89157 56 1880 122 34618 216396 5 27642 125303 19 68 127697 97586 7 110797 177 4921 5 992 141344 26793 1331 833 17682 21110 4834 1225 68 125965 223 9 165 68 31933 54283 74896 749 221 6534 206 72 71427 5 622 155342 7570 7462 122 2471 29764 164035 13 142 84795 54542 1276 48211 7 38040 5 48224 96603 727 491 2235 2076 5951 40396 32 1858 161677 26793 1563 4 1225 833 68 1446 4134 14 8587 224 97064 60986 18 44726 6704 5 168522 1439 1791 49861 13 148479 20991 4 13286 1439 2234 22099 142 4882 155342 7570 7462 17142 115765 33 5 35542 1256 6179 491 122 220038 404 8230 4 491 122 68 66410 184 14322 644 11157 29530 2\t-100 -100 -100 -100 -100 -100 -100 -100 -100 -100 -100 -100 -100 -100 -100 122 -100 -100 -100 -100 -100 -100 -100 -100 -100 -100 -100 -100 -100 24284 68 -100 -100 -100 23 -100 -100 -100 -100 -100 -100 -100 -100 -100 -100 -100 -100 160 -100 -100 79 -100 -100 -100 -100 1957 -100 -100 -100 -100 -100 -100 -100 -100 -100 -100 -100 -100 -100 -100 -100 -100 -100 -100 -100 -100 -100 3993 -100 -100 -100 -100 68 -100 -100 -100 -100 -100 -100 40344 -100 542 -100 -100 -100 -100 -100 -100 66410 1015 100230 90509 -100 34844 -100 -100 -100 -100 -100 -100 -100 -100 -100 -100 -100 -100 -100 -100 -100 -100 -100 -100 -100 -100 -100 122 -100 -100 14197 -100 -100 622 -100 101936 -100 -100 -100 -100 -100 -100 -100 -100 -100 -100 6 92586 -100 -100 -100 -100 -100 -100 -100 -100 -100 -100 -100 -100 -100 -100 -100 -100 -100 9168 -100 -100 97629 -100 -100 -100 -100 -100 -100 -100 -100 -100 -100 -100 -100 -100 70 -100 24696 -100 622 -100 -100 -100 68 -100 -100 -100 136 -100 -100 -100 -100 1421 -100 -100 -100 -100 -100 -100 -100 -100 -100 -100 -100 18782 214 -100 -100 -100 -100 102126 -100 5489 33824 1619 -100 -100 -100 -100 -100 -100 146619 -100 581 -100 122 -100 4612 92 -100 -100 -100 -100 -100 764 893 34715 56 -100 -100 -100 -100 122 -100 97586 7 -100 -100 1256 -100 -100 66410 1015 -100 -100 -100 -100 -100 -100 52 -100 -100 -100 -100 -100 -100 -100 -100 104495 121089 -100 -100 -100 -100 -100 -100 -100 -100 -100 26793 -100 4323 -100 -100 34390 71 123169 -100 -100 642 -100 -100 -100 -100 -100 622 -100 -100 -100 25975 26518 -100 -100 10 -100 -100 -100 -100 -100 -100 -100 -100 581 22690 7 -100 -100 -100 -100 -100 -100 -100 -100 -100 -100 -100 -100 -100 -100 -100 -100 -100 -100 -100 -100 -100 -100 -100 -100 -100 -100 -100 -100 -100 -100 -100 -100 -100 -100 -100 -100 -100 -100 -100 -100 -100 -100 -100 -100 -100 -100 -100 -100 -100 -100 -100 -100 -100 -100 -100 -100 -100 -100 -100 -100 -100 -100 -100 -100 -100 -100 -100 -100 -100 -100 -100 -100 -100 -100 -100 -100 -100 -100 -100 -100 -100 -100 -100 -100 -100 -100 -100 -100 -100 -100 -100 -100 -100 -100 -100 -100 -100 -100 -100 -100 -100 -100 -100 -100 -100 -100 -100 -100 -100 -100 -100 -100 -100 -100 -100 -100 -100 -100 -100 -100 -100 -100 -100 -100 -100 -100 -100 -100 -100 -100 -100 -100 -100 -100 -100 -100 -100 -100 -100 -100 -100 -100 -100 -100 -100 -100 -100 -100 -100 -100 -100 -100 -100 -100 -100 -100 -100 -100 -100 -100 -100 -100 -100 -100 -100 -100 -100 -100 -100 -100 -100 -100 -100 -100 -100 -100 -100 -100 -100 -100 -100 -100 -100 -100 -100 -100 -100 -100 -100 -100 -100 -100\n",
            "0 191042 111569 68 39848 12445 250001 416 4 68 230194 19 873 57292 7 93708 1067 4 142 180 250001 9047 133486 250001 250001 46 7869 250001 122 196458 9 647 26715 6224 165 122 158530 33 7238 20595 107 250001 68 2907 165594 13 224 49653 453 15439 133 56 250001 5 5533 1561 1225 1248 250001 68 77721 542 241118 96970 38951 223341 24064 250001 4 995 4 102042 165 3993 250001 165869 68 83219 250001 250001 23 8186 7418 22667 8054 1331 644 42780 2556 5 1858 443 599 15649 23 53185 4 250001 3623 137908 30407 12 622 83219 433 40514 443 168 53185 9022 6 168746 5 232840 61022 21649 1631 3762 210259 10802 44956 1619 4 10802 113739 162817 2004 250001 18 110224 135923 4 213994 224 74731 246 137 250001 20261 32367 155 250001 43891 10617 11 250001 29528 805 100849 86172 5486 542 250001 5 2793 909 6 105176 673 7560 5973 4902 35780 122 2907 165594 13 165 42233 275 61309 404 144381 4 15105 23 17588 54542 542 250001 33 169324 19 3762 17682 48152 1439 24700 143323 72 1681 2415 5 137 250001 3112 93299 198926 19434 5134 21462 11728 33 286 68 84248 50830 6 79578 4 4052 195878 2388 250001 59102 33 4 68 1439 491 250001 140742 7 31225 43719 250001 2731 250001 2004 67809 13 196755 250001 93 4858 1446 8262 122 239221 115420 33 23 122 48189 7 47704 250001 235366 63797 122 45040 13653 1619 137 6210 102 250001 9222 2909 1858 123853 2243 86454 51 250001 4986 221500 5 172045 13924 133 491 2235 100361 18923 1205 165 491 62617 266 12336 230233 19 444 42233 50012 4 3762 3671 749 23 250001 19434 5134 21462 136900 13 4 68 833 3993 72 105144 644 48585 33661 1225 250001 26828 4390 33 5 250001 7 7583 17374 4 22945 67 3000 93 12 137 8912 52706 250001 833 749 404 24 1106 14450 43713 4 1876 332 168 42233 190228 111317 5 155 2991 42233 443 6731 3253 4 1367 32 110224 135923 443 14792 174172 3623 6179 39103 6 241501 9370 5 622 77721 34197 23 168 34088 32103 3762 1838 2957 1446 4606 2480 15987 104612 33 165 68 7238 20595 982 93572 142 168 2907 165594 33 56776 9022 5 38649 122 42233 7583 79 749 381 116460 13 1225 909 3253 1367 599 28660 1367 909 53092 31 5 137 23135 42233 443 332 3993 24077 195 114300 4 749 23 2315 22 1409 42993 5 155 62104 3260 381 21649 77426 909 224 46632 12994 16787 129074 5 5533 142 6557 9881 381 97064 51 17084 18 10717 138855 1248 12 137 47731 13552 1880 542 122 105144 644 1112 2464 1496 22453 50037 48585 33661 5 2484 20460 168 43788 1505 18191 4 122 833 3993 120926 138855 42792 92484 1876 2004 22945 18 135923 5 108574 42 53660 1561 15466 198 1312 75785 4 168 3157 5165 14568 168 84248 228598 33 165 168 29730 2\t-100 -100 -100 -100 -100 -100 72 -100 -100 -100 -100 -100 -100 -100 -100 -100 -100 -100 -100 -100 75622 297 -100 76370 51965 20036 -100 70 -100 -100 -100 -100 -100 -100 -100 -100 -100 -100 -100 -100 -100 1225 -100 -100 -100 -100 -100 -100 -100 -100 -100 -100 95781 6419 -100 -100 1919 -100 1880 -100 -100 -100 136 -100 -100 136 -100 1918 -100 -100 -100 -100 -100 -100 70 -100 -100 -100 94343 3542 -100 -100 -100 -100 137908 -100 -100 -100 -100 -100 -100 -100 -100 -100 -100 -100 -100 12403 1272 7 -100 -100 -100 -100 -100 -100 -100 -100 -100 -100 -100 -100 -100 3260 -100 -100 -100 -100 2315 -100 3807 -100 -100 -100 52028 -100 -100 581 -100 -100 -100 -100 -100 -100 165 -100 -100 224030 -100 -100 -100 491 -100 -100 -100 50012 -100 -100 -100 -100 -100 -100 360 -100 -100 -100 -100 -100 -100 -100 -100 -100 -100 -100 -100 -100 -100 -100 -100 -100 -100 -100 -100 -100 -100 -100 -100 -100 -100 33720 -100 -100 70 -100 -100 -100 -100 -100 105144 -100 -100 -100 -100 -100 8449 -100 -100 104 61215 2344 -100 -100 -100 -100 -100 -100 -100 -100 -100 -100 -100 -100 -100 34197 -100 -100 -100 -100 -100 -100 2445 -100 -100 -100 -100 18644 -100 30607 -100 -100 -100 -100 3807 -100 -100 -100 -100 -100 68 -100 -100 -100 -100 -100 -100 -100 122 127957 -100 -100 -100 -100 -100 -100 -100 -100 61710 -100 -100 -100 -100 -100 -100 -100 642 25 107 -100 -100 -100 -100 -100 -100 -100 -100 -100 -100 -100 -100 -100 -100 -100 -100 -100 -100 -100 -100 -100 -100 -100 -100 81004 -100 -100 -100 -100 -100 -100 -100 -100 -100 -100 -100 -100 -100 -100 -100 1310 -100 -100 -100 -100 3316 16670 -100 -100 -100 -100 -100 -100 -100 -100 -100 -100 -100 168 -100 -100 -100 -100 -100 -100 -100 -100 -100 -100 -100 -100 -100 -100 -100 -100 -100 -100 -100 -100 -100 -100 -100 -100 -100 -100 -100 -100 -100 -100 -100 -100 -100 -100 -100 -100 -100 -100 -100 -100 -100 -100 -100 -100 -100 -100 -100 -100 -100 -100 -100 -100 -100 -100 -100 -100 -100 -100 -100 -100 -100 -100 -100 -100 -100 -100 -100 -100 -100 -100 -100 -100 -100 -100 -100 -100 -100 -100 -100 -100 -100 -100 -100 -100 -100 -100 -100 -100 -100 -100 -100 -100 -100 -100 -100 -100 -100 -100 -100 -100 -100 -100 -100 -100 -100 -100 -100 -100 -100 -100 -100 -100 -100 -100 -100 -100 -100 -100 -100 -100 -100 -100 -100 -100 -100 -100 -100 -100 -100 -100 -100 -100 -100 -100 -100 -100 -100 -100 -100 -100 -100 -100 -100 -100 -100 -100 -100 -100 -100 -100 -100 -100 -100 -100 -100 -100 -100 -100 -100 -100 -100 -100 -100 -100 -100 -100 -100 -100 -100 -100 -100 -100 -100 -100 -100 -100 -100 -100 -100 -100 -100 -100 -100 -100 -100 -100\n"
          ]
        }
      ]
    },
    {
      "cell_type": "code",
      "source": [
        "import torch\n",
        "from torch.utils.data import Dataset, DataLoader\n",
        "from transformers import AutoModelForMaskedLM, AutoTokenizer\n",
        "import torch.nn.functional as F\n",
        "import gc\n",
        "import random\n",
        "\n",
        "# Model and tokenizer setup\n",
        "model_name = \"xlm-roberta-base\"\n",
        "tokenizer = AutoTokenizer.from_pretrained(model_name)\n",
        "model = AutoModelForMaskedLM.from_pretrained(model_name)\n",
        "model.to(\"cuda\")\n",
        "\n",
        "max_seq_length = 32\n",
        "batch_size = 8\n",
        "GPU_MEMORY_THRESHOLD = 11.5\n",
        "num_epochs = 4\n",
        "learning_rate = 5e-5\n",
        "\n",
        "# Dataset class for masked aligned sentences\n",
        "class MaskedAlignedDataset(Dataset):\n",
        "    def __init__(self, file_path, tokenizer, alignment_map):\n",
        "        self.data = []\n",
        "        self.tokenizer = tokenizer\n",
        "        self.alignment_map = alignment_map\n",
        "\n",
        "        with open(file_path, \"r\", encoding=\"utf-8\") as f:\n",
        "            for line in f:\n",
        "                masked_input, masked_labels = line.strip().split(\"\\t\")\n",
        "                input_ids = list(map(int, masked_input.split()))\n",
        "                label_ids = list(map(int, masked_labels.split()))\n",
        "\n",
        "                # Ensure sequences have the same length\n",
        "                input_ids = input_ids[:max_seq_length] + [tokenizer.pad_token_id] * (max_seq_length - len(input_ids))\n",
        "                label_ids = label_ids[:max_seq_length] + [-100] * (max_seq_length - len(label_ids))\n",
        "\n",
        "                attention_mask = [1 if token_id != tokenizer.pad_token_id else 0 for token_id in input_ids]\n",
        "\n",
        "                # Create aligned_word_mask\n",
        "                aligned_word_mask = torch.zeros(max_seq_length, dtype=torch.long)\n",
        "                for i, token_id in enumerate(input_ids):\n",
        "                    token_str = tokenizer.decode([token_id]).strip()\n",
        "                    if token_str in self.alignment_map:\n",
        "                        aligned_word_mask[i] = 1\n",
        "\n",
        "                self.data.append((input_ids, label_ids, aligned_word_mask, attention_mask))\n",
        "\n",
        "    def __len__(self):\n",
        "        return len(self.data)\n",
        "\n",
        "    def __getitem__(self, idx):\n",
        "        input_ids, label_ids, aligned_word_mask, attention_mask = self.data[idx]\n",
        "        return (\n",
        "            torch.tensor(input_ids),\n",
        "            torch.tensor(label_ids),\n",
        "            aligned_word_mask.clone().detach(),\n",
        "            torch.tensor(attention_mask),\n",
        "        )\n",
        "\n",
        "# Load dataset and dataloader\n",
        "dataset = MaskedAlignedDataset(\"masked_aligned_output.tsv\", tokenizer, alignment_map)\n",
        "dataloader = DataLoader(dataset, batch_size=batch_size, shuffle=True)"
      ],
      "metadata": {
        "colab": {
          "base_uri": "https://localhost:8080/"
        },
        "id": "se-5FnhbLgQ3",
        "outputId": "9256f4a1-3662-481c-ac86-63c9a79217ed"
      },
      "execution_count": 23,
      "outputs": [
        {
          "output_type": "stream",
          "name": "stderr",
          "text": [
            "Some weights of the model checkpoint at xlm-roberta-base were not used when initializing XLMRobertaForMaskedLM: ['roberta.pooler.dense.bias', 'roberta.pooler.dense.weight']\n",
            "- This IS expected if you are initializing XLMRobertaForMaskedLM from the checkpoint of a model trained on another task or with another architecture (e.g. initializing a BertForSequenceClassification model from a BertForPreTraining model).\n",
            "- This IS NOT expected if you are initializing XLMRobertaForMaskedLM from the checkpoint of a model that you expect to be exactly identical (initializing a BertForSequenceClassification model from a BertForSequenceClassification model).\n"
          ]
        }
      ]
    },
    {
      "cell_type": "code",
      "source": [
        "# Custom AWP loss function\n",
        "def awp_loss_function(predictions, labels, aligned_word_mask):\n",
        "    valid_labels = labels.clone()\n",
        "\n",
        "    valid_labels[aligned_word_mask == 0] = -100\n",
        "    valid_labels[labels == -100] = -100\n",
        "\n",
        "    if (valid_labels != -100).sum() == 0:\n",
        "        return torch.tensor(1e-6, device=labels.device, dtype=torch.float32, requires_grad=True)\n",
        "\n",
        "    loss = F.cross_entropy(\n",
        "        predictions.view(-1, predictions.size(-1)),\n",
        "        valid_labels.view(-1),\n",
        "        ignore_index=-100\n",
        "    )\n",
        "\n",
        "    return loss.to(torch.float32)\n",
        "\n",
        "# Optimizer & gradient scaler\n",
        "optimizer = torch.optim.AdamW(model.parameters(), lr=learning_rate)\n",
        "scaler = torch.amp.GradScaler(\"cuda\")\n",
        "\n",
        "# Enable gradient checkpointing for memory efficiency\n",
        "model.gradient_checkpointing_enable()\n",
        "\n",
        "# Training loop\n",
        "for epoch in range(num_epochs):\n",
        "    model.train()\n",
        "    total_loss = 0\n",
        "\n",
        "    for step, (input_ids, labels, aligned_word_mask, attention_mask) in enumerate(dataloader):\n",
        "        input_ids, labels, aligned_word_mask, attention_mask = (\n",
        "            input_ids.to(\"cuda\"),\n",
        "            labels.to(\"cuda\"),\n",
        "            aligned_word_mask.to(\"cuda\"),\n",
        "            attention_mask.to(\"cuda\"),\n",
        "        )\n",
        "\n",
        "        optimizer.zero_grad()\n",
        "\n",
        "        # Forward pass\n",
        "        outputs = model(input_ids, attention_mask=attention_mask).logits\n",
        "        logits = F.log_softmax(outputs, dim=-1)  # Apply log softmax for numerical stability\n",
        "\n",
        "        loss = awp_loss_function(logits, labels, aligned_word_mask)\n",
        "\n",
        "        # Skip unstable loss values\n",
        "        if torch.isnan(loss) or torch.isinf(loss):\n",
        "            continue\n",
        "\n",
        "        # Backpropagation\n",
        "        scaler.scale(loss).backward()\n",
        "        torch.nn.utils.clip_grad_norm_(model.parameters(), max_norm=0.5)\n",
        "\n",
        "        if any(p.grad is not None for p in model.parameters()):\n",
        "            scaler.step(optimizer)\n",
        "            scaler.update()\n",
        "\n",
        "        total_loss += loss.item()\n",
        "\n",
        "        torch.cuda.synchronize()\n",
        "        allocated_memory = torch.cuda.memory_allocated() / (1024 ** 3)\n",
        "        if allocated_memory > GPU_MEMORY_THRESHOLD:\n",
        "            torch.cuda.empty_cache()\n",
        "            gc.collect()\n",
        "\n",
        "    print(f\"Epoch {epoch+1}, AWP Loss: {total_loss / max(1, len(dataloader))}\")"
      ],
      "metadata": {
        "colab": {
          "base_uri": "https://localhost:8080/"
        },
        "id": "khrH3gHGTg2J",
        "outputId": "2ac5b0f6-4f9c-4538-ec33-56c64bb31629"
      },
      "execution_count": null,
      "outputs": [
        {
          "output_type": "stream",
          "name": "stderr",
          "text": [
            "Some weights of the model checkpoint at xlm-roberta-base were not used when initializing XLMRobertaForMaskedLM: ['roberta.pooler.dense.bias', 'roberta.pooler.dense.weight']\n",
            "- This IS expected if you are initializing XLMRobertaForMaskedLM from the checkpoint of a model trained on another task or with another architecture (e.g. initializing a BertForSequenceClassification model from a BertForPreTraining model).\n",
            "- This IS NOT expected if you are initializing XLMRobertaForMaskedLM from the checkpoint of a model that you expect to be exactly identical (initializing a BertForSequenceClassification model from a BertForSequenceClassification model).\n"
          ]
        },
        {
          "output_type": "stream",
          "name": "stdout",
          "text": [
            "Epoch 1, AWP Loss: 8.150495807514634\n",
            "Epoch 2, AWP Loss: 7.606415293937506\n",
            "Epoch 3, AWP Loss: 7.406239155835884\n",
            "Epoch 4, AWP Loss: 7.34152966987255\n"
          ]
        }
      ]
    },
    {
      "cell_type": "code",
      "source": [
        "for batch in dataloader:\n",
        "    print(\"Input IDs shape:\", batch[0].shape)  # (batch_size, max_seq_length)\n",
        "    print(\"Labels shape:\", batch[1].shape)\n",
        "    print(\"Aligned Word Mask shape:\", batch[2].shape)\n",
        "    print(\"Attention Mask shape:\", batch[3].shape)\n",
        "    break"
      ],
      "metadata": {
        "colab": {
          "base_uri": "https://localhost:8080/"
        },
        "id": "EewZKzri7dvx",
        "outputId": "467e3e6d-d790-4dc5-a89a-e7ffd4488425"
      },
      "execution_count": 24,
      "outputs": [
        {
          "output_type": "stream",
          "name": "stdout",
          "text": [
            "Input IDs shape: torch.Size([8, 32])\n",
            "Labels shape: torch.Size([8, 32])\n",
            "Aligned Word Mask shape: torch.Size([8, 32])\n",
            "Attention Mask shape: torch.Size([8, 32])\n"
          ]
        }
      ]
    },
    {
      "cell_type": "code",
      "source": [
        "from transformers import XLMRobertaForMaskedLM, XLMRobertaModel\n",
        "\n",
        "xlmr_src = XLMRobertaForMaskedLM.from_pretrained(\"xlm-roberta-base\").to(\"cuda\")  # Supports masked LM\n",
        "\n",
        "xlmr_tgt = XLMRobertaModel.from_pretrained(\"xlm-roberta-base\").to(\"cuda\")  # For sentence embeddings"
      ],
      "metadata": {
        "colab": {
          "base_uri": "https://localhost:8080/"
        },
        "id": "rV5cxADE7iYc",
        "outputId": "0f57bc17-ae99-4587-edef-1a3a90c16b42"
      },
      "execution_count": 25,
      "outputs": [
        {
          "output_type": "stream",
          "name": "stderr",
          "text": [
            "Some weights of the model checkpoint at xlm-roberta-base were not used when initializing XLMRobertaForMaskedLM: ['roberta.pooler.dense.bias', 'roberta.pooler.dense.weight']\n",
            "- This IS expected if you are initializing XLMRobertaForMaskedLM from the checkpoint of a model trained on another task or with another architecture (e.g. initializing a BertForSequenceClassification model from a BertForPreTraining model).\n",
            "- This IS NOT expected if you are initializing XLMRobertaForMaskedLM from the checkpoint of a model that you expect to be exactly identical (initializing a BertForSequenceClassification model from a BertForSequenceClassification model).\n"
          ]
        }
      ]
    },
    {
      "cell_type": "code",
      "source": [
        "def forward_pass(transformer_model, input_ids, attention_mask):\n",
        "    \"\"\"\n",
        "    Forward pass through the XLM-R model for sentence embeddings & word representations.\n",
        "    \"\"\"\n",
        "    outputs = transformer_model(input_ids, attention_mask=attention_mask, output_hidden_states=True)\n",
        "\n",
        "    # Extract last hidden layer\n",
        "    hidden_states = outputs.hidden_states[-1] if hasattr(outputs, \"hidden_states\") else outputs.logits\n",
        "\n",
        "    # Extract CLS token embedding for TR loss\n",
        "    sentence_embedding = hidden_states[:, 0, :]  # CLS token representation\n",
        "\n",
        "    # Extract all token embeddings for WTR and AWP\n",
        "    word_embeddings = hidden_states  # Word-level representations\n",
        "\n",
        "    # Get masked token predictions (for AWP loss)\n",
        "    masked_logits = transformer_model.lm_head(hidden_states) if hasattr(transformer_model, \"lm_head\") else None\n",
        "\n",
        "    return sentence_embedding, word_embeddings, masked_logits"
      ],
      "metadata": {
        "id": "DujUanz67lGS"
      },
      "execution_count": 26,
      "outputs": []
    },
    {
      "cell_type": "code",
      "execution_count": 27,
      "metadata": {
        "id": "7qhg5ncmAYuZ"
      },
      "outputs": [],
      "source": [
        "import torch.nn.functional as F\n",
        "\n",
        "def word_translation_ranking_loss(source_embeddings, target_embeddings, temperature=0.05):\n",
        "    \"\"\"\n",
        "    Computes contrastive loss for word embeddings.\n",
        "    \"\"\"\n",
        "    source_embeddings = F.normalize(source_embeddings, p=2, dim=-1)\n",
        "    target_embeddings = F.normalize(target_embeddings, p=2, dim=-1)\n",
        "\n",
        "    similarity_scores = torch.matmul(source_embeddings, target_embeddings.permute(0, 2, 1)) / temperature\n",
        "    similarity_scores = F.log_softmax(similarity_scores, dim=-1)\n",
        "\n",
        "    batch_size, seq_len, _ = similarity_scores.shape\n",
        "    alignment_labels = torch.arange(seq_len).expand(batch_size, -1).to(similarity_scores.device)\n",
        "\n",
        "    loss = F.nll_loss(similarity_scores.view(-1, similarity_scores.size(-1)), alignment_labels.view(-1))\n",
        "    return loss\n",
        "\n",
        "\n",
        "def translation_ranking_loss(source_embeddings, target_embeddings, temperature=0.05):\n",
        "    \"\"\"\n",
        "    Computes contrastive loss for sentence embeddings.\n",
        "    \"\"\"\n",
        "    source_embeddings = F.normalize(source_embeddings, p=2, dim=-1)\n",
        "    target_embeddings = F.normalize(target_embeddings, p=2, dim=-1)\n",
        "\n",
        "    similarity_scores = torch.mm(source_embeddings, target_embeddings.T) / temperature\n",
        "    similarity_scores = F.log_softmax(similarity_scores, dim=-1)\n",
        "\n",
        "    alignment_labels = torch.arange(similarity_scores.size(0)).to(similarity_scores.device)\n",
        "    loss = F.nll_loss(similarity_scores, alignment_labels)\n",
        "    return loss\n",
        "\n",
        "\n",
        "def awp_loss_function(predictions, labels, aligned_word_mask):\n",
        "    \"\"\"\n",
        "    Computes cross-entropy loss for Aligned Word Prediction (AWP).\n",
        "    \"\"\"\n",
        "    masked_labels = labels.clone()\n",
        "    masked_labels[aligned_word_mask == 0] = -100\n",
        "    masked_labels[labels == -100] = -100\n",
        "\n",
        "    if (masked_labels != -100).sum() == 0:\n",
        "        return torch.tensor(1e-6, device=labels.device, dtype=torch.float32, requires_grad=True)\n",
        "\n",
        "    loss = F.cross_entropy(\n",
        "        predictions.view(-1, predictions.size(-1)),\n",
        "        masked_labels.view(-1),\n",
        "        ignore_index=-100\n",
        "    )\n",
        "\n",
        "    return loss.to(torch.float32)"
      ]
    },
    {
      "cell_type": "code",
      "execution_count": 28,
      "metadata": {
        "id": "_zhT25TlAMY6"
      },
      "outputs": [],
      "source": [
        "def compute_joint_loss(sentence_emb_src, sentence_emb_tgt, word_emb_src, word_emb_tgt, logits, labels, aligned_mask):\n",
        "    \"\"\"\n",
        "    Computes the combined loss from TR, WTR, and AWP tasks.\n",
        "    \"\"\"\n",
        "    alpha, beta, gamma = 0.8, 0.1, 0.1  # Weighting factors\n",
        "\n",
        "    loss_tr = translation_ranking_loss(sentence_emb_src, sentence_emb_tgt)\n",
        "    loss_wtr = word_translation_ranking_loss(word_emb_src, word_emb_tgt)\n",
        "    loss_awp = awp_loss_function(logits, labels, aligned_mask)\n",
        "\n",
        "    return alpha * loss_tr + beta * loss_wtr + gamma * loss_awp"
      ]
    },
    {
      "cell_type": "code",
      "source": [
        "import torch.optim as optim\n",
        "\n",
        "optimizer = optim.AdamW(list(xlmr_src.parameters()) + list(xlmr_tgt.parameters()), lr=5e-5)"
      ],
      "metadata": {
        "id": "HMlbDx5y7vX4"
      },
      "execution_count": 29,
      "outputs": []
    },
    {
      "cell_type": "code",
      "source": [
        "import torch\n",
        "import torch.cuda.amp as amp\n",
        "from tqdm import tqdm\n",
        "import gc\n",
        "\n",
        "num_epochs = 2\n",
        "max_steps_per_epoch = 6000\n",
        "checkpoint_interval = 3000\n",
        "scaler = torch.amp.GradScaler()\n",
        "\n",
        "for epoch in range(num_epochs):\n",
        "    print(f\"\\nEpoch {epoch + 1}/{num_epochs}\")\n",
        "\n",
        "    total_loss = 0\n",
        "    xlmr_src.train()\n",
        "    xlmr_tgt.train()\n",
        "\n",
        "    step = 0\n",
        "    dataloader_iter = iter(dataloader)  # Create iterator manually\n",
        "\n",
        "    pbar = tqdm(total=max_steps_per_epoch, desc=\"Training\", dynamic_ncols=True)\n",
        "\n",
        "    while step < max_steps_per_epoch:\n",
        "        try:\n",
        "            batch = next(dataloader_iter)\n",
        "        except StopIteration:\n",
        "            dataloader_iter = iter(dataloader)  # Restart if dataset smaller than 8000\n",
        "            batch = next(dataloader_iter)\n",
        "\n",
        "        input_ids, labels, aligned_word_mask, attention_mask = (\n",
        "            batch[0].to(\"cuda\"),\n",
        "            batch[1].to(\"cuda\"),\n",
        "            batch[2].to(\"cuda\"),\n",
        "            batch[3].to(\"cuda\"),\n",
        "        )\n",
        "\n",
        "        optimizer.zero_grad()\n",
        "\n",
        "        # Forward pass through both models (Source and Target)\n",
        "        cls_emb_src, word_emb_src, logits_src = forward_pass(xlmr_src, input_ids, attention_mask)\n",
        "        cls_emb_tgt, word_emb_tgt, _ = forward_pass(xlmr_tgt, input_ids, attention_mask)\n",
        "\n",
        "        # Compute joint loss\n",
        "        total_batch_loss = compute_joint_loss(\n",
        "            cls_emb_src, cls_emb_tgt, word_emb_src, word_emb_tgt, logits_src, labels, aligned_word_mask\n",
        "        )\n",
        "\n",
        "        # Backward pass with mixed precision\n",
        "        scaler.scale(total_batch_loss).backward()\n",
        "\n",
        "        # Gradient Clipping\n",
        "        torch.nn.utils.clip_grad_norm_(list(xlmr_src.parameters()) + list(xlmr_tgt.parameters()), max_norm=0.5)\n",
        "\n",
        "        # Update optimizer\n",
        "        scaler.step(optimizer)\n",
        "        scaler.update()\n",
        "\n",
        "        total_loss += total_batch_loss.item()\n",
        "\n",
        "        # Save checkpoint every checkpoint_interval steps\n",
        "        if (step + 1) % checkpoint_interval == 0:\n",
        "            checkpoint_path = f\"wacse_xlmr_bucc_checkpoint_step{step + 1}_epoch{epoch + 1}.pth\"\n",
        "            torch.save({\n",
        "                'epoch': epoch + 1,\n",
        "                'step': step + 1,\n",
        "                'model_src_state_dict': xlmr_src.state_dict(),\n",
        "                'model_tgt_state_dict': xlmr_tgt.state_dict(),\n",
        "                'optimizer_state_dict': optimizer.state_dict(),\n",
        "                'loss': total_batch_loss.item()\n",
        "            }, checkpoint_path)\n",
        "            print(f\"Checkpoint saved at {checkpoint_path}\")\n",
        "\n",
        "        step += 1\n",
        "        pbar.update(1)\n",
        "\n",
        "    pbar.close()\n",
        "\n",
        "    # After finishing the epoch, print average loss\n",
        "    avg_loss = total_loss / max_steps_per_epoch\n",
        "    print(f\"Epoch {epoch + 1} completed. Average Loss: {avg_loss:.4f}\")\n",
        "\n",
        "    # Save model at end of each epoch\n",
        "    torch.save(xlmr_src.state_dict(), f\"wacse_xlmr_bucc_src_epoch{epoch + 1}.pth\")\n",
        "    torch.save(xlmr_tgt.state_dict(), f\"wacse_xlmr_bucc_tgt_epoch{epoch + 1}.pth\")\n",
        "    print(f\"Model checkpoints saved for epoch {epoch + 1}\")"
      ],
      "metadata": {
        "colab": {
          "base_uri": "https://localhost:8080/"
        },
        "id": "F3dK3Lc6raQt",
        "outputId": "a3722f68-2442-48fd-c352-338ec1104742"
      },
      "execution_count": 30,
      "outputs": [
        {
          "output_type": "stream",
          "name": "stdout",
          "text": [
            "\n",
            "Epoch 1/2\n"
          ]
        },
        {
          "output_type": "stream",
          "name": "stderr",
          "text": [
            "Training:  50%|█████     | 3000/6000 [23:45<13:51:33, 16.63s/it]"
          ]
        },
        {
          "output_type": "stream",
          "name": "stdout",
          "text": [
            "Checkpoint saved at wacse_xlmr_bucc_checkpoint_step3000_epoch1.pth\n"
          ]
        },
        {
          "output_type": "stream",
          "name": "stderr",
          "text": [
            "Training: 100%|██████████| 6000/6000 [47:32<00:00,  2.10it/s]"
          ]
        },
        {
          "output_type": "stream",
          "name": "stdout",
          "text": [
            "Checkpoint saved at wacse_xlmr_bucc_checkpoint_step6000_epoch1.pth\n",
            "Epoch 1 completed. Average Loss: 1.1979\n"
          ]
        },
        {
          "output_type": "stream",
          "name": "stderr",
          "text": [
            "\n"
          ]
        },
        {
          "output_type": "stream",
          "name": "stdout",
          "text": [
            "Model checkpoints saved for epoch 1\n",
            "\n",
            "Epoch 2/2\n"
          ]
        },
        {
          "output_type": "stream",
          "name": "stderr",
          "text": [
            "Training:  50%|█████     | 3000/6000 [23:47<15:08:39, 18.17s/it]"
          ]
        },
        {
          "output_type": "stream",
          "name": "stdout",
          "text": [
            "Checkpoint saved at wacse_xlmr_bucc_checkpoint_step3000_epoch2.pth\n"
          ]
        },
        {
          "output_type": "stream",
          "name": "stderr",
          "text": [
            "Training: 100%|██████████| 6000/6000 [47:38<00:00,  2.10it/s]"
          ]
        },
        {
          "output_type": "stream",
          "name": "stdout",
          "text": [
            "Checkpoint saved at wacse_xlmr_bucc_checkpoint_step6000_epoch2.pth\n",
            "Epoch 2 completed. Average Loss: 0.7386\n"
          ]
        },
        {
          "output_type": "stream",
          "name": "stderr",
          "text": [
            "\n"
          ]
        },
        {
          "output_type": "stream",
          "name": "stdout",
          "text": [
            "Model checkpoints saved for epoch 2\n"
          ]
        }
      ]
    },
    {
      "cell_type": "code",
      "source": [
        "import torch\n",
        "import gc\n",
        "\n",
        "torch.cuda.empty_cache()\n",
        "\n",
        "gc.collect()"
      ],
      "metadata": {
        "colab": {
          "base_uri": "https://localhost:8080/"
        },
        "id": "1Q5SGFcZJxx4",
        "outputId": "d2f3b8cc-9292-4ed2-92c6-92e7bc60540e"
      },
      "execution_count": 31,
      "outputs": [
        {
          "output_type": "execute_result",
          "data": {
            "text/plain": [
              "429"
            ]
          },
          "metadata": {},
          "execution_count": 31
        }
      ]
    },
    {
      "cell_type": "code",
      "source": [
        "del xlmr_src\n",
        "del xlmr_tgt\n",
        "\n",
        "torch.cuda.empty_cache()\n",
        "gc.collect()"
      ],
      "metadata": {
        "colab": {
          "base_uri": "https://localhost:8080/"
        },
        "id": "-DQugacwJ65D",
        "outputId": "d8788855-f3be-40d3-947b-4ea2f362bf5d"
      },
      "execution_count": 32,
      "outputs": [
        {
          "output_type": "execute_result",
          "data": {
            "text/plain": [
              "0"
            ]
          },
          "metadata": {},
          "execution_count": 32
        }
      ]
    },
    {
      "cell_type": "code",
      "source": [
        "from transformers import XLMRobertaForMaskedLM, XLMRobertaModel, AutoTokenizer\n",
        "\n",
        "tokenizer = AutoTokenizer.from_pretrained(\"xlm-roberta-base\")\n",
        "\n",
        "xlmr_src = XLMRobertaForMaskedLM.from_pretrained(\"xlm-roberta-base\")\n",
        "xlmr_src.load_state_dict(torch.load(\"wacse_xlmr_bucc_src_epoch2.pth\"))\n",
        "\n",
        "xlmr_tgt = XLMRobertaModel.from_pretrained(\"xlm-roberta-base\")\n",
        "xlmr_tgt.load_state_dict(torch.load(\"wacse_xlmr_bucc_tgt_epoch2.pth\"))\n",
        "\n",
        "xlmr_src = xlmr_src.to(\"cuda\").eval()\n",
        "xlmr_tgt = xlmr_tgt.to(\"cuda\").eval()"
      ],
      "metadata": {
        "colab": {
          "base_uri": "https://localhost:8080/"
        },
        "id": "1vofxKKGKiTG",
        "outputId": "d58f26a6-52d7-4baf-b374-bd5dfc01370f"
      },
      "execution_count": 33,
      "outputs": [
        {
          "output_type": "stream",
          "name": "stderr",
          "text": [
            "Some weights of the model checkpoint at xlm-roberta-base were not used when initializing XLMRobertaForMaskedLM: ['roberta.pooler.dense.bias', 'roberta.pooler.dense.weight']\n",
            "- This IS expected if you are initializing XLMRobertaForMaskedLM from the checkpoint of a model trained on another task or with another architecture (e.g. initializing a BertForSequenceClassification model from a BertForPreTraining model).\n",
            "- This IS NOT expected if you are initializing XLMRobertaForMaskedLM from the checkpoint of a model that you expect to be exactly identical (initializing a BertForSequenceClassification model from a BertForSequenceClassification model).\n"
          ]
        }
      ]
    },
    {
      "cell_type": "code",
      "source": [
        "# Function to get sentence embeddings from the source model (xlmr_src)\n",
        "def get_src_embedding(sentence):\n",
        "    inputs = tokenizer(sentence, return_tensors=\"pt\", padding=True, truncation=True, max_length=128).to(\"cuda\")\n",
        "    with torch.no_grad():\n",
        "        outputs = xlmr_src(**inputs, output_hidden_states=True)\n",
        "        cls_embedding = outputs.hidden_states[-1][:, 0, :]  # CLS token\n",
        "    return cls_embedding.squeeze().cpu().numpy()\n",
        "\n",
        "# Function to get sentence embeddings from the target model (xlmr_tgt)\n",
        "def get_tgt_embedding(sentence):\n",
        "    inputs = tokenizer(sentence, return_tensors=\"pt\", padding=True, truncation=True, max_length=128).to(\"cuda\")\n",
        "    with torch.no_grad():\n",
        "        outputs = xlmr_tgt(**inputs)\n",
        "        cls_embedding = outputs.last_hidden_state[:, 0, :]  # CLS token\n",
        "    return cls_embedding.squeeze().cpu().numpy()"
      ],
      "metadata": {
        "id": "rXkh2YUoJVvi"
      },
      "execution_count": 132,
      "outputs": []
    },
    {
      "cell_type": "code",
      "source": [
        "import torch\n",
        "import numpy as np\n",
        "from tqdm import tqdm\n",
        "from scipy.stats import spearmanr\n",
        "import pandas as pd"
      ],
      "metadata": {
        "id": "oge5DrBAQeZM"
      },
      "execution_count": 133,
      "outputs": []
    },
    {
      "cell_type": "code",
      "source": [
        "sent_embeddings_src = {}\n",
        "sent_embeddings_tgt = {}\n",
        "\n",
        "print(\"Computing sentence embeddings...\")\n",
        "\n",
        "sentence1 = test_df_new[\"sentence1\"]\n",
        "sentence2 = test_df_new[\"sentence2\"]\n",
        "\n",
        "# Get embeddings for all unique sentences\n",
        "for sentence in tqdm(sentence1, desc=\"Processing sentence1\"):\n",
        "    sent_embeddings_src[sentence] = get_src_embedding(sentence)\n",
        "\n",
        "for sentence in tqdm(sentence2, desc=\"Processing sentence2\"):\n",
        "    sent_embeddings_tgt[sentence] = get_tgt_embedding(sentence)"
      ],
      "metadata": {
        "colab": {
          "base_uri": "https://localhost:8080/"
        },
        "id": "0MB0l4J9Qlv2",
        "outputId": "c24636b7-08e0-4e11-8093-426218d2f812"
      },
      "execution_count": 134,
      "outputs": [
        {
          "output_type": "stream",
          "name": "stdout",
          "text": [
            "Computing sentence embeddings...\n"
          ]
        },
        {
          "output_type": "stream",
          "name": "stderr",
          "text": [
            "Processing sentence1: 100%|██████████| 3212/3212 [01:26<00:00, 37.26it/s]\n",
            "Processing sentence2: 100%|██████████| 3212/3212 [00:43<00:00, 74.39it/s]\n"
          ]
        }
      ]
    },
    {
      "cell_type": "code",
      "source": [
        "sent_embeddings_src = {}\n",
        "sent_embeddings_tgt = {}\n",
        "\n",
        "spearman_scores = {}\n",
        "\n",
        "def cosine_similarity(vec1, vec2):\n",
        "    return np.dot(vec1, vec2) / (np.linalg.norm(vec1) * np.linalg.norm(vec2))\n",
        "\n",
        "languages = test_df_new[\"lang\"].unique()\n",
        "for language in languages:\n",
        "    print(f\"Processing language: {language}\")\n",
        "    s1 = test_df_new[test_df_new[\"lang\"] == language][\"sentence1\"]\n",
        "    s2 = test_df_new[test_df_new[\"lang\"] == language][\"sentence2\"]\n",
        "\n",
        "    # Get embeddings for sentence1\n",
        "    for sentence in tqdm(s1, desc=f\"Processing sentence1 for {language}\"):\n",
        "        sent_embeddings_src[sentence] = get_src_embedding(sentence)\n",
        "\n",
        "    # Get embeddings for sentence2\n",
        "    for sentence in tqdm(s2, desc=f\"Processing sentence2 for {language}\"):\n",
        "        sent_embeddings_tgt[sentence] = get_tgt_embedding(sentence)\n",
        "\n",
        "    predicted_scores = []\n",
        "\n",
        "    print(f\"Computing predicted similarity scores for {language}...\")\n",
        "\n",
        "    for sent1, sent2 in tqdm(zip(test_df_new[test_df_new[\"lang\"] == language][\"sentence1\"],\n",
        "                                 test_df_new[test_df_new[\"lang\"] == language][\"sentence2\"]),\n",
        "                             total=len(test_df_new[test_df_new[\"lang\"] == language])):\n",
        "        emb1 = sent_embeddings_src[sent1]\n",
        "        emb2 = sent_embeddings_tgt[sent2]\n",
        "        similarity = cosine_similarity(emb1, emb2)\n",
        "        predicted_scores.append(similarity)\n",
        "\n",
        "    gold_scores = test_df_new[test_df_new[\"lang\"] == language][\"score\"].values  # Ground-truth similarity scores for the language\n",
        "    predicted_scores = np.array(predicted_scores)\n",
        "\n",
        "    spearman_corr, _ = spearmanr(gold_scores, predicted_scores)\n",
        "    spearman_scores[language] = spearman_corr\n",
        "    print(f\" Spearman Correlation for {language}: {spearman_corr:.4f}\")"
      ],
      "metadata": {
        "colab": {
          "base_uri": "https://localhost:8080/"
        },
        "id": "HbxPBzcOTAU1",
        "outputId": "0efaec5a-6bd8-44e1-f0e3-14ece629196e"
      },
      "execution_count": 135,
      "outputs": [
        {
          "output_type": "stream",
          "name": "stdout",
          "text": [
            "Processing language: ar\n"
          ]
        },
        {
          "output_type": "stream",
          "name": "stderr",
          "text": [
            "Processing sentence1 for ar: 100%|██████████| 193/193 [00:05<00:00, 38.43it/s]\n",
            "Processing sentence2 for ar: 100%|██████████| 193/193 [00:02<00:00, 87.50it/s]\n"
          ]
        },
        {
          "output_type": "stream",
          "name": "stdout",
          "text": [
            "Computing predicted similarity scores for ar...\n"
          ]
        },
        {
          "output_type": "stream",
          "name": "stderr",
          "text": [
            "100%|██████████| 193/193 [00:00<00:00, 66124.87it/s]\n"
          ]
        },
        {
          "output_type": "stream",
          "name": "stdout",
          "text": [
            " Spearman Correlation for ar: 0.5241\n",
            "Processing language: de-en\n"
          ]
        },
        {
          "output_type": "stream",
          "name": "stderr",
          "text": [
            "Processing sentence1 for de-en: 100%|██████████| 158/158 [00:04<00:00, 35.16it/s]\n",
            "Processing sentence2 for de-en: 100%|██████████| 158/158 [00:01<00:00, 83.11it/s]\n"
          ]
        },
        {
          "output_type": "stream",
          "name": "stdout",
          "text": [
            "Computing predicted similarity scores for de-en...\n"
          ]
        },
        {
          "output_type": "stream",
          "name": "stderr",
          "text": [
            "100%|██████████| 158/158 [00:00<00:00, 64264.94it/s]\n"
          ]
        },
        {
          "output_type": "stream",
          "name": "stdout",
          "text": [
            " Spearman Correlation for de-en: 0.5641\n",
            "Processing language: de-fr\n"
          ]
        },
        {
          "output_type": "stream",
          "name": "stderr",
          "text": [
            "Processing sentence1 for de-fr: 100%|██████████| 56/56 [00:01<00:00, 35.04it/s]\n",
            "Processing sentence2 for de-fr: 100%|██████████| 56/56 [00:00<00:00, 69.08it/s]\n"
          ]
        },
        {
          "output_type": "stream",
          "name": "stdout",
          "text": [
            "Computing predicted similarity scores for de-fr...\n"
          ]
        },
        {
          "output_type": "stream",
          "name": "stderr",
          "text": [
            "100%|██████████| 56/56 [00:00<00:00, 41396.02it/s]\n"
          ]
        },
        {
          "output_type": "stream",
          "name": "stdout",
          "text": [
            " Spearman Correlation for de-fr: 0.4630\n",
            "Processing language: de-pl\n"
          ]
        },
        {
          "output_type": "stream",
          "name": "stderr",
          "text": [
            "Processing sentence1 for de-pl: 100%|██████████| 21/21 [00:00<00:00, 36.61it/s]\n",
            "Processing sentence2 for de-pl: 100%|██████████| 21/21 [00:00<00:00, 69.36it/s]\n"
          ]
        },
        {
          "output_type": "stream",
          "name": "stdout",
          "text": [
            "Computing predicted similarity scores for de-pl...\n"
          ]
        },
        {
          "output_type": "stream",
          "name": "stderr",
          "text": [
            "100%|██████████| 21/21 [00:00<00:00, 37227.55it/s]\n"
          ]
        },
        {
          "output_type": "stream",
          "name": "stdout",
          "text": [
            " Spearman Correlation for de-pl: 0.2867\n",
            "Processing language: de\n"
          ]
        },
        {
          "output_type": "stream",
          "name": "stderr",
          "text": [
            "Processing sentence1 for de: 100%|██████████| 514/514 [00:13<00:00, 37.74it/s]\n",
            "Processing sentence2 for de: 100%|██████████| 514/514 [00:07<00:00, 73.19it/s]\n"
          ]
        },
        {
          "output_type": "stream",
          "name": "stdout",
          "text": [
            "Computing predicted similarity scores for de...\n"
          ]
        },
        {
          "output_type": "stream",
          "name": "stderr",
          "text": [
            "100%|██████████| 514/514 [00:00<00:00, 65293.85it/s]\n"
          ]
        },
        {
          "output_type": "stream",
          "name": "stdout",
          "text": [
            " Spearman Correlation for de: 0.4270\n",
            "Processing language: es-en\n"
          ]
        },
        {
          "output_type": "stream",
          "name": "stderr",
          "text": [
            "Processing sentence1 for es-en: 100%|██████████| 274/274 [00:07<00:00, 36.90it/s]\n",
            "Processing sentence2 for es-en: 100%|██████████| 274/274 [00:04<00:00, 61.79it/s]\n"
          ]
        },
        {
          "output_type": "stream",
          "name": "stdout",
          "text": [
            "Computing predicted similarity scores for es-en...\n"
          ]
        },
        {
          "output_type": "stream",
          "name": "stderr",
          "text": [
            "100%|██████████| 274/274 [00:00<00:00, 66006.51it/s]\n"
          ]
        },
        {
          "output_type": "stream",
          "name": "stdout",
          "text": [
            " Spearman Correlation for es-en: 0.6446\n",
            "Processing language: es-it\n"
          ]
        },
        {
          "output_type": "stream",
          "name": "stderr",
          "text": [
            "Processing sentence1 for es-it: 100%|██████████| 159/159 [00:04<00:00, 36.90it/s]\n",
            "Processing sentence2 for es-it: 100%|██████████| 159/159 [00:02<00:00, 76.49it/s]\n"
          ]
        },
        {
          "output_type": "stream",
          "name": "stdout",
          "text": [
            "Computing predicted similarity scores for es-it...\n"
          ]
        },
        {
          "output_type": "stream",
          "name": "stderr",
          "text": [
            "100%|██████████| 159/159 [00:00<00:00, 65983.41it/s]\n"
          ]
        },
        {
          "output_type": "stream",
          "name": "stdout",
          "text": [
            " Spearman Correlation for es-it: 0.5533\n",
            "Processing language: es\n"
          ]
        },
        {
          "output_type": "stream",
          "name": "stderr",
          "text": [
            "Processing sentence1 for es: 100%|██████████| 200/200 [00:05<00:00, 36.71it/s]\n",
            "Processing sentence2 for es: 100%|██████████| 200/200 [00:02<00:00, 78.36it/s]\n"
          ]
        },
        {
          "output_type": "stream",
          "name": "stdout",
          "text": [
            "Computing predicted similarity scores for es...\n"
          ]
        },
        {
          "output_type": "stream",
          "name": "stderr",
          "text": [
            "100%|██████████| 200/200 [00:00<00:00, 69603.45it/s]\n"
          ]
        },
        {
          "output_type": "stream",
          "name": "stdout",
          "text": [
            " Spearman Correlation for es: 0.5700\n",
            "Processing language: fr-pl\n"
          ]
        },
        {
          "output_type": "stream",
          "name": "stderr",
          "text": [
            "Processing sentence1 for fr-pl: 100%|██████████| 6/6 [00:00<00:00, 35.55it/s]\n",
            "Processing sentence2 for fr-pl: 100%|██████████| 6/6 [00:00<00:00, 66.39it/s]\n"
          ]
        },
        {
          "output_type": "stream",
          "name": "stdout",
          "text": [
            "Computing predicted similarity scores for fr-pl...\n"
          ]
        },
        {
          "output_type": "stream",
          "name": "stderr",
          "text": [
            "100%|██████████| 6/6 [00:00<00:00, 19343.45it/s]\n"
          ]
        },
        {
          "output_type": "stream",
          "name": "stdout",
          "text": [
            " Spearman Correlation for fr-pl: 0.2928\n",
            "Processing language: fr\n"
          ]
        },
        {
          "output_type": "stream",
          "name": "stderr",
          "text": [
            "Processing sentence1 for fr: 100%|██████████| 101/101 [00:02<00:00, 37.40it/s]\n",
            "Processing sentence2 for fr: 100%|██████████| 101/101 [00:01<00:00, 74.11it/s]\n"
          ]
        },
        {
          "output_type": "stream",
          "name": "stdout",
          "text": [
            "Computing predicted similarity scores for fr...\n"
          ]
        },
        {
          "output_type": "stream",
          "name": "stderr",
          "text": [
            "100%|██████████| 101/101 [00:00<00:00, 64734.83it/s]\n"
          ]
        },
        {
          "output_type": "stream",
          "name": "stdout",
          "text": [
            " Spearman Correlation for fr: 0.7455\n",
            "Processing language: it\n"
          ]
        },
        {
          "output_type": "stream",
          "name": "stderr",
          "text": [
            "Processing sentence1 for it: 100%|██████████| 306/306 [00:08<00:00, 36.75it/s]\n",
            "Processing sentence2 for it: 100%|██████████| 306/306 [00:03<00:00, 80.72it/s]\n"
          ]
        },
        {
          "output_type": "stream",
          "name": "stdout",
          "text": [
            "Computing predicted similarity scores for it...\n"
          ]
        },
        {
          "output_type": "stream",
          "name": "stderr",
          "text": [
            "100%|██████████| 306/306 [00:00<00:00, 64427.34it/s]\n"
          ]
        },
        {
          "output_type": "stream",
          "name": "stdout",
          "text": [
            " Spearman Correlation for it: 0.5564\n",
            "Processing language: pl-en\n"
          ]
        },
        {
          "output_type": "stream",
          "name": "stderr",
          "text": [
            "Processing sentence1 for pl-en: 100%|██████████| 36/36 [00:00<00:00, 36.83it/s]\n",
            "Processing sentence2 for pl-en: 100%|██████████| 36/36 [00:00<00:00, 73.45it/s]\n"
          ]
        },
        {
          "output_type": "stream",
          "name": "stdout",
          "text": [
            "Computing predicted similarity scores for pl-en...\n"
          ]
        },
        {
          "output_type": "stream",
          "name": "stderr",
          "text": [
            "100%|██████████| 36/36 [00:00<00:00, 56069.42it/s]\n"
          ]
        },
        {
          "output_type": "stream",
          "name": "stdout",
          "text": [
            " Spearman Correlation for pl-en: 0.6948\n",
            "Processing language: pl\n"
          ]
        },
        {
          "output_type": "stream",
          "name": "stderr",
          "text": [
            "Processing sentence1 for pl: 100%|██████████| 182/182 [00:04<00:00, 36.56it/s]\n",
            "Processing sentence2 for pl: 100%|██████████| 182/182 [00:02<00:00, 78.60it/s]\n"
          ]
        },
        {
          "output_type": "stream",
          "name": "stdout",
          "text": [
            "Computing predicted similarity scores for pl...\n"
          ]
        },
        {
          "output_type": "stream",
          "name": "stderr",
          "text": [
            "100%|██████████| 182/182 [00:00<00:00, 56336.78it/s]\n"
          ]
        },
        {
          "output_type": "stream",
          "name": "stdout",
          "text": [
            " Spearman Correlation for pl: 0.3257\n",
            "Processing language: ru\n"
          ]
        },
        {
          "output_type": "stream",
          "name": "stderr",
          "text": [
            "Processing sentence1 for ru: 100%|██████████| 199/199 [00:05<00:00, 37.81it/s]\n",
            "Processing sentence2 for ru: 100%|██████████| 199/199 [00:03<00:00, 61.41it/s]\n"
          ]
        },
        {
          "output_type": "stream",
          "name": "stdout",
          "text": [
            "Computing predicted similarity scores for ru...\n"
          ]
        },
        {
          "output_type": "stream",
          "name": "stderr",
          "text": [
            "100%|██████████| 199/199 [00:00<00:00, 56954.38it/s]\n"
          ]
        },
        {
          "output_type": "stream",
          "name": "stdout",
          "text": [
            " Spearman Correlation for ru: 0.4689\n",
            "Processing language: tr\n"
          ]
        },
        {
          "output_type": "stream",
          "name": "stderr",
          "text": [
            "Processing sentence1 for tr: 100%|██████████| 208/208 [00:05<00:00, 38.38it/s]\n",
            "Processing sentence2 for tr: 100%|██████████| 208/208 [00:02<00:00, 80.33it/s]\n"
          ]
        },
        {
          "output_type": "stream",
          "name": "stdout",
          "text": [
            "Computing predicted similarity scores for tr...\n"
          ]
        },
        {
          "output_type": "stream",
          "name": "stderr",
          "text": [
            "100%|██████████| 208/208 [00:00<00:00, 64704.83it/s]\n"
          ]
        },
        {
          "output_type": "stream",
          "name": "stdout",
          "text": [
            " Spearman Correlation for tr: 0.4051\n",
            "Processing language: zh-en\n"
          ]
        },
        {
          "output_type": "stream",
          "name": "stderr",
          "text": [
            "Processing sentence1 for zh-en: 100%|██████████| 121/121 [00:03<00:00, 35.68it/s]\n",
            "Processing sentence2 for zh-en: 100%|██████████| 121/121 [00:01<00:00, 70.98it/s]\n"
          ]
        },
        {
          "output_type": "stream",
          "name": "stdout",
          "text": [
            "Computing predicted similarity scores for zh-en...\n"
          ]
        },
        {
          "output_type": "stream",
          "name": "stderr",
          "text": [
            "100%|██████████| 121/121 [00:00<00:00, 64899.08it/s]\n"
          ]
        },
        {
          "output_type": "stream",
          "name": "stdout",
          "text": [
            " Spearman Correlation for zh-en: 0.4898\n",
            "Processing language: zh\n"
          ]
        },
        {
          "output_type": "stream",
          "name": "stderr",
          "text": [
            "Processing sentence1 for zh: 100%|██████████| 478/478 [00:12<00:00, 38.49it/s]\n",
            "Processing sentence2 for zh: 100%|██████████| 478/478 [00:05<00:00, 89.11it/s]\n"
          ]
        },
        {
          "output_type": "stream",
          "name": "stdout",
          "text": [
            "Computing predicted similarity scores for zh...\n"
          ]
        },
        {
          "output_type": "stream",
          "name": "stderr",
          "text": [
            "100%|██████████| 478/478 [00:00<00:00, 71001.78it/s]"
          ]
        },
        {
          "output_type": "stream",
          "name": "stdout",
          "text": [
            " Spearman Correlation for zh: 0.6373\n"
          ]
        },
        {
          "output_type": "stream",
          "name": "stderr",
          "text": [
            "\n"
          ]
        }
      ]
    },
    {
      "cell_type": "code",
      "source": [
        "import numpy as np\n",
        "\n",
        "average_spearman = np.mean(list(spearman_scores.values()))\n",
        "print(f\"Average Spearman Correlation across all languages: {average_spearman:.4f}\")"
      ],
      "metadata": {
        "colab": {
          "base_uri": "https://localhost:8080/"
        },
        "id": "bXD7SeCMbEPz",
        "outputId": "f5caef96-3ee3-423c-9a5e-6bb1f5f3195c"
      },
      "execution_count": 136,
      "outputs": [
        {
          "output_type": "stream",
          "name": "stdout",
          "text": [
            "Average Spearman Correlation across all languages: 0.5088\n"
          ]
        }
      ]
    },
    {
      "cell_type": "code",
      "source": [
        "sample = test_df_new.iloc[1303]\n",
        "sent1 = sample[\"sentence1\"]\n",
        "sent2 = sample[\"sentence2\"]\n",
        "lang = sample[\"lang\"]\n",
        "score = sample[\"score\"]"
      ],
      "metadata": {
        "id": "V-gGtOgaEEhu"
      },
      "execution_count": 137,
      "outputs": []
    },
    {
      "cell_type": "code",
      "source": [
        "emb1 = get_src_embedding(sent1)\n",
        "emb2 = get_tgt_embedding(sent2)"
      ],
      "metadata": {
        "id": "o43zXOEmEH8O"
      },
      "execution_count": 138,
      "outputs": []
    },
    {
      "cell_type": "code",
      "source": [
        "predicted_score = cosine_similarity(emb1, emb2)"
      ],
      "metadata": {
        "id": "2TrQVwBkELyA"
      },
      "execution_count": 139,
      "outputs": []
    },
    {
      "cell_type": "code",
      "source": [
        "print(f\"Language: {lang}\")\n",
        "print(f\"Sentence 1: {sent1}\")\n",
        "print(f\"Sentence 2: {sent2}\")\n",
        "print(f\"Gold score: {score}\")\n",
        "print(f\"Predicted cosine similarity: {predicted_score:.4f}\")"
      ],
      "metadata": {
        "colab": {
          "base_uri": "https://localhost:8080/"
        },
        "id": "kpKkQjJ6ERPw",
        "outputId": "3fbea693-0741-4da8-becd-382d9dbf89d2"
      },
      "execution_count": 140,
      "outputs": [
        {
          "output_type": "stream",
          "name": "stdout",
          "text": [
            "Language: es-it\n",
            "Sentence 1: El organismo electoral de Bolivia aprobó este domingo la convocatoria a las Elecciones Generales 2020 junto al calendario que regirá las actividades previas a los comicios que se celebrarán el próximo 3 de mayo.\n",
            "\n",
            "“El organismo electoral ha aprobado de manera formal la convocatoria al proceso electoral 2020 para elegir la presidencia y a la Asamblea Legislativa”, manifestó en una rueda de prensa el presidente del Tribunal Supremo Electoral (TSE), Salvador Romero.\n",
            "\n",
            "SOBRE EL DÍA DE LA ELECCIÓN\n",
            "\n",
            "La elección es “inamovible” debido que se realiza en el plazo tope que prevé la ley nacional y que realizarla antes tampoco es posible por “razones técnicas”, aseveró el presidente del TSE.\n",
            "\n",
            "Romero declaró que para estos comicios se esperará la llegada de al menos tres delegaciones de observaciones internacionales entre las que están la Organización de Estados Americanos (OEA), otra conformada por los organismos electorales de América y la Unión Europea, cuya confirmación está pendiente.\n",
            "\n",
            "El funcionario del TSE explicó que en la jornada electoral se habilitará nuevamente un sistema de transmisión de datos “confiable” y “ágil” que dé información oportuna a los ciudadanos.\n",
            "\n",
            "El ente electoral boliviano también pondrá en marcha el día de la elección un nuevo sistema informático para contar los votos, mismo que se estructura con el apoyo de organizaciones internacionales con fines de “llevar a cabo un proceso electoral limpio y transparente”.\n",
            "\n",
            "SOBRE EL CALENDARIO ELECTORAL\n",
            "\n",
            "El calendario electoral para los comicios de mayo tiene alrededor de un centenar actividades entre las que destacan la inscripción de ciudadanos para la votación además del registro de candidatos y planes de Gobierno de las organizaciones políticas, aseguró Romero.\n",
            "\n",
            "El vocal presidente del TSE mencionó que el empadronamiento de ciudadanos en Bolivia comenzará el 18 de enero para permanecer abierto por nueve días con la finalidad de captar principalmente a los votantes que cumplen dieciocho años hasta el 2 de mayo.\n",
            "\n",
            "Romero también sostuvo que hasta finales de enero las organizaciones políticas “deberán inscribir sus alianzas y registrar sus candidatos a todos los puestos que se van a elegir”.\n",
            "\n",
            "También se tiene prevista una “depuración de fallecidos” que consigna un tiempo en el que los ciudadanos podrán representar ante el organismo electoral si algún familiar difunto figura en el padrón de votantes.\n",
            "\n",
            "SIN EMPADRONAMIENTO EN EL EXTERIOR\n",
            "\n",
            "“Por razones de tiempo y de logística, en esta oportunidad, la ley señaló que no habrá un proceso especial de inscripción y registro en el exterior”, remarcó el presidente del TSE.\n",
            "\n",
            "No obstante, Romero indicó que la votación en los 33 países en los que los residentes bolivianos votaron en las elecciones de 2019 “está garantizada”.\n",
            "\n",
            "Bolivia celebrará los nuevos comicios tras quedar anulados los del pasado 20 de octubre, en los que fue declarado vencedor el ex presidente Evo Morales para un cuarto mandato consecutivo.\n",
            "\n",
            "Esas elecciones se anularon en medio de denuncias de fraude a favor de Morales, quien el pasado 10 de noviembre anunció su renuncia denunciando un golpe de Estado para derrocarlo.\n",
            "\n",
            "Será la primera elección que el MAS encarará sin Morales como candidato, algo que ese partido había logrado evitar hasta ahora con recursos legales que le permitieron presentarse a los comicios de 2014 y 2019 pese al límite constitucional de dos mandatos continuos.\n",
            "\n",
            "Morales, que tramita su refugio en Argentina, ha anunciado una reunión en Buenos Aires el 19 de enero para elegir a los candidatos del MAS en los comicios de mayo.\n",
            "\n",
            "El ex presidente Carlos Mesa, que fue el principal contendiente de Morales en las elecciones de octubre, ha confirmado que volverá a postular, mientras que el líder cívico Luis Fernando Camacho también prevé ser candidato presidencial, aunque por ahora no ha confirmado con qué sigla lo hará.\n",
            "Sentence 2: Il presidente in esilio della Bolivia, Evo Morales, ha costituito a Buenos Aires un team di professionisti che lo consiglieranno in materia legale e che potrebbero assumere la sua difesa dopo le accuse legali contro di lui.\n",
            "\n",
            "Per questo team legale, il governo golpista ha violato le norme elementari della coesistenza legale internazionale e l’Argentina non dovrebbe rispondere alle richieste da parte del governo della Bolivia trattandosi di un regime privo di legittimità democratica.\n",
            "\n",
            "Intanto il Supremo tribunale elettorale della Bolivia (Tse) ha respinto i due ricorsi che avrebbero impedito al Movimento al socialismo (Mas), il partito dell’ex presidente Evo Morales, di presentarsi alle elezioni generali di meta’ anno. I magistrati, tutti nominati successivamente alla crisi aperta con le dimissioni di Morales, hanno votato all’unanimita’ contro due richieste di togliere la personalita’ giuridica al Mas. “All’unanimità, la plenaria del Tse ha negato questi reclami dal momento che nessuno comprendeva le cause di perdita della personalita’ giuridica delle organizzazioni politiche previste dalla legge 1096 delle Organizzazioni politiche”; si legge in una nota rilanciata dia media locali. I ricorsi erano stati basati individuando nel Mas responsabilità di “sedizione”, “separatismo” e “colpo di stato istituzionale” maturate all’indomani dello scoppio della crisi politica seguita al contestato risultato delle elezioni presidenziali di ottobre.\n",
            "\n",
            "Da parte sua il ministero degli Esteri del governo ad interim della Bolivia agli ambasciatori dell’Unione europea la dichiarazione di “persona non grata” disposta a carico di tre diplomatici spagnoli. A fine 2019 le autorità boliviane hanno denunciato la presenza di elementi dello spagnolo Grupo Especial de Operaciones (Geo) nei pressi dell’ambasciata messicana a La Paz. Una “violazione della sovranità” cui sarebbe seguita l’espulsione della incaricata d’affari Cristina Borruguero e del console Alvaro Fernandez.\n",
            "\n",
            "“Nell’occasione si discutera’ con gli ambasciatori sui fatti, le circostanze e le mote prove, riconosciute, che portano a determinare che non sono state rispettate le norme interne boliviane e internazionali”, ha detto la ministra degli Esteri della Bolivia, Karen Longaric, al quotidiano “La Razon”. Nell’occasione, prosegue la testata, il governo della presidente ad interim Jeanine Anez intende mostrare “ufficialmente” l’interesse a “normalizzare” le relazioni con Bruxelles e a pacificare il paese riportandolo alle urne entro giugno. “Non vogliamo che niente possa turbare questi propositi”, ha detto la Longaric.\n",
            "Gold score: 2.0\n",
            "Predicted cosine similarity: 0.6229\n"
          ]
        }
      ]
    },
    {
      "cell_type": "code",
      "source": [],
      "metadata": {
        "id": "ef28M7DuETH2"
      },
      "execution_count": null,
      "outputs": []
    }
  ],
  "metadata": {
    "colab": {
      "provenance": [],
      "gpuType": "T4"
    },
    "kernelspec": {
      "display_name": "Python 3",
      "name": "python3"
    },
    "language_info": {
      "name": "python"
    },
    "widgets": {
      "application/vnd.jupyter.widget-state+json": {
        "a2917caaf38d4a369a1a388edfe280c7": {
          "model_module": "@jupyter-widgets/controls",
          "model_name": "HBoxModel",
          "model_module_version": "1.5.0",
          "state": {
            "_dom_classes": [],
            "_model_module": "@jupyter-widgets/controls",
            "_model_module_version": "1.5.0",
            "_model_name": "HBoxModel",
            "_view_count": null,
            "_view_module": "@jupyter-widgets/controls",
            "_view_module_version": "1.5.0",
            "_view_name": "HBoxView",
            "box_style": "",
            "children": [
              "IPY_MODEL_3bb1b244072f4a95bbecde9009d95fed",
              "IPY_MODEL_5866dbed38d44baea7ec9e37b081620a",
              "IPY_MODEL_12118d19c6174f7cb4dd214afba614df"
            ],
            "layout": "IPY_MODEL_167a940f6ccf4f06ad3f8163a56097da"
          }
        },
        "3bb1b244072f4a95bbecde9009d95fed": {
          "model_module": "@jupyter-widgets/controls",
          "model_name": "HTMLModel",
          "model_module_version": "1.5.0",
          "state": {
            "_dom_classes": [],
            "_model_module": "@jupyter-widgets/controls",
            "_model_module_version": "1.5.0",
            "_model_name": "HTMLModel",
            "_view_count": null,
            "_view_module": "@jupyter-widgets/controls",
            "_view_module_version": "1.5.0",
            "_view_name": "HTMLView",
            "description": "",
            "description_tooltip": null,
            "layout": "IPY_MODEL_da4913d7cb224bafaabb9671760113fd",
            "placeholder": "​",
            "style": "IPY_MODEL_acc06243dc074221b91ab47e381ac4ec",
            "value": "README.md: 100%"
          }
        },
        "5866dbed38d44baea7ec9e37b081620a": {
          "model_module": "@jupyter-widgets/controls",
          "model_name": "FloatProgressModel",
          "model_module_version": "1.5.0",
          "state": {
            "_dom_classes": [],
            "_model_module": "@jupyter-widgets/controls",
            "_model_module_version": "1.5.0",
            "_model_name": "FloatProgressModel",
            "_view_count": null,
            "_view_module": "@jupyter-widgets/controls",
            "_view_module_version": "1.5.0",
            "_view_name": "ProgressView",
            "bar_style": "success",
            "description": "",
            "description_tooltip": null,
            "layout": "IPY_MODEL_66ac2a6bc8bb479ba71c6b981fd2efb3",
            "max": 8668,
            "min": 0,
            "orientation": "horizontal",
            "style": "IPY_MODEL_0cfc6829683e4ceca61a3af5fe3863b9",
            "value": 8668
          }
        },
        "12118d19c6174f7cb4dd214afba614df": {
          "model_module": "@jupyter-widgets/controls",
          "model_name": "HTMLModel",
          "model_module_version": "1.5.0",
          "state": {
            "_dom_classes": [],
            "_model_module": "@jupyter-widgets/controls",
            "_model_module_version": "1.5.0",
            "_model_name": "HTMLModel",
            "_view_count": null,
            "_view_module": "@jupyter-widgets/controls",
            "_view_module_version": "1.5.0",
            "_view_name": "HTMLView",
            "description": "",
            "description_tooltip": null,
            "layout": "IPY_MODEL_66eacb012f7d442eac1e9538ab4f88a5",
            "placeholder": "​",
            "style": "IPY_MODEL_1d9134311c8349c0937f9fd01dc2390b",
            "value": " 8.67k/8.67k [00:00&lt;00:00, 108kB/s]"
          }
        },
        "167a940f6ccf4f06ad3f8163a56097da": {
          "model_module": "@jupyter-widgets/base",
          "model_name": "LayoutModel",
          "model_module_version": "1.2.0",
          "state": {
            "_model_module": "@jupyter-widgets/base",
            "_model_module_version": "1.2.0",
            "_model_name": "LayoutModel",
            "_view_count": null,
            "_view_module": "@jupyter-widgets/base",
            "_view_module_version": "1.2.0",
            "_view_name": "LayoutView",
            "align_content": null,
            "align_items": null,
            "align_self": null,
            "border": null,
            "bottom": null,
            "display": null,
            "flex": null,
            "flex_flow": null,
            "grid_area": null,
            "grid_auto_columns": null,
            "grid_auto_flow": null,
            "grid_auto_rows": null,
            "grid_column": null,
            "grid_gap": null,
            "grid_row": null,
            "grid_template_areas": null,
            "grid_template_columns": null,
            "grid_template_rows": null,
            "height": null,
            "justify_content": null,
            "justify_items": null,
            "left": null,
            "margin": null,
            "max_height": null,
            "max_width": null,
            "min_height": null,
            "min_width": null,
            "object_fit": null,
            "object_position": null,
            "order": null,
            "overflow": null,
            "overflow_x": null,
            "overflow_y": null,
            "padding": null,
            "right": null,
            "top": null,
            "visibility": null,
            "width": null
          }
        },
        "da4913d7cb224bafaabb9671760113fd": {
          "model_module": "@jupyter-widgets/base",
          "model_name": "LayoutModel",
          "model_module_version": "1.2.0",
          "state": {
            "_model_module": "@jupyter-widgets/base",
            "_model_module_version": "1.2.0",
            "_model_name": "LayoutModel",
            "_view_count": null,
            "_view_module": "@jupyter-widgets/base",
            "_view_module_version": "1.2.0",
            "_view_name": "LayoutView",
            "align_content": null,
            "align_items": null,
            "align_self": null,
            "border": null,
            "bottom": null,
            "display": null,
            "flex": null,
            "flex_flow": null,
            "grid_area": null,
            "grid_auto_columns": null,
            "grid_auto_flow": null,
            "grid_auto_rows": null,
            "grid_column": null,
            "grid_gap": null,
            "grid_row": null,
            "grid_template_areas": null,
            "grid_template_columns": null,
            "grid_template_rows": null,
            "height": null,
            "justify_content": null,
            "justify_items": null,
            "left": null,
            "margin": null,
            "max_height": null,
            "max_width": null,
            "min_height": null,
            "min_width": null,
            "object_fit": null,
            "object_position": null,
            "order": null,
            "overflow": null,
            "overflow_x": null,
            "overflow_y": null,
            "padding": null,
            "right": null,
            "top": null,
            "visibility": null,
            "width": null
          }
        },
        "acc06243dc074221b91ab47e381ac4ec": {
          "model_module": "@jupyter-widgets/controls",
          "model_name": "DescriptionStyleModel",
          "model_module_version": "1.5.0",
          "state": {
            "_model_module": "@jupyter-widgets/controls",
            "_model_module_version": "1.5.0",
            "_model_name": "DescriptionStyleModel",
            "_view_count": null,
            "_view_module": "@jupyter-widgets/base",
            "_view_module_version": "1.2.0",
            "_view_name": "StyleView",
            "description_width": ""
          }
        },
        "66ac2a6bc8bb479ba71c6b981fd2efb3": {
          "model_module": "@jupyter-widgets/base",
          "model_name": "LayoutModel",
          "model_module_version": "1.2.0",
          "state": {
            "_model_module": "@jupyter-widgets/base",
            "_model_module_version": "1.2.0",
            "_model_name": "LayoutModel",
            "_view_count": null,
            "_view_module": "@jupyter-widgets/base",
            "_view_module_version": "1.2.0",
            "_view_name": "LayoutView",
            "align_content": null,
            "align_items": null,
            "align_self": null,
            "border": null,
            "bottom": null,
            "display": null,
            "flex": null,
            "flex_flow": null,
            "grid_area": null,
            "grid_auto_columns": null,
            "grid_auto_flow": null,
            "grid_auto_rows": null,
            "grid_column": null,
            "grid_gap": null,
            "grid_row": null,
            "grid_template_areas": null,
            "grid_template_columns": null,
            "grid_template_rows": null,
            "height": null,
            "justify_content": null,
            "justify_items": null,
            "left": null,
            "margin": null,
            "max_height": null,
            "max_width": null,
            "min_height": null,
            "min_width": null,
            "object_fit": null,
            "object_position": null,
            "order": null,
            "overflow": null,
            "overflow_x": null,
            "overflow_y": null,
            "padding": null,
            "right": null,
            "top": null,
            "visibility": null,
            "width": null
          }
        },
        "0cfc6829683e4ceca61a3af5fe3863b9": {
          "model_module": "@jupyter-widgets/controls",
          "model_name": "ProgressStyleModel",
          "model_module_version": "1.5.0",
          "state": {
            "_model_module": "@jupyter-widgets/controls",
            "_model_module_version": "1.5.0",
            "_model_name": "ProgressStyleModel",
            "_view_count": null,
            "_view_module": "@jupyter-widgets/base",
            "_view_module_version": "1.2.0",
            "_view_name": "StyleView",
            "bar_color": null,
            "description_width": ""
          }
        },
        "66eacb012f7d442eac1e9538ab4f88a5": {
          "model_module": "@jupyter-widgets/base",
          "model_name": "LayoutModel",
          "model_module_version": "1.2.0",
          "state": {
            "_model_module": "@jupyter-widgets/base",
            "_model_module_version": "1.2.0",
            "_model_name": "LayoutModel",
            "_view_count": null,
            "_view_module": "@jupyter-widgets/base",
            "_view_module_version": "1.2.0",
            "_view_name": "LayoutView",
            "align_content": null,
            "align_items": null,
            "align_self": null,
            "border": null,
            "bottom": null,
            "display": null,
            "flex": null,
            "flex_flow": null,
            "grid_area": null,
            "grid_auto_columns": null,
            "grid_auto_flow": null,
            "grid_auto_rows": null,
            "grid_column": null,
            "grid_gap": null,
            "grid_row": null,
            "grid_template_areas": null,
            "grid_template_columns": null,
            "grid_template_rows": null,
            "height": null,
            "justify_content": null,
            "justify_items": null,
            "left": null,
            "margin": null,
            "max_height": null,
            "max_width": null,
            "min_height": null,
            "min_width": null,
            "object_fit": null,
            "object_position": null,
            "order": null,
            "overflow": null,
            "overflow_x": null,
            "overflow_y": null,
            "padding": null,
            "right": null,
            "top": null,
            "visibility": null,
            "width": null
          }
        },
        "1d9134311c8349c0937f9fd01dc2390b": {
          "model_module": "@jupyter-widgets/controls",
          "model_name": "DescriptionStyleModel",
          "model_module_version": "1.5.0",
          "state": {
            "_model_module": "@jupyter-widgets/controls",
            "_model_module_version": "1.5.0",
            "_model_name": "DescriptionStyleModel",
            "_view_count": null,
            "_view_module": "@jupyter-widgets/base",
            "_view_module_version": "1.2.0",
            "_view_name": "StyleView",
            "description_width": ""
          }
        },
        "a946beffebbb497f8aba4e1c291edd23": {
          "model_module": "@jupyter-widgets/controls",
          "model_name": "HBoxModel",
          "model_module_version": "1.5.0",
          "state": {
            "_dom_classes": [],
            "_model_module": "@jupyter-widgets/controls",
            "_model_module_version": "1.5.0",
            "_model_name": "HBoxModel",
            "_view_count": null,
            "_view_module": "@jupyter-widgets/controls",
            "_view_module_version": "1.5.0",
            "_view_name": "HBoxView",
            "box_style": "",
            "children": [
              "IPY_MODEL_752d213c743048158853b04392d07b0e",
              "IPY_MODEL_70a4c32fb6124598ad915519006e1cb1",
              "IPY_MODEL_4a0693975fa043c8aea2dcc72a35aa2c"
            ],
            "layout": "IPY_MODEL_3184e14bc9c843caa215096b08df0dc2"
          }
        },
        "752d213c743048158853b04392d07b0e": {
          "model_module": "@jupyter-widgets/controls",
          "model_name": "HTMLModel",
          "model_module_version": "1.5.0",
          "state": {
            "_dom_classes": [],
            "_model_module": "@jupyter-widgets/controls",
            "_model_module_version": "1.5.0",
            "_model_name": "HTMLModel",
            "_view_count": null,
            "_view_module": "@jupyter-widgets/controls",
            "_view_module_version": "1.5.0",
            "_view_name": "HTMLView",
            "description": "",
            "description_tooltip": null,
            "layout": "IPY_MODEL_7cab2da2aef04e6bbfd1a1c772800829",
            "placeholder": "​",
            "style": "IPY_MODEL_e02221aa8afb4a0aae3bee66e9312ff2",
            "value": "test.jsonl.gz: 100%"
          }
        },
        "70a4c32fb6124598ad915519006e1cb1": {
          "model_module": "@jupyter-widgets/controls",
          "model_name": "FloatProgressModel",
          "model_module_version": "1.5.0",
          "state": {
            "_dom_classes": [],
            "_model_module": "@jupyter-widgets/controls",
            "_model_module_version": "1.5.0",
            "_model_name": "FloatProgressModel",
            "_view_count": null,
            "_view_module": "@jupyter-widgets/controls",
            "_view_module_version": "1.5.0",
            "_view_name": "ProgressView",
            "bar_style": "success",
            "description": "",
            "description_tooltip": null,
            "layout": "IPY_MODEL_1f527c518014470eb61d19cfa3a3dd60",
            "max": 7528112,
            "min": 0,
            "orientation": "horizontal",
            "style": "IPY_MODEL_0927ac4a05394c99a8f4229154d05a59",
            "value": 7528112
          }
        },
        "4a0693975fa043c8aea2dcc72a35aa2c": {
          "model_module": "@jupyter-widgets/controls",
          "model_name": "HTMLModel",
          "model_module_version": "1.5.0",
          "state": {
            "_dom_classes": [],
            "_model_module": "@jupyter-widgets/controls",
            "_model_module_version": "1.5.0",
            "_model_name": "HTMLModel",
            "_view_count": null,
            "_view_module": "@jupyter-widgets/controls",
            "_view_module_version": "1.5.0",
            "_view_name": "HTMLView",
            "description": "",
            "description_tooltip": null,
            "layout": "IPY_MODEL_d40d8cbbe4894188a756fd740ac7d71a",
            "placeholder": "​",
            "style": "IPY_MODEL_1e766cfa5a6b4a9eb5d34c356bb65bd3",
            "value": " 7.53M/7.53M [00:00&lt;00:00, 21.4MB/s]"
          }
        },
        "3184e14bc9c843caa215096b08df0dc2": {
          "model_module": "@jupyter-widgets/base",
          "model_name": "LayoutModel",
          "model_module_version": "1.2.0",
          "state": {
            "_model_module": "@jupyter-widgets/base",
            "_model_module_version": "1.2.0",
            "_model_name": "LayoutModel",
            "_view_count": null,
            "_view_module": "@jupyter-widgets/base",
            "_view_module_version": "1.2.0",
            "_view_name": "LayoutView",
            "align_content": null,
            "align_items": null,
            "align_self": null,
            "border": null,
            "bottom": null,
            "display": null,
            "flex": null,
            "flex_flow": null,
            "grid_area": null,
            "grid_auto_columns": null,
            "grid_auto_flow": null,
            "grid_auto_rows": null,
            "grid_column": null,
            "grid_gap": null,
            "grid_row": null,
            "grid_template_areas": null,
            "grid_template_columns": null,
            "grid_template_rows": null,
            "height": null,
            "justify_content": null,
            "justify_items": null,
            "left": null,
            "margin": null,
            "max_height": null,
            "max_width": null,
            "min_height": null,
            "min_width": null,
            "object_fit": null,
            "object_position": null,
            "order": null,
            "overflow": null,
            "overflow_x": null,
            "overflow_y": null,
            "padding": null,
            "right": null,
            "top": null,
            "visibility": null,
            "width": null
          }
        },
        "7cab2da2aef04e6bbfd1a1c772800829": {
          "model_module": "@jupyter-widgets/base",
          "model_name": "LayoutModel",
          "model_module_version": "1.2.0",
          "state": {
            "_model_module": "@jupyter-widgets/base",
            "_model_module_version": "1.2.0",
            "_model_name": "LayoutModel",
            "_view_count": null,
            "_view_module": "@jupyter-widgets/base",
            "_view_module_version": "1.2.0",
            "_view_name": "LayoutView",
            "align_content": null,
            "align_items": null,
            "align_self": null,
            "border": null,
            "bottom": null,
            "display": null,
            "flex": null,
            "flex_flow": null,
            "grid_area": null,
            "grid_auto_columns": null,
            "grid_auto_flow": null,
            "grid_auto_rows": null,
            "grid_column": null,
            "grid_gap": null,
            "grid_row": null,
            "grid_template_areas": null,
            "grid_template_columns": null,
            "grid_template_rows": null,
            "height": null,
            "justify_content": null,
            "justify_items": null,
            "left": null,
            "margin": null,
            "max_height": null,
            "max_width": null,
            "min_height": null,
            "min_width": null,
            "object_fit": null,
            "object_position": null,
            "order": null,
            "overflow": null,
            "overflow_x": null,
            "overflow_y": null,
            "padding": null,
            "right": null,
            "top": null,
            "visibility": null,
            "width": null
          }
        },
        "e02221aa8afb4a0aae3bee66e9312ff2": {
          "model_module": "@jupyter-widgets/controls",
          "model_name": "DescriptionStyleModel",
          "model_module_version": "1.5.0",
          "state": {
            "_model_module": "@jupyter-widgets/controls",
            "_model_module_version": "1.5.0",
            "_model_name": "DescriptionStyleModel",
            "_view_count": null,
            "_view_module": "@jupyter-widgets/base",
            "_view_module_version": "1.2.0",
            "_view_name": "StyleView",
            "description_width": ""
          }
        },
        "1f527c518014470eb61d19cfa3a3dd60": {
          "model_module": "@jupyter-widgets/base",
          "model_name": "LayoutModel",
          "model_module_version": "1.2.0",
          "state": {
            "_model_module": "@jupyter-widgets/base",
            "_model_module_version": "1.2.0",
            "_model_name": "LayoutModel",
            "_view_count": null,
            "_view_module": "@jupyter-widgets/base",
            "_view_module_version": "1.2.0",
            "_view_name": "LayoutView",
            "align_content": null,
            "align_items": null,
            "align_self": null,
            "border": null,
            "bottom": null,
            "display": null,
            "flex": null,
            "flex_flow": null,
            "grid_area": null,
            "grid_auto_columns": null,
            "grid_auto_flow": null,
            "grid_auto_rows": null,
            "grid_column": null,
            "grid_gap": null,
            "grid_row": null,
            "grid_template_areas": null,
            "grid_template_columns": null,
            "grid_template_rows": null,
            "height": null,
            "justify_content": null,
            "justify_items": null,
            "left": null,
            "margin": null,
            "max_height": null,
            "max_width": null,
            "min_height": null,
            "min_width": null,
            "object_fit": null,
            "object_position": null,
            "order": null,
            "overflow": null,
            "overflow_x": null,
            "overflow_y": null,
            "padding": null,
            "right": null,
            "top": null,
            "visibility": null,
            "width": null
          }
        },
        "0927ac4a05394c99a8f4229154d05a59": {
          "model_module": "@jupyter-widgets/controls",
          "model_name": "ProgressStyleModel",
          "model_module_version": "1.5.0",
          "state": {
            "_model_module": "@jupyter-widgets/controls",
            "_model_module_version": "1.5.0",
            "_model_name": "ProgressStyleModel",
            "_view_count": null,
            "_view_module": "@jupyter-widgets/base",
            "_view_module_version": "1.2.0",
            "_view_name": "StyleView",
            "bar_color": null,
            "description_width": ""
          }
        },
        "d40d8cbbe4894188a756fd740ac7d71a": {
          "model_module": "@jupyter-widgets/base",
          "model_name": "LayoutModel",
          "model_module_version": "1.2.0",
          "state": {
            "_model_module": "@jupyter-widgets/base",
            "_model_module_version": "1.2.0",
            "_model_name": "LayoutModel",
            "_view_count": null,
            "_view_module": "@jupyter-widgets/base",
            "_view_module_version": "1.2.0",
            "_view_name": "LayoutView",
            "align_content": null,
            "align_items": null,
            "align_self": null,
            "border": null,
            "bottom": null,
            "display": null,
            "flex": null,
            "flex_flow": null,
            "grid_area": null,
            "grid_auto_columns": null,
            "grid_auto_flow": null,
            "grid_auto_rows": null,
            "grid_column": null,
            "grid_gap": null,
            "grid_row": null,
            "grid_template_areas": null,
            "grid_template_columns": null,
            "grid_template_rows": null,
            "height": null,
            "justify_content": null,
            "justify_items": null,
            "left": null,
            "margin": null,
            "max_height": null,
            "max_width": null,
            "min_height": null,
            "min_width": null,
            "object_fit": null,
            "object_position": null,
            "order": null,
            "overflow": null,
            "overflow_x": null,
            "overflow_y": null,
            "padding": null,
            "right": null,
            "top": null,
            "visibility": null,
            "width": null
          }
        },
        "1e766cfa5a6b4a9eb5d34c356bb65bd3": {
          "model_module": "@jupyter-widgets/controls",
          "model_name": "DescriptionStyleModel",
          "model_module_version": "1.5.0",
          "state": {
            "_model_module": "@jupyter-widgets/controls",
            "_model_module_version": "1.5.0",
            "_model_name": "DescriptionStyleModel",
            "_view_count": null,
            "_view_module": "@jupyter-widgets/base",
            "_view_module_version": "1.2.0",
            "_view_name": "StyleView",
            "description_width": ""
          }
        },
        "7f1c12cd14c34f768966df3925706ed3": {
          "model_module": "@jupyter-widgets/controls",
          "model_name": "HBoxModel",
          "model_module_version": "1.5.0",
          "state": {
            "_dom_classes": [],
            "_model_module": "@jupyter-widgets/controls",
            "_model_module_version": "1.5.0",
            "_model_name": "HBoxModel",
            "_view_count": null,
            "_view_module": "@jupyter-widgets/controls",
            "_view_module_version": "1.5.0",
            "_view_name": "HBoxView",
            "box_style": "",
            "children": [
              "IPY_MODEL_3f515b309a274414aed3b72745ab51d3",
              "IPY_MODEL_74f9f40666d44c4f80ca9dfa236e93aa",
              "IPY_MODEL_1bdbfafe835540cc915c4f4e80268a77"
            ],
            "layout": "IPY_MODEL_f5494df5394c4ac197156e39e09da169"
          }
        },
        "3f515b309a274414aed3b72745ab51d3": {
          "model_module": "@jupyter-widgets/controls",
          "model_name": "HTMLModel",
          "model_module_version": "1.5.0",
          "state": {
            "_dom_classes": [],
            "_model_module": "@jupyter-widgets/controls",
            "_model_module_version": "1.5.0",
            "_model_name": "HTMLModel",
            "_view_count": null,
            "_view_module": "@jupyter-widgets/controls",
            "_view_module_version": "1.5.0",
            "_view_name": "HTMLView",
            "description": "",
            "description_tooltip": null,
            "layout": "IPY_MODEL_a8b95e63cc3648068fa67528290f37f0",
            "placeholder": "​",
            "style": "IPY_MODEL_9fa765db39394d36aa85200f79a3261b",
            "value": "train.jsonl.gz: 100%"
          }
        },
        "74f9f40666d44c4f80ca9dfa236e93aa": {
          "model_module": "@jupyter-widgets/controls",
          "model_name": "FloatProgressModel",
          "model_module_version": "1.5.0",
          "state": {
            "_dom_classes": [],
            "_model_module": "@jupyter-widgets/controls",
            "_model_module_version": "1.5.0",
            "_model_name": "FloatProgressModel",
            "_view_count": null,
            "_view_module": "@jupyter-widgets/controls",
            "_view_module_version": "1.5.0",
            "_view_name": "ProgressView",
            "bar_style": "success",
            "description": "",
            "description_tooltip": null,
            "layout": "IPY_MODEL_641b703d34874ffbb25eb10deca3c873",
            "max": 9018863,
            "min": 0,
            "orientation": "horizontal",
            "style": "IPY_MODEL_0753bf2d04b74b488679ae2dc75610e7",
            "value": 9018863
          }
        },
        "1bdbfafe835540cc915c4f4e80268a77": {
          "model_module": "@jupyter-widgets/controls",
          "model_name": "HTMLModel",
          "model_module_version": "1.5.0",
          "state": {
            "_dom_classes": [],
            "_model_module": "@jupyter-widgets/controls",
            "_model_module_version": "1.5.0",
            "_model_name": "HTMLModel",
            "_view_count": null,
            "_view_module": "@jupyter-widgets/controls",
            "_view_module_version": "1.5.0",
            "_view_name": "HTMLView",
            "description": "",
            "description_tooltip": null,
            "layout": "IPY_MODEL_aca9ea7d37344be4a50bfba5550624bd",
            "placeholder": "​",
            "style": "IPY_MODEL_758ca96d84124d1d975cd6eeb31bafc0",
            "value": " 9.02M/9.02M [00:00&lt;00:00, 50.0MB/s]"
          }
        },
        "f5494df5394c4ac197156e39e09da169": {
          "model_module": "@jupyter-widgets/base",
          "model_name": "LayoutModel",
          "model_module_version": "1.2.0",
          "state": {
            "_model_module": "@jupyter-widgets/base",
            "_model_module_version": "1.2.0",
            "_model_name": "LayoutModel",
            "_view_count": null,
            "_view_module": "@jupyter-widgets/base",
            "_view_module_version": "1.2.0",
            "_view_name": "LayoutView",
            "align_content": null,
            "align_items": null,
            "align_self": null,
            "border": null,
            "bottom": null,
            "display": null,
            "flex": null,
            "flex_flow": null,
            "grid_area": null,
            "grid_auto_columns": null,
            "grid_auto_flow": null,
            "grid_auto_rows": null,
            "grid_column": null,
            "grid_gap": null,
            "grid_row": null,
            "grid_template_areas": null,
            "grid_template_columns": null,
            "grid_template_rows": null,
            "height": null,
            "justify_content": null,
            "justify_items": null,
            "left": null,
            "margin": null,
            "max_height": null,
            "max_width": null,
            "min_height": null,
            "min_width": null,
            "object_fit": null,
            "object_position": null,
            "order": null,
            "overflow": null,
            "overflow_x": null,
            "overflow_y": null,
            "padding": null,
            "right": null,
            "top": null,
            "visibility": null,
            "width": null
          }
        },
        "a8b95e63cc3648068fa67528290f37f0": {
          "model_module": "@jupyter-widgets/base",
          "model_name": "LayoutModel",
          "model_module_version": "1.2.0",
          "state": {
            "_model_module": "@jupyter-widgets/base",
            "_model_module_version": "1.2.0",
            "_model_name": "LayoutModel",
            "_view_count": null,
            "_view_module": "@jupyter-widgets/base",
            "_view_module_version": "1.2.0",
            "_view_name": "LayoutView",
            "align_content": null,
            "align_items": null,
            "align_self": null,
            "border": null,
            "bottom": null,
            "display": null,
            "flex": null,
            "flex_flow": null,
            "grid_area": null,
            "grid_auto_columns": null,
            "grid_auto_flow": null,
            "grid_auto_rows": null,
            "grid_column": null,
            "grid_gap": null,
            "grid_row": null,
            "grid_template_areas": null,
            "grid_template_columns": null,
            "grid_template_rows": null,
            "height": null,
            "justify_content": null,
            "justify_items": null,
            "left": null,
            "margin": null,
            "max_height": null,
            "max_width": null,
            "min_height": null,
            "min_width": null,
            "object_fit": null,
            "object_position": null,
            "order": null,
            "overflow": null,
            "overflow_x": null,
            "overflow_y": null,
            "padding": null,
            "right": null,
            "top": null,
            "visibility": null,
            "width": null
          }
        },
        "9fa765db39394d36aa85200f79a3261b": {
          "model_module": "@jupyter-widgets/controls",
          "model_name": "DescriptionStyleModel",
          "model_module_version": "1.5.0",
          "state": {
            "_model_module": "@jupyter-widgets/controls",
            "_model_module_version": "1.5.0",
            "_model_name": "DescriptionStyleModel",
            "_view_count": null,
            "_view_module": "@jupyter-widgets/base",
            "_view_module_version": "1.2.0",
            "_view_name": "StyleView",
            "description_width": ""
          }
        },
        "641b703d34874ffbb25eb10deca3c873": {
          "model_module": "@jupyter-widgets/base",
          "model_name": "LayoutModel",
          "model_module_version": "1.2.0",
          "state": {
            "_model_module": "@jupyter-widgets/base",
            "_model_module_version": "1.2.0",
            "_model_name": "LayoutModel",
            "_view_count": null,
            "_view_module": "@jupyter-widgets/base",
            "_view_module_version": "1.2.0",
            "_view_name": "LayoutView",
            "align_content": null,
            "align_items": null,
            "align_self": null,
            "border": null,
            "bottom": null,
            "display": null,
            "flex": null,
            "flex_flow": null,
            "grid_area": null,
            "grid_auto_columns": null,
            "grid_auto_flow": null,
            "grid_auto_rows": null,
            "grid_column": null,
            "grid_gap": null,
            "grid_row": null,
            "grid_template_areas": null,
            "grid_template_columns": null,
            "grid_template_rows": null,
            "height": null,
            "justify_content": null,
            "justify_items": null,
            "left": null,
            "margin": null,
            "max_height": null,
            "max_width": null,
            "min_height": null,
            "min_width": null,
            "object_fit": null,
            "object_position": null,
            "order": null,
            "overflow": null,
            "overflow_x": null,
            "overflow_y": null,
            "padding": null,
            "right": null,
            "top": null,
            "visibility": null,
            "width": null
          }
        },
        "0753bf2d04b74b488679ae2dc75610e7": {
          "model_module": "@jupyter-widgets/controls",
          "model_name": "ProgressStyleModel",
          "model_module_version": "1.5.0",
          "state": {
            "_model_module": "@jupyter-widgets/controls",
            "_model_module_version": "1.5.0",
            "_model_name": "ProgressStyleModel",
            "_view_count": null,
            "_view_module": "@jupyter-widgets/base",
            "_view_module_version": "1.2.0",
            "_view_name": "StyleView",
            "bar_color": null,
            "description_width": ""
          }
        },
        "aca9ea7d37344be4a50bfba5550624bd": {
          "model_module": "@jupyter-widgets/base",
          "model_name": "LayoutModel",
          "model_module_version": "1.2.0",
          "state": {
            "_model_module": "@jupyter-widgets/base",
            "_model_module_version": "1.2.0",
            "_model_name": "LayoutModel",
            "_view_count": null,
            "_view_module": "@jupyter-widgets/base",
            "_view_module_version": "1.2.0",
            "_view_name": "LayoutView",
            "align_content": null,
            "align_items": null,
            "align_self": null,
            "border": null,
            "bottom": null,
            "display": null,
            "flex": null,
            "flex_flow": null,
            "grid_area": null,
            "grid_auto_columns": null,
            "grid_auto_flow": null,
            "grid_auto_rows": null,
            "grid_column": null,
            "grid_gap": null,
            "grid_row": null,
            "grid_template_areas": null,
            "grid_template_columns": null,
            "grid_template_rows": null,
            "height": null,
            "justify_content": null,
            "justify_items": null,
            "left": null,
            "margin": null,
            "max_height": null,
            "max_width": null,
            "min_height": null,
            "min_width": null,
            "object_fit": null,
            "object_position": null,
            "order": null,
            "overflow": null,
            "overflow_x": null,
            "overflow_y": null,
            "padding": null,
            "right": null,
            "top": null,
            "visibility": null,
            "width": null
          }
        },
        "758ca96d84124d1d975cd6eeb31bafc0": {
          "model_module": "@jupyter-widgets/controls",
          "model_name": "DescriptionStyleModel",
          "model_module_version": "1.5.0",
          "state": {
            "_model_module": "@jupyter-widgets/controls",
            "_model_module_version": "1.5.0",
            "_model_name": "DescriptionStyleModel",
            "_view_count": null,
            "_view_module": "@jupyter-widgets/base",
            "_view_module_version": "1.2.0",
            "_view_name": "StyleView",
            "description_width": ""
          }
        },
        "7786d4ba845e442cb0539039c5b1d69e": {
          "model_module": "@jupyter-widgets/controls",
          "model_name": "HBoxModel",
          "model_module_version": "1.5.0",
          "state": {
            "_dom_classes": [],
            "_model_module": "@jupyter-widgets/controls",
            "_model_module_version": "1.5.0",
            "_model_name": "HBoxModel",
            "_view_count": null,
            "_view_module": "@jupyter-widgets/controls",
            "_view_module_version": "1.5.0",
            "_view_name": "HBoxView",
            "box_style": "",
            "children": [
              "IPY_MODEL_8f76c0f872154f5eb99a183a4d92f0ff",
              "IPY_MODEL_20a8a9a3a09b441fb0a4ab959031f236",
              "IPY_MODEL_2c6078aa88e0406fb6f63c7e41097426"
            ],
            "layout": "IPY_MODEL_c9a932111c834ccea3a58982369c6226"
          }
        },
        "8f76c0f872154f5eb99a183a4d92f0ff": {
          "model_module": "@jupyter-widgets/controls",
          "model_name": "HTMLModel",
          "model_module_version": "1.5.0",
          "state": {
            "_dom_classes": [],
            "_model_module": "@jupyter-widgets/controls",
            "_model_module_version": "1.5.0",
            "_model_name": "HTMLModel",
            "_view_count": null,
            "_view_module": "@jupyter-widgets/controls",
            "_view_module_version": "1.5.0",
            "_view_name": "HTMLView",
            "description": "",
            "description_tooltip": null,
            "layout": "IPY_MODEL_8153f6f5af794eb5a33dd93d353c80e0",
            "placeholder": "​",
            "style": "IPY_MODEL_dc9e4355e74b43bd850a8643e459baec",
            "value": "Generating test split: 100%"
          }
        },
        "20a8a9a3a09b441fb0a4ab959031f236": {
          "model_module": "@jupyter-widgets/controls",
          "model_name": "FloatProgressModel",
          "model_module_version": "1.5.0",
          "state": {
            "_dom_classes": [],
            "_model_module": "@jupyter-widgets/controls",
            "_model_module_version": "1.5.0",
            "_model_name": "FloatProgressModel",
            "_view_count": null,
            "_view_module": "@jupyter-widgets/controls",
            "_view_module_version": "1.5.0",
            "_view_name": "ProgressView",
            "bar_style": "success",
            "description": "",
            "description_tooltip": null,
            "layout": "IPY_MODEL_d651590120a649ffb1df21e5872d839d",
            "max": 3958,
            "min": 0,
            "orientation": "horizontal",
            "style": "IPY_MODEL_8320a868fd6549e8b1e45c97d68ceac8",
            "value": 3958
          }
        },
        "2c6078aa88e0406fb6f63c7e41097426": {
          "model_module": "@jupyter-widgets/controls",
          "model_name": "HTMLModel",
          "model_module_version": "1.5.0",
          "state": {
            "_dom_classes": [],
            "_model_module": "@jupyter-widgets/controls",
            "_model_module_version": "1.5.0",
            "_model_name": "HTMLModel",
            "_view_count": null,
            "_view_module": "@jupyter-widgets/controls",
            "_view_module_version": "1.5.0",
            "_view_name": "HTMLView",
            "description": "",
            "description_tooltip": null,
            "layout": "IPY_MODEL_edb72a3f91dd4722a508065df9a115c4",
            "placeholder": "​",
            "style": "IPY_MODEL_7250b6816c464b43b4a3fb37d9ba4dd4",
            "value": " 3958/3958 [00:01&lt;00:00, 2113.05 examples/s]"
          }
        },
        "c9a932111c834ccea3a58982369c6226": {
          "model_module": "@jupyter-widgets/base",
          "model_name": "LayoutModel",
          "model_module_version": "1.2.0",
          "state": {
            "_model_module": "@jupyter-widgets/base",
            "_model_module_version": "1.2.0",
            "_model_name": "LayoutModel",
            "_view_count": null,
            "_view_module": "@jupyter-widgets/base",
            "_view_module_version": "1.2.0",
            "_view_name": "LayoutView",
            "align_content": null,
            "align_items": null,
            "align_self": null,
            "border": null,
            "bottom": null,
            "display": null,
            "flex": null,
            "flex_flow": null,
            "grid_area": null,
            "grid_auto_columns": null,
            "grid_auto_flow": null,
            "grid_auto_rows": null,
            "grid_column": null,
            "grid_gap": null,
            "grid_row": null,
            "grid_template_areas": null,
            "grid_template_columns": null,
            "grid_template_rows": null,
            "height": null,
            "justify_content": null,
            "justify_items": null,
            "left": null,
            "margin": null,
            "max_height": null,
            "max_width": null,
            "min_height": null,
            "min_width": null,
            "object_fit": null,
            "object_position": null,
            "order": null,
            "overflow": null,
            "overflow_x": null,
            "overflow_y": null,
            "padding": null,
            "right": null,
            "top": null,
            "visibility": null,
            "width": null
          }
        },
        "8153f6f5af794eb5a33dd93d353c80e0": {
          "model_module": "@jupyter-widgets/base",
          "model_name": "LayoutModel",
          "model_module_version": "1.2.0",
          "state": {
            "_model_module": "@jupyter-widgets/base",
            "_model_module_version": "1.2.0",
            "_model_name": "LayoutModel",
            "_view_count": null,
            "_view_module": "@jupyter-widgets/base",
            "_view_module_version": "1.2.0",
            "_view_name": "LayoutView",
            "align_content": null,
            "align_items": null,
            "align_self": null,
            "border": null,
            "bottom": null,
            "display": null,
            "flex": null,
            "flex_flow": null,
            "grid_area": null,
            "grid_auto_columns": null,
            "grid_auto_flow": null,
            "grid_auto_rows": null,
            "grid_column": null,
            "grid_gap": null,
            "grid_row": null,
            "grid_template_areas": null,
            "grid_template_columns": null,
            "grid_template_rows": null,
            "height": null,
            "justify_content": null,
            "justify_items": null,
            "left": null,
            "margin": null,
            "max_height": null,
            "max_width": null,
            "min_height": null,
            "min_width": null,
            "object_fit": null,
            "object_position": null,
            "order": null,
            "overflow": null,
            "overflow_x": null,
            "overflow_y": null,
            "padding": null,
            "right": null,
            "top": null,
            "visibility": null,
            "width": null
          }
        },
        "dc9e4355e74b43bd850a8643e459baec": {
          "model_module": "@jupyter-widgets/controls",
          "model_name": "DescriptionStyleModel",
          "model_module_version": "1.5.0",
          "state": {
            "_model_module": "@jupyter-widgets/controls",
            "_model_module_version": "1.5.0",
            "_model_name": "DescriptionStyleModel",
            "_view_count": null,
            "_view_module": "@jupyter-widgets/base",
            "_view_module_version": "1.2.0",
            "_view_name": "StyleView",
            "description_width": ""
          }
        },
        "d651590120a649ffb1df21e5872d839d": {
          "model_module": "@jupyter-widgets/base",
          "model_name": "LayoutModel",
          "model_module_version": "1.2.0",
          "state": {
            "_model_module": "@jupyter-widgets/base",
            "_model_module_version": "1.2.0",
            "_model_name": "LayoutModel",
            "_view_count": null,
            "_view_module": "@jupyter-widgets/base",
            "_view_module_version": "1.2.0",
            "_view_name": "LayoutView",
            "align_content": null,
            "align_items": null,
            "align_self": null,
            "border": null,
            "bottom": null,
            "display": null,
            "flex": null,
            "flex_flow": null,
            "grid_area": null,
            "grid_auto_columns": null,
            "grid_auto_flow": null,
            "grid_auto_rows": null,
            "grid_column": null,
            "grid_gap": null,
            "grid_row": null,
            "grid_template_areas": null,
            "grid_template_columns": null,
            "grid_template_rows": null,
            "height": null,
            "justify_content": null,
            "justify_items": null,
            "left": null,
            "margin": null,
            "max_height": null,
            "max_width": null,
            "min_height": null,
            "min_width": null,
            "object_fit": null,
            "object_position": null,
            "order": null,
            "overflow": null,
            "overflow_x": null,
            "overflow_y": null,
            "padding": null,
            "right": null,
            "top": null,
            "visibility": null,
            "width": null
          }
        },
        "8320a868fd6549e8b1e45c97d68ceac8": {
          "model_module": "@jupyter-widgets/controls",
          "model_name": "ProgressStyleModel",
          "model_module_version": "1.5.0",
          "state": {
            "_model_module": "@jupyter-widgets/controls",
            "_model_module_version": "1.5.0",
            "_model_name": "ProgressStyleModel",
            "_view_count": null,
            "_view_module": "@jupyter-widgets/base",
            "_view_module_version": "1.2.0",
            "_view_name": "StyleView",
            "bar_color": null,
            "description_width": ""
          }
        },
        "edb72a3f91dd4722a508065df9a115c4": {
          "model_module": "@jupyter-widgets/base",
          "model_name": "LayoutModel",
          "model_module_version": "1.2.0",
          "state": {
            "_model_module": "@jupyter-widgets/base",
            "_model_module_version": "1.2.0",
            "_model_name": "LayoutModel",
            "_view_count": null,
            "_view_module": "@jupyter-widgets/base",
            "_view_module_version": "1.2.0",
            "_view_name": "LayoutView",
            "align_content": null,
            "align_items": null,
            "align_self": null,
            "border": null,
            "bottom": null,
            "display": null,
            "flex": null,
            "flex_flow": null,
            "grid_area": null,
            "grid_auto_columns": null,
            "grid_auto_flow": null,
            "grid_auto_rows": null,
            "grid_column": null,
            "grid_gap": null,
            "grid_row": null,
            "grid_template_areas": null,
            "grid_template_columns": null,
            "grid_template_rows": null,
            "height": null,
            "justify_content": null,
            "justify_items": null,
            "left": null,
            "margin": null,
            "max_height": null,
            "max_width": null,
            "min_height": null,
            "min_width": null,
            "object_fit": null,
            "object_position": null,
            "order": null,
            "overflow": null,
            "overflow_x": null,
            "overflow_y": null,
            "padding": null,
            "right": null,
            "top": null,
            "visibility": null,
            "width": null
          }
        },
        "7250b6816c464b43b4a3fb37d9ba4dd4": {
          "model_module": "@jupyter-widgets/controls",
          "model_name": "DescriptionStyleModel",
          "model_module_version": "1.5.0",
          "state": {
            "_model_module": "@jupyter-widgets/controls",
            "_model_module_version": "1.5.0",
            "_model_name": "DescriptionStyleModel",
            "_view_count": null,
            "_view_module": "@jupyter-widgets/base",
            "_view_module_version": "1.2.0",
            "_view_name": "StyleView",
            "description_width": ""
          }
        },
        "78f6ce1c589947e49ab8b0e91e3ddf0c": {
          "model_module": "@jupyter-widgets/controls",
          "model_name": "HBoxModel",
          "model_module_version": "1.5.0",
          "state": {
            "_dom_classes": [],
            "_model_module": "@jupyter-widgets/controls",
            "_model_module_version": "1.5.0",
            "_model_name": "HBoxModel",
            "_view_count": null,
            "_view_module": "@jupyter-widgets/controls",
            "_view_module_version": "1.5.0",
            "_view_name": "HBoxView",
            "box_style": "",
            "children": [
              "IPY_MODEL_15b9d9575516478f8d380a672e29e25a",
              "IPY_MODEL_684c705fe00e49cc987dd35cb2dd18ff",
              "IPY_MODEL_70fbd3ae80d64c5e80ba89cc96808a9d"
            ],
            "layout": "IPY_MODEL_564aef46ccd74436bb539fdaf4c8da38"
          }
        },
        "15b9d9575516478f8d380a672e29e25a": {
          "model_module": "@jupyter-widgets/controls",
          "model_name": "HTMLModel",
          "model_module_version": "1.5.0",
          "state": {
            "_dom_classes": [],
            "_model_module": "@jupyter-widgets/controls",
            "_model_module_version": "1.5.0",
            "_model_name": "HTMLModel",
            "_view_count": null,
            "_view_module": "@jupyter-widgets/controls",
            "_view_module_version": "1.5.0",
            "_view_name": "HTMLView",
            "description": "",
            "description_tooltip": null,
            "layout": "IPY_MODEL_19389069fecd4672ad20bef1159394c5",
            "placeholder": "​",
            "style": "IPY_MODEL_e5cd7871d52b4f45a90ca323fa78b9a1",
            "value": "Generating train split: 100%"
          }
        },
        "684c705fe00e49cc987dd35cb2dd18ff": {
          "model_module": "@jupyter-widgets/controls",
          "model_name": "FloatProgressModel",
          "model_module_version": "1.5.0",
          "state": {
            "_dom_classes": [],
            "_model_module": "@jupyter-widgets/controls",
            "_model_module_version": "1.5.0",
            "_model_name": "FloatProgressModel",
            "_view_count": null,
            "_view_module": "@jupyter-widgets/controls",
            "_view_module_version": "1.5.0",
            "_view_name": "ProgressView",
            "bar_style": "success",
            "description": "",
            "description_tooltip": null,
            "layout": "IPY_MODEL_42a8a2059dab47498b94c99d63c53f42",
            "max": 4622,
            "min": 0,
            "orientation": "horizontal",
            "style": "IPY_MODEL_81e152cdc1f2441bafc3faacd3863c21",
            "value": 4622
          }
        },
        "70fbd3ae80d64c5e80ba89cc96808a9d": {
          "model_module": "@jupyter-widgets/controls",
          "model_name": "HTMLModel",
          "model_module_version": "1.5.0",
          "state": {
            "_dom_classes": [],
            "_model_module": "@jupyter-widgets/controls",
            "_model_module_version": "1.5.0",
            "_model_name": "HTMLModel",
            "_view_count": null,
            "_view_module": "@jupyter-widgets/controls",
            "_view_module_version": "1.5.0",
            "_view_name": "HTMLView",
            "description": "",
            "description_tooltip": null,
            "layout": "IPY_MODEL_823a4a13f72b4c07b1fade7f68e16159",
            "placeholder": "​",
            "style": "IPY_MODEL_4cff0a59005541e7b42c99821f5140be",
            "value": " 4622/4622 [00:01&lt;00:00, 3131.07 examples/s]"
          }
        },
        "564aef46ccd74436bb539fdaf4c8da38": {
          "model_module": "@jupyter-widgets/base",
          "model_name": "LayoutModel",
          "model_module_version": "1.2.0",
          "state": {
            "_model_module": "@jupyter-widgets/base",
            "_model_module_version": "1.2.0",
            "_model_name": "LayoutModel",
            "_view_count": null,
            "_view_module": "@jupyter-widgets/base",
            "_view_module_version": "1.2.0",
            "_view_name": "LayoutView",
            "align_content": null,
            "align_items": null,
            "align_self": null,
            "border": null,
            "bottom": null,
            "display": null,
            "flex": null,
            "flex_flow": null,
            "grid_area": null,
            "grid_auto_columns": null,
            "grid_auto_flow": null,
            "grid_auto_rows": null,
            "grid_column": null,
            "grid_gap": null,
            "grid_row": null,
            "grid_template_areas": null,
            "grid_template_columns": null,
            "grid_template_rows": null,
            "height": null,
            "justify_content": null,
            "justify_items": null,
            "left": null,
            "margin": null,
            "max_height": null,
            "max_width": null,
            "min_height": null,
            "min_width": null,
            "object_fit": null,
            "object_position": null,
            "order": null,
            "overflow": null,
            "overflow_x": null,
            "overflow_y": null,
            "padding": null,
            "right": null,
            "top": null,
            "visibility": null,
            "width": null
          }
        },
        "19389069fecd4672ad20bef1159394c5": {
          "model_module": "@jupyter-widgets/base",
          "model_name": "LayoutModel",
          "model_module_version": "1.2.0",
          "state": {
            "_model_module": "@jupyter-widgets/base",
            "_model_module_version": "1.2.0",
            "_model_name": "LayoutModel",
            "_view_count": null,
            "_view_module": "@jupyter-widgets/base",
            "_view_module_version": "1.2.0",
            "_view_name": "LayoutView",
            "align_content": null,
            "align_items": null,
            "align_self": null,
            "border": null,
            "bottom": null,
            "display": null,
            "flex": null,
            "flex_flow": null,
            "grid_area": null,
            "grid_auto_columns": null,
            "grid_auto_flow": null,
            "grid_auto_rows": null,
            "grid_column": null,
            "grid_gap": null,
            "grid_row": null,
            "grid_template_areas": null,
            "grid_template_columns": null,
            "grid_template_rows": null,
            "height": null,
            "justify_content": null,
            "justify_items": null,
            "left": null,
            "margin": null,
            "max_height": null,
            "max_width": null,
            "min_height": null,
            "min_width": null,
            "object_fit": null,
            "object_position": null,
            "order": null,
            "overflow": null,
            "overflow_x": null,
            "overflow_y": null,
            "padding": null,
            "right": null,
            "top": null,
            "visibility": null,
            "width": null
          }
        },
        "e5cd7871d52b4f45a90ca323fa78b9a1": {
          "model_module": "@jupyter-widgets/controls",
          "model_name": "DescriptionStyleModel",
          "model_module_version": "1.5.0",
          "state": {
            "_model_module": "@jupyter-widgets/controls",
            "_model_module_version": "1.5.0",
            "_model_name": "DescriptionStyleModel",
            "_view_count": null,
            "_view_module": "@jupyter-widgets/base",
            "_view_module_version": "1.2.0",
            "_view_name": "StyleView",
            "description_width": ""
          }
        },
        "42a8a2059dab47498b94c99d63c53f42": {
          "model_module": "@jupyter-widgets/base",
          "model_name": "LayoutModel",
          "model_module_version": "1.2.0",
          "state": {
            "_model_module": "@jupyter-widgets/base",
            "_model_module_version": "1.2.0",
            "_model_name": "LayoutModel",
            "_view_count": null,
            "_view_module": "@jupyter-widgets/base",
            "_view_module_version": "1.2.0",
            "_view_name": "LayoutView",
            "align_content": null,
            "align_items": null,
            "align_self": null,
            "border": null,
            "bottom": null,
            "display": null,
            "flex": null,
            "flex_flow": null,
            "grid_area": null,
            "grid_auto_columns": null,
            "grid_auto_flow": null,
            "grid_auto_rows": null,
            "grid_column": null,
            "grid_gap": null,
            "grid_row": null,
            "grid_template_areas": null,
            "grid_template_columns": null,
            "grid_template_rows": null,
            "height": null,
            "justify_content": null,
            "justify_items": null,
            "left": null,
            "margin": null,
            "max_height": null,
            "max_width": null,
            "min_height": null,
            "min_width": null,
            "object_fit": null,
            "object_position": null,
            "order": null,
            "overflow": null,
            "overflow_x": null,
            "overflow_y": null,
            "padding": null,
            "right": null,
            "top": null,
            "visibility": null,
            "width": null
          }
        },
        "81e152cdc1f2441bafc3faacd3863c21": {
          "model_module": "@jupyter-widgets/controls",
          "model_name": "ProgressStyleModel",
          "model_module_version": "1.5.0",
          "state": {
            "_model_module": "@jupyter-widgets/controls",
            "_model_module_version": "1.5.0",
            "_model_name": "ProgressStyleModel",
            "_view_count": null,
            "_view_module": "@jupyter-widgets/base",
            "_view_module_version": "1.2.0",
            "_view_name": "StyleView",
            "bar_color": null,
            "description_width": ""
          }
        },
        "823a4a13f72b4c07b1fade7f68e16159": {
          "model_module": "@jupyter-widgets/base",
          "model_name": "LayoutModel",
          "model_module_version": "1.2.0",
          "state": {
            "_model_module": "@jupyter-widgets/base",
            "_model_module_version": "1.2.0",
            "_model_name": "LayoutModel",
            "_view_count": null,
            "_view_module": "@jupyter-widgets/base",
            "_view_module_version": "1.2.0",
            "_view_name": "LayoutView",
            "align_content": null,
            "align_items": null,
            "align_self": null,
            "border": null,
            "bottom": null,
            "display": null,
            "flex": null,
            "flex_flow": null,
            "grid_area": null,
            "grid_auto_columns": null,
            "grid_auto_flow": null,
            "grid_auto_rows": null,
            "grid_column": null,
            "grid_gap": null,
            "grid_row": null,
            "grid_template_areas": null,
            "grid_template_columns": null,
            "grid_template_rows": null,
            "height": null,
            "justify_content": null,
            "justify_items": null,
            "left": null,
            "margin": null,
            "max_height": null,
            "max_width": null,
            "min_height": null,
            "min_width": null,
            "object_fit": null,
            "object_position": null,
            "order": null,
            "overflow": null,
            "overflow_x": null,
            "overflow_y": null,
            "padding": null,
            "right": null,
            "top": null,
            "visibility": null,
            "width": null
          }
        },
        "4cff0a59005541e7b42c99821f5140be": {
          "model_module": "@jupyter-widgets/controls",
          "model_name": "DescriptionStyleModel",
          "model_module_version": "1.5.0",
          "state": {
            "_model_module": "@jupyter-widgets/controls",
            "_model_module_version": "1.5.0",
            "_model_name": "DescriptionStyleModel",
            "_view_count": null,
            "_view_module": "@jupyter-widgets/base",
            "_view_module_version": "1.2.0",
            "_view_name": "StyleView",
            "description_width": ""
          }
        },
        "7f102622ef004c24b5c1663d2e5dc831": {
          "model_module": "@jupyter-widgets/controls",
          "model_name": "HBoxModel",
          "model_module_version": "1.5.0",
          "state": {
            "_dom_classes": [],
            "_model_module": "@jupyter-widgets/controls",
            "_model_module_version": "1.5.0",
            "_model_name": "HBoxModel",
            "_view_count": null,
            "_view_module": "@jupyter-widgets/controls",
            "_view_module_version": "1.5.0",
            "_view_name": "HBoxView",
            "box_style": "",
            "children": [
              "IPY_MODEL_7e5822c3df264bcc8585e502e84f7baa",
              "IPY_MODEL_f37271ff6e1a478ba32735d3c6011910",
              "IPY_MODEL_ec54a1978bbb4d698cb476b441cd4007"
            ],
            "layout": "IPY_MODEL_8391689a34f24e87b3a70793b017e2c5"
          }
        },
        "7e5822c3df264bcc8585e502e84f7baa": {
          "model_module": "@jupyter-widgets/controls",
          "model_name": "HTMLModel",
          "model_module_version": "1.5.0",
          "state": {
            "_dom_classes": [],
            "_model_module": "@jupyter-widgets/controls",
            "_model_module_version": "1.5.0",
            "_model_name": "HTMLModel",
            "_view_count": null,
            "_view_module": "@jupyter-widgets/controls",
            "_view_module_version": "1.5.0",
            "_view_name": "HTMLView",
            "description": "",
            "description_tooltip": null,
            "layout": "IPY_MODEL_de2eb40debf54f758ef72514810405b1",
            "placeholder": "​",
            "style": "IPY_MODEL_7a952f614b9440eb857dc9060187083f",
            "value": "tokenizer_config.json: 100%"
          }
        },
        "f37271ff6e1a478ba32735d3c6011910": {
          "model_module": "@jupyter-widgets/controls",
          "model_name": "FloatProgressModel",
          "model_module_version": "1.5.0",
          "state": {
            "_dom_classes": [],
            "_model_module": "@jupyter-widgets/controls",
            "_model_module_version": "1.5.0",
            "_model_name": "FloatProgressModel",
            "_view_count": null,
            "_view_module": "@jupyter-widgets/controls",
            "_view_module_version": "1.5.0",
            "_view_name": "ProgressView",
            "bar_style": "success",
            "description": "",
            "description_tooltip": null,
            "layout": "IPY_MODEL_e350700b66724bd881138c64658535d8",
            "max": 25,
            "min": 0,
            "orientation": "horizontal",
            "style": "IPY_MODEL_bd888f1bbc124617ba1c99b71bd71a0a",
            "value": 25
          }
        },
        "ec54a1978bbb4d698cb476b441cd4007": {
          "model_module": "@jupyter-widgets/controls",
          "model_name": "HTMLModel",
          "model_module_version": "1.5.0",
          "state": {
            "_dom_classes": [],
            "_model_module": "@jupyter-widgets/controls",
            "_model_module_version": "1.5.0",
            "_model_name": "HTMLModel",
            "_view_count": null,
            "_view_module": "@jupyter-widgets/controls",
            "_view_module_version": "1.5.0",
            "_view_name": "HTMLView",
            "description": "",
            "description_tooltip": null,
            "layout": "IPY_MODEL_ba7fb535636847cc98a8dc60c151fce2",
            "placeholder": "​",
            "style": "IPY_MODEL_cee79383d07a4301b524d7346e026087",
            "value": " 25.0/25.0 [00:00&lt;00:00, 895B/s]"
          }
        },
        "8391689a34f24e87b3a70793b017e2c5": {
          "model_module": "@jupyter-widgets/base",
          "model_name": "LayoutModel",
          "model_module_version": "1.2.0",
          "state": {
            "_model_module": "@jupyter-widgets/base",
            "_model_module_version": "1.2.0",
            "_model_name": "LayoutModel",
            "_view_count": null,
            "_view_module": "@jupyter-widgets/base",
            "_view_module_version": "1.2.0",
            "_view_name": "LayoutView",
            "align_content": null,
            "align_items": null,
            "align_self": null,
            "border": null,
            "bottom": null,
            "display": null,
            "flex": null,
            "flex_flow": null,
            "grid_area": null,
            "grid_auto_columns": null,
            "grid_auto_flow": null,
            "grid_auto_rows": null,
            "grid_column": null,
            "grid_gap": null,
            "grid_row": null,
            "grid_template_areas": null,
            "grid_template_columns": null,
            "grid_template_rows": null,
            "height": null,
            "justify_content": null,
            "justify_items": null,
            "left": null,
            "margin": null,
            "max_height": null,
            "max_width": null,
            "min_height": null,
            "min_width": null,
            "object_fit": null,
            "object_position": null,
            "order": null,
            "overflow": null,
            "overflow_x": null,
            "overflow_y": null,
            "padding": null,
            "right": null,
            "top": null,
            "visibility": null,
            "width": null
          }
        },
        "de2eb40debf54f758ef72514810405b1": {
          "model_module": "@jupyter-widgets/base",
          "model_name": "LayoutModel",
          "model_module_version": "1.2.0",
          "state": {
            "_model_module": "@jupyter-widgets/base",
            "_model_module_version": "1.2.0",
            "_model_name": "LayoutModel",
            "_view_count": null,
            "_view_module": "@jupyter-widgets/base",
            "_view_module_version": "1.2.0",
            "_view_name": "LayoutView",
            "align_content": null,
            "align_items": null,
            "align_self": null,
            "border": null,
            "bottom": null,
            "display": null,
            "flex": null,
            "flex_flow": null,
            "grid_area": null,
            "grid_auto_columns": null,
            "grid_auto_flow": null,
            "grid_auto_rows": null,
            "grid_column": null,
            "grid_gap": null,
            "grid_row": null,
            "grid_template_areas": null,
            "grid_template_columns": null,
            "grid_template_rows": null,
            "height": null,
            "justify_content": null,
            "justify_items": null,
            "left": null,
            "margin": null,
            "max_height": null,
            "max_width": null,
            "min_height": null,
            "min_width": null,
            "object_fit": null,
            "object_position": null,
            "order": null,
            "overflow": null,
            "overflow_x": null,
            "overflow_y": null,
            "padding": null,
            "right": null,
            "top": null,
            "visibility": null,
            "width": null
          }
        },
        "7a952f614b9440eb857dc9060187083f": {
          "model_module": "@jupyter-widgets/controls",
          "model_name": "DescriptionStyleModel",
          "model_module_version": "1.5.0",
          "state": {
            "_model_module": "@jupyter-widgets/controls",
            "_model_module_version": "1.5.0",
            "_model_name": "DescriptionStyleModel",
            "_view_count": null,
            "_view_module": "@jupyter-widgets/base",
            "_view_module_version": "1.2.0",
            "_view_name": "StyleView",
            "description_width": ""
          }
        },
        "e350700b66724bd881138c64658535d8": {
          "model_module": "@jupyter-widgets/base",
          "model_name": "LayoutModel",
          "model_module_version": "1.2.0",
          "state": {
            "_model_module": "@jupyter-widgets/base",
            "_model_module_version": "1.2.0",
            "_model_name": "LayoutModel",
            "_view_count": null,
            "_view_module": "@jupyter-widgets/base",
            "_view_module_version": "1.2.0",
            "_view_name": "LayoutView",
            "align_content": null,
            "align_items": null,
            "align_self": null,
            "border": null,
            "bottom": null,
            "display": null,
            "flex": null,
            "flex_flow": null,
            "grid_area": null,
            "grid_auto_columns": null,
            "grid_auto_flow": null,
            "grid_auto_rows": null,
            "grid_column": null,
            "grid_gap": null,
            "grid_row": null,
            "grid_template_areas": null,
            "grid_template_columns": null,
            "grid_template_rows": null,
            "height": null,
            "justify_content": null,
            "justify_items": null,
            "left": null,
            "margin": null,
            "max_height": null,
            "max_width": null,
            "min_height": null,
            "min_width": null,
            "object_fit": null,
            "object_position": null,
            "order": null,
            "overflow": null,
            "overflow_x": null,
            "overflow_y": null,
            "padding": null,
            "right": null,
            "top": null,
            "visibility": null,
            "width": null
          }
        },
        "bd888f1bbc124617ba1c99b71bd71a0a": {
          "model_module": "@jupyter-widgets/controls",
          "model_name": "ProgressStyleModel",
          "model_module_version": "1.5.0",
          "state": {
            "_model_module": "@jupyter-widgets/controls",
            "_model_module_version": "1.5.0",
            "_model_name": "ProgressStyleModel",
            "_view_count": null,
            "_view_module": "@jupyter-widgets/base",
            "_view_module_version": "1.2.0",
            "_view_name": "StyleView",
            "bar_color": null,
            "description_width": ""
          }
        },
        "ba7fb535636847cc98a8dc60c151fce2": {
          "model_module": "@jupyter-widgets/base",
          "model_name": "LayoutModel",
          "model_module_version": "1.2.0",
          "state": {
            "_model_module": "@jupyter-widgets/base",
            "_model_module_version": "1.2.0",
            "_model_name": "LayoutModel",
            "_view_count": null,
            "_view_module": "@jupyter-widgets/base",
            "_view_module_version": "1.2.0",
            "_view_name": "LayoutView",
            "align_content": null,
            "align_items": null,
            "align_self": null,
            "border": null,
            "bottom": null,
            "display": null,
            "flex": null,
            "flex_flow": null,
            "grid_area": null,
            "grid_auto_columns": null,
            "grid_auto_flow": null,
            "grid_auto_rows": null,
            "grid_column": null,
            "grid_gap": null,
            "grid_row": null,
            "grid_template_areas": null,
            "grid_template_columns": null,
            "grid_template_rows": null,
            "height": null,
            "justify_content": null,
            "justify_items": null,
            "left": null,
            "margin": null,
            "max_height": null,
            "max_width": null,
            "min_height": null,
            "min_width": null,
            "object_fit": null,
            "object_position": null,
            "order": null,
            "overflow": null,
            "overflow_x": null,
            "overflow_y": null,
            "padding": null,
            "right": null,
            "top": null,
            "visibility": null,
            "width": null
          }
        },
        "cee79383d07a4301b524d7346e026087": {
          "model_module": "@jupyter-widgets/controls",
          "model_name": "DescriptionStyleModel",
          "model_module_version": "1.5.0",
          "state": {
            "_model_module": "@jupyter-widgets/controls",
            "_model_module_version": "1.5.0",
            "_model_name": "DescriptionStyleModel",
            "_view_count": null,
            "_view_module": "@jupyter-widgets/base",
            "_view_module_version": "1.2.0",
            "_view_name": "StyleView",
            "description_width": ""
          }
        },
        "531caebf0800405087f8c7e52d53ee73": {
          "model_module": "@jupyter-widgets/controls",
          "model_name": "HBoxModel",
          "model_module_version": "1.5.0",
          "state": {
            "_dom_classes": [],
            "_model_module": "@jupyter-widgets/controls",
            "_model_module_version": "1.5.0",
            "_model_name": "HBoxModel",
            "_view_count": null,
            "_view_module": "@jupyter-widgets/controls",
            "_view_module_version": "1.5.0",
            "_view_name": "HBoxView",
            "box_style": "",
            "children": [
              "IPY_MODEL_2e6a0f26635b4341af7f42b500f08a5a",
              "IPY_MODEL_dbc4bc25cbaa478d88831b02db2b9522",
              "IPY_MODEL_757bec7e45424b0795c6868415a6a62b"
            ],
            "layout": "IPY_MODEL_e6d38378e0364c28a879d0da404453c1"
          }
        },
        "2e6a0f26635b4341af7f42b500f08a5a": {
          "model_module": "@jupyter-widgets/controls",
          "model_name": "HTMLModel",
          "model_module_version": "1.5.0",
          "state": {
            "_dom_classes": [],
            "_model_module": "@jupyter-widgets/controls",
            "_model_module_version": "1.5.0",
            "_model_name": "HTMLModel",
            "_view_count": null,
            "_view_module": "@jupyter-widgets/controls",
            "_view_module_version": "1.5.0",
            "_view_name": "HTMLView",
            "description": "",
            "description_tooltip": null,
            "layout": "IPY_MODEL_513a4db12be64b4dbc54df5120dd1de4",
            "placeholder": "​",
            "style": "IPY_MODEL_2d5fd0af94564d42b02b05a385da5ade",
            "value": "config.json: 100%"
          }
        },
        "dbc4bc25cbaa478d88831b02db2b9522": {
          "model_module": "@jupyter-widgets/controls",
          "model_name": "FloatProgressModel",
          "model_module_version": "1.5.0",
          "state": {
            "_dom_classes": [],
            "_model_module": "@jupyter-widgets/controls",
            "_model_module_version": "1.5.0",
            "_model_name": "FloatProgressModel",
            "_view_count": null,
            "_view_module": "@jupyter-widgets/controls",
            "_view_module_version": "1.5.0",
            "_view_name": "ProgressView",
            "bar_style": "success",
            "description": "",
            "description_tooltip": null,
            "layout": "IPY_MODEL_0438e88a403d4ca397cd976a851a938f",
            "max": 615,
            "min": 0,
            "orientation": "horizontal",
            "style": "IPY_MODEL_509b0454434c44c1bce080f16c607845",
            "value": 615
          }
        },
        "757bec7e45424b0795c6868415a6a62b": {
          "model_module": "@jupyter-widgets/controls",
          "model_name": "HTMLModel",
          "model_module_version": "1.5.0",
          "state": {
            "_dom_classes": [],
            "_model_module": "@jupyter-widgets/controls",
            "_model_module_version": "1.5.0",
            "_model_name": "HTMLModel",
            "_view_count": null,
            "_view_module": "@jupyter-widgets/controls",
            "_view_module_version": "1.5.0",
            "_view_name": "HTMLView",
            "description": "",
            "description_tooltip": null,
            "layout": "IPY_MODEL_6191b7bdb3e7444f9e8915673d761aa5",
            "placeholder": "​",
            "style": "IPY_MODEL_fdd41ab2826747f3a4cb7b7bc0547fb2",
            "value": " 615/615 [00:00&lt;00:00, 20.9kB/s]"
          }
        },
        "e6d38378e0364c28a879d0da404453c1": {
          "model_module": "@jupyter-widgets/base",
          "model_name": "LayoutModel",
          "model_module_version": "1.2.0",
          "state": {
            "_model_module": "@jupyter-widgets/base",
            "_model_module_version": "1.2.0",
            "_model_name": "LayoutModel",
            "_view_count": null,
            "_view_module": "@jupyter-widgets/base",
            "_view_module_version": "1.2.0",
            "_view_name": "LayoutView",
            "align_content": null,
            "align_items": null,
            "align_self": null,
            "border": null,
            "bottom": null,
            "display": null,
            "flex": null,
            "flex_flow": null,
            "grid_area": null,
            "grid_auto_columns": null,
            "grid_auto_flow": null,
            "grid_auto_rows": null,
            "grid_column": null,
            "grid_gap": null,
            "grid_row": null,
            "grid_template_areas": null,
            "grid_template_columns": null,
            "grid_template_rows": null,
            "height": null,
            "justify_content": null,
            "justify_items": null,
            "left": null,
            "margin": null,
            "max_height": null,
            "max_width": null,
            "min_height": null,
            "min_width": null,
            "object_fit": null,
            "object_position": null,
            "order": null,
            "overflow": null,
            "overflow_x": null,
            "overflow_y": null,
            "padding": null,
            "right": null,
            "top": null,
            "visibility": null,
            "width": null
          }
        },
        "513a4db12be64b4dbc54df5120dd1de4": {
          "model_module": "@jupyter-widgets/base",
          "model_name": "LayoutModel",
          "model_module_version": "1.2.0",
          "state": {
            "_model_module": "@jupyter-widgets/base",
            "_model_module_version": "1.2.0",
            "_model_name": "LayoutModel",
            "_view_count": null,
            "_view_module": "@jupyter-widgets/base",
            "_view_module_version": "1.2.0",
            "_view_name": "LayoutView",
            "align_content": null,
            "align_items": null,
            "align_self": null,
            "border": null,
            "bottom": null,
            "display": null,
            "flex": null,
            "flex_flow": null,
            "grid_area": null,
            "grid_auto_columns": null,
            "grid_auto_flow": null,
            "grid_auto_rows": null,
            "grid_column": null,
            "grid_gap": null,
            "grid_row": null,
            "grid_template_areas": null,
            "grid_template_columns": null,
            "grid_template_rows": null,
            "height": null,
            "justify_content": null,
            "justify_items": null,
            "left": null,
            "margin": null,
            "max_height": null,
            "max_width": null,
            "min_height": null,
            "min_width": null,
            "object_fit": null,
            "object_position": null,
            "order": null,
            "overflow": null,
            "overflow_x": null,
            "overflow_y": null,
            "padding": null,
            "right": null,
            "top": null,
            "visibility": null,
            "width": null
          }
        },
        "2d5fd0af94564d42b02b05a385da5ade": {
          "model_module": "@jupyter-widgets/controls",
          "model_name": "DescriptionStyleModel",
          "model_module_version": "1.5.0",
          "state": {
            "_model_module": "@jupyter-widgets/controls",
            "_model_module_version": "1.5.0",
            "_model_name": "DescriptionStyleModel",
            "_view_count": null,
            "_view_module": "@jupyter-widgets/base",
            "_view_module_version": "1.2.0",
            "_view_name": "StyleView",
            "description_width": ""
          }
        },
        "0438e88a403d4ca397cd976a851a938f": {
          "model_module": "@jupyter-widgets/base",
          "model_name": "LayoutModel",
          "model_module_version": "1.2.0",
          "state": {
            "_model_module": "@jupyter-widgets/base",
            "_model_module_version": "1.2.0",
            "_model_name": "LayoutModel",
            "_view_count": null,
            "_view_module": "@jupyter-widgets/base",
            "_view_module_version": "1.2.0",
            "_view_name": "LayoutView",
            "align_content": null,
            "align_items": null,
            "align_self": null,
            "border": null,
            "bottom": null,
            "display": null,
            "flex": null,
            "flex_flow": null,
            "grid_area": null,
            "grid_auto_columns": null,
            "grid_auto_flow": null,
            "grid_auto_rows": null,
            "grid_column": null,
            "grid_gap": null,
            "grid_row": null,
            "grid_template_areas": null,
            "grid_template_columns": null,
            "grid_template_rows": null,
            "height": null,
            "justify_content": null,
            "justify_items": null,
            "left": null,
            "margin": null,
            "max_height": null,
            "max_width": null,
            "min_height": null,
            "min_width": null,
            "object_fit": null,
            "object_position": null,
            "order": null,
            "overflow": null,
            "overflow_x": null,
            "overflow_y": null,
            "padding": null,
            "right": null,
            "top": null,
            "visibility": null,
            "width": null
          }
        },
        "509b0454434c44c1bce080f16c607845": {
          "model_module": "@jupyter-widgets/controls",
          "model_name": "ProgressStyleModel",
          "model_module_version": "1.5.0",
          "state": {
            "_model_module": "@jupyter-widgets/controls",
            "_model_module_version": "1.5.0",
            "_model_name": "ProgressStyleModel",
            "_view_count": null,
            "_view_module": "@jupyter-widgets/base",
            "_view_module_version": "1.2.0",
            "_view_name": "StyleView",
            "bar_color": null,
            "description_width": ""
          }
        },
        "6191b7bdb3e7444f9e8915673d761aa5": {
          "model_module": "@jupyter-widgets/base",
          "model_name": "LayoutModel",
          "model_module_version": "1.2.0",
          "state": {
            "_model_module": "@jupyter-widgets/base",
            "_model_module_version": "1.2.0",
            "_model_name": "LayoutModel",
            "_view_count": null,
            "_view_module": "@jupyter-widgets/base",
            "_view_module_version": "1.2.0",
            "_view_name": "LayoutView",
            "align_content": null,
            "align_items": null,
            "align_self": null,
            "border": null,
            "bottom": null,
            "display": null,
            "flex": null,
            "flex_flow": null,
            "grid_area": null,
            "grid_auto_columns": null,
            "grid_auto_flow": null,
            "grid_auto_rows": null,
            "grid_column": null,
            "grid_gap": null,
            "grid_row": null,
            "grid_template_areas": null,
            "grid_template_columns": null,
            "grid_template_rows": null,
            "height": null,
            "justify_content": null,
            "justify_items": null,
            "left": null,
            "margin": null,
            "max_height": null,
            "max_width": null,
            "min_height": null,
            "min_width": null,
            "object_fit": null,
            "object_position": null,
            "order": null,
            "overflow": null,
            "overflow_x": null,
            "overflow_y": null,
            "padding": null,
            "right": null,
            "top": null,
            "visibility": null,
            "width": null
          }
        },
        "fdd41ab2826747f3a4cb7b7bc0547fb2": {
          "model_module": "@jupyter-widgets/controls",
          "model_name": "DescriptionStyleModel",
          "model_module_version": "1.5.0",
          "state": {
            "_model_module": "@jupyter-widgets/controls",
            "_model_module_version": "1.5.0",
            "_model_name": "DescriptionStyleModel",
            "_view_count": null,
            "_view_module": "@jupyter-widgets/base",
            "_view_module_version": "1.2.0",
            "_view_name": "StyleView",
            "description_width": ""
          }
        },
        "febefdd90b90405fb92bc5378d2c611d": {
          "model_module": "@jupyter-widgets/controls",
          "model_name": "HBoxModel",
          "model_module_version": "1.5.0",
          "state": {
            "_dom_classes": [],
            "_model_module": "@jupyter-widgets/controls",
            "_model_module_version": "1.5.0",
            "_model_name": "HBoxModel",
            "_view_count": null,
            "_view_module": "@jupyter-widgets/controls",
            "_view_module_version": "1.5.0",
            "_view_name": "HBoxView",
            "box_style": "",
            "children": [
              "IPY_MODEL_9409f4ad39064ee48a12702fc8ca08ca",
              "IPY_MODEL_3684b6571519456190f408dcd586e5d0",
              "IPY_MODEL_f0085bda00d146c098ef14edf3f8f6b6"
            ],
            "layout": "IPY_MODEL_58863f2dbd2a48f68812b2af7841948e"
          }
        },
        "9409f4ad39064ee48a12702fc8ca08ca": {
          "model_module": "@jupyter-widgets/controls",
          "model_name": "HTMLModel",
          "model_module_version": "1.5.0",
          "state": {
            "_dom_classes": [],
            "_model_module": "@jupyter-widgets/controls",
            "_model_module_version": "1.5.0",
            "_model_name": "HTMLModel",
            "_view_count": null,
            "_view_module": "@jupyter-widgets/controls",
            "_view_module_version": "1.5.0",
            "_view_name": "HTMLView",
            "description": "",
            "description_tooltip": null,
            "layout": "IPY_MODEL_601942411a2648e3aa59a6caad151353",
            "placeholder": "​",
            "style": "IPY_MODEL_8c8a6b967a674614b18812e105430676",
            "value": "sentencepiece.bpe.model: 100%"
          }
        },
        "3684b6571519456190f408dcd586e5d0": {
          "model_module": "@jupyter-widgets/controls",
          "model_name": "FloatProgressModel",
          "model_module_version": "1.5.0",
          "state": {
            "_dom_classes": [],
            "_model_module": "@jupyter-widgets/controls",
            "_model_module_version": "1.5.0",
            "_model_name": "FloatProgressModel",
            "_view_count": null,
            "_view_module": "@jupyter-widgets/controls",
            "_view_module_version": "1.5.0",
            "_view_name": "ProgressView",
            "bar_style": "success",
            "description": "",
            "description_tooltip": null,
            "layout": "IPY_MODEL_a215a82bd1044fd6a8e770c5d4618f38",
            "max": 5069051,
            "min": 0,
            "orientation": "horizontal",
            "style": "IPY_MODEL_2a8d7496db0c468b834fe26c27151667",
            "value": 5069051
          }
        },
        "f0085bda00d146c098ef14edf3f8f6b6": {
          "model_module": "@jupyter-widgets/controls",
          "model_name": "HTMLModel",
          "model_module_version": "1.5.0",
          "state": {
            "_dom_classes": [],
            "_model_module": "@jupyter-widgets/controls",
            "_model_module_version": "1.5.0",
            "_model_name": "HTMLModel",
            "_view_count": null,
            "_view_module": "@jupyter-widgets/controls",
            "_view_module_version": "1.5.0",
            "_view_name": "HTMLView",
            "description": "",
            "description_tooltip": null,
            "layout": "IPY_MODEL_a4dcf5c3e4d04595b76902f0b5589c7d",
            "placeholder": "​",
            "style": "IPY_MODEL_25f76445741f4de6ab2c680c8c80bd5a",
            "value": " 5.07M/5.07M [00:00&lt;00:00, 13.5MB/s]"
          }
        },
        "58863f2dbd2a48f68812b2af7841948e": {
          "model_module": "@jupyter-widgets/base",
          "model_name": "LayoutModel",
          "model_module_version": "1.2.0",
          "state": {
            "_model_module": "@jupyter-widgets/base",
            "_model_module_version": "1.2.0",
            "_model_name": "LayoutModel",
            "_view_count": null,
            "_view_module": "@jupyter-widgets/base",
            "_view_module_version": "1.2.0",
            "_view_name": "LayoutView",
            "align_content": null,
            "align_items": null,
            "align_self": null,
            "border": null,
            "bottom": null,
            "display": null,
            "flex": null,
            "flex_flow": null,
            "grid_area": null,
            "grid_auto_columns": null,
            "grid_auto_flow": null,
            "grid_auto_rows": null,
            "grid_column": null,
            "grid_gap": null,
            "grid_row": null,
            "grid_template_areas": null,
            "grid_template_columns": null,
            "grid_template_rows": null,
            "height": null,
            "justify_content": null,
            "justify_items": null,
            "left": null,
            "margin": null,
            "max_height": null,
            "max_width": null,
            "min_height": null,
            "min_width": null,
            "object_fit": null,
            "object_position": null,
            "order": null,
            "overflow": null,
            "overflow_x": null,
            "overflow_y": null,
            "padding": null,
            "right": null,
            "top": null,
            "visibility": null,
            "width": null
          }
        },
        "601942411a2648e3aa59a6caad151353": {
          "model_module": "@jupyter-widgets/base",
          "model_name": "LayoutModel",
          "model_module_version": "1.2.0",
          "state": {
            "_model_module": "@jupyter-widgets/base",
            "_model_module_version": "1.2.0",
            "_model_name": "LayoutModel",
            "_view_count": null,
            "_view_module": "@jupyter-widgets/base",
            "_view_module_version": "1.2.0",
            "_view_name": "LayoutView",
            "align_content": null,
            "align_items": null,
            "align_self": null,
            "border": null,
            "bottom": null,
            "display": null,
            "flex": null,
            "flex_flow": null,
            "grid_area": null,
            "grid_auto_columns": null,
            "grid_auto_flow": null,
            "grid_auto_rows": null,
            "grid_column": null,
            "grid_gap": null,
            "grid_row": null,
            "grid_template_areas": null,
            "grid_template_columns": null,
            "grid_template_rows": null,
            "height": null,
            "justify_content": null,
            "justify_items": null,
            "left": null,
            "margin": null,
            "max_height": null,
            "max_width": null,
            "min_height": null,
            "min_width": null,
            "object_fit": null,
            "object_position": null,
            "order": null,
            "overflow": null,
            "overflow_x": null,
            "overflow_y": null,
            "padding": null,
            "right": null,
            "top": null,
            "visibility": null,
            "width": null
          }
        },
        "8c8a6b967a674614b18812e105430676": {
          "model_module": "@jupyter-widgets/controls",
          "model_name": "DescriptionStyleModel",
          "model_module_version": "1.5.0",
          "state": {
            "_model_module": "@jupyter-widgets/controls",
            "_model_module_version": "1.5.0",
            "_model_name": "DescriptionStyleModel",
            "_view_count": null,
            "_view_module": "@jupyter-widgets/base",
            "_view_module_version": "1.2.0",
            "_view_name": "StyleView",
            "description_width": ""
          }
        },
        "a215a82bd1044fd6a8e770c5d4618f38": {
          "model_module": "@jupyter-widgets/base",
          "model_name": "LayoutModel",
          "model_module_version": "1.2.0",
          "state": {
            "_model_module": "@jupyter-widgets/base",
            "_model_module_version": "1.2.0",
            "_model_name": "LayoutModel",
            "_view_count": null,
            "_view_module": "@jupyter-widgets/base",
            "_view_module_version": "1.2.0",
            "_view_name": "LayoutView",
            "align_content": null,
            "align_items": null,
            "align_self": null,
            "border": null,
            "bottom": null,
            "display": null,
            "flex": null,
            "flex_flow": null,
            "grid_area": null,
            "grid_auto_columns": null,
            "grid_auto_flow": null,
            "grid_auto_rows": null,
            "grid_column": null,
            "grid_gap": null,
            "grid_row": null,
            "grid_template_areas": null,
            "grid_template_columns": null,
            "grid_template_rows": null,
            "height": null,
            "justify_content": null,
            "justify_items": null,
            "left": null,
            "margin": null,
            "max_height": null,
            "max_width": null,
            "min_height": null,
            "min_width": null,
            "object_fit": null,
            "object_position": null,
            "order": null,
            "overflow": null,
            "overflow_x": null,
            "overflow_y": null,
            "padding": null,
            "right": null,
            "top": null,
            "visibility": null,
            "width": null
          }
        },
        "2a8d7496db0c468b834fe26c27151667": {
          "model_module": "@jupyter-widgets/controls",
          "model_name": "ProgressStyleModel",
          "model_module_version": "1.5.0",
          "state": {
            "_model_module": "@jupyter-widgets/controls",
            "_model_module_version": "1.5.0",
            "_model_name": "ProgressStyleModel",
            "_view_count": null,
            "_view_module": "@jupyter-widgets/base",
            "_view_module_version": "1.2.0",
            "_view_name": "StyleView",
            "bar_color": null,
            "description_width": ""
          }
        },
        "a4dcf5c3e4d04595b76902f0b5589c7d": {
          "model_module": "@jupyter-widgets/base",
          "model_name": "LayoutModel",
          "model_module_version": "1.2.0",
          "state": {
            "_model_module": "@jupyter-widgets/base",
            "_model_module_version": "1.2.0",
            "_model_name": "LayoutModel",
            "_view_count": null,
            "_view_module": "@jupyter-widgets/base",
            "_view_module_version": "1.2.0",
            "_view_name": "LayoutView",
            "align_content": null,
            "align_items": null,
            "align_self": null,
            "border": null,
            "bottom": null,
            "display": null,
            "flex": null,
            "flex_flow": null,
            "grid_area": null,
            "grid_auto_columns": null,
            "grid_auto_flow": null,
            "grid_auto_rows": null,
            "grid_column": null,
            "grid_gap": null,
            "grid_row": null,
            "grid_template_areas": null,
            "grid_template_columns": null,
            "grid_template_rows": null,
            "height": null,
            "justify_content": null,
            "justify_items": null,
            "left": null,
            "margin": null,
            "max_height": null,
            "max_width": null,
            "min_height": null,
            "min_width": null,
            "object_fit": null,
            "object_position": null,
            "order": null,
            "overflow": null,
            "overflow_x": null,
            "overflow_y": null,
            "padding": null,
            "right": null,
            "top": null,
            "visibility": null,
            "width": null
          }
        },
        "25f76445741f4de6ab2c680c8c80bd5a": {
          "model_module": "@jupyter-widgets/controls",
          "model_name": "DescriptionStyleModel",
          "model_module_version": "1.5.0",
          "state": {
            "_model_module": "@jupyter-widgets/controls",
            "_model_module_version": "1.5.0",
            "_model_name": "DescriptionStyleModel",
            "_view_count": null,
            "_view_module": "@jupyter-widgets/base",
            "_view_module_version": "1.2.0",
            "_view_name": "StyleView",
            "description_width": ""
          }
        },
        "ea913017025e4998b409a3eac4a3a897": {
          "model_module": "@jupyter-widgets/controls",
          "model_name": "HBoxModel",
          "model_module_version": "1.5.0",
          "state": {
            "_dom_classes": [],
            "_model_module": "@jupyter-widgets/controls",
            "_model_module_version": "1.5.0",
            "_model_name": "HBoxModel",
            "_view_count": null,
            "_view_module": "@jupyter-widgets/controls",
            "_view_module_version": "1.5.0",
            "_view_name": "HBoxView",
            "box_style": "",
            "children": [
              "IPY_MODEL_6a96cac9e94a4b32935a12fdd65136cd",
              "IPY_MODEL_5d442db77e234fd1b8a471b9445fb17b",
              "IPY_MODEL_1bbcb9f66dff46e996b9806dc99e461e"
            ],
            "layout": "IPY_MODEL_b0878f4680434cb4ab7bf1c08a9d1914"
          }
        },
        "6a96cac9e94a4b32935a12fdd65136cd": {
          "model_module": "@jupyter-widgets/controls",
          "model_name": "HTMLModel",
          "model_module_version": "1.5.0",
          "state": {
            "_dom_classes": [],
            "_model_module": "@jupyter-widgets/controls",
            "_model_module_version": "1.5.0",
            "_model_name": "HTMLModel",
            "_view_count": null,
            "_view_module": "@jupyter-widgets/controls",
            "_view_module_version": "1.5.0",
            "_view_name": "HTMLView",
            "description": "",
            "description_tooltip": null,
            "layout": "IPY_MODEL_06ca85f022c746a3bf3ff432d5db9296",
            "placeholder": "​",
            "style": "IPY_MODEL_c4dbaf8f224f4adc97c935eb4a06b980",
            "value": "tokenizer.json: 100%"
          }
        },
        "5d442db77e234fd1b8a471b9445fb17b": {
          "model_module": "@jupyter-widgets/controls",
          "model_name": "FloatProgressModel",
          "model_module_version": "1.5.0",
          "state": {
            "_dom_classes": [],
            "_model_module": "@jupyter-widgets/controls",
            "_model_module_version": "1.5.0",
            "_model_name": "FloatProgressModel",
            "_view_count": null,
            "_view_module": "@jupyter-widgets/controls",
            "_view_module_version": "1.5.0",
            "_view_name": "ProgressView",
            "bar_style": "success",
            "description": "",
            "description_tooltip": null,
            "layout": "IPY_MODEL_bd3e05c35b1a46be99daf80233ed7c1c",
            "max": 9096718,
            "min": 0,
            "orientation": "horizontal",
            "style": "IPY_MODEL_aa297279d15f4577ae0523015cbff827",
            "value": 9096718
          }
        },
        "1bbcb9f66dff46e996b9806dc99e461e": {
          "model_module": "@jupyter-widgets/controls",
          "model_name": "HTMLModel",
          "model_module_version": "1.5.0",
          "state": {
            "_dom_classes": [],
            "_model_module": "@jupyter-widgets/controls",
            "_model_module_version": "1.5.0",
            "_model_name": "HTMLModel",
            "_view_count": null,
            "_view_module": "@jupyter-widgets/controls",
            "_view_module_version": "1.5.0",
            "_view_name": "HTMLView",
            "description": "",
            "description_tooltip": null,
            "layout": "IPY_MODEL_489e1ddfbf514625af3ec366db07dcf5",
            "placeholder": "​",
            "style": "IPY_MODEL_9fd48fbffcf7425eb4c047d9da883149",
            "value": " 9.10M/9.10M [00:00&lt;00:00, 20.5MB/s]"
          }
        },
        "b0878f4680434cb4ab7bf1c08a9d1914": {
          "model_module": "@jupyter-widgets/base",
          "model_name": "LayoutModel",
          "model_module_version": "1.2.0",
          "state": {
            "_model_module": "@jupyter-widgets/base",
            "_model_module_version": "1.2.0",
            "_model_name": "LayoutModel",
            "_view_count": null,
            "_view_module": "@jupyter-widgets/base",
            "_view_module_version": "1.2.0",
            "_view_name": "LayoutView",
            "align_content": null,
            "align_items": null,
            "align_self": null,
            "border": null,
            "bottom": null,
            "display": null,
            "flex": null,
            "flex_flow": null,
            "grid_area": null,
            "grid_auto_columns": null,
            "grid_auto_flow": null,
            "grid_auto_rows": null,
            "grid_column": null,
            "grid_gap": null,
            "grid_row": null,
            "grid_template_areas": null,
            "grid_template_columns": null,
            "grid_template_rows": null,
            "height": null,
            "justify_content": null,
            "justify_items": null,
            "left": null,
            "margin": null,
            "max_height": null,
            "max_width": null,
            "min_height": null,
            "min_width": null,
            "object_fit": null,
            "object_position": null,
            "order": null,
            "overflow": null,
            "overflow_x": null,
            "overflow_y": null,
            "padding": null,
            "right": null,
            "top": null,
            "visibility": null,
            "width": null
          }
        },
        "06ca85f022c746a3bf3ff432d5db9296": {
          "model_module": "@jupyter-widgets/base",
          "model_name": "LayoutModel",
          "model_module_version": "1.2.0",
          "state": {
            "_model_module": "@jupyter-widgets/base",
            "_model_module_version": "1.2.0",
            "_model_name": "LayoutModel",
            "_view_count": null,
            "_view_module": "@jupyter-widgets/base",
            "_view_module_version": "1.2.0",
            "_view_name": "LayoutView",
            "align_content": null,
            "align_items": null,
            "align_self": null,
            "border": null,
            "bottom": null,
            "display": null,
            "flex": null,
            "flex_flow": null,
            "grid_area": null,
            "grid_auto_columns": null,
            "grid_auto_flow": null,
            "grid_auto_rows": null,
            "grid_column": null,
            "grid_gap": null,
            "grid_row": null,
            "grid_template_areas": null,
            "grid_template_columns": null,
            "grid_template_rows": null,
            "height": null,
            "justify_content": null,
            "justify_items": null,
            "left": null,
            "margin": null,
            "max_height": null,
            "max_width": null,
            "min_height": null,
            "min_width": null,
            "object_fit": null,
            "object_position": null,
            "order": null,
            "overflow": null,
            "overflow_x": null,
            "overflow_y": null,
            "padding": null,
            "right": null,
            "top": null,
            "visibility": null,
            "width": null
          }
        },
        "c4dbaf8f224f4adc97c935eb4a06b980": {
          "model_module": "@jupyter-widgets/controls",
          "model_name": "DescriptionStyleModel",
          "model_module_version": "1.5.0",
          "state": {
            "_model_module": "@jupyter-widgets/controls",
            "_model_module_version": "1.5.0",
            "_model_name": "DescriptionStyleModel",
            "_view_count": null,
            "_view_module": "@jupyter-widgets/base",
            "_view_module_version": "1.2.0",
            "_view_name": "StyleView",
            "description_width": ""
          }
        },
        "bd3e05c35b1a46be99daf80233ed7c1c": {
          "model_module": "@jupyter-widgets/base",
          "model_name": "LayoutModel",
          "model_module_version": "1.2.0",
          "state": {
            "_model_module": "@jupyter-widgets/base",
            "_model_module_version": "1.2.0",
            "_model_name": "LayoutModel",
            "_view_count": null,
            "_view_module": "@jupyter-widgets/base",
            "_view_module_version": "1.2.0",
            "_view_name": "LayoutView",
            "align_content": null,
            "align_items": null,
            "align_self": null,
            "border": null,
            "bottom": null,
            "display": null,
            "flex": null,
            "flex_flow": null,
            "grid_area": null,
            "grid_auto_columns": null,
            "grid_auto_flow": null,
            "grid_auto_rows": null,
            "grid_column": null,
            "grid_gap": null,
            "grid_row": null,
            "grid_template_areas": null,
            "grid_template_columns": null,
            "grid_template_rows": null,
            "height": null,
            "justify_content": null,
            "justify_items": null,
            "left": null,
            "margin": null,
            "max_height": null,
            "max_width": null,
            "min_height": null,
            "min_width": null,
            "object_fit": null,
            "object_position": null,
            "order": null,
            "overflow": null,
            "overflow_x": null,
            "overflow_y": null,
            "padding": null,
            "right": null,
            "top": null,
            "visibility": null,
            "width": null
          }
        },
        "aa297279d15f4577ae0523015cbff827": {
          "model_module": "@jupyter-widgets/controls",
          "model_name": "ProgressStyleModel",
          "model_module_version": "1.5.0",
          "state": {
            "_model_module": "@jupyter-widgets/controls",
            "_model_module_version": "1.5.0",
            "_model_name": "ProgressStyleModel",
            "_view_count": null,
            "_view_module": "@jupyter-widgets/base",
            "_view_module_version": "1.2.0",
            "_view_name": "StyleView",
            "bar_color": null,
            "description_width": ""
          }
        },
        "489e1ddfbf514625af3ec366db07dcf5": {
          "model_module": "@jupyter-widgets/base",
          "model_name": "LayoutModel",
          "model_module_version": "1.2.0",
          "state": {
            "_model_module": "@jupyter-widgets/base",
            "_model_module_version": "1.2.0",
            "_model_name": "LayoutModel",
            "_view_count": null,
            "_view_module": "@jupyter-widgets/base",
            "_view_module_version": "1.2.0",
            "_view_name": "LayoutView",
            "align_content": null,
            "align_items": null,
            "align_self": null,
            "border": null,
            "bottom": null,
            "display": null,
            "flex": null,
            "flex_flow": null,
            "grid_area": null,
            "grid_auto_columns": null,
            "grid_auto_flow": null,
            "grid_auto_rows": null,
            "grid_column": null,
            "grid_gap": null,
            "grid_row": null,
            "grid_template_areas": null,
            "grid_template_columns": null,
            "grid_template_rows": null,
            "height": null,
            "justify_content": null,
            "justify_items": null,
            "left": null,
            "margin": null,
            "max_height": null,
            "max_width": null,
            "min_height": null,
            "min_width": null,
            "object_fit": null,
            "object_position": null,
            "order": null,
            "overflow": null,
            "overflow_x": null,
            "overflow_y": null,
            "padding": null,
            "right": null,
            "top": null,
            "visibility": null,
            "width": null
          }
        },
        "9fd48fbffcf7425eb4c047d9da883149": {
          "model_module": "@jupyter-widgets/controls",
          "model_name": "DescriptionStyleModel",
          "model_module_version": "1.5.0",
          "state": {
            "_model_module": "@jupyter-widgets/controls",
            "_model_module_version": "1.5.0",
            "_model_name": "DescriptionStyleModel",
            "_view_count": null,
            "_view_module": "@jupyter-widgets/base",
            "_view_module_version": "1.2.0",
            "_view_name": "StyleView",
            "description_width": ""
          }
        },
        "5879ff4eccf04933a1f4a62f4ed2d436": {
          "model_module": "@jupyter-widgets/controls",
          "model_name": "HBoxModel",
          "model_module_version": "1.5.0",
          "state": {
            "_dom_classes": [],
            "_model_module": "@jupyter-widgets/controls",
            "_model_module_version": "1.5.0",
            "_model_name": "HBoxModel",
            "_view_count": null,
            "_view_module": "@jupyter-widgets/controls",
            "_view_module_version": "1.5.0",
            "_view_name": "HBoxView",
            "box_style": "",
            "children": [
              "IPY_MODEL_c40f4829e53c4f90ad09781bf40eb70b",
              "IPY_MODEL_8d2cd8918ef544efbe9229871225653d",
              "IPY_MODEL_5c2fcec8da7a4bd8aff67ba4273133d8"
            ],
            "layout": "IPY_MODEL_457987d3a44b4446a97aff411c624106"
          }
        },
        "c40f4829e53c4f90ad09781bf40eb70b": {
          "model_module": "@jupyter-widgets/controls",
          "model_name": "HTMLModel",
          "model_module_version": "1.5.0",
          "state": {
            "_dom_classes": [],
            "_model_module": "@jupyter-widgets/controls",
            "_model_module_version": "1.5.0",
            "_model_name": "HTMLModel",
            "_view_count": null,
            "_view_module": "@jupyter-widgets/controls",
            "_view_module_version": "1.5.0",
            "_view_name": "HTMLView",
            "description": "",
            "description_tooltip": null,
            "layout": "IPY_MODEL_37682653efe44aeb8d8908ff20af0163",
            "placeholder": "​",
            "style": "IPY_MODEL_c182f9a658e143cb9602aea848229ce3",
            "value": "model.safetensors: 100%"
          }
        },
        "8d2cd8918ef544efbe9229871225653d": {
          "model_module": "@jupyter-widgets/controls",
          "model_name": "FloatProgressModel",
          "model_module_version": "1.5.0",
          "state": {
            "_dom_classes": [],
            "_model_module": "@jupyter-widgets/controls",
            "_model_module_version": "1.5.0",
            "_model_name": "FloatProgressModel",
            "_view_count": null,
            "_view_module": "@jupyter-widgets/controls",
            "_view_module_version": "1.5.0",
            "_view_name": "ProgressView",
            "bar_style": "success",
            "description": "",
            "description_tooltip": null,
            "layout": "IPY_MODEL_42e692ce0c6849a79d69878d8f0f9003",
            "max": 1115567652,
            "min": 0,
            "orientation": "horizontal",
            "style": "IPY_MODEL_7728f1d27fc045399d790c45f11b2216",
            "value": 1115567652
          }
        },
        "5c2fcec8da7a4bd8aff67ba4273133d8": {
          "model_module": "@jupyter-widgets/controls",
          "model_name": "HTMLModel",
          "model_module_version": "1.5.0",
          "state": {
            "_dom_classes": [],
            "_model_module": "@jupyter-widgets/controls",
            "_model_module_version": "1.5.0",
            "_model_name": "HTMLModel",
            "_view_count": null,
            "_view_module": "@jupyter-widgets/controls",
            "_view_module_version": "1.5.0",
            "_view_name": "HTMLView",
            "description": "",
            "description_tooltip": null,
            "layout": "IPY_MODEL_6c5da4d950d54a27bc9c3aa6ff5958c8",
            "placeholder": "​",
            "style": "IPY_MODEL_f9085d0fe2bd42d89cc16ca254b570e9",
            "value": " 1.12G/1.12G [00:08&lt;00:00, 141MB/s]"
          }
        },
        "457987d3a44b4446a97aff411c624106": {
          "model_module": "@jupyter-widgets/base",
          "model_name": "LayoutModel",
          "model_module_version": "1.2.0",
          "state": {
            "_model_module": "@jupyter-widgets/base",
            "_model_module_version": "1.2.0",
            "_model_name": "LayoutModel",
            "_view_count": null,
            "_view_module": "@jupyter-widgets/base",
            "_view_module_version": "1.2.0",
            "_view_name": "LayoutView",
            "align_content": null,
            "align_items": null,
            "align_self": null,
            "border": null,
            "bottom": null,
            "display": null,
            "flex": null,
            "flex_flow": null,
            "grid_area": null,
            "grid_auto_columns": null,
            "grid_auto_flow": null,
            "grid_auto_rows": null,
            "grid_column": null,
            "grid_gap": null,
            "grid_row": null,
            "grid_template_areas": null,
            "grid_template_columns": null,
            "grid_template_rows": null,
            "height": null,
            "justify_content": null,
            "justify_items": null,
            "left": null,
            "margin": null,
            "max_height": null,
            "max_width": null,
            "min_height": null,
            "min_width": null,
            "object_fit": null,
            "object_position": null,
            "order": null,
            "overflow": null,
            "overflow_x": null,
            "overflow_y": null,
            "padding": null,
            "right": null,
            "top": null,
            "visibility": null,
            "width": null
          }
        },
        "37682653efe44aeb8d8908ff20af0163": {
          "model_module": "@jupyter-widgets/base",
          "model_name": "LayoutModel",
          "model_module_version": "1.2.0",
          "state": {
            "_model_module": "@jupyter-widgets/base",
            "_model_module_version": "1.2.0",
            "_model_name": "LayoutModel",
            "_view_count": null,
            "_view_module": "@jupyter-widgets/base",
            "_view_module_version": "1.2.0",
            "_view_name": "LayoutView",
            "align_content": null,
            "align_items": null,
            "align_self": null,
            "border": null,
            "bottom": null,
            "display": null,
            "flex": null,
            "flex_flow": null,
            "grid_area": null,
            "grid_auto_columns": null,
            "grid_auto_flow": null,
            "grid_auto_rows": null,
            "grid_column": null,
            "grid_gap": null,
            "grid_row": null,
            "grid_template_areas": null,
            "grid_template_columns": null,
            "grid_template_rows": null,
            "height": null,
            "justify_content": null,
            "justify_items": null,
            "left": null,
            "margin": null,
            "max_height": null,
            "max_width": null,
            "min_height": null,
            "min_width": null,
            "object_fit": null,
            "object_position": null,
            "order": null,
            "overflow": null,
            "overflow_x": null,
            "overflow_y": null,
            "padding": null,
            "right": null,
            "top": null,
            "visibility": null,
            "width": null
          }
        },
        "c182f9a658e143cb9602aea848229ce3": {
          "model_module": "@jupyter-widgets/controls",
          "model_name": "DescriptionStyleModel",
          "model_module_version": "1.5.0",
          "state": {
            "_model_module": "@jupyter-widgets/controls",
            "_model_module_version": "1.5.0",
            "_model_name": "DescriptionStyleModel",
            "_view_count": null,
            "_view_module": "@jupyter-widgets/base",
            "_view_module_version": "1.2.0",
            "_view_name": "StyleView",
            "description_width": ""
          }
        },
        "42e692ce0c6849a79d69878d8f0f9003": {
          "model_module": "@jupyter-widgets/base",
          "model_name": "LayoutModel",
          "model_module_version": "1.2.0",
          "state": {
            "_model_module": "@jupyter-widgets/base",
            "_model_module_version": "1.2.0",
            "_model_name": "LayoutModel",
            "_view_count": null,
            "_view_module": "@jupyter-widgets/base",
            "_view_module_version": "1.2.0",
            "_view_name": "LayoutView",
            "align_content": null,
            "align_items": null,
            "align_self": null,
            "border": null,
            "bottom": null,
            "display": null,
            "flex": null,
            "flex_flow": null,
            "grid_area": null,
            "grid_auto_columns": null,
            "grid_auto_flow": null,
            "grid_auto_rows": null,
            "grid_column": null,
            "grid_gap": null,
            "grid_row": null,
            "grid_template_areas": null,
            "grid_template_columns": null,
            "grid_template_rows": null,
            "height": null,
            "justify_content": null,
            "justify_items": null,
            "left": null,
            "margin": null,
            "max_height": null,
            "max_width": null,
            "min_height": null,
            "min_width": null,
            "object_fit": null,
            "object_position": null,
            "order": null,
            "overflow": null,
            "overflow_x": null,
            "overflow_y": null,
            "padding": null,
            "right": null,
            "top": null,
            "visibility": null,
            "width": null
          }
        },
        "7728f1d27fc045399d790c45f11b2216": {
          "model_module": "@jupyter-widgets/controls",
          "model_name": "ProgressStyleModel",
          "model_module_version": "1.5.0",
          "state": {
            "_model_module": "@jupyter-widgets/controls",
            "_model_module_version": "1.5.0",
            "_model_name": "ProgressStyleModel",
            "_view_count": null,
            "_view_module": "@jupyter-widgets/base",
            "_view_module_version": "1.2.0",
            "_view_name": "StyleView",
            "bar_color": null,
            "description_width": ""
          }
        },
        "6c5da4d950d54a27bc9c3aa6ff5958c8": {
          "model_module": "@jupyter-widgets/base",
          "model_name": "LayoutModel",
          "model_module_version": "1.2.0",
          "state": {
            "_model_module": "@jupyter-widgets/base",
            "_model_module_version": "1.2.0",
            "_model_name": "LayoutModel",
            "_view_count": null,
            "_view_module": "@jupyter-widgets/base",
            "_view_module_version": "1.2.0",
            "_view_name": "LayoutView",
            "align_content": null,
            "align_items": null,
            "align_self": null,
            "border": null,
            "bottom": null,
            "display": null,
            "flex": null,
            "flex_flow": null,
            "grid_area": null,
            "grid_auto_columns": null,
            "grid_auto_flow": null,
            "grid_auto_rows": null,
            "grid_column": null,
            "grid_gap": null,
            "grid_row": null,
            "grid_template_areas": null,
            "grid_template_columns": null,
            "grid_template_rows": null,
            "height": null,
            "justify_content": null,
            "justify_items": null,
            "left": null,
            "margin": null,
            "max_height": null,
            "max_width": null,
            "min_height": null,
            "min_width": null,
            "object_fit": null,
            "object_position": null,
            "order": null,
            "overflow": null,
            "overflow_x": null,
            "overflow_y": null,
            "padding": null,
            "right": null,
            "top": null,
            "visibility": null,
            "width": null
          }
        },
        "f9085d0fe2bd42d89cc16ca254b570e9": {
          "model_module": "@jupyter-widgets/controls",
          "model_name": "DescriptionStyleModel",
          "model_module_version": "1.5.0",
          "state": {
            "_model_module": "@jupyter-widgets/controls",
            "_model_module_version": "1.5.0",
            "_model_name": "DescriptionStyleModel",
            "_view_count": null,
            "_view_module": "@jupyter-widgets/base",
            "_view_module_version": "1.2.0",
            "_view_name": "StyleView",
            "description_width": ""
          }
        }
      }
    },
    "accelerator": "GPU"
  },
  "nbformat": 4,
  "nbformat_minor": 0
}